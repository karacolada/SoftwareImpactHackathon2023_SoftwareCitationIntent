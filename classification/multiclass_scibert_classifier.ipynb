{
 "cells": [
  {
   "cell_type": "code",
   "execution_count": null,
   "metadata": {
    "application/vnd.databricks.v1+cell": {
     "cellMetadata": {
      "byteLimit": 2048000,
      "rowLimit": 10000
     },
     "inputWidgets": {},
     "nuid": "d1b23857-5e2d-4e64-83d6-2f5966744296",
     "showTitle": false,
     "title": ""
    }
   },
   "outputs": [
    {
     "name": "stdout",
     "output_type": "stream",
     "text": [
      "\u001b[43mNote: you may need to restart the kernel using dbutils.library.restartPython() to use updated packages.\u001b[0m\n",
      "Requirement already satisfied: torch in /databricks/python3/lib/python3.10/site-packages (2.0.1+cu118)\n",
      "Requirement already satisfied: transformers in /databricks/python3/lib/python3.10/site-packages (4.31.0)\n",
      "Requirement already satisfied: optuna in /local_disk0/.ephemeral_nfs/envs/pythonEnv-b8f46cb1-447b-406b-bf59-ea19b9c278a8/lib/python3.10/site-packages (3.4.0)\n",
      "Requirement already satisfied: seaborn in /databricks/python3/lib/python3.10/site-packages (0.12.2)\n",
      "Requirement already satisfied: torchmetrics in /local_disk0/.ephemeral_nfs/envs/pythonEnv-b8f46cb1-447b-406b-bf59-ea19b9c278a8/lib/python3.10/site-packages (1.2.0)\n",
      "Collecting iterative-stratification\n",
      "  Downloading iterative_stratification-0.1.7-py3-none-any.whl (8.5 kB)\n",
      "Requirement already satisfied: filelock in /databricks/python3/lib/python3.10/site-packages (from torch) (3.9.0)\n",
      "Requirement already satisfied: sympy in /databricks/python3/lib/python3.10/site-packages (from torch) (1.11.1)\n",
      "Requirement already satisfied: typing-extensions in /databricks/python3/lib/python3.10/site-packages (from torch) (4.4.0)\n",
      "Requirement already satisfied: networkx in /databricks/python3/lib/python3.10/site-packages (from torch) (2.8.4)\n",
      "Requirement already satisfied: jinja2 in /databricks/python3/lib/python3.10/site-packages (from torch) (3.1.2)\n",
      "Requirement already satisfied: triton==2.0.0 in /databricks/python3/lib/python3.10/site-packages (from torch) (2.0.0)\n",
      "Requirement already satisfied: lit in /databricks/python3/lib/python3.10/site-packages (from triton==2.0.0->torch) (17.0.2)\n",
      "Requirement already satisfied: cmake in /databricks/python3/lib/python3.10/site-packages (from triton==2.0.0->torch) (3.27.6)\n",
      "Requirement already satisfied: regex!=2019.12.17 in /databricks/python3/lib/python3.10/site-packages (from transformers) (2022.7.9)\n",
      "Requirement already satisfied: huggingface-hub<1.0,>=0.14.1 in /databricks/python3/lib/python3.10/site-packages (from transformers) (0.14.1)\n",
      "Requirement already satisfied: requests in /databricks/python3/lib/python3.10/site-packages (from transformers) (2.28.1)\n",
      "Requirement already satisfied: packaging>=20.0 in /databricks/python3/lib/python3.10/site-packages (from transformers) (22.0)\n",
      "Requirement already satisfied: numpy>=1.17 in /databricks/python3/lib/python3.10/site-packages (from transformers) (1.23.5)\n",
      "Requirement already satisfied: tokenizers!=0.11.3,<0.14,>=0.11.1 in /databricks/python3/lib/python3.10/site-packages (from transformers) (0.13.3)\n",
      "Requirement already satisfied: safetensors>=0.3.1 in /databricks/python3/lib/python3.10/site-packages (from transformers) (0.3.3)\n",
      "Requirement already satisfied: pyyaml>=5.1 in /databricks/python3/lib/python3.10/site-packages (from transformers) (6.0)\n",
      "Requirement already satisfied: tqdm>=4.27 in /databricks/python3/lib/python3.10/site-packages (from transformers) (4.64.1)\n",
      "Requirement already satisfied: alembic>=1.5.0 in /local_disk0/.ephemeral_nfs/envs/pythonEnv-b8f46cb1-447b-406b-bf59-ea19b9c278a8/lib/python3.10/site-packages (from optuna) (1.12.1)\n",
      "Requirement already satisfied: sqlalchemy>=1.3.0 in /databricks/python3/lib/python3.10/site-packages (from optuna) (1.4.39)\n",
      "Requirement already satisfied: colorlog in /local_disk0/.ephemeral_nfs/envs/pythonEnv-b8f46cb1-447b-406b-bf59-ea19b9c278a8/lib/python3.10/site-packages (from optuna) (6.7.0)\n",
      "Requirement already satisfied: pandas>=0.25 in /databricks/python3/lib/python3.10/site-packages (from seaborn) (1.5.3)\n",
      "Requirement already satisfied: matplotlib!=3.6.1,>=3.1 in /databricks/python3/lib/python3.10/site-packages (from seaborn) (3.7.0)\n",
      "Requirement already satisfied: lightning-utilities>=0.8.0 in /local_disk0/.ephemeral_nfs/envs/pythonEnv-b8f46cb1-447b-406b-bf59-ea19b9c278a8/lib/python3.10/site-packages (from torchmetrics) (0.9.0)\n",
      "Requirement already satisfied: scikit-learn in /databricks/python3/lib/python3.10/site-packages (from iterative-stratification) (1.1.1)\n",
      "Requirement already satisfied: scipy in /databricks/python3/lib/python3.10/site-packages (from iterative-stratification) (1.10.0)\n",
      "Requirement already satisfied: Mako in /databricks/python3/lib/python3.10/site-packages (from alembic>=1.5.0->optuna) (1.2.0)\n",
      "Requirement already satisfied: fsspec in /databricks/python3/lib/python3.10/site-packages (from huggingface-hub<1.0,>=0.14.1->transformers) (2022.11.0)\n",
      "Requirement already satisfied: pillow>=6.2.0 in /databricks/python3/lib/python3.10/site-packages (from matplotlib!=3.6.1,>=3.1->seaborn) (9.4.0)\n",
      "Requirement already satisfied: fonttools>=4.22.0 in /databricks/python3/lib/python3.10/site-packages (from matplotlib!=3.6.1,>=3.1->seaborn) (4.25.0)\n",
      "Requirement already satisfied: pyparsing>=2.3.1 in /databricks/python3/lib/python3.10/site-packages (from matplotlib!=3.6.1,>=3.1->seaborn) (3.0.9)\n",
      "Requirement already satisfied: contourpy>=1.0.1 in /databricks/python3/lib/python3.10/site-packages (from matplotlib!=3.6.1,>=3.1->seaborn) (1.0.5)\n",
      "Requirement already satisfied: cycler>=0.10 in /databricks/python3/lib/python3.10/site-packages (from matplotlib!=3.6.1,>=3.1->seaborn) (0.11.0)\n",
      "Requirement already satisfied: kiwisolver>=1.0.1 in /databricks/python3/lib/python3.10/site-packages (from matplotlib!=3.6.1,>=3.1->seaborn) (1.4.4)\n",
      "Requirement already satisfied: python-dateutil>=2.7 in /databricks/python3/lib/python3.10/site-packages (from matplotlib!=3.6.1,>=3.1->seaborn) (2.8.2)\n",
      "Requirement already satisfied: pytz>=2020.1 in /databricks/python3/lib/python3.10/site-packages (from pandas>=0.25->seaborn) (2022.7)\n",
      "Requirement already satisfied: greenlet!=0.4.17 in /databricks/python3/lib/python3.10/site-packages (from sqlalchemy>=1.3.0->optuna) (2.0.1)\n",
      "Requirement already satisfied: MarkupSafe>=2.0 in /databricks/python3/lib/python3.10/site-packages (from jinja2->torch) (2.1.1)\n",
      "Requirement already satisfied: certifi>=2017.4.17 in /databricks/python3/lib/python3.10/site-packages (from requests->transformers) (2022.12.7)\n",
      "Requirement already satisfied: charset-normalizer<3,>=2 in /databricks/python3/lib/python3.10/site-packages (from requests->transformers) (2.0.4)\n",
      "Requirement already satisfied: urllib3<1.27,>=1.21.1 in /databricks/python3/lib/python3.10/site-packages (from requests->transformers) (1.26.14)\n",
      "Requirement already satisfied: idna<4,>=2.5 in /databricks/python3/lib/python3.10/site-packages (from requests->transformers) (3.4)\n",
      "Requirement already satisfied: threadpoolctl>=2.0.0 in /databricks/python3/lib/python3.10/site-packages (from scikit-learn->iterative-stratification) (2.2.0)\n",
      "Requirement already satisfied: joblib>=1.0.0 in /databricks/python3/lib/python3.10/site-packages (from scikit-learn->iterative-stratification) (1.2.0)\n",
      "Requirement already satisfied: mpmath>=0.19 in /databricks/python3/lib/python3.10/site-packages (from sympy->torch) (1.2.1)\n",
      "Requirement already satisfied: six>=1.5 in /usr/lib/python3/dist-packages (from python-dateutil>=2.7->matplotlib!=3.6.1,>=3.1->seaborn) (1.16.0)\n",
      "Installing collected packages: iterative-stratification\n",
      "Successfully installed iterative-stratification-0.1.7\n",
      "\u001b[43mNote: you may need to restart the kernel using dbutils.library.restartPython() to use updated packages.\u001b[0m\n"
     ]
    }
   ],
   "source": [
    "%pip install torch transformers optuna seaborn torchmetrics iterative-stratification"
   ]
  },
  {
   "cell_type": "code",
   "execution_count": null,
   "metadata": {
    "application/vnd.databricks.v1+cell": {
     "cellMetadata": {
      "byteLimit": 2048000,
      "rowLimit": 10000
     },
     "inputWidgets": {},
     "nuid": "2f6cfb5c-4e7d-4f15-931b-2f1ba676d948",
     "showTitle": false,
     "title": ""
    }
   },
   "outputs": [],
   "source": [
    "import torch\n",
    "import pandas as pd\n",
    "import numpy as np\n",
    "from sklearn.preprocessing import MultiLabelBinarizer\n",
    "from sklearn.metrics import multilabel_confusion_matrix, classification_report, f1_score, accuracy_score\n",
    "from ast import literal_eval\n",
    "import matplotlib.pyplot as plt\n",
    "import seaborn as sns\n",
    "import joblib\n",
    "import json\n",
    "import optuna\n",
    "import transformers\n",
    "from torch.utils.data import Dataset, DataLoader\n",
    "from transformers import BertTokenizer, BertModel, AutoModel\n",
    "from torchmetrics.classification import MultilabelHammingDistance\n",
    "import time\n",
    "import datetime\n",
    "import pickle\n",
    "# from iterstrat.ml_stratifiers import MultilabelStratifiedShuffleSplit\n",
    "from sklearn.model_selection import StratifiedShuffleSplit\n",
    "import os"
   ]
  },
  {
   "cell_type": "code",
   "execution_count": null,
   "metadata": {
    "application/vnd.databricks.v1+cell": {
     "cellMetadata": {
      "byteLimit": 2048000,
      "rowLimit": 10000
     },
     "inputWidgets": {},
     "nuid": "bdeed3e2-7d95-492c-aa23-ff207fa804d0",
     "showTitle": false,
     "title": ""
    }
   },
   "outputs": [],
   "source": [
    "# DATA_FPATH = '/dbfs/FileStore/citation_intent/software_intent_data___final_data.csv'\n",
    "DATA_FPATH = '/dbfs/FileStore/citation_intent/final_df_w_unlabeled.csv'\n",
    "OUTPUT_PATH = '/dbfs/FileStore/citation_intent/'\n",
    "\n",
    "df = pd.read_csv(DATA_FPATH, index_col=None)\n",
    "# df = df.drop(['Unnamed: 6'], axis=1)"
   ]
  },
  {
   "cell_type": "code",
   "execution_count": null,
   "metadata": {
    "application/vnd.databricks.v1+cell": {
     "cellMetadata": {
      "byteLimit": 2048000,
      "rowLimit": 10000
     },
     "inputWidgets": {},
     "nuid": "7b132b86-2992-442d-a365-0d225b66f284",
     "showTitle": false,
     "title": ""
    }
   },
   "outputs": [
    {
     "data": {
      "text/html": [
       "<div>\n",
       "<style scoped>\n",
       "    .dataframe tbody tr th:only-of-type {\n",
       "        vertical-align: middle;\n",
       "    }\n",
       "\n",
       "    .dataframe tbody tr th {\n",
       "        vertical-align: top;\n",
       "    }\n",
       "\n",
       "    .dataframe thead th {\n",
       "        text-align: right;\n",
       "    }\n",
       "</style>\n",
       "<table border=\"1\" class=\"dataframe\">\n",
       "  <thead>\n",
       "    <tr style=\"text-align: right;\">\n",
       "      <th></th>\n",
       "      <th>id</th>\n",
       "      <th>sentence</th>\n",
       "      <th>used</th>\n",
       "      <th>created</th>\n",
       "      <th>mention</th>\n",
       "    </tr>\n",
       "  </thead>\n",
       "  <tbody>\n",
       "    <tr>\n",
       "      <th>0</th>\n",
       "      <td>PMC5189946</td>\n",
       "      <td>All of this analysis was implemented using Mat...</td>\n",
       "      <td>False</td>\n",
       "      <td>True</td>\n",
       "      <td>False</td>\n",
       "    </tr>\n",
       "    <tr>\n",
       "      <th>1</th>\n",
       "      <td>PMC4511233</td>\n",
       "      <td>Code for calculating partition similarity, obt...</td>\n",
       "      <td>False</td>\n",
       "      <td>True</td>\n",
       "      <td>False</td>\n",
       "    </tr>\n",
       "    <tr>\n",
       "      <th>2</th>\n",
       "      <td>PMC4186879</td>\n",
       "      <td>All behavioral statistical analyses were perfo...</td>\n",
       "      <td>False</td>\n",
       "      <td>False</td>\n",
       "      <td>True</td>\n",
       "    </tr>\n",
       "    <tr>\n",
       "      <th>3</th>\n",
       "      <td>PMC5026371</td>\n",
       "      <td>M-Track was written using Python 2.7, OpenCV 3...</td>\n",
       "      <td>True</td>\n",
       "      <td>False</td>\n",
       "      <td>False</td>\n",
       "    </tr>\n",
       "    <tr>\n",
       "      <th>4</th>\n",
       "      <td>PMC1283974</td>\n",
       "      <td>Mindboggle is a freely downloadable, open sour...</td>\n",
       "      <td>False</td>\n",
       "      <td>True</td>\n",
       "      <td>False</td>\n",
       "    </tr>\n",
       "    <tr>\n",
       "      <th>...</th>\n",
       "      <td>...</td>\n",
       "      <td>...</td>\n",
       "      <td>...</td>\n",
       "      <td>...</td>\n",
       "      <td>...</td>\n",
       "    </tr>\n",
       "    <tr>\n",
       "      <th>4212</th>\n",
       "      <td>PMC3579796</td>\n",
       "      <td>To that end, each hen was gently maintained ap...</td>\n",
       "      <td>False</td>\n",
       "      <td>False</td>\n",
       "      <td>False</td>\n",
       "    </tr>\n",
       "    <tr>\n",
       "      <th>4213</th>\n",
       "      <td>PMC4701393</td>\n",
       "      <td>Immediately before the odor is presented, the ...</td>\n",
       "      <td>False</td>\n",
       "      <td>False</td>\n",
       "      <td>False</td>\n",
       "    </tr>\n",
       "    <tr>\n",
       "      <th>4214</th>\n",
       "      <td>PMC4153588</td>\n",
       "      <td>Samples were collected seven times on an ordin...</td>\n",
       "      <td>False</td>\n",
       "      <td>False</td>\n",
       "      <td>False</td>\n",
       "    </tr>\n",
       "    <tr>\n",
       "      <th>4215</th>\n",
       "      <td>PMC4701393</td>\n",
       "      <td>This scale consists of six verbal and five per...</td>\n",
       "      <td>False</td>\n",
       "      <td>False</td>\n",
       "      <td>False</td>\n",
       "    </tr>\n",
       "    <tr>\n",
       "      <th>4216</th>\n",
       "      <td>PMC7305855</td>\n",
       "      <td>Erlotinib is a tyrosine kinase inhibitor of EG...</td>\n",
       "      <td>False</td>\n",
       "      <td>False</td>\n",
       "      <td>False</td>\n",
       "    </tr>\n",
       "  </tbody>\n",
       "</table>\n",
       "<p>4217 rows × 5 columns</p>\n",
       "</div>"
      ],
      "text/plain": [
       "              id  ... mention\n",
       "0     PMC5189946  ...   False\n",
       "1     PMC4511233  ...   False\n",
       "2     PMC4186879  ...    True\n",
       "3     PMC5026371  ...   False\n",
       "4     PMC1283974  ...   False\n",
       "...          ...  ...     ...\n",
       "4212  PMC3579796  ...   False\n",
       "4213  PMC4701393  ...   False\n",
       "4214  PMC4153588  ...   False\n",
       "4215  PMC4701393  ...   False\n",
       "4216  PMC7305855  ...   False\n",
       "\n",
       "[4217 rows x 5 columns]"
      ]
     },
     "execution_count": 250,
     "metadata": {},
     "output_type": "execute_result"
    }
   ],
   "source": [
    "df"
   ]
  },
  {
   "cell_type": "code",
   "execution_count": null,
   "metadata": {
    "application/vnd.databricks.v1+cell": {
     "cellMetadata": {
      "byteLimit": 2048000,
      "rowLimit": 10000
     },
     "inputWidgets": {},
     "nuid": "3fa419df-8f6d-4b3b-8d06-f1ae415142be",
     "showTitle": false,
     "title": ""
    }
   },
   "outputs": [],
   "source": [
    "df['used'] = df['used'].replace(True, 'used')\n",
    "df['created'] = df['created'].replace(True, 'created')\n",
    "df['mention'] = df['mention'].replace(True, 'mention')"
   ]
  },
  {
   "cell_type": "code",
   "execution_count": null,
   "metadata": {
    "application/vnd.databricks.v1+cell": {
     "cellMetadata": {
      "byteLimit": 2048000,
      "rowLimit": 10000
     },
     "inputWidgets": {},
     "nuid": "c3dec316-84d1-48d8-8d0f-95e8e20fa444",
     "showTitle": false,
     "title": ""
    }
   },
   "outputs": [],
   "source": [
    "df['label'] = df[['used', 'created', 'mention']].values.tolist()\n",
    "df['label'] = df['label'].apply(lambda x: [i for i in x if i])\n",
    "df['label'] = df['label'].apply(lambda x: x if len(x)>0 else ['unlabeled'])\n",
    "df = df.reset_index()"
   ]
  },
  {
   "cell_type": "code",
   "execution_count": null,
   "metadata": {
    "application/vnd.databricks.v1+cell": {
     "cellMetadata": {
      "byteLimit": 2048000,
      "rowLimit": 10000
     },
     "inputWidgets": {},
     "nuid": "e4846231-eb39-4aef-b7c9-50ba28c7e996",
     "showTitle": false,
     "title": ""
    }
   },
   "outputs": [
    {
     "data": {
      "text/html": [
       "<div>\n",
       "<style scoped>\n",
       "    .dataframe tbody tr th:only-of-type {\n",
       "        vertical-align: middle;\n",
       "    }\n",
       "\n",
       "    .dataframe tbody tr th {\n",
       "        vertical-align: top;\n",
       "    }\n",
       "\n",
       "    .dataframe thead th {\n",
       "        text-align: right;\n",
       "    }\n",
       "</style>\n",
       "<table border=\"1\" class=\"dataframe\">\n",
       "  <thead>\n",
       "    <tr style=\"text-align: right;\">\n",
       "      <th></th>\n",
       "      <th>index</th>\n",
       "      <th>id</th>\n",
       "      <th>sentence</th>\n",
       "      <th>used</th>\n",
       "      <th>created</th>\n",
       "      <th>mention</th>\n",
       "      <th>label</th>\n",
       "    </tr>\n",
       "  </thead>\n",
       "  <tbody>\n",
       "    <tr>\n",
       "      <th>0</th>\n",
       "      <td>0</td>\n",
       "      <td>PMC5189946</td>\n",
       "      <td>All of this analysis was implemented using Mat...</td>\n",
       "      <td>False</td>\n",
       "      <td>created</td>\n",
       "      <td>False</td>\n",
       "      <td>[created]</td>\n",
       "    </tr>\n",
       "    <tr>\n",
       "      <th>1</th>\n",
       "      <td>1</td>\n",
       "      <td>PMC4511233</td>\n",
       "      <td>Code for calculating partition similarity, obt...</td>\n",
       "      <td>False</td>\n",
       "      <td>created</td>\n",
       "      <td>False</td>\n",
       "      <td>[created]</td>\n",
       "    </tr>\n",
       "    <tr>\n",
       "      <th>2</th>\n",
       "      <td>2</td>\n",
       "      <td>PMC4186879</td>\n",
       "      <td>All behavioral statistical analyses were perfo...</td>\n",
       "      <td>False</td>\n",
       "      <td>False</td>\n",
       "      <td>mention</td>\n",
       "      <td>[mention]</td>\n",
       "    </tr>\n",
       "    <tr>\n",
       "      <th>3</th>\n",
       "      <td>3</td>\n",
       "      <td>PMC5026371</td>\n",
       "      <td>M-Track was written using Python 2.7, OpenCV 3...</td>\n",
       "      <td>used</td>\n",
       "      <td>False</td>\n",
       "      <td>False</td>\n",
       "      <td>[used]</td>\n",
       "    </tr>\n",
       "    <tr>\n",
       "      <th>4</th>\n",
       "      <td>4</td>\n",
       "      <td>PMC1283974</td>\n",
       "      <td>Mindboggle is a freely downloadable, open sour...</td>\n",
       "      <td>False</td>\n",
       "      <td>created</td>\n",
       "      <td>False</td>\n",
       "      <td>[created]</td>\n",
       "    </tr>\n",
       "    <tr>\n",
       "      <th>...</th>\n",
       "      <td>...</td>\n",
       "      <td>...</td>\n",
       "      <td>...</td>\n",
       "      <td>...</td>\n",
       "      <td>...</td>\n",
       "      <td>...</td>\n",
       "      <td>...</td>\n",
       "    </tr>\n",
       "    <tr>\n",
       "      <th>4212</th>\n",
       "      <td>4212</td>\n",
       "      <td>PMC3579796</td>\n",
       "      <td>To that end, each hen was gently maintained ap...</td>\n",
       "      <td>False</td>\n",
       "      <td>False</td>\n",
       "      <td>False</td>\n",
       "      <td>[unlabeled]</td>\n",
       "    </tr>\n",
       "    <tr>\n",
       "      <th>4213</th>\n",
       "      <td>4213</td>\n",
       "      <td>PMC4701393</td>\n",
       "      <td>Immediately before the odor is presented, the ...</td>\n",
       "      <td>False</td>\n",
       "      <td>False</td>\n",
       "      <td>False</td>\n",
       "      <td>[unlabeled]</td>\n",
       "    </tr>\n",
       "    <tr>\n",
       "      <th>4214</th>\n",
       "      <td>4214</td>\n",
       "      <td>PMC4153588</td>\n",
       "      <td>Samples were collected seven times on an ordin...</td>\n",
       "      <td>False</td>\n",
       "      <td>False</td>\n",
       "      <td>False</td>\n",
       "      <td>[unlabeled]</td>\n",
       "    </tr>\n",
       "    <tr>\n",
       "      <th>4215</th>\n",
       "      <td>4215</td>\n",
       "      <td>PMC4701393</td>\n",
       "      <td>This scale consists of six verbal and five per...</td>\n",
       "      <td>False</td>\n",
       "      <td>False</td>\n",
       "      <td>False</td>\n",
       "      <td>[unlabeled]</td>\n",
       "    </tr>\n",
       "    <tr>\n",
       "      <th>4216</th>\n",
       "      <td>4216</td>\n",
       "      <td>PMC7305855</td>\n",
       "      <td>Erlotinib is a tyrosine kinase inhibitor of EG...</td>\n",
       "      <td>False</td>\n",
       "      <td>False</td>\n",
       "      <td>False</td>\n",
       "      <td>[unlabeled]</td>\n",
       "    </tr>\n",
       "  </tbody>\n",
       "</table>\n",
       "<p>4217 rows × 7 columns</p>\n",
       "</div>"
      ],
      "text/plain": [
       "      index          id  ...  mention        label\n",
       "0         0  PMC5189946  ...    False    [created]\n",
       "1         1  PMC4511233  ...    False    [created]\n",
       "2         2  PMC4186879  ...  mention    [mention]\n",
       "3         3  PMC5026371  ...    False       [used]\n",
       "4         4  PMC1283974  ...    False    [created]\n",
       "...     ...         ...  ...      ...          ...\n",
       "4212   4212  PMC3579796  ...    False  [unlabeled]\n",
       "4213   4213  PMC4701393  ...    False  [unlabeled]\n",
       "4214   4214  PMC4153588  ...    False  [unlabeled]\n",
       "4215   4215  PMC4701393  ...    False  [unlabeled]\n",
       "4216   4216  PMC7305855  ...    False  [unlabeled]\n",
       "\n",
       "[4217 rows x 7 columns]"
      ]
     },
     "execution_count": 253,
     "metadata": {},
     "output_type": "execute_result"
    }
   ],
   "source": [
    "df"
   ]
  },
  {
   "cell_type": "code",
   "execution_count": null,
   "metadata": {
    "application/vnd.databricks.v1+cell": {
     "cellMetadata": {
      "byteLimit": 2048000,
      "rowLimit": 10000
     },
     "inputWidgets": {},
     "nuid": "b7c87959-ce43-47f9-81a9-71fc0b48323e",
     "showTitle": false,
     "title": ""
    }
   },
   "outputs": [],
   "source": [
    "df['word_count'] = df['sentence'].apply(lambda x: len(x.split()))"
   ]
  },
  {
   "cell_type": "code",
   "execution_count": null,
   "metadata": {
    "application/vnd.databricks.v1+cell": {
     "cellMetadata": {
      "byteLimit": 2048000,
      "rowLimit": 10000
     },
     "inputWidgets": {},
     "nuid": "2b380724-0773-43c4-9df8-79099fb2f1be",
     "showTitle": false,
     "title": ""
    }
   },
   "outputs": [
    {
     "data": {
      "text/plain": [
       "array([[<Axes: title={'center': 'word_count'}>]], dtype=object)"
      ]
     },
     "execution_count": 123,
     "metadata": {},
     "output_type": "execute_result"
    },
    {
     "data": {
      "image/png": "[encoded data removed]",
      "text/plain": [
       "<Figure size 640x480 with 1 Axes>"
      ]
     },
     "metadata": {},
     "output_type": "display_data"
    }
   ],
   "source": [
    "df.hist('word_count', bins=30)"
   ]
  },
  {
   "cell_type": "code",
   "execution_count": null,
   "metadata": {
    "application/vnd.databricks.v1+cell": {
     "cellMetadata": {
      "byteLimit": 2048000,
      "rowLimit": 10000
     },
     "inputWidgets": {},
     "nuid": "61587126-55bf-4ef7-ad66-279fb9c9d059",
     "showTitle": false,
     "title": ""
    }
   },
   "outputs": [],
   "source": [
    "# CLASSES = ['Created', 'Used', 'Mention']\n",
    "CLASSES = ['used', 'created', 'mention', 'unlabeled']"
   ]
  },
  {
   "cell_type": "code",
   "execution_count": null,
   "metadata": {
    "application/vnd.databricks.v1+cell": {
     "cellMetadata": {
      "byteLimit": 2048000,
      "rowLimit": 10000
     },
     "inputWidgets": {},
     "nuid": "1fdc6687-bee0-4812-a0a3-933a54c5c274",
     "showTitle": false,
     "title": ""
    }
   },
   "outputs": [],
   "source": [
    "def vectorize_labels(df_y):\n",
    "    \"\"\"\n",
    "    Transform labels into one-hot encoded vector representation\n",
    "    \"\"\"\n",
    "    mlb = MultiLabelBinarizer()\n",
    "    vectorized_y = mlb.fit_transform(df_y)\n",
    "\n",
    "    return mlb, vectorized_y\n",
    "\n",
    "mlb, vectorized_labels = vectorize_labels(df['label'])\n",
    "\n",
    "df['vectorized_labels'] = vectorized_labels.tolist()\n",
    "\n",
    "with open(f\"{OUTPUT_PATH}/multilabel_binarizer.pkl\", \"wb\") as f:\n",
    "    pickle.dump(mlb, f)"
   ]
  },
  {
   "cell_type": "code",
   "execution_count": null,
   "metadata": {
    "application/vnd.databricks.v1+cell": {
     "cellMetadata": {
      "byteLimit": 2048000,
      "rowLimit": 10000
     },
     "inputWidgets": {},
     "nuid": "07d2e798-988e-4052-bcd6-a6855d66b0d2",
     "showTitle": false,
     "title": ""
    }
   },
   "outputs": [],
   "source": [
    "df = df[~df['label'].apply(lambda x: len(x)>1)].reset_index()"
   ]
  },
  {
   "cell_type": "code",
   "execution_count": null,
   "metadata": {
    "application/vnd.databricks.v1+cell": {
     "cellMetadata": {
      "byteLimit": 2048000,
      "rowLimit": 10000
     },
     "inputWidgets": {},
     "nuid": "36940c96-8c51-43a0-be09-9c0edb64a35d",
     "showTitle": false,
     "title": ""
    }
   },
   "outputs": [
    {
     "data": {
      "image/png": "[encoded data removed]",
      "text/plain": [
       "<Figure size 1000x500 with 1 Axes>"
      ]
     },
     "metadata": {},
     "output_type": "display_data"
    }
   ],
   "source": [
    "explode_df = df.explode('label')\n",
    "plt.figure(figsize=(10,5))\n",
    "plt.suptitle(\"Distribution of Labels in Data\", fontsize=16)\n",
    "countplot = sns.countplot(data=explode_df, x=\"label\")\n",
    "countplot.set_xticklabels(countplot.get_xticklabels(), rotation=45, horizontalalignment='right')\n",
    "plt.show()"
   ]
  },
  {
   "cell_type": "code",
   "execution_count": null,
   "metadata": {
    "application/vnd.databricks.v1+cell": {
     "cellMetadata": {
      "byteLimit": 2048000,
      "rowLimit": 10000
     },
     "inputWidgets": {},
     "nuid": "1161d757-4a80-46ac-9002-42ca70b1cc2a",
     "showTitle": false,
     "title": ""
    }
   },
   "outputs": [],
   "source": [
    "class SoftwareDataset(Dataset):\n",
    "    \"\"\"\n",
    "    Custom dataset class that inherits from torch.utils.data.Dataset\n",
    "\n",
    "    Makes use of Hugging Face transformer encode_plus method to:\n",
    "        -Split sentence into tokens\n",
    "        -Add special [CLS] and [SEP] tokens\n",
    "        -Map tokens to IDs\n",
    "        -Pad/truncate sentences to max length\n",
    "        -Create attention masks\n",
    "\n",
    "    Parameters\n",
    "    ----------\n",
    "\n",
    "    dataframe: pd.DataFrame used for model training, contains columns 'text' and vectorized labels 'target_list'\n",
    "    tokenizer: tokenizer from transformers library used to prepare inputs for model\n",
    "    max_len: maximum length (in number of tokens) for the inputs to model\n",
    "\n",
    "    Returns\n",
    "    _______\n",
    "\n",
    "    dict: Dictionary of encoded ids, mask, token_type_ids, and targets\n",
    "\n",
    "    \"\"\"\n",
    "\n",
    "    def __init__(self, dataframe, max_len):\n",
    "        self.tokenizer = BertTokenizer.from_pretrained('allenai/scibert_scivocab_uncased')\n",
    "        self.data = dataframe\n",
    "        self.text = self.data.sentence\n",
    "        self.targets = self.data.vectorized_labels\n",
    "        self.max_len = max_len\n",
    "\n",
    "    def __len__(self): # overrides __len__ so that len(dataset) returns size of dataset\n",
    "        return len(self.text)\n",
    "\n",
    "    def __getitem__(self, index): #override __getitem__ to support indexing\n",
    "        text = str(self.text[index])\n",
    "        text = ' '.join(text.split())\n",
    "\n",
    "        inputs = self.tokenizer.encode_plus(\n",
    "            text,\n",
    "            None,\n",
    "            add_special_tokens = True,\n",
    "            max_length = self.max_len,\n",
    "            padding='max_length',\n",
    "            return_token_type_ids = True,\n",
    "            truncation = True\n",
    "        )\n",
    "\n",
    "        ids = inputs['input_ids']\n",
    "        mask = inputs['attention_mask']\n",
    "        token_type_ids = inputs['token_type_ids']\n",
    "\n",
    "        return {\n",
    "            'ids': torch.tensor(ids, dtype=torch.long),\n",
    "            'mask': torch.tensor(mask, dtype=torch.long),\n",
    "            'token_type_ids': torch.tensor(token_type_ids, dtype=torch.long),\n",
    "            'targets': torch.tensor(self.targets[index], dtype=torch.float)\n",
    "        }"
   ]
  },
  {
   "cell_type": "code",
   "execution_count": null,
   "metadata": {
    "application/vnd.databricks.v1+cell": {
     "cellMetadata": {
      "byteLimit": 2048000,
      "rowLimit": 10000
     },
     "inputWidgets": {},
     "nuid": "c787e8cc-bdef-48d7-8a86-aa718025d8bb",
     "showTitle": false,
     "title": ""
    }
   },
   "outputs": [
    {
     "name": "stdout",
     "output_type": "stream",
     "text": [
      "FULL Dataset: (4215, 10)\n",
      "TRAIN Dataset: (3372, 10)\n",
      "TEST Dataset: (843, 10)\n"
     ]
    }
   ],
   "source": [
    "def split_data(df, test_size):\n",
    "    \"\"\"\n",
    "    Utility function to create train and validation datasets using stratified\n",
    "    shuffling for multi-label data via iterstrat package\n",
    "    \n",
    "    Parameters\n",
    "    ----------\n",
    "    \n",
    "    df: pd.DataFrame that contains modeling data\n",
    "    test_size: float that designates proportion of data used for testing\n",
    "\n",
    "    Returns\n",
    "    -------\n",
    "    train_dataset: pd.DataFrame that contains training samples\n",
    "    valid_dataset: pd.DataFrame that contains validation samples\n",
    "    \"\"\"  \n",
    "\n",
    "    x = df['sentence'].tolist()\n",
    "    y= df['vectorized_labels'].tolist()\n",
    "    sss = StratifiedShuffleSplit(n_splits=2, test_size=test_size, random_state=18)\n",
    "    for train_index, valid_index in sss.split(x, y):\n",
    "        train_dataset, valid_dataset = df.loc[train_index].reset_index(drop=True), df.loc[valid_index].reset_index(drop=True)\n",
    "        \n",
    "    print(\"FULL Dataset: {}\".format(df.shape))\n",
    "    print(\"TRAIN Dataset: {}\".format(train_dataset.shape))\n",
    "    print(\"TEST Dataset: {}\".format(valid_dataset.shape))\n",
    "\n",
    "    return train_dataset, valid_dataset\n",
    "train_dataset, valid_dataset = split_data(df, 0.2)"
   ]
  },
  {
   "cell_type": "code",
   "execution_count": null,
   "metadata": {
    "application/vnd.databricks.v1+cell": {
     "cellMetadata": {
      "byteLimit": 2048000,
      "rowLimit": 10000
     },
     "inputWidgets": {},
     "nuid": "ce5893a4-0118-4238-b045-7e07166b9240",
     "showTitle": false,
     "title": ""
    }
   },
   "outputs": [
    {
     "name": "stderr",
     "output_type": "stream",
     "text": [
      "[I 2023-10-26 20:33:31,941] A new study created in memory with name: no-name-209c769b-48e7-4765-a203-8288c4e3de36\n",
      "/local_disk0/.ephemeral_nfs/envs/pythonEnv-b8f46cb1-447b-406b-bf59-ea19b9c278a8/lib/python3.10/site-packages/optuna/distributions.py:524: UserWarning: Choices for a categorical distribution should be a tuple of None, bool, int, float and str for persistent storage but contains <class 'torch.optim.adam.Adam'> which is of type type.\n",
      "  warnings.warn(message)\n",
      "/local_disk0/.ephemeral_nfs/envs/pythonEnv-b8f46cb1-447b-406b-bf59-ea19b9c278a8/lib/python3.10/site-packages/optuna/distributions.py:524: UserWarning: Choices for a categorical distribution should be a tuple of None, bool, int, float and str for persistent storage but contains <class 'torch.optim.adamw.AdamW'> which is of type type.\n",
      "  warnings.warn(message)\n",
      "/local_disk0/.ephemeral_nfs/envs/pythonEnv-b8f46cb1-447b-406b-bf59-ea19b9c278a8/lib/python3.10/site-packages/optuna/distributions.py:524: UserWarning: Choices for a categorical distribution should be a tuple of None, bool, int, float and str for persistent storage but contains (2.242021276595745, 2.1782945736434107, 1.0459057071960298, 0.46755407653910147) which is of type tuple.\n",
      "  warnings.warn(message)\n"
     ]
    },
    {
     "name": "stdout",
     "output_type": "stream",
     "text": [
      "Epoch: 1, batch_id: 0, Training Loss:  1.6132689714431763\n",
      "Validation Loss: 1.4168911730801617\n",
      "Validation loss decreased (inf --> 1.416891).\n",
      "Epoch: 2, batch_id: 0, Training Loss:  1.5950239896774292\n",
      "Validation Loss: 1.4248560446280019\n",
      "Epoch: 3, batch_id: 0, Training Loss:  1.2150306701660156\n",
      "Validation Loss: 1.4050713424329409\n",
      "Validation loss decreased (1.416891 --> 1.405071).\n",
      "Epoch: 4, batch_id: 0, Training Loss:  1.356712818145752\n",
      "Validation Loss: 1.1314857867028978\n",
      "Validation loss decreased (1.405071 --> 1.131486).\n",
      "Epoch: 5, batch_id: 0, Training Loss:  1.1817259788513184\n",
      "Validation Loss: 1.075026660053818\n",
      "Validation loss decreased (1.131486 --> 1.075027).\n",
      "Epoch: 6, batch_id: 0, Training Loss:  0.9767861366271973\n",
      "Validation Loss: 1.0008502624653002\n",
      "Validation loss decreased (1.075027 --> 1.000850).\n",
      "Epoch: 7, batch_id: 0, Training Loss:  0.8145021796226501\n"
     ]
    },
    {
     "name": "stderr",
     "output_type": "stream",
     "text": [
      "[I 2023-10-26 20:36:05,440] Trial 0 finished with value: 0.4653347016166707 and parameters: {'max_len': 128, 'batch_size': 32, 'optimizer': <class 'torch.optim.adam.Adam'>, 'lr': 0.00036222532337013317, 'weight_decay': 0.0075038335979611855, 'n_epochs': 7, 'pred_threshold': 0.31460135807652984, 'pos_weight': (2.242021276595745, 2.1782945736434107, 1.0459057071960298, 0.46755407653910147), 'dropout': 0.07581254502308872}. Best is trial 0 with value: 0.4653347016166707.\n"
     ]
    },
    {
     "name": "stdout",
     "output_type": "stream",
     "text": [
      "Validation Loss: 0.9980814214105956\n",
      "Validation loss decreased (1.000850 --> 0.998081).\n",
      "F1 Score (Macro) = 0.4653347016166707\n"
     ]
    },
    {
     "name": "stderr",
     "output_type": "stream",
     "text": [
      "/local_disk0/.ephemeral_nfs/envs/pythonEnv-b8f46cb1-447b-406b-bf59-ea19b9c278a8/lib/python3.10/site-packages/optuna/distributions.py:524: UserWarning: Choices for a categorical distribution should be a tuple of None, bool, int, float and str for persistent storage but contains <class 'torch.optim.adam.Adam'> which is of type type.\n",
      "  warnings.warn(message)\n",
      "/local_disk0/.ephemeral_nfs/envs/pythonEnv-b8f46cb1-447b-406b-bf59-ea19b9c278a8/lib/python3.10/site-packages/optuna/distributions.py:524: UserWarning: Choices for a categorical distribution should be a tuple of None, bool, int, float and str for persistent storage but contains <class 'torch.optim.adamw.AdamW'> which is of type type.\n",
      "  warnings.warn(message)\n",
      "/local_disk0/.ephemeral_nfs/envs/pythonEnv-b8f46cb1-447b-406b-bf59-ea19b9c278a8/lib/python3.10/site-packages/optuna/distributions.py:524: UserWarning: Choices for a categorical distribution should be a tuple of None, bool, int, float and str for persistent storage but contains (2.242021276595745, 2.1782945736434107, 1.0459057071960298, 0.46755407653910147) which is of type tuple.\n",
      "  warnings.warn(message)\n"
     ]
    },
    {
     "name": "stdout",
     "output_type": "stream",
     "text": [
      "Epoch: 1, batch_id: 0, Training Loss:  1.479135274887085\n",
      "Validation Loss: 0.4002435290151172\n",
      "Validation loss decreased (inf --> 0.400244).\n",
      "Epoch: 2, batch_id: 0, Training Loss:  0.3497631251811981\n"
     ]
    },
    {
     "name": "stderr",
     "output_type": "stream",
     "text": [
      "[I 2023-10-26 20:36:50,129] Trial 1 finished with value: 0.6249397994586924 and parameters: {'max_len': 128, 'batch_size': 32, 'optimizer': <class 'torch.optim.adamw.AdamW'>, 'lr': 0.0001809416848925797, 'weight_decay': 0.03551265172957261, 'n_epochs': 2, 'pred_threshold': 0.34126523367586364, 'pos_weight': None, 'dropout': 0.4266823216880847}. Best is trial 1 with value: 0.6249397994586924.\n"
     ]
    },
    {
     "name": "stdout",
     "output_type": "stream",
     "text": [
      "Validation Loss: 0.5458982879364931\n",
      "F1 Score (Macro) = 0.6249397994586924\n"
     ]
    },
    {
     "name": "stderr",
     "output_type": "stream",
     "text": [
      "/local_disk0/.ephemeral_nfs/envs/pythonEnv-b8f46cb1-447b-406b-bf59-ea19b9c278a8/lib/python3.10/site-packages/optuna/distributions.py:524: UserWarning: Choices for a categorical distribution should be a tuple of None, bool, int, float and str for persistent storage but contains <class 'torch.optim.adam.Adam'> which is of type type.\n",
      "  warnings.warn(message)\n",
      "/local_disk0/.ephemeral_nfs/envs/pythonEnv-b8f46cb1-447b-406b-bf59-ea19b9c278a8/lib/python3.10/site-packages/optuna/distributions.py:524: UserWarning: Choices for a categorical distribution should be a tuple of None, bool, int, float and str for persistent storage but contains <class 'torch.optim.adamw.AdamW'> which is of type type.\n",
      "  warnings.warn(message)\n",
      "/local_disk0/.ephemeral_nfs/envs/pythonEnv-b8f46cb1-447b-406b-bf59-ea19b9c278a8/lib/python3.10/site-packages/optuna/distributions.py:524: UserWarning: Choices for a categorical distribution should be a tuple of None, bool, int, float and str for persistent storage but contains (2.242021276595745, 2.1782945736434107, 1.0459057071960298, 0.46755407653910147) which is of type tuple.\n",
      "  warnings.warn(message)\n"
     ]
    },
    {
     "name": "stdout",
     "output_type": "stream",
     "text": [
      "Epoch: 1, batch_id: 0, Training Loss:  1.6772677898406982\n"
     ]
    },
    {
     "name": "stderr",
     "output_type": "stream",
     "text": [
      "[I 2023-10-26 20:37:12,000] Trial 2 finished with value: 0.6792878412097612 and parameters: {'max_len': 128, 'batch_size': 64, 'optimizer': <class 'torch.optim.adam.Adam'>, 'lr': 0.0003028833396233714, 'weight_decay': 0.09546416710928335, 'n_epochs': 1, 'pred_threshold': 0.5815652109618797, 'pos_weight': (2.242021276595745, 2.1782945736434107, 1.0459057071960298, 0.46755407653910147), 'dropout': 0.5512668159023625}. Best is trial 2 with value: 0.6792878412097612.\n"
     ]
    },
    {
     "name": "stdout",
     "output_type": "stream",
     "text": [
      "Validation Loss: 0.5048239114029066\n",
      "Validation loss decreased (inf --> 0.504824).\n",
      "F1 Score (Macro) = 0.6792878412097612\n"
     ]
    },
    {
     "name": "stderr",
     "output_type": "stream",
     "text": [
      "/local_disk0/.ephemeral_nfs/envs/pythonEnv-b8f46cb1-447b-406b-bf59-ea19b9c278a8/lib/python3.10/site-packages/optuna/distributions.py:524: UserWarning: Choices for a categorical distribution should be a tuple of None, bool, int, float and str for persistent storage but contains <class 'torch.optim.adam.Adam'> which is of type type.\n",
      "  warnings.warn(message)\n",
      "/local_disk0/.ephemeral_nfs/envs/pythonEnv-b8f46cb1-447b-406b-bf59-ea19b9c278a8/lib/python3.10/site-packages/optuna/distributions.py:524: UserWarning: Choices for a categorical distribution should be a tuple of None, bool, int, float and str for persistent storage but contains <class 'torch.optim.adamw.AdamW'> which is of type type.\n",
      "  warnings.warn(message)\n",
      "/local_disk0/.ephemeral_nfs/envs/pythonEnv-b8f46cb1-447b-406b-bf59-ea19b9c278a8/lib/python3.10/site-packages/optuna/distributions.py:524: UserWarning: Choices for a categorical distribution should be a tuple of None, bool, int, float and str for persistent storage but contains (2.242021276595745, 2.1782945736434107, 1.0459057071960298, 0.46755407653910147) which is of type tuple.\n",
      "  warnings.warn(message)\n"
     ]
    },
    {
     "name": "stdout",
     "output_type": "stream",
     "text": [
      "Epoch: 1, batch_id: 0, Training Loss:  1.6114212274551392\n",
      "Validation Loss: 1.3860180377960205\n",
      "Validation loss decreased (inf --> 1.386018).\n",
      "Epoch: 2, batch_id: 0, Training Loss:  1.6844890117645264\n",
      "Validation Loss: 1.40025077925788\n",
      "Epoch: 3, batch_id: 0, Training Loss:  1.2502589225769043\n",
      "Validation Loss: 1.4147894426628398\n",
      "Epoch: 4, batch_id: 0, Training Loss:  1.4857202768325806\n",
      "Validation Loss: 1.4131780686201871\n",
      "Epoch: 5, batch_id: 0, Training Loss:  1.5386903285980225\n",
      "Validation Loss: 1.3944736410070349\n",
      "Epoch: 6, batch_id: 0, Training Loss:  1.3661231994628906\n",
      "Validation Loss: 1.38681408211037\n",
      "Epoch: 7, batch_id: 0, Training Loss:  1.3111622333526611\n"
     ]
    },
    {
     "name": "stderr",
     "output_type": "stream",
     "text": [
      "[I 2023-10-26 20:39:46,582] Trial 3 finished with value: 0.0 and parameters: {'max_len': 128, 'batch_size': 32, 'optimizer': <class 'torch.optim.adamw.AdamW'>, 'lr': 0.00021818573279306334, 'weight_decay': 0.09162482240911775, 'n_epochs': 7, 'pred_threshold': 0.5846133334950772, 'pos_weight': (2.242021276595745, 2.1782945736434107, 1.0459057071960298, 0.46755407653910147), 'dropout': 0.32871961132734484}. Best is trial 2 with value: 0.6792878412097612.\n"
     ]
    },
    {
     "name": "stdout",
     "output_type": "stream",
     "text": [
      "Validation Loss: 1.39400550171181\n",
      "F1 Score (Macro) = 0.0\n"
     ]
    },
    {
     "name": "stderr",
     "output_type": "stream",
     "text": [
      "/local_disk0/.ephemeral_nfs/envs/pythonEnv-b8f46cb1-447b-406b-bf59-ea19b9c278a8/lib/python3.10/site-packages/optuna/distributions.py:524: UserWarning: Choices for a categorical distribution should be a tuple of None, bool, int, float and str for persistent storage but contains <class 'torch.optim.adam.Adam'> which is of type type.\n",
      "  warnings.warn(message)\n",
      "/local_disk0/.ephemeral_nfs/envs/pythonEnv-b8f46cb1-447b-406b-bf59-ea19b9c278a8/lib/python3.10/site-packages/optuna/distributions.py:524: UserWarning: Choices for a categorical distribution should be a tuple of None, bool, int, float and str for persistent storage but contains <class 'torch.optim.adamw.AdamW'> which is of type type.\n",
      "  warnings.warn(message)\n",
      "/local_disk0/.ephemeral_nfs/envs/pythonEnv-b8f46cb1-447b-406b-bf59-ea19b9c278a8/lib/python3.10/site-packages/optuna/distributions.py:524: UserWarning: Choices for a categorical distribution should be a tuple of None, bool, int, float and str for persistent storage but contains (2.242021276595745, 2.1782945736434107, 1.0459057071960298, 0.46755407653910147) which is of type tuple.\n",
      "  warnings.warn(message)\n"
     ]
    },
    {
     "name": "stdout",
     "output_type": "stream",
     "text": [
      "Epoch: 1, batch_id: 0, Training Loss:  1.5001180171966553\n",
      "Validation Loss: 0.30871747540576117\n",
      "Validation loss decreased (inf --> 0.308717).\n",
      "Epoch: 2, batch_id: 0, Training Loss:  0.2504061758518219\n",
      "Validation Loss: 0.32403476642710827\n",
      "Epoch: 3, batch_id: 0, Training Loss:  0.2530062198638916\n",
      "Validation Loss: 0.2989611226533141\n",
      "Validation loss decreased (0.308717 --> 0.298961).\n",
      "Epoch: 4, batch_id: 0, Training Loss:  0.058400385081768036\n",
      "Validation Loss: 0.36820670110838755\n",
      "Epoch: 5, batch_id: 0, Training Loss:  0.05679966136813164\n"
     ]
    },
    {
     "name": "stderr",
     "output_type": "stream",
     "text": [
      "[I 2023-10-26 20:41:31,583] Trial 4 finished with value: 0.833539184945753 and parameters: {'max_len': 128, 'batch_size': 64, 'optimizer': <class 'torch.optim.adamw.AdamW'>, 'lr': 7.404316140057675e-05, 'weight_decay': 0.07071222065173641, 'n_epochs': 5, 'pred_threshold': 0.44824046711325005, 'pos_weight': (2.242021276595745, 2.1782945736434107, 1.0459057071960298, 0.46755407653910147), 'dropout': 0.019855535131188807}. Best is trial 4 with value: 0.833539184945753.\n"
     ]
    },
    {
     "name": "stdout",
     "output_type": "stream",
     "text": [
      "Validation Loss: 0.41673695828233454\n",
      "F1 Score (Macro) = 0.833539184945753\n"
     ]
    },
    {
     "name": "stderr",
     "output_type": "stream",
     "text": [
      "/local_disk0/.ephemeral_nfs/envs/pythonEnv-b8f46cb1-447b-406b-bf59-ea19b9c278a8/lib/python3.10/site-packages/optuna/distributions.py:524: UserWarning: Choices for a categorical distribution should be a tuple of None, bool, int, float and str for persistent storage but contains <class 'torch.optim.adam.Adam'> which is of type type.\n",
      "  warnings.warn(message)\n",
      "/local_disk0/.ephemeral_nfs/envs/pythonEnv-b8f46cb1-447b-406b-bf59-ea19b9c278a8/lib/python3.10/site-packages/optuna/distributions.py:524: UserWarning: Choices for a categorical distribution should be a tuple of None, bool, int, float and str for persistent storage but contains <class 'torch.optim.adamw.AdamW'> which is of type type.\n",
      "  warnings.warn(message)\n",
      "/local_disk0/.ephemeral_nfs/envs/pythonEnv-b8f46cb1-447b-406b-bf59-ea19b9c278a8/lib/python3.10/site-packages/optuna/distributions.py:524: UserWarning: Choices for a categorical distribution should be a tuple of None, bool, int, float and str for persistent storage but contains (2.242021276595745, 2.1782945736434107, 1.0459057071960298, 0.46755407653910147) which is of type tuple.\n",
      "  warnings.warn(message)\n"
     ]
    },
    {
     "name": "stdout",
     "output_type": "stream",
     "text": [
      "Epoch: 1, batch_id: 0, Training Loss:  1.3935084342956543\n",
      "Validation Loss: 0.35462136885949547\n",
      "Validation loss decreased (inf --> 0.354621).\n",
      "Epoch: 2, batch_id: 0, Training Loss:  0.36714115738868713\n",
      "Validation Loss: 0.25848974181073053\n",
      "Validation loss decreased (0.354621 --> 0.258490).\n",
      "Epoch: 3, batch_id: 0, Training Loss:  0.10285471379756927\n",
      "Validation Loss: 0.24904721230268478\n",
      "Validation loss decreased (0.258490 --> 0.249047).\n",
      "Epoch: 4, batch_id: 0, Training Loss:  0.06117868423461914\n"
     ]
    },
    {
     "name": "stderr",
     "output_type": "stream",
     "text": [
      "[I 2023-10-26 20:42:55,785] Trial 5 finished with value: 0.8165413782630108 and parameters: {'max_len': 128, 'batch_size': 64, 'optimizer': <class 'torch.optim.adamw.AdamW'>, 'lr': 2.6293770276773504e-05, 'weight_decay': 0.06394833602116515, 'n_epochs': 4, 'pred_threshold': 0.46294808736437393, 'pos_weight': None, 'dropout': 0.0005042905255400187}. Best is trial 4 with value: 0.833539184945753.\n"
     ]
    },
    {
     "name": "stdout",
     "output_type": "stream",
     "text": [
      "Validation Loss: 0.2512338273227215\n",
      "F1 Score (Macro) = 0.8165413782630108\n"
     ]
    },
    {
     "name": "stderr",
     "output_type": "stream",
     "text": [
      "/local_disk0/.ephemeral_nfs/envs/pythonEnv-b8f46cb1-447b-406b-bf59-ea19b9c278a8/lib/python3.10/site-packages/optuna/distributions.py:524: UserWarning: Choices for a categorical distribution should be a tuple of None, bool, int, float and str for persistent storage but contains <class 'torch.optim.adam.Adam'> which is of type type.\n",
      "  warnings.warn(message)\n",
      "/local_disk0/.ephemeral_nfs/envs/pythonEnv-b8f46cb1-447b-406b-bf59-ea19b9c278a8/lib/python3.10/site-packages/optuna/distributions.py:524: UserWarning: Choices for a categorical distribution should be a tuple of None, bool, int, float and str for persistent storage but contains <class 'torch.optim.adamw.AdamW'> which is of type type.\n",
      "  warnings.warn(message)\n",
      "/local_disk0/.ephemeral_nfs/envs/pythonEnv-b8f46cb1-447b-406b-bf59-ea19b9c278a8/lib/python3.10/site-packages/optuna/distributions.py:524: UserWarning: Choices for a categorical distribution should be a tuple of None, bool, int, float and str for persistent storage but contains (2.242021276595745, 2.1782945736434107, 1.0459057071960298, 0.46755407653910147) which is of type tuple.\n",
      "  warnings.warn(message)\n"
     ]
    },
    {
     "name": "stdout",
     "output_type": "stream",
     "text": [
      "Epoch: 1, batch_id: 0, Training Loss:  1.462436318397522\n",
      "Validation Loss: 0.5411401582615716\n",
      "Validation loss decreased (inf --> 0.541140).\n",
      "Epoch: 2, batch_id: 0, Training Loss:  0.5731735229492188\n",
      "Validation Loss: 0.34392042351620544\n",
      "Validation loss decreased (0.541140 --> 0.343920).\n",
      "Epoch: 3, batch_id: 0, Training Loss:  0.22076410055160522\n",
      "Validation Loss: 0.35378111260277884\n",
      "Epoch: 4, batch_id: 0, Training Loss:  0.11449871212244034\n",
      "Validation Loss: 0.3042416641754764\n",
      "Validation loss decreased (0.343920 --> 0.304242).\n",
      "Epoch: 5, batch_id: 0, Training Loss:  0.10985636711120605\n"
     ]
    },
    {
     "name": "stderr",
     "output_type": "stream",
     "text": [
      "[I 2023-10-26 20:44:40,872] Trial 6 finished with value: 0.7508023737484826 and parameters: {'max_len': 128, 'batch_size': 64, 'optimizer': <class 'torch.optim.adamw.AdamW'>, 'lr': 1.136133965023574e-05, 'weight_decay': 0.06190458734400411, 'n_epochs': 5, 'pred_threshold': 0.43282562605667785, 'pos_weight': (2.242021276595745, 2.1782945736434107, 1.0459057071960298, 0.46755407653910147), 'dropout': 0.1550713652279333}. Best is trial 4 with value: 0.833539184945753.\n"
     ]
    },
    {
     "name": "stdout",
     "output_type": "stream",
     "text": [
      "Validation Loss: 0.28963212562458857\n",
      "Validation loss decreased (0.304242 --> 0.289632).\n",
      "F1 Score (Macro) = 0.7508023737484826\n"
     ]
    },
    {
     "name": "stderr",
     "output_type": "stream",
     "text": [
      "/local_disk0/.ephemeral_nfs/envs/pythonEnv-b8f46cb1-447b-406b-bf59-ea19b9c278a8/lib/python3.10/site-packages/optuna/distributions.py:524: UserWarning: Choices for a categorical distribution should be a tuple of None, bool, int, float and str for persistent storage but contains <class 'torch.optim.adam.Adam'> which is of type type.\n",
      "  warnings.warn(message)\n",
      "/local_disk0/.ephemeral_nfs/envs/pythonEnv-b8f46cb1-447b-406b-bf59-ea19b9c278a8/lib/python3.10/site-packages/optuna/distributions.py:524: UserWarning: Choices for a categorical distribution should be a tuple of None, bool, int, float and str for persistent storage but contains <class 'torch.optim.adamw.AdamW'> which is of type type.\n",
      "  warnings.warn(message)\n",
      "/local_disk0/.ephemeral_nfs/envs/pythonEnv-b8f46cb1-447b-406b-bf59-ea19b9c278a8/lib/python3.10/site-packages/optuna/distributions.py:524: UserWarning: Choices for a categorical distribution should be a tuple of None, bool, int, float and str for persistent storage but contains (2.242021276595745, 2.1782945736434107, 1.0459057071960298, 0.46755407653910147) which is of type tuple.\n",
      "  warnings.warn(message)\n"
     ]
    },
    {
     "name": "stdout",
     "output_type": "stream",
     "text": [
      "Epoch: 1, batch_id: 0, Training Loss:  1.6322269439697266\n",
      "Validation Loss: 0.3928094346608434\n",
      "Validation loss decreased (inf --> 0.392809).\n",
      "Epoch: 2, batch_id: 0, Training Loss:  0.3400396704673767\n",
      "Validation Loss: 0.36850238697869436\n",
      "Validation loss decreased (0.392809 --> 0.368502).\n",
      "Epoch: 3, batch_id: 0, Training Loss:  0.13334152102470398\n",
      "Validation Loss: 0.3406139463186264\n",
      "Validation loss decreased (0.368502 --> 0.340614).\n",
      "Epoch: 4, batch_id: 0, Training Loss:  0.08530363440513611\n"
     ]
    },
    {
     "name": "stderr",
     "output_type": "stream",
     "text": [
      "[I 2023-10-26 20:46:05,371] Trial 7 finished with value: 0.7913821791064926 and parameters: {'max_len': 128, 'batch_size': 64, 'optimizer': <class 'torch.optim.adamw.AdamW'>, 'lr': 0.00011343584590414957, 'weight_decay': 0.07606988616438036, 'n_epochs': 4, 'pred_threshold': 0.4576432364984283, 'pos_weight': (2.242021276595745, 2.1782945736434107, 1.0459057071960298, 0.46755407653910147), 'dropout': 0.20111420795968948}. Best is trial 4 with value: 0.833539184945753.\n"
     ]
    },
    {
     "name": "stdout",
     "output_type": "stream",
     "text": [
      "Validation Loss: 0.366439693740436\n",
      "F1 Score (Macro) = 0.7913821791064926\n"
     ]
    },
    {
     "name": "stderr",
     "output_type": "stream",
     "text": [
      "/local_disk0/.ephemeral_nfs/envs/pythonEnv-b8f46cb1-447b-406b-bf59-ea19b9c278a8/lib/python3.10/site-packages/optuna/distributions.py:524: UserWarning: Choices for a categorical distribution should be a tuple of None, bool, int, float and str for persistent storage but contains <class 'torch.optim.adam.Adam'> which is of type type.\n",
      "  warnings.warn(message)\n",
      "/local_disk0/.ephemeral_nfs/envs/pythonEnv-b8f46cb1-447b-406b-bf59-ea19b9c278a8/lib/python3.10/site-packages/optuna/distributions.py:524: UserWarning: Choices for a categorical distribution should be a tuple of None, bool, int, float and str for persistent storage but contains <class 'torch.optim.adamw.AdamW'> which is of type type.\n",
      "  warnings.warn(message)\n",
      "/local_disk0/.ephemeral_nfs/envs/pythonEnv-b8f46cb1-447b-406b-bf59-ea19b9c278a8/lib/python3.10/site-packages/optuna/distributions.py:524: UserWarning: Choices for a categorical distribution should be a tuple of None, bool, int, float and str for persistent storage but contains (2.242021276595745, 2.1782945736434107, 1.0459057071960298, 0.46755407653910147) which is of type tuple.\n",
      "  warnings.warn(message)\n"
     ]
    },
    {
     "name": "stdout",
     "output_type": "stream",
     "text": [
      "Epoch: 1, batch_id: 0, Training Loss:  1.4146802425384521\n",
      "Validation Loss: 0.31219931053263794\n",
      "Validation loss decreased (inf --> 0.312199).\n",
      "Epoch: 2, batch_id: 0, Training Loss:  0.3026081621646881\n",
      "Validation Loss: 0.32725270411797935\n",
      "Epoch: 3, batch_id: 0, Training Loss:  0.16742423176765442\n",
      "Validation Loss: 0.33161068175520214\n",
      "Epoch: 4, batch_id: 0, Training Loss:  0.19575166702270508\n",
      "Validation Loss: 0.3259335224117551\n",
      "Epoch: 5, batch_id: 0, Training Loss:  0.20187048614025116\n",
      "Validation Loss: 0.43358932009765083\n",
      "Epoch: 6, batch_id: 0, Training Loss:  0.30418962240219116\n",
      "Validation Loss: 0.3323793826358659\n",
      "Epoch: 7, batch_id: 0, Training Loss:  0.2707141041755676\n",
      "Validation Loss: 0.38393164638962063\n",
      "Epoch: 8, batch_id: 0, Training Loss:  0.2609424293041229\n"
     ]
    },
    {
     "name": "stderr",
     "output_type": "stream",
     "text": [
      "[I 2023-10-26 20:48:52,568] Trial 8 finished with value: 0.6963138987934957 and parameters: {'max_len': 128, 'batch_size': 64, 'optimizer': <class 'torch.optim.adam.Adam'>, 'lr': 9.863009168830766e-05, 'weight_decay': 0.03971794426456192, 'n_epochs': 8, 'pred_threshold': 0.39879768980251873, 'pos_weight': None, 'dropout': 0.0003584440927244456}. Best is trial 4 with value: 0.833539184945753.\n"
     ]
    },
    {
     "name": "stdout",
     "output_type": "stream",
     "text": [
      "Validation Loss: 0.47406129432576044\n",
      "F1 Score (Macro) = 0.6963138987934957\n"
     ]
    },
    {
     "name": "stderr",
     "output_type": "stream",
     "text": [
      "/local_disk0/.ephemeral_nfs/envs/pythonEnv-b8f46cb1-447b-406b-bf59-ea19b9c278a8/lib/python3.10/site-packages/optuna/distributions.py:524: UserWarning: Choices for a categorical distribution should be a tuple of None, bool, int, float and str for persistent storage but contains <class 'torch.optim.adam.Adam'> which is of type type.\n",
      "  warnings.warn(message)\n",
      "/local_disk0/.ephemeral_nfs/envs/pythonEnv-b8f46cb1-447b-406b-bf59-ea19b9c278a8/lib/python3.10/site-packages/optuna/distributions.py:524: UserWarning: Choices for a categorical distribution should be a tuple of None, bool, int, float and str for persistent storage but contains <class 'torch.optim.adamw.AdamW'> which is of type type.\n",
      "  warnings.warn(message)\n",
      "/local_disk0/.ephemeral_nfs/envs/pythonEnv-b8f46cb1-447b-406b-bf59-ea19b9c278a8/lib/python3.10/site-packages/optuna/distributions.py:524: UserWarning: Choices for a categorical distribution should be a tuple of None, bool, int, float and str for persistent storage but contains (2.242021276595745, 2.1782945736434107, 1.0459057071960298, 0.46755407653910147) which is of type tuple.\n",
      "  warnings.warn(message)\n"
     ]
    },
    {
     "name": "stdout",
     "output_type": "stream",
     "text": [
      "Epoch: 1, batch_id: 0, Training Loss:  1.5482752323150635\n",
      "Validation Loss: 0.4474468252488545\n",
      "Validation loss decreased (inf --> 0.447447).\n",
      "Epoch: 2, batch_id: 0, Training Loss:  0.4621189534664154\n",
      "Validation Loss: 0.38125168638569973\n",
      "Validation loss decreased (0.447447 --> 0.381252).\n",
      "Epoch: 3, batch_id: 0, Training Loss:  0.184409961104393\n",
      "Validation Loss: 0.3236986882984639\n",
      "Validation loss decreased (0.381252 --> 0.323699).\n",
      "Epoch: 4, batch_id: 0, Training Loss:  0.09350299835205078\n",
      "Validation Loss: 0.3850560794983591\n",
      "Epoch: 5, batch_id: 0, Training Loss:  0.12960770726203918\n"
     ]
    },
    {
     "name": "stderr",
     "output_type": "stream",
     "text": [
      "[I 2023-10-26 20:50:37,652] Trial 9 finished with value: 0.72397660561843 and parameters: {'max_len': 128, 'batch_size': 64, 'optimizer': <class 'torch.optim.adamw.AdamW'>, 'lr': 0.00011322870736596475, 'weight_decay': 0.07443163298340727, 'n_epochs': 5, 'pred_threshold': 0.4779792731610181, 'pos_weight': (2.242021276595745, 2.1782945736434107, 1.0459057071960298, 0.46755407653910147), 'dropout': 0.2327827167599796}. Best is trial 4 with value: 0.833539184945753.\n"
     ]
    },
    {
     "name": "stdout",
     "output_type": "stream",
     "text": [
      "Validation Loss: 0.38761932935033533\n",
      "F1 Score (Macro) = 0.72397660561843\n"
     ]
    },
    {
     "name": "stderr",
     "output_type": "stream",
     "text": [
      "/local_disk0/.ephemeral_nfs/envs/pythonEnv-b8f46cb1-447b-406b-bf59-ea19b9c278a8/lib/python3.10/site-packages/optuna/distributions.py:524: UserWarning: Choices for a categorical distribution should be a tuple of None, bool, int, float and str for persistent storage but contains <class 'torch.optim.adam.Adam'> which is of type type.\n",
      "  warnings.warn(message)\n",
      "/local_disk0/.ephemeral_nfs/envs/pythonEnv-b8f46cb1-447b-406b-bf59-ea19b9c278a8/lib/python3.10/site-packages/optuna/distributions.py:524: UserWarning: Choices for a categorical distribution should be a tuple of None, bool, int, float and str for persistent storage but contains <class 'torch.optim.adamw.AdamW'> which is of type type.\n",
      "  warnings.warn(message)\n",
      "/local_disk0/.ephemeral_nfs/envs/pythonEnv-b8f46cb1-447b-406b-bf59-ea19b9c278a8/lib/python3.10/site-packages/optuna/distributions.py:524: UserWarning: Choices for a categorical distribution should be a tuple of None, bool, int, float and str for persistent storage but contains (2.242021276595745, 2.1782945736434107, 1.0459057071960298, 0.46755407653910147) which is of type tuple.\n",
      "  warnings.warn(message)\n"
     ]
    },
    {
     "name": "stdout",
     "output_type": "stream",
     "text": [
      "Epoch: 1, batch_id: 0, Training Loss:  1.3578813076019287\n",
      "Validation Loss: 0.648963777003465\n",
      "Validation loss decreased (inf --> 0.648964).\n",
      "Epoch: 2, batch_id: 0, Training Loss:  0.7609120011329651\n",
      "Validation Loss: 0.7482583147508126\n",
      "Epoch: 3, batch_id: 0, Training Loss:  0.4176456928253174\n"
     ]
    },
    {
     "name": "stderr",
     "output_type": "stream",
     "text": [
      "[I 2023-10-26 20:51:44,654] Trial 10 finished with value: 0.6355711720283248 and parameters: {'max_len': 128, 'batch_size': 32, 'optimizer': <class 'torch.optim.adam.Adam'>, 'lr': 0.00021209814266304062, 'weight_decay': 0.0462251646842735, 'n_epochs': 3, 'pred_threshold': 0.5153456050569493, 'pos_weight': None, 'dropout': 0.12599288628717617}. Best is trial 4 with value: 0.833539184945753.\n"
     ]
    },
    {
     "name": "stdout",
     "output_type": "stream",
     "text": [
      "Validation Loss: 0.5199263548409497\n",
      "Validation loss decreased (0.648964 --> 0.519926).\n",
      "F1 Score (Macro) = 0.6355711720283248\n"
     ]
    },
    {
     "name": "stderr",
     "output_type": "stream",
     "text": [
      "/local_disk0/.ephemeral_nfs/envs/pythonEnv-b8f46cb1-447b-406b-bf59-ea19b9c278a8/lib/python3.10/site-packages/optuna/distributions.py:524: UserWarning: Choices for a categorical distribution should be a tuple of None, bool, int, float and str for persistent storage but contains <class 'torch.optim.adam.Adam'> which is of type type.\n",
      "  warnings.warn(message)\n",
      "/local_disk0/.ephemeral_nfs/envs/pythonEnv-b8f46cb1-447b-406b-bf59-ea19b9c278a8/lib/python3.10/site-packages/optuna/distributions.py:524: UserWarning: Choices for a categorical distribution should be a tuple of None, bool, int, float and str for persistent storage but contains <class 'torch.optim.adamw.AdamW'> which is of type type.\n",
      "  warnings.warn(message)\n",
      "/local_disk0/.ephemeral_nfs/envs/pythonEnv-b8f46cb1-447b-406b-bf59-ea19b9c278a8/lib/python3.10/site-packages/optuna/distributions.py:524: UserWarning: Choices for a categorical distribution should be a tuple of None, bool, int, float and str for persistent storage but contains (2.242021276595745, 2.1782945736434107, 1.0459057071960298, 0.46755407653910147) which is of type tuple.\n",
      "  warnings.warn(message)\n"
     ]
    },
    {
     "name": "stdout",
     "output_type": "stream",
     "text": [
      "Epoch: 1, batch_id: 0, Training Loss:  1.3458575010299683\n",
      "Validation Loss: 0.3449640896703516\n",
      "Validation loss decreased (inf --> 0.344964).\n",
      "Epoch: 2, batch_id: 0, Training Loss:  0.35398709774017334\n",
      "Validation Loss: 0.25309992049421587\n",
      "Validation loss decreased (0.344964 --> 0.253100).\n",
      "Epoch: 3, batch_id: 0, Training Loss:  0.08999602496623993\n",
      "Validation Loss: 0.2660609590155738\n",
      "Epoch: 4, batch_id: 0, Training Loss:  0.04650454223155975\n"
     ]
    },
    {
     "name": "stderr",
     "output_type": "stream",
     "text": [
      "[I 2023-10-26 20:53:08,955] Trial 11 finished with value: 0.7836391333784699 and parameters: {'max_len': 128, 'batch_size': 64, 'optimizer': <class 'torch.optim.adamw.AdamW'>, 'lr': 2.0445182678867352e-05, 'weight_decay': 0.06518943036887243, 'n_epochs': 4, 'pred_threshold': 0.4004532515094353, 'pos_weight': None, 'dropout': 0.023369933788047866}. Best is trial 4 with value: 0.833539184945753.\n"
     ]
    },
    {
     "name": "stdout",
     "output_type": "stream",
     "text": [
      "Validation Loss: 0.2552054151892662\n",
      "F1 Score (Macro) = 0.7836391333784699\n"
     ]
    },
    {
     "name": "stderr",
     "output_type": "stream",
     "text": [
      "/local_disk0/.ephemeral_nfs/envs/pythonEnv-b8f46cb1-447b-406b-bf59-ea19b9c278a8/lib/python3.10/site-packages/optuna/distributions.py:524: UserWarning: Choices for a categorical distribution should be a tuple of None, bool, int, float and str for persistent storage but contains <class 'torch.optim.adam.Adam'> which is of type type.\n",
      "  warnings.warn(message)\n",
      "/local_disk0/.ephemeral_nfs/envs/pythonEnv-b8f46cb1-447b-406b-bf59-ea19b9c278a8/lib/python3.10/site-packages/optuna/distributions.py:524: UserWarning: Choices for a categorical distribution should be a tuple of None, bool, int, float and str for persistent storage but contains <class 'torch.optim.adamw.AdamW'> which is of type type.\n",
      "  warnings.warn(message)\n",
      "/local_disk0/.ephemeral_nfs/envs/pythonEnv-b8f46cb1-447b-406b-bf59-ea19b9c278a8/lib/python3.10/site-packages/optuna/distributions.py:524: UserWarning: Choices for a categorical distribution should be a tuple of None, bool, int, float and str for persistent storage but contains (2.242021276595745, 2.1782945736434107, 1.0459057071960298, 0.46755407653910147) which is of type tuple.\n",
      "  warnings.warn(message)\n"
     ]
    },
    {
     "name": "stdout",
     "output_type": "stream",
     "text": [
      "Epoch: 1, batch_id: 0, Training Loss:  1.4170558452606201\n",
      "Validation Loss: 0.2686879070741789\n",
      "Validation loss decreased (inf --> 0.268688).\n",
      "Epoch: 2, batch_id: 0, Training Loss:  0.22715406119823456\n",
      "Validation Loss: 0.25259698395218166\n",
      "Validation loss decreased (0.268688 --> 0.252597).\n",
      "Epoch: 3, batch_id: 0, Training Loss:  0.06161312013864517\n",
      "Validation Loss: 0.30400405717747553\n",
      "Epoch: 4, batch_id: 0, Training Loss:  0.07696433365345001\n",
      "Validation Loss: 0.303014085228954\n",
      "Epoch: 5, batch_id: 0, Training Loss:  0.13795286417007446\n",
      "Validation Loss: 0.3290892307247434\n",
      "Epoch: 6, batch_id: 0, Training Loss:  0.021063290536403656\n"
     ]
    },
    {
     "name": "stderr",
     "output_type": "stream",
     "text": [
      "[I 2023-10-26 20:55:15,138] Trial 12 finished with value: 0.8323950846001721 and parameters: {'max_len': 128, 'batch_size': 64, 'optimizer': <class 'torch.optim.adamw.AdamW'>, 'lr': 5.7718418744101004e-05, 'weight_decay': 0.05830934887771915, 'n_epochs': 6, 'pred_threshold': 0.5138626116959413, 'pos_weight': None, 'dropout': 0.004188929109411509}. Best is trial 4 with value: 0.833539184945753.\n"
     ]
    },
    {
     "name": "stdout",
     "output_type": "stream",
     "text": [
      "Validation Loss: 0.3347216940351895\n",
      "F1 Score (Macro) = 0.8323950846001721\n"
     ]
    },
    {
     "name": "stderr",
     "output_type": "stream",
     "text": [
      "/local_disk0/.ephemeral_nfs/envs/pythonEnv-b8f46cb1-447b-406b-bf59-ea19b9c278a8/lib/python3.10/site-packages/optuna/distributions.py:524: UserWarning: Choices for a categorical distribution should be a tuple of None, bool, int, float and str for persistent storage but contains <class 'torch.optim.adam.Adam'> which is of type type.\n",
      "  warnings.warn(message)\n",
      "/local_disk0/.ephemeral_nfs/envs/pythonEnv-b8f46cb1-447b-406b-bf59-ea19b9c278a8/lib/python3.10/site-packages/optuna/distributions.py:524: UserWarning: Choices for a categorical distribution should be a tuple of None, bool, int, float and str for persistent storage but contains <class 'torch.optim.adamw.AdamW'> which is of type type.\n",
      "  warnings.warn(message)\n",
      "/local_disk0/.ephemeral_nfs/envs/pythonEnv-b8f46cb1-447b-406b-bf59-ea19b9c278a8/lib/python3.10/site-packages/optuna/distributions.py:524: UserWarning: Choices for a categorical distribution should be a tuple of None, bool, int, float and str for persistent storage but contains (2.242021276595745, 2.1782945736434107, 1.0459057071960298, 0.46755407653910147) which is of type tuple.\n",
      "  warnings.warn(message)\n"
     ]
    },
    {
     "name": "stdout",
     "output_type": "stream",
     "text": [
      "Epoch: 1, batch_id: 0, Training Loss:  1.4697681665420532\n",
      "Validation Loss: 0.3248633103711265\n",
      "Validation loss decreased (inf --> 0.324863).\n",
      "Epoch: 2, batch_id: 0, Training Loss:  0.32743126153945923\n",
      "Validation Loss: 0.2826417141727039\n",
      "Validation loss decreased (0.324863 --> 0.282642).\n",
      "Epoch: 3, batch_id: 0, Training Loss:  0.12598678469657898\n",
      "Validation Loss: 0.2560515031218529\n",
      "Validation loss decreased (0.282642 --> 0.256052).\n",
      "Epoch: 4, batch_id: 0, Training Loss:  0.07309100031852722\n",
      "Validation Loss: 0.32126688744340626\n",
      "Epoch: 5, batch_id: 0, Training Loss:  0.025450151413679123\n",
      "Validation Loss: 0.405750361936433\n",
      "Epoch: 6, batch_id: 0, Training Loss:  0.03928804397583008\n"
     ]
    },
    {
     "name": "stderr",
     "output_type": "stream",
     "text": [
      "[I 2023-10-26 20:57:21,492] Trial 13 finished with value: 0.8320828376944298 and parameters: {'max_len': 128, 'batch_size': 64, 'optimizer': <class 'torch.optim.adamw.AdamW'>, 'lr': 8.246217019939104e-05, 'weight_decay': 0.0533609679919179, 'n_epochs': 6, 'pred_threshold': 0.5206633142342406, 'pos_weight': None, 'dropout': 0.08850673364241787}. Best is trial 4 with value: 0.833539184945753.\n"
     ]
    },
    {
     "name": "stdout",
     "output_type": "stream",
     "text": [
      "Validation Loss: 0.40926848884139744\n",
      "F1 Score (Macro) = 0.8320828376944298\n"
     ]
    },
    {
     "name": "stderr",
     "output_type": "stream",
     "text": [
      "/local_disk0/.ephemeral_nfs/envs/pythonEnv-b8f46cb1-447b-406b-bf59-ea19b9c278a8/lib/python3.10/site-packages/optuna/distributions.py:524: UserWarning: Choices for a categorical distribution should be a tuple of None, bool, int, float and str for persistent storage but contains <class 'torch.optim.adam.Adam'> which is of type type.\n",
      "  warnings.warn(message)\n",
      "/local_disk0/.ephemeral_nfs/envs/pythonEnv-b8f46cb1-447b-406b-bf59-ea19b9c278a8/lib/python3.10/site-packages/optuna/distributions.py:524: UserWarning: Choices for a categorical distribution should be a tuple of None, bool, int, float and str for persistent storage but contains <class 'torch.optim.adamw.AdamW'> which is of type type.\n",
      "  warnings.warn(message)\n",
      "/local_disk0/.ephemeral_nfs/envs/pythonEnv-b8f46cb1-447b-406b-bf59-ea19b9c278a8/lib/python3.10/site-packages/optuna/distributions.py:524: UserWarning: Choices for a categorical distribution should be a tuple of None, bool, int, float and str for persistent storage but contains (2.242021276595745, 2.1782945736434107, 1.0459057071960298, 0.46755407653910147) which is of type tuple.\n",
      "  warnings.warn(message)\n"
     ]
    },
    {
     "name": "stdout",
     "output_type": "stream",
     "text": [
      "Epoch: 1, batch_id: 0, Training Loss:  1.5233230590820312\n",
      "Validation Loss: 0.37843193113803864\n",
      "Validation loss decreased (inf --> 0.378432).\n",
      "Epoch: 2, batch_id: 0, Training Loss:  0.35721126198768616\n",
      "Validation Loss: 0.3192745330078261\n",
      "Validation loss decreased (0.378432 --> 0.319275).\n",
      "Epoch: 3, batch_id: 0, Training Loss:  0.1652277112007141\n",
      "Validation Loss: 0.33814194425940514\n",
      "Epoch: 4, batch_id: 0, Training Loss:  0.0935547947883606\n",
      "Validation Loss: 0.35298502338784077\n",
      "Epoch: 5, batch_id: 0, Training Loss:  0.06210114061832428\n",
      "Validation Loss: 0.3938551981534277\n",
      "Epoch: 6, batch_id: 0, Training Loss:  0.07515771687030792\n"
     ]
    },
    {
     "name": "stderr",
     "output_type": "stream",
     "text": [
      "[I 2023-10-26 20:59:27,604] Trial 14 finished with value: 0.7950210767859887 and parameters: {'max_len': 128, 'batch_size': 64, 'optimizer': <class 'torch.optim.adamw.AdamW'>, 'lr': 7.150902172798073e-05, 'weight_decay': 0.08069232465961731, 'n_epochs': 6, 'pred_threshold': 0.5022896450695422, 'pos_weight': (2.242021276595745, 2.1782945736434107, 1.0459057071960298, 0.46755407653910147), 'dropout': 0.09735771382762085}. Best is trial 4 with value: 0.833539184945753.\n"
     ]
    },
    {
     "name": "stdout",
     "output_type": "stream",
     "text": [
      "Validation Loss: 0.41349683701992035\n",
      "F1 Score (Macro) = 0.7950210767859887\n"
     ]
    },
    {
     "name": "stderr",
     "output_type": "stream",
     "text": [
      "/local_disk0/.ephemeral_nfs/envs/pythonEnv-b8f46cb1-447b-406b-bf59-ea19b9c278a8/lib/python3.10/site-packages/optuna/distributions.py:524: UserWarning: Choices for a categorical distribution should be a tuple of None, bool, int, float and str for persistent storage but contains <class 'torch.optim.adam.Adam'> which is of type type.\n",
      "  warnings.warn(message)\n",
      "/local_disk0/.ephemeral_nfs/envs/pythonEnv-b8f46cb1-447b-406b-bf59-ea19b9c278a8/lib/python3.10/site-packages/optuna/distributions.py:524: UserWarning: Choices for a categorical distribution should be a tuple of None, bool, int, float and str for persistent storage but contains <class 'torch.optim.adamw.AdamW'> which is of type type.\n",
      "  warnings.warn(message)\n",
      "/local_disk0/.ephemeral_nfs/envs/pythonEnv-b8f46cb1-447b-406b-bf59-ea19b9c278a8/lib/python3.10/site-packages/optuna/distributions.py:524: UserWarning: Choices for a categorical distribution should be a tuple of None, bool, int, float and str for persistent storage but contains (2.242021276595745, 2.1782945736434107, 1.0459057071960298, 0.46755407653910147) which is of type tuple.\n",
      "  warnings.warn(message)\n"
     ]
    },
    {
     "name": "stdout",
     "output_type": "stream",
     "text": [
      "Epoch: 1, batch_id: 0, Training Loss:  1.455475926399231\n",
      "Validation Loss: 0.40597689683948246\n",
      "Validation loss decreased (inf --> 0.405977).\n",
      "Epoch: 2, batch_id: 0, Training Loss:  0.3853582739830017\n",
      "Validation Loss: 0.35076800840241573\n",
      "Validation loss decreased (0.405977 --> 0.350768).\n",
      "Epoch: 3, batch_id: 0, Training Loss:  0.13234567642211914\n",
      "Validation Loss: 0.3500069880059787\n",
      "Validation loss decreased (0.350768 --> 0.350007).\n",
      "Epoch: 4, batch_id: 0, Training Loss:  0.09111130237579346\n",
      "Validation Loss: 0.38343965262174606\n",
      "Epoch: 5, batch_id: 0, Training Loss:  0.12304380536079407\n",
      "Validation Loss: 0.6042602381535939\n",
      "Epoch: 6, batch_id: 0, Training Loss:  0.19505059719085693\n"
     ]
    },
    {
     "name": "stderr",
     "output_type": "stream",
     "text": [
      "[I 2023-10-26 21:01:33,616] Trial 15 finished with value: 0.7972744578545176 and parameters: {'max_len': 128, 'batch_size': 64, 'optimizer': <class 'torch.optim.adamw.AdamW'>, 'lr': 0.0001598442877977317, 'weight_decay': 0.030358454855414874, 'n_epochs': 6, 'pred_threshold': 0.5283463270807652, 'pos_weight': None, 'dropout': 0.1890491129951202}. Best is trial 4 with value: 0.833539184945753.\n"
     ]
    },
    {
     "name": "stdout",
     "output_type": "stream",
     "text": [
      "Validation Loss: 0.4437131317598479\n",
      "F1 Score (Macro) = 0.7972744578545176\n"
     ]
    },
    {
     "name": "stderr",
     "output_type": "stream",
     "text": [
      "/local_disk0/.ephemeral_nfs/envs/pythonEnv-b8f46cb1-447b-406b-bf59-ea19b9c278a8/lib/python3.10/site-packages/optuna/distributions.py:524: UserWarning: Choices for a categorical distribution should be a tuple of None, bool, int, float and str for persistent storage but contains <class 'torch.optim.adam.Adam'> which is of type type.\n",
      "  warnings.warn(message)\n",
      "/local_disk0/.ephemeral_nfs/envs/pythonEnv-b8f46cb1-447b-406b-bf59-ea19b9c278a8/lib/python3.10/site-packages/optuna/distributions.py:524: UserWarning: Choices for a categorical distribution should be a tuple of None, bool, int, float and str for persistent storage but contains <class 'torch.optim.adamw.AdamW'> which is of type type.\n",
      "  warnings.warn(message)\n",
      "/local_disk0/.ephemeral_nfs/envs/pythonEnv-b8f46cb1-447b-406b-bf59-ea19b9c278a8/lib/python3.10/site-packages/optuna/distributions.py:524: UserWarning: Choices for a categorical distribution should be a tuple of None, bool, int, float and str for persistent storage but contains (2.242021276595745, 2.1782945736434107, 1.0459057071960298, 0.46755407653910147) which is of type tuple.\n",
      "  warnings.warn(message)\n"
     ]
    },
    {
     "name": "stdout",
     "output_type": "stream",
     "text": [
      "Epoch: 1, batch_id: 0, Training Loss:  1.451263666152954\n",
      "Validation Loss: 0.3311465489012855\n",
      "Validation loss decreased (inf --> 0.331147).\n",
      "Epoch: 2, batch_id: 0, Training Loss:  0.2548491358757019\n",
      "Validation Loss: 0.34658022171684677\n",
      "Epoch: 3, batch_id: 0, Training Loss:  0.10660652071237564\n",
      "Validation Loss: 0.3331595765692847\n",
      "Epoch: 4, batch_id: 0, Training Loss:  0.06459116190671921\n",
      "Validation Loss: 0.28294359307203976\n",
      "Validation loss decreased (0.331147 --> 0.282944).\n",
      "Epoch: 5, batch_id: 0, Training Loss:  0.0867721289396286\n",
      "Validation Loss: 0.4959621663604464\n",
      "Epoch: 6, batch_id: 0, Training Loss:  0.05628225952386856\n",
      "Validation Loss: 0.40468574155654224\n",
      "Epoch: 7, batch_id: 0, Training Loss:  0.05415549501776695\n",
      "Validation Loss: 0.5116495734878949\n",
      "Epoch: 8, batch_id: 0, Training Loss:  0.004344717133790255\n"
     ]
    },
    {
     "name": "stderr",
     "output_type": "stream",
     "text": [
      "[I 2023-10-26 21:04:21,355] Trial 16 finished with value: 0.8044816330206688 and parameters: {'max_len': 128, 'batch_size': 64, 'optimizer': <class 'torch.optim.adamw.AdamW'>, 'lr': 0.00014509983766118782, 'weight_decay': 0.054676034888416256, 'n_epochs': 8, 'pred_threshold': 0.552526366807257, 'pos_weight': None, 'dropout': 0.284682856831649}. Best is trial 4 with value: 0.833539184945753.\n"
     ]
    },
    {
     "name": "stdout",
     "output_type": "stream",
     "text": [
      "Validation Loss: 0.45800994975226267\n",
      "F1 Score (Macro) = 0.8044816330206688\n"
     ]
    },
    {
     "name": "stderr",
     "output_type": "stream",
     "text": [
      "/local_disk0/.ephemeral_nfs/envs/pythonEnv-b8f46cb1-447b-406b-bf59-ea19b9c278a8/lib/python3.10/site-packages/optuna/distributions.py:524: UserWarning: Choices for a categorical distribution should be a tuple of None, bool, int, float and str for persistent storage but contains <class 'torch.optim.adam.Adam'> which is of type type.\n",
      "  warnings.warn(message)\n",
      "/local_disk0/.ephemeral_nfs/envs/pythonEnv-b8f46cb1-447b-406b-bf59-ea19b9c278a8/lib/python3.10/site-packages/optuna/distributions.py:524: UserWarning: Choices for a categorical distribution should be a tuple of None, bool, int, float and str for persistent storage but contains <class 'torch.optim.adamw.AdamW'> which is of type type.\n",
      "  warnings.warn(message)\n",
      "/local_disk0/.ephemeral_nfs/envs/pythonEnv-b8f46cb1-447b-406b-bf59-ea19b9c278a8/lib/python3.10/site-packages/optuna/distributions.py:524: UserWarning: Choices for a categorical distribution should be a tuple of None, bool, int, float and str for persistent storage but contains (2.242021276595745, 2.1782945736434107, 1.0459057071960298, 0.46755407653910147) which is of type tuple.\n",
      "  warnings.warn(message)\n"
     ]
    },
    {
     "name": "stdout",
     "output_type": "stream",
     "text": [
      "Epoch: 1, batch_id: 0, Training Loss:  1.5468353033065796\n",
      "Validation Loss: 0.4048457933323724\n",
      "Validation loss decreased (inf --> 0.404846).\n",
      "Epoch: 2, batch_id: 0, Training Loss:  0.3987513780593872\n",
      "Validation Loss: 0.3603315544979913\n",
      "Validation loss decreased (0.404846 --> 0.360332).\n",
      "Epoch: 3, batch_id: 0, Training Loss:  0.19617778062820435\n"
     ]
    },
    {
     "name": "stderr",
     "output_type": "stream",
     "text": [
      "[I 2023-10-26 21:05:24,953] Trial 17 finished with value: 0.7745495906575453 and parameters: {'max_len': 128, 'batch_size': 64, 'optimizer': <class 'torch.optim.adamw.AdamW'>, 'lr': 4.678820053593776e-05, 'weight_decay': 0.08418466661145904, 'n_epochs': 3, 'pred_threshold': 0.48046983476444466, 'pos_weight': (2.242021276595745, 2.1782945736434107, 1.0459057071960298, 0.46755407653910147), 'dropout': 0.07557234190646156}. Best is trial 4 with value: 0.833539184945753.\n"
     ]
    },
    {
     "name": "stdout",
     "output_type": "stream",
     "text": [
      "Validation Loss: 0.3560596640620913\n",
      "Validation loss decreased (0.360332 --> 0.356060).\n",
      "F1 Score (Macro) = 0.7745495906575453\n"
     ]
    },
    {
     "name": "stderr",
     "output_type": "stream",
     "text": [
      "/local_disk0/.ephemeral_nfs/envs/pythonEnv-b8f46cb1-447b-406b-bf59-ea19b9c278a8/lib/python3.10/site-packages/optuna/distributions.py:524: UserWarning: Choices for a categorical distribution should be a tuple of None, bool, int, float and str for persistent storage but contains <class 'torch.optim.adam.Adam'> which is of type type.\n",
      "  warnings.warn(message)\n",
      "/local_disk0/.ephemeral_nfs/envs/pythonEnv-b8f46cb1-447b-406b-bf59-ea19b9c278a8/lib/python3.10/site-packages/optuna/distributions.py:524: UserWarning: Choices for a categorical distribution should be a tuple of None, bool, int, float and str for persistent storage but contains <class 'torch.optim.adamw.AdamW'> which is of type type.\n",
      "  warnings.warn(message)\n",
      "/local_disk0/.ephemeral_nfs/envs/pythonEnv-b8f46cb1-447b-406b-bf59-ea19b9c278a8/lib/python3.10/site-packages/optuna/distributions.py:524: UserWarning: Choices for a categorical distribution should be a tuple of None, bool, int, float and str for persistent storage but contains (2.242021276595745, 2.1782945736434107, 1.0459057071960298, 0.46755407653910147) which is of type tuple.\n",
      "  warnings.warn(message)\n"
     ]
    },
    {
     "name": "stdout",
     "output_type": "stream",
     "text": [
      "Epoch: 1, batch_id: 0, Training Loss:  1.33132004737854\n",
      "Validation Loss: 0.35147449760525307\n",
      "Validation loss decreased (inf --> 0.351474).\n",
      "Epoch: 2, batch_id: 0, Training Loss:  0.43396323919296265\n",
      "Validation Loss: 0.34638942778110504\n",
      "Validation loss decreased (0.351474 --> 0.346389).\n",
      "Epoch: 3, batch_id: 0, Training Loss:  0.11742929369211197\n",
      "Validation Loss: 0.36470598589490955\n",
      "Epoch: 4, batch_id: 0, Training Loss:  0.21328313648700714\n",
      "Validation Loss: 0.37190575069851345\n",
      "Epoch: 5, batch_id: 0, Training Loss:  0.3442346453666687\n",
      "Validation Loss: 0.3811073805446978\n",
      "Epoch: 6, batch_id: 0, Training Loss:  0.1699095219373703\n",
      "Validation Loss: 0.37231286090833177\n",
      "Epoch: 7, batch_id: 0, Training Loss:  0.2327701598405838\n"
     ]
    },
    {
     "name": "stderr",
     "output_type": "stream",
     "text": [
      "[I 2023-10-26 21:07:59,853] Trial 18 finished with value: 0.6036807931636783 and parameters: {'max_len': 128, 'batch_size': 32, 'optimizer': <class 'torch.optim.adam.Adam'>, 'lr': 5.891322718210161e-05, 'weight_decay': 0.06911409460509066, 'n_epochs': 7, 'pred_threshold': 0.43491764886374135, 'pos_weight': None, 'dropout': 0.140776673790016}. Best is trial 4 with value: 0.833539184945753.\n"
     ]
    },
    {
     "name": "stdout",
     "output_type": "stream",
     "text": [
      "Validation Loss: 0.5315450772091196\n",
      "F1 Score (Macro) = 0.6036807931636783\n"
     ]
    },
    {
     "name": "stderr",
     "output_type": "stream",
     "text": [
      "/local_disk0/.ephemeral_nfs/envs/pythonEnv-b8f46cb1-447b-406b-bf59-ea19b9c278a8/lib/python3.10/site-packages/optuna/distributions.py:524: UserWarning: Choices for a categorical distribution should be a tuple of None, bool, int, float and str for persistent storage but contains <class 'torch.optim.adam.Adam'> which is of type type.\n",
      "  warnings.warn(message)\n",
      "/local_disk0/.ephemeral_nfs/envs/pythonEnv-b8f46cb1-447b-406b-bf59-ea19b9c278a8/lib/python3.10/site-packages/optuna/distributions.py:524: UserWarning: Choices for a categorical distribution should be a tuple of None, bool, int, float and str for persistent storage but contains <class 'torch.optim.adamw.AdamW'> which is of type type.\n",
      "  warnings.warn(message)\n",
      "/local_disk0/.ephemeral_nfs/envs/pythonEnv-b8f46cb1-447b-406b-bf59-ea19b9c278a8/lib/python3.10/site-packages/optuna/distributions.py:524: UserWarning: Choices for a categorical distribution should be a tuple of None, bool, int, float and str for persistent storage but contains (2.242021276595745, 2.1782945736434107, 1.0459057071960298, 0.46755407653910147) which is of type tuple.\n",
      "  warnings.warn(message)\n"
     ]
    },
    {
     "name": "stdout",
     "output_type": "stream",
     "text": [
      "Epoch: 1, batch_id: 0, Training Loss:  1.4997118711471558\n",
      "Validation Loss: 0.40812833181449343\n",
      "Validation loss decreased (inf --> 0.408128).\n",
      "Epoch: 2, batch_id: 0, Training Loss:  0.33915501832962036\n",
      "Validation Loss: 0.41313333277191433\n",
      "Epoch: 3, batch_id: 0, Training Loss:  0.2685280442237854\n",
      "Validation Loss: 0.44563062914780205\n",
      "Epoch: 4, batch_id: 0, Training Loss:  0.16497300565242767\n",
      "Validation Loss: 0.34760605330978117\n",
      "Validation loss decreased (0.408128 --> 0.347606).\n",
      "Epoch: 5, batch_id: 0, Training Loss:  0.2302575707435608\n"
     ]
    },
    {
     "name": "stderr",
     "output_type": "stream",
     "text": [
      "[I 2023-10-26 21:09:45,032] Trial 19 finished with value: 0.8213997690786201 and parameters: {'max_len': 128, 'batch_size': 64, 'optimizer': <class 'torch.optim.adamw.AdamW'>, 'lr': 0.0001168028361289839, 'weight_decay': 0.08659730108809818, 'n_epochs': 5, 'pred_threshold': 0.5536430298088009, 'pos_weight': (2.242021276595745, 2.1782945736434107, 1.0459057071960298, 0.46755407653910147), 'dropout': 0.052972590932764754}. Best is trial 4 with value: 0.833539184945753.\n"
     ]
    },
    {
     "name": "stdout",
     "output_type": "stream",
     "text": [
      "Validation Loss: 0.3713875040411949\n",
      "F1 Score (Macro) = 0.8213997690786201\n",
      "Time elapsed: 2173.090669155121\n"
     ]
    }
   ],
   "source": [
    "class BERTClass(torch.nn.Module):\n",
    "    \"\"\"\n",
    "    Fine tune a pre-trained BERT model, adjusted to learn our labels\n",
    "\n",
    "    Contains a dropout layer that aims to minimize overfitting and a final linear layer that inputs\n",
    "    768 dimension features from BERT and returns number of target features\n",
    "\n",
    "    Forward method is used to feed input to BERT\n",
    "\n",
    "    Parameters\n",
    "    ----------\n",
    "    bert_model_name: pre-trained model to use for fine-tuning\n",
    "    dropout: float value to minimize overfitting\n",
    "    classes_len: number of target labels\n",
    "    \"\"\"\n",
    "    def __init__(self, dropout, classes_len):\n",
    "        super(BERTClass, self).__init__()\n",
    "        self.l1 = AutoModel.from_pretrained(\"allenai/scibert_scivocab_uncased\")\n",
    "        self.l2 = torch.nn.Dropout(dropout)\n",
    "        self.l3 = torch.nn.Linear(768, 4)\n",
    "\n",
    "    def forward(self, ids, mask, token_type_ids):\n",
    "        _, output_1= self.l1(ids, attention_mask = mask, token_type_ids = token_type_ids, return_dict = False)\n",
    "        output_2 = self.l2(output_1)\n",
    "        output = self.l3(output_2)\n",
    "        return output\n",
    "\n",
    "def prepare_loaders(train_dataset, valid_dataset, max_len, batch_size, num_workers):\n",
    "    \"\"\"\n",
    "    Utility function that uses torch.utils.data.DataLoader class to create iterable over a dataset\n",
    "\n",
    "    Parameters\n",
    "    ----------\n",
    "    Calls ConsortDataSet class to tokenize and encode text. See docstring for more info\n",
    "        train_dataset\n",
    "        valid_dataset\n",
    "        tokenizer\n",
    "        max_len\n",
    "\n",
    "    batch_size: int for how many samples per batch to load\n",
    "    num_workers: int for how many subprocesses to use for data loading\n",
    "\n",
    "    Returns\n",
    "    -------\n",
    "    training_loader: iterable training dataset\n",
    "    validation_loader: iterable validation dataset\n",
    "    \"\"\"\n",
    "\n",
    "\n",
    "    training_set = SoftwareDataset(train_dataset, max_len)\n",
    "\n",
    "    training_loader = DataLoader(\n",
    "        training_set,\n",
    "        batch_size = batch_size,\n",
    "        shuffle = True,\n",
    "        num_workers = num_workers)\n",
    "\n",
    "    validation_set = SoftwareDataset(valid_dataset, max_len)\n",
    "\n",
    "    validation_loader = DataLoader(\n",
    "        validation_set,\n",
    "        batch_size = batch_size,\n",
    "        shuffle = True,\n",
    "        num_workers = num_workers)\n",
    "\n",
    "    return training_loader, validation_loader\n",
    "\n",
    "def train(model, training_loader, optimizer, epoch, pos_weight, device):\n",
    "    \"\"\"\n",
    "    For each batch of training data:\n",
    "        1. Unpack batch from training loader\n",
    "        2. Isolate batch ids, mask, token_type_ids and target values\n",
    "        3. Perform a forward pass over data\n",
    "        4. Clear previously calculated gradients\n",
    "        5. Calculate loss\n",
    "        6. Clear gradients\n",
    "        7. Perform backward pass to calculate gradients\n",
    "        8. Update parameters and take step using computed gradient\n",
    "\n",
    "    Parameters\n",
    "    ----------\n",
    "\n",
    "    model: model class object to be trained\n",
    "    training_loader: iterable dataset used to train\n",
    "    optimizer: optimizer to be used to update parameters\n",
    "    epoch: maximum number of epochs to be trained on\n",
    "    pos_weight: class weighting to be used in loss function\n",
    "    \"\"\"\n",
    "\n",
    "    model.train() #set model to training mode\n",
    "    for batch_idx, data in enumerate(training_loader):   #1\n",
    "        # print('epoch', batch_idx)\n",
    "        ids = data['ids'].to(device, dtype = torch.long)    #2\n",
    "        mask = data['mask'].to(device, dtype = torch.long)\n",
    "        token_type_ids = data['token_type_ids'].to(device, dtype = torch.long)\n",
    "        targets = data['targets'].to(device, dtype = torch.float)\n",
    "\n",
    "        outputs = model(ids, mask, token_type_ids) #3\n",
    "\n",
    "        optimizer.zero_grad()   #4\n",
    "        # loss = torch.nn.BCEWithLogitsLoss(pos_weight=pos_weight)(outputs, targets)   #5\n",
    "        loss = torch.nn.CrossEntropyLoss(weight=pos_weight)(outputs, targets)\n",
    "        optimizer.zero_grad()  #6\n",
    "        loss.backward()  #7\n",
    "        optimizer.step()  #8\n",
    "\n",
    "        if batch_idx%5000==0:\n",
    "           print(f'Epoch: {epoch}, batch_id: {batch_idx}, Training Loss:  {loss.item()}')\n",
    "\n",
    "\n",
    "def test(model, validation_loader, valid_loss_input, pos_weight, device):\n",
    "    \"\"\"\n",
    "    For each batch of testing data:\n",
    "        1.Tell pytorch not to both constructing the compute graph during forward pass since only needed for backprop\n",
    "        2. Unpack batch from validation loader\n",
    "        3. Isolate batch ids, mask, token_type_ids and target values\n",
    "        4. Calculate predictions\n",
    "        5. Calculate loss\n",
    "        6. Accumulate validation loss\n",
    "        7/8. Move labels and predictions to CPU and append to lists\n",
    "\n",
    "    Parameters\n",
    "    ----------\n",
    "\n",
    "    model: trained model to validate\n",
    "    validation_loader: iterable dataset used to validate\n",
    "    valid_loss_input: initial input loss value\n",
    "    pos_weight: class weighting to be used in loss function\n",
    "\n",
    "    Returns\n",
    "    -------\n",
    "\n",
    "    val_targets: list of true validation targets\n",
    "    val_outputs: list of predicated validation targets\n",
    "    \"\"\"\n",
    "\n",
    "    model.eval() #put model in evaluation mode\n",
    "    valid_loss = 0\n",
    "    valid_loss_min = valid_loss_input\n",
    "    val_targets = []\n",
    "    val_outputs = []\n",
    "\n",
    "    with torch.no_grad(): #1\n",
    "      for batch_idx, data in enumerate(validation_loader, 0):   #2\n",
    "            ids = data['ids'].to(device, dtype = torch.long)    #3\n",
    "            mask = data['mask'].to(device, dtype = torch.long)\n",
    "            token_type_ids = data['token_type_ids'].to(device, dtype = torch.long)\n",
    "            targets = data['targets'].to(device, dtype = torch.float)\n",
    "            outputs = model(ids, mask, token_type_ids)   #4\n",
    "\n",
    "            # loss = torch.nn.BCEWithLogitsLoss(pos_weight=pos_weight)(outputs, targets) #5\n",
    "            loss = torch.nn.CrossEntropyLoss(weight=pos_weight)(outputs, targets)\n",
    "            valid_loss = valid_loss + ((1 / (batch_idx + 1)) * (loss.item() - valid_loss))  #6\n",
    "            val_targets.extend(targets.cpu().detach().numpy().tolist())  #7\n",
    "            val_outputs.extend(torch.sigmoid(outputs).cpu().detach().numpy().tolist())   #8\n",
    "\n",
    "\n",
    "\n",
    "    print(f'Validation Loss: {valid_loss}')\n",
    "\n",
    "    if valid_loss <= valid_loss_min:\n",
    "        print('Validation loss decreased ({:.6f} --> {:.6f}).'.format(valid_loss_min,valid_loss))\n",
    "        valid_loss_min = valid_loss\n",
    "\n",
    "    return val_targets, val_outputs, valid_loss_min\n",
    "\n",
    "def predict_and_score(val_targets, val_outputs, pred_threshold):\n",
    "    \"\"\"\n",
    "    Calculate accuracy, f1_macro, and f1_micro using sklearn.metrics library\n",
    "\n",
    "    Parameters\n",
    "    ----------\n",
    "\n",
    "    val_targets: list of true validation targets\n",
    "    val_outputs: list of predicated validation targets\n",
    "\n",
    "    Returns\n",
    "    -------\n",
    "\n",
    "    f1_score_macro: skelarn.metrics.f1_score with average='macro'\n",
    "    \"\"\"\n",
    "\n",
    "    val_preds = (np.array(val_outputs) > pred_threshold).astype(int)\n",
    "\n",
    "    f1_score_macro = f1_score(val_targets, val_preds, average='macro')\n",
    "\n",
    "    return f1_score_macro\n",
    "\n",
    "def pos_weights(df, classes_len):\n",
    "    \"\"\"\n",
    "    Calculate weights for each class. Returns np.tobytes() because torch tensor isn't\n",
    "    compatibilite with Optuna.trial.Trial.suggest_categorical()\n",
    "    \n",
    "    Parameters\n",
    "    ----------\n",
    "    \n",
    "    df: pd.DataFrame\n",
    "    classes_len: int number of classes in dataset\n",
    "    \n",
    "    Returns\n",
    "    -------\n",
    "     \n",
    "    torch tensor of length number of classes\n",
    "    \"\"\"\n",
    "    pos_counts = np.array(df[\"vectorized_labels\"].values.tolist()).sum(axis=0)\n",
    "    n_samples = len(df)\n",
    "    \n",
    "    weights = n_samples / (classes_len * pos_counts)\n",
    "\n",
    "    return tuple(weights)\n",
    "\n",
    "\n",
    "def run(trial, train_dataset, valid_dataset):\n",
    "    \"\"\"\n",
    "    Train BERT model for fine tuning on data\n",
    "\n",
    "    -Uses Optuna to define and train hyperparameters found in CONFIG\n",
    "    -Loads training and validation loaders\n",
    "    -Trains model\n",
    "    -Returns macro F1 score that Optuna uses to maximize and tune parameters\n",
    "\n",
    "    Parameters\n",
    "    ----------\n",
    "\n",
    "    train_dataset: pd.DataFrame that contains training samples\n",
    "    valid_dataset: pd.DataFrame that contains validation samples\n",
    "\n",
    "    Returns\n",
    "    -------\n",
    "\n",
    "    f1_score_macro: objective measure\n",
    "\n",
    "\n",
    "    \"\"\"\n",
    "    CONFIG = {\n",
    "        'seed': 42,\n",
    "        'max_len': trial.suggest_categorical('max_len', [128]),\n",
    "        'batch_size': trial.suggest_categorical('batch_size', [32, 64]),\n",
    "        'num_workers': 0,\n",
    "        'classes_len': len(CLASSES),\n",
    "        'optimizer': trial.suggest_categorical('optimizer', [torch.optim.Adam, torch.optim.AdamW]),\n",
    "        'lr': trial.suggest_float('lr', 1e-5, 4e-4),\n",
    "        'weight_decay': trial.suggest_float('weight_decay', 0, 0.1),\n",
    "        'n_epochs': trial.suggest_int('n_epochs', 1, 8),\n",
    "        'pred_threshold': trial.suggest_float('pred_threshold', 0.3, 0.6),\n",
    "        'pos_weight': trial.suggest_categorical('pos_weight', [None, pos_weights(train_dataset, len(CLASSES))]),\n",
    "        'dropout': trial.suggest_float('dropout', 0.0, 0.6),\n",
    "        'device': \"cuda\",\n",
    "        }\n",
    "\n",
    "    device = torch.device(CONFIG['device'])\n",
    "    model = BERTClass(CONFIG['dropout'], CONFIG['classes_len'])\n",
    "    model.to(device)\n",
    "\n",
    "    if CONFIG['pos_weight'] != None:\n",
    "        pos_weight = torch.tensor(CONFIG['pos_weight'],dtype=torch.float).to(device, dtype = torch.float)\n",
    "    else:\n",
    "        pos_weight = CONFIG['pos_weight']\n",
    "\n",
    "    torch.manual_seed(CONFIG['seed'])\n",
    "\n",
    "    training_loader, validation_loader = prepare_loaders(train_dataset, valid_dataset, CONFIG['max_len'], CONFIG['batch_size'], CONFIG['num_workers'])\n",
    "\n",
    "    optimizer = CONFIG['optimizer'](params =  model.parameters(), lr=CONFIG['lr'], weight_decay=CONFIG['weight_decay'])\n",
    "\n",
    "    valid_loss_input = np.Inf\n",
    "\n",
    "    for epoch in range(1, CONFIG['n_epochs']+1):\n",
    "\n",
    "        train(model, training_loader, optimizer, epoch, pos_weight, device)\n",
    "        val_targets, val_outputs, valid_loss_min = test(model, validation_loader, valid_loss_input, pos_weight, device)\n",
    "        valid_loss_input = valid_loss_min\n",
    "\n",
    "    f1_score_macro = predict_and_score(val_targets, val_outputs, CONFIG['pred_threshold'])\n",
    "\n",
    "    print(f\"F1 Score (Macro) = {f1_score_macro}\")\n",
    "\n",
    "    return f1_score_macro\n",
    "\n",
    "if __name__ == '__main__':\n",
    "\n",
    "    sampler = optuna.samplers.TPESampler(n_startup_trials=5)\n",
    "    study = optuna.create_study(sampler=sampler, direction='maximize')\n",
    "    start = time.time()\n",
    "    study.optimize(lambda trial: run(trial, train_dataset, valid_dataset), n_trials=20)\n",
    "    end = time.time()\n",
    "    print('Time elapsed:', end - start)\n",
    "    joblib.dump(study, f\"{OUTPUT_PATH}/optuna_software_context_mentions.pkl\")"
   ]
  },
  {
   "cell_type": "code",
   "execution_count": null,
   "metadata": {
    "application/vnd.databricks.v1+cell": {
     "cellMetadata": {
      "byteLimit": 2048000,
      "rowLimit": 10000
     },
     "inputWidgets": {},
     "nuid": "e7dca1bc-f8d4-4d9a-adff-9119b32c977f",
     "showTitle": false,
     "title": ""
    }
   },
   "outputs": [],
   "source": [
    "optuna_scibert = joblib.load(f\"{OUTPUT_PATH}/optuna_software_mentions.pkl\")\n",
    "best_params = optuna_scibert.best_params"
   ]
  },
  {
   "cell_type": "code",
   "execution_count": null,
   "metadata": {
    "application/vnd.databricks.v1+cell": {
     "cellMetadata": {
      "byteLimit": 2048000,
      "rowLimit": 10000
     },
     "inputWidgets": {},
     "nuid": "cada0771-ce9d-44fb-9b59-6533150b2b66",
     "showTitle": false,
     "title": ""
    }
   },
   "outputs": [],
   "source": [
    "def run_best(train_dataset, valid_dataset, best_params):\n",
    "    \"\"\"\n",
    "    Train BERT model for fine tuning on CONSORT data\n",
    "    \n",
    "    -Uses Optuna to define and train hyperparameters found in CONFIG\n",
    "    -Loads training and validation loaders\n",
    "    -Trains model\n",
    "    -Returns macro F1 score that Optuna uses to maximize and tune parameters\n",
    "    \n",
    "    Parameters\n",
    "    ----------\n",
    "    \n",
    "    train_dataset: pd.DataFrame that contains training samples\n",
    "    valid_dataset: pd.DataFrame that contains validation samples\n",
    "    \n",
    "    Returns\n",
    "    -------\n",
    "    \n",
    "    f1_score_macro: objective measure\n",
    "    \n",
    "    \n",
    "    \"\"\"\n",
    "\n",
    "    CONFIG = {\n",
    "        'seed': 42,\n",
    "        'max_len': 'default',\n",
    "        'batch_size': 'default',\n",
    "        'num_workers': 0,\n",
    "        'classes_len': len(CLASSES),\n",
    "        'optimizer': 'default',\n",
    "        'num_warmup_steps':'default',\n",
    "        'lr': 'default',\n",
    "        'weight_decay': 'default',\n",
    "        'n_epochs': 'default',\n",
    "        'pred_threshold': 'default',\n",
    "        'pos_weight': 'default',\n",
    "        'dropout': 'default',\n",
    "        'device': \"cuda\"}\n",
    "\n",
    "    CONFIG.update(best_params)\n",
    "    joblib.dump(CONFIG, f\"{OUTPUT_PATH}/config_scibert.pkl\")\n",
    "    \n",
    "    model = BERTClass(CONFIG['dropout'], CONFIG['classes_len'])\n",
    "    device = torch.device(CONFIG['device'])\n",
    "    model.to(device)\n",
    "    \n",
    "    torch.manual_seed(CONFIG['seed'])\n",
    "\n",
    "    if CONFIG['pos_weight'] != None:\n",
    "        pos_weight = torch.tensor(CONFIG['pos_weight'],dtype=torch.float).to(device, dtype = torch.float)\n",
    "    else:\n",
    "        pos_weight = CONFIG['pos_weight']\n",
    "    \n",
    "    training_loader, validation_loader = prepare_loaders(train_dataset, valid_dataset, CONFIG['max_len'], CONFIG['batch_size'], CONFIG['num_workers'])\n",
    "    \n",
    "    optimizer = CONFIG['optimizer'](params =  model.parameters(), lr=CONFIG['lr'], weight_decay=CONFIG['weight_decay'])\n",
    "    \n",
    "    valid_loss_input = np.Inf\n",
    "    \n",
    "    for epoch in range(1, CONFIG['n_epochs']+1):\n",
    "        \n",
    "        train(model, training_loader, optimizer, epoch, pos_weight, device)\n",
    "        val_targets, val_outputs, valid_loss_min = test(model, validation_loader, valid_loss_input, pos_weight, device)\n",
    "        valid_loss_input = valid_loss_min\n",
    "        \n",
    "    # micro_hamming_loss = predict_and_score(val_targets, val_outputs, CONFIG['pred_threshold'], CONFIG['classes_len'])\n",
    "    # print(f\"Hamming Loss (Micro) = {micro_hamming_loss}\")\n",
    "    f1_score_macro = predict_and_score(val_targets, val_outputs, CONFIG['pred_threshold'])\n",
    "\n",
    "    print(f\"F1 Score (Macro) = {f1_score_macro}\")\n",
    "\n",
    "    torch.save(model.state_dict(), f\"{OUTPUT_PATH}/SciBERT_software_intent.pt\")\n",
    "    val_preds = (np.array(val_outputs) > CONFIG['pred_threshold']).astype(int)\n",
    "    print(classification_report(val_targets, val_preds, target_names=mlb.classes_))"
   ]
  },
  {
   "cell_type": "code",
   "execution_count": null,
   "metadata": {
    "application/vnd.databricks.v1+cell": {
     "cellMetadata": {
      "byteLimit": 2048000,
      "rowLimit": 10000
     },
     "inputWidgets": {},
     "nuid": "20981ced-c405-4404-aaae-d2e277b5ce4d",
     "showTitle": false,
     "title": ""
    }
   },
   "outputs": [
    {
     "name": "stdout",
     "output_type": "stream",
     "text": [
      "Epoch: 1, batch_id: 0, Training Loss:  1.6253738403320312\n",
      "Validation Loss: 0.3566967653376716\n",
      "Validation loss decreased (inf --> 0.356697).\n",
      "Epoch: 2, batch_id: 0, Training Loss:  0.3374609351158142\n",
      "Validation Loss: 0.3775885168995176\n",
      "Epoch: 3, batch_id: 0, Training Loss:  0.23997914791107178\n",
      "Validation Loss: 0.32245428647313795\n",
      "Validation loss decreased (0.356697 --> 0.322454).\n",
      "Epoch: 4, batch_id: 0, Training Loss:  0.07606830447912216\n",
      "Validation Loss: 0.3689432575234345\n",
      "Epoch: 5, batch_id: 0, Training Loss:  0.04355796426534653\n",
      "Validation Loss: 0.36896095212016783\n",
      "F1 Score (Macro) = 0.8098151346177715\n",
      "              precision    recall  f1-score   support\n",
      "\n",
      "     created       0.72      0.99      0.83        94\n",
      "     mention       0.51      0.92      0.66        96\n",
      "   unlabeled       0.70      1.00      0.82       202\n",
      "        used       0.91      0.95      0.93       451\n",
      "\n",
      "   micro avg       0.76      0.96      0.85       843\n",
      "   macro avg       0.71      0.96      0.81       843\n",
      "weighted avg       0.79      0.96      0.86       843\n",
      " samples avg       0.85      0.96      0.89       843\n",
      "\n"
     ]
    }
   ],
   "source": [
    "run_best(train_dataset, valid_dataset, best_params)"
   ]
  },
  {
   "cell_type": "markdown",
   "metadata": {
    "application/vnd.databricks.v1+cell": {
     "cellMetadata": {},
     "inputWidgets": {},
     "nuid": "ab79aaef-dc2c-481a-b6c7-e16c01e90a06",
     "showTitle": false,
     "title": ""
    }
   },
   "source": [
    "\n",
    "## Evaluation"
   ]
  },
  {
   "cell_type": "code",
   "execution_count": null,
   "metadata": {
    "application/vnd.databricks.v1+cell": {
     "cellMetadata": {
      "byteLimit": 2048000,
      "rowLimit": 10000
     },
     "inputWidgets": {},
     "nuid": "ab259f83-f8c3-4984-84e2-7a6cdef18067",
     "showTitle": false,
     "title": ""
    }
   },
   "outputs": [],
   "source": [
    "evaluation_df = pd.read_csv('/Workspace/Users/k.moraw@epcc.ed.ac.uk/data/software_citation_intent_czi.csv')\n",
    "joss_df = pd.read_csv('/dbfs/FileStore/citation_intent/joss_creation.csv')\n",
    "joss_df = joss_df.rename(columns={'intent':'label'})\n",
    "joss_df = joss_df[['sentence', 'label']]\n",
    "joss_df['label'] = joss_df['label'].replace('creation', 'created')\n",
    "evaluation_df = evaluation_df[['text', 'Intent (creation, used, mention)']]\n",
    "evaluation_df = evaluation_df.rename(columns={'text':'sentence', 'Intent (creation, used, mention)':'label'})\n",
    "# evaluation_df['label'] = evaluation_df['label'].apply(lambda x: [x])\n",
    "combined_df = pd.concat([evaluation_df, joss_df]).reset_index()"
   ]
  },
  {
   "cell_type": "code",
   "execution_count": null,
   "metadata": {
    "application/vnd.databricks.v1+cell": {
     "cellMetadata": {
      "byteLimit": 2048000,
      "rowLimit": 10000
     },
     "inputWidgets": {},
     "nuid": "7c206333-7112-4da5-a8ef-7fee1f9c9392",
     "showTitle": false,
     "title": ""
    }
   },
   "outputs": [
    {
     "data": {
      "text/plain": [
       "used       344\n",
       "mention     30\n",
       "created     10\n",
       "Name: label, dtype: int64"
      ]
     },
     "execution_count": 240,
     "metadata": {},
     "output_type": "execute_result"
    }
   ],
   "source": [
    "combined_df['label'].value_counts()"
   ]
  },
  {
   "cell_type": "code",
   "execution_count": null,
   "metadata": {
    "application/vnd.databricks.v1+cell": {
     "cellMetadata": {
      "byteLimit": 2048000,
      "rowLimit": 10000
     },
     "inputWidgets": {},
     "nuid": "c3f24c74-3132-42a2-9d09-575a86385271",
     "showTitle": false,
     "title": ""
    }
   },
   "outputs": [],
   "source": [
    "config_path = f\"{OUTPUT_PATH}/config_scibert.pkl\"\n",
    "state_dict = f\"{OUTPUT_PATH}/SciBERT_software_intent.pt\""
   ]
  },
  {
   "cell_type": "code",
   "execution_count": null,
   "metadata": {
    "application/vnd.databricks.v1+cell": {
     "cellMetadata": {
      "byteLimit": 2048000,
      "rowLimit": 10000
     },
     "inputWidgets": {},
     "nuid": "884d039c-a6b6-408a-831c-ef2f520aacb3",
     "showTitle": false,
     "title": ""
    }
   },
   "outputs": [],
   "source": [
    "class EvaluationSoftwareDataset(Dataset):\n",
    "    \"\"\"\n",
    "    Custom dataset class that inherits from torch.utils.data.Dataset\n",
    "\n",
    "    Makes use of Hugging Face transformer encode_plus method to:\n",
    "        -Split sentence into tokens\n",
    "        -Add special [CLS] and [SEP] tokens\n",
    "        -Map tokens to IDs\n",
    "        -Pad/truncate sentences to max length\n",
    "        -Create attention masks\n",
    "\n",
    "    Parameters\n",
    "    ----------\n",
    "\n",
    "    dataframe: pd.DataFrame used for model training, contains columns 'text' and vectorized labels 'target_list'\n",
    "    tokenizer: tokenizer from transformers library used to prepare inputs for model\n",
    "    max_len: maximum length (in number of tokens) for the inputs to model\n",
    "\n",
    "    Returns\n",
    "    _______\n",
    "\n",
    "    dict: Dictionary of encoded ids, mask, token_type_ids, and targets\n",
    "\n",
    "    \"\"\"\n",
    "\n",
    "    def __init__(self, dataframe, max_len):\n",
    "        self.tokenizer = BertTokenizer.from_pretrained('allenai/scibert_scivocab_uncased')\n",
    "        self.data = dataframe\n",
    "        self.text = self.data.sentence\n",
    "        self.max_len = max_len\n",
    "\n",
    "    def __len__(self): # overrides __len__ so that len(dataset) returns size of dataset\n",
    "        return len(self.text)\n",
    "\n",
    "    def __getitem__(self, index): #override __getitem__ to support indexing\n",
    "        text = str(self.text[index])\n",
    "        text = ' '.join(text.split())\n",
    "\n",
    "        inputs = self.tokenizer.encode_plus(\n",
    "            text,\n",
    "            None,\n",
    "            add_special_tokens = True,\n",
    "            max_length = self.max_len,\n",
    "            padding='max_length',\n",
    "            return_token_type_ids = True,\n",
    "            truncation = True\n",
    "        )\n",
    "\n",
    "        ids = inputs['input_ids']\n",
    "        mask = inputs['attention_mask']\n",
    "        token_type_ids = inputs['token_type_ids']\n",
    "\n",
    "        return {\n",
    "            'ids': torch.tensor(ids, dtype=torch.long),\n",
    "            'mask': torch.tensor(mask, dtype=torch.long),\n",
    "            'token_type_ids': torch.tensor(token_type_ids, dtype=torch.long)\n",
    "        }"
   ]
  },
  {
   "cell_type": "code",
   "execution_count": null,
   "metadata": {
    "application/vnd.databricks.v1+cell": {
     "cellMetadata": {
      "byteLimit": 2048000,
      "rowLimit": 10000
     },
     "inputWidgets": {},
     "nuid": "cd6e283d-7847-4091-bab7-4790c0cce065",
     "showTitle": false,
     "title": ""
    }
   },
   "outputs": [],
   "source": [
    "def run_inference_and_score(valid_dataset):\n",
    "\n",
    "    CONFIG = joblib.load(config_path)\n",
    "    model = BERTClass(CONFIG['dropout'], CONFIG['classes_len'])\n",
    "\n",
    "\n",
    "    if torch.cuda.is_available():\n",
    "        model.load_state_dict(torch.load(state_dict, map_location=torch.device('cuda')))\n",
    "        device = torch.device(\"cuda\")\n",
    "    else:\n",
    "        model.load_state_dict(torch.load(state_dict, map_location=torch.device('cpu')))\n",
    "        device = torch.device(\"cpu\")\n",
    "    model.to(device)\n",
    "\n",
    "\n",
    "    validation_set = EvaluationSoftwareDataset(valid_dataset, CONFIG['max_len'])\n",
    "\n",
    "    validation_loader = DataLoader(\n",
    "        validation_set,\n",
    "        batch_size = CONFIG['batch_size'],\n",
    "        shuffle = False,\n",
    "        num_workers = 0)\n",
    "    \n",
    "    model.eval() #put model in evaluation mode\n",
    "    val_outputs = []\n",
    "\n",
    "    with torch.no_grad(): #1\n",
    "      for batch_idx, data in enumerate(validation_loader, 0):   #2\n",
    "            ids = data['ids'].to(device, dtype = torch.long)    #3\n",
    "            mask = data['mask'].to(device, dtype = torch.long)\n",
    "            token_type_ids = data['token_type_ids'].to(device, dtype = torch.long)\n",
    "            outputs = model(ids, mask, token_type_ids)   #4\n",
    "\n",
    "            val_outputs.extend(torch.sigmoid(outputs).cpu().detach().numpy().tolist())\n",
    "    \n",
    "    output_array = np.array(val_outputs)\n",
    "    val_preds = (output_array == output_array.max(axis=1, keepdims=1)).astype(int)\n",
    "    val_preds = mlb.inverse_transform(val_preds)\n",
    "    val_preds = [i[0] for i in val_preds]\n",
    "    \n",
    "\n",
    "    # print(classification_report(val_targets, val_preds, target_names=mlb.classes_))\n",
    "    return val_preds"
   ]
  },
  {
   "cell_type": "code",
   "execution_count": null,
   "metadata": {
    "application/vnd.databricks.v1+cell": {
     "cellMetadata": {
      "byteLimit": 2048000,
      "rowLimit": 10000
     },
     "inputWidgets": {},
     "nuid": "2be5341a-2b5e-47a1-9e4c-f332fd987aaa",
     "showTitle": false,
     "title": ""
    }
   },
   "outputs": [],
   "source": [
    "predictions = run_inference_and_score(combined_df)"
   ]
  },
  {
   "cell_type": "code",
   "execution_count": null,
   "metadata": {
    "application/vnd.databricks.v1+cell": {
     "cellMetadata": {
      "byteLimit": 2048000,
      "rowLimit": 10000
     },
     "inputWidgets": {},
     "nuid": "2f07bd57-dbd6-4e8e-b8d6-191bf3977557",
     "showTitle": false,
     "title": ""
    }
   },
   "outputs": [
    {
     "name": "stdout",
     "output_type": "stream",
     "text": [
      "              precision    recall  f1-score   support\n",
      "\n",
      "     created       0.00      0.00      0.00        10\n",
      "     mention       0.07      0.13      0.09        30\n",
      "   unlabeled       0.00      0.00      0.00         0\n",
      "        used       0.89      0.70      0.78       344\n",
      "\n",
      "    accuracy                           0.64       384\n",
      "   macro avg       0.24      0.21      0.22       384\n",
      "weighted avg       0.80      0.64      0.71       384\n",
      "\n"
     ]
    },
    {
     "name": "stderr",
     "output_type": "stream",
     "text": [
      "/databricks/python/lib/python3.10/site-packages/sklearn/metrics/_classification.py:1327: UndefinedMetricWarning: Recall and F-score are ill-defined and being set to 0.0 in labels with no true samples. Use `zero_division` parameter to control this behavior.\n",
      "  _warn_prf(average, modifier, msg_start, len(result))\n",
      "/databricks/python/lib/python3.10/site-packages/sklearn/metrics/_classification.py:1327: UndefinedMetricWarning: Recall and F-score are ill-defined and being set to 0.0 in labels with no true samples. Use `zero_division` parameter to control this behavior.\n",
      "  _warn_prf(average, modifier, msg_start, len(result))\n",
      "/databricks/python/lib/python3.10/site-packages/sklearn/metrics/_classification.py:1327: UndefinedMetricWarning: Recall and F-score are ill-defined and being set to 0.0 in labels with no true samples. Use `zero_division` parameter to control this behavior.\n",
      "  _warn_prf(average, modifier, msg_start, len(result))\n"
     ]
    }
   ],
   "source": [
    "print(classification_report(combined_df['label'].tolist(), predictions, target_names=mlb.classes_))"
   ]
  }
 ],
 "metadata": {
  "application/vnd.databricks.v1+notebook": {
   "dashboards": [],
   "language": "python",
   "notebookMetadata": {
    "pythonIndentUnit": 4
   },
   "notebookName": "multiclass_bert_classifier",
   "widgets": {}
  },
  "language_info": {
   "name": "python"
  }
 },
 "nbformat": 4,
 "nbformat_minor": 0
}
