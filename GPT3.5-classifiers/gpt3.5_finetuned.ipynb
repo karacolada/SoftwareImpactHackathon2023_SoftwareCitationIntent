{
 "cells": [
  {
   "cell_type": "markdown",
   "metadata": {
    "application/vnd.databricks.v1+cell": {
     "cellMetadata": {
      "byteLimit": 2048000,
      "rowLimit": 10000
     },
     "inputWidgets": {},
     "nuid": "bcf74f96-291c-463e-ade7-93a5ddd2e614",
     "showTitle": false,
     "title": ""
    }
   },
   "source": [
    "- The system message helps set the behavior of the assistant. For example, you can modify the personality of the assistant or provide specific instructions about how it should behave throughout the conversation. However note that the system message is optional and the model’s behavior without a system message is likely to be similar to using a generic message such as \"You are a helpful assistant.\"\n",
    "\n",
    "- The user messages provide requests or comments for the assistant to respond to. \n",
    "- Assistant messages store previous assistant responses, but can also be written by you to give examples of desired behavior."
   ]
  },
  {
   "cell_type": "code",
   "execution_count": 0,
   "metadata": {
    "application/vnd.databricks.v1+cell": {
     "cellMetadata": {
      "byteLimit": 2048000,
      "rowLimit": 10000
     },
     "inputWidgets": {},
     "nuid": "6c7bb58b-84e9-45d6-9558-73580835526b",
     "showTitle": false,
     "title": ""
    }
   },
   "outputs": [],
   "source": [
    "import pandas as pd\n",
    "import os\n",
    "import openai\n",
    "from sklearn.metrics import precision_recall_fscore_support, accuracy_score, classification_report\n",
    "openai.api_key = \"OPEN_AI_API_KEY\"\n",
    "import warnings\n",
    "warnings.simplefilter(\"ignore\")\n",
    "import numpy as np\n",
    "from collections import Counter\n",
    "from sklearn.model_selection import train_test_split\n",
    "np.random.seed(123)\n",
    "ROOT_DIR = '../data'\n",
    "pred_field = 'context'  # this can be one of : 'sentence' or 'context'"
   ]
  },
  {
   "cell_type": "markdown",
   "metadata": {
    "application/vnd.databricks.v1+cell": {
     "cellMetadata": {
      "byteLimit": 2048000,
      "rowLimit": 10000
     },
     "inputWidgets": {},
     "nuid": "34c7f5e0-17f9-4ec2-a1a3-278c2fdb6a67",
     "showTitle": false,
     "title": ""
    }
   },
   "source": [
    "## Data Reading + Formatting"
   ]
  },
  {
   "cell_type": "code",
   "execution_count": 0,
   "metadata": {
    "application/vnd.databricks.v1+cell": {
     "cellMetadata": {
      "byteLimit": 2048000,
      "rowLimit": 10000
     },
     "inputWidgets": {},
     "nuid": "65fde911-574c-415c-b189-164c0f8a09b3",
     "showTitle": false,
     "title": ""
    }
   },
   "outputs": [],
   "source": [
    "# final_data_df = pd.read_csv('/Workspace/Users/aistrate@chanzuckerberg.com/software_intent_data - final_data.csv')\n",
    "final_data_df = pd.read_csv('/Workspace/Users/k.moraw@epcc.ed.ac.uk/data/software_citation_intent_merged.csv')\n",
    "LABEL2TEXT = {0: 'creation', 1 : 'usage', 2 : 'mention', 3 : 'none'}\n",
    "final_data_df['label_descriptive'] = final_data_df['label'].apply(lambda x: LABEL2TEXT[x])"
   ]
  },
  {
   "cell_type": "code",
   "execution_count": 0,
   "metadata": {
    "application/vnd.databricks.v1+cell": {
     "cellMetadata": {
      "byteLimit": 2048000,
      "rowLimit": 10000
     },
     "inputWidgets": {},
     "nuid": "8ff432bc-a701-4324-af93-2e107e5a7887",
     "showTitle": false,
     "title": ""
    }
   },
   "outputs": [
    {
     "output_type": "execute_result",
     "data": {
      "text/html": [
       "<div>\n",
       "<style scoped>\n",
       "    .dataframe tbody tr th:only-of-type {\n",
       "        vertical-align: middle;\n",
       "    }\n",
       "\n",
       "    .dataframe tbody tr th {\n",
       "        vertical-align: top;\n",
       "    }\n",
       "\n",
       "    .dataframe thead th {\n",
       "        text-align: right;\n",
       "    }\n",
       "</style>\n",
       "<table border=\"1\" class=\"dataframe\">\n",
       "  <thead>\n",
       "    <tr style=\"text-align: right;\">\n",
       "      <th></th>\n",
       "      <th>Unnamed: 0</th>\n",
       "      <th>id</th>\n",
       "      <th>sentence</th>\n",
       "      <th>used</th>\n",
       "      <th>created</th>\n",
       "      <th>mention</th>\n",
       "      <th>context</th>\n",
       "      <th>label</th>\n",
       "      <th>text</th>\n",
       "      <th>label_descriptive</th>\n",
       "    </tr>\n",
       "  </thead>\n",
       "  <tbody>\n",
       "    <tr>\n",
       "      <th>0</th>\n",
       "      <td>0</td>\n",
       "      <td>PMC5189946</td>\n",
       "      <td>All of this analysis was implemented using Mat...</td>\n",
       "      <td>False</td>\n",
       "      <td>True</td>\n",
       "      <td>False</td>\n",
       "      <td>NaN</td>\n",
       "      <td>0</td>\n",
       "      <td>All of this analysis was implemented using Mat...</td>\n",
       "      <td>creation</td>\n",
       "    </tr>\n",
       "    <tr>\n",
       "      <th>1</th>\n",
       "      <td>1</td>\n",
       "      <td>PMC4511233</td>\n",
       "      <td>Code for calculating partition similarity, obt...</td>\n",
       "      <td>False</td>\n",
       "      <td>True</td>\n",
       "      <td>False</td>\n",
       "      <td>Since the probability of getting a given MI is...</td>\n",
       "      <td>0</td>\n",
       "      <td>Code for calculating partition similarity, obt...</td>\n",
       "      <td>creation</td>\n",
       "    </tr>\n",
       "    <tr>\n",
       "      <th>2</th>\n",
       "      <td>2</td>\n",
       "      <td>PMC4186879</td>\n",
       "      <td>All behavioral statistical analyses were perfo...</td>\n",
       "      <td>False</td>\n",
       "      <td>False</td>\n",
       "      <td>True</td>\n",
       "      <td>All behavioral statistical analyses were perfo...</td>\n",
       "      <td>2</td>\n",
       "      <td>All behavioral statistical analyses were perfo...</td>\n",
       "      <td>mention</td>\n",
       "    </tr>\n",
       "    <tr>\n",
       "      <th>3</th>\n",
       "      <td>3</td>\n",
       "      <td>PMC5026371</td>\n",
       "      <td>M-Track was written using Python 2.7, OpenCV 3...</td>\n",
       "      <td>True</td>\n",
       "      <td>False</td>\n",
       "      <td>False</td>\n",
       "      <td>NaN</td>\n",
       "      <td>1</td>\n",
       "      <td>M-Track was written using Python 2.7, OpenCV 3...</td>\n",
       "      <td>usage</td>\n",
       "    </tr>\n",
       "    <tr>\n",
       "      <th>4</th>\n",
       "      <td>4</td>\n",
       "      <td>PMC1283974</td>\n",
       "      <td>Mindboggle is a freely downloadable, open sour...</td>\n",
       "      <td>False</td>\n",
       "      <td>True</td>\n",
       "      <td>False</td>\n",
       "      <td>Mindboggle is a freely downloadable, open sour...</td>\n",
       "      <td>0</td>\n",
       "      <td>Mindboggle is a freely downloadable, open sour...</td>\n",
       "      <td>creation</td>\n",
       "    </tr>\n",
       "  </tbody>\n",
       "</table>\n",
       "</div>"
      ],
      "text/plain": [
       "   Unnamed: 0  ... label_descriptive\n",
       "0           0  ...          creation\n",
       "1           1  ...          creation\n",
       "2           2  ...           mention\n",
       "3           3  ...             usage\n",
       "4           4  ...          creation\n",
       "\n",
       "[5 rows x 10 columns]"
      ]
     },
     "execution_count": 3,
     "metadata": {},
     "output_type": "execute_result"
    }
   ],
   "source": [
    "final_data_df.head()"
   ]
  },
  {
   "cell_type": "code",
   "execution_count": 0,
   "metadata": {
    "application/vnd.databricks.v1+cell": {
     "cellMetadata": {
      "byteLimit": 2048000,
      "rowLimit": 10000
     },
     "inputWidgets": {},
     "nuid": "096a715b-2403-4df0-a42f-3e862a91c2ea",
     "showTitle": false,
     "title": ""
    }
   },
   "outputs": [],
   "source": [
    "def update_context(df):\n",
    "    df['context'] = df.apply(lambda x: x['context'] if x['context'] == x['context'] else x['sentence'], axis = 1)"
   ]
  },
  {
   "cell_type": "code",
   "execution_count": 0,
   "metadata": {
    "application/vnd.databricks.v1+cell": {
     "cellMetadata": {
      "byteLimit": 2048000,
      "rowLimit": 10000
     },
     "inputWidgets": {},
     "nuid": "214ae2b2-7af9-46db-adf2-6aed6c12856c",
     "showTitle": false,
     "title": ""
    }
   },
   "outputs": [
    {
     "output_type": "execute_result",
     "data": {
      "text/html": [
       "<div>\n",
       "<style scoped>\n",
       "    .dataframe tbody tr th:only-of-type {\n",
       "        vertical-align: middle;\n",
       "    }\n",
       "\n",
       "    .dataframe tbody tr th {\n",
       "        vertical-align: top;\n",
       "    }\n",
       "\n",
       "    .dataframe thead th {\n",
       "        text-align: right;\n",
       "    }\n",
       "</style>\n",
       "<table border=\"1\" class=\"dataframe\">\n",
       "  <thead>\n",
       "    <tr style=\"text-align: right;\">\n",
       "      <th></th>\n",
       "      <th>Unnamed: 0</th>\n",
       "      <th>id</th>\n",
       "      <th>sentence</th>\n",
       "      <th>used</th>\n",
       "      <th>created</th>\n",
       "      <th>mention</th>\n",
       "      <th>context</th>\n",
       "      <th>label</th>\n",
       "      <th>text</th>\n",
       "      <th>label_descriptive</th>\n",
       "    </tr>\n",
       "  </thead>\n",
       "  <tbody>\n",
       "    <tr>\n",
       "      <th>0</th>\n",
       "      <td>0</td>\n",
       "      <td>PMC5189946</td>\n",
       "      <td>All of this analysis was implemented using Mat...</td>\n",
       "      <td>False</td>\n",
       "      <td>True</td>\n",
       "      <td>False</td>\n",
       "      <td>NaN</td>\n",
       "      <td>0</td>\n",
       "      <td>All of this analysis was implemented using Mat...</td>\n",
       "      <td>creation</td>\n",
       "    </tr>\n",
       "    <tr>\n",
       "      <th>1</th>\n",
       "      <td>1</td>\n",
       "      <td>PMC4511233</td>\n",
       "      <td>Code for calculating partition similarity, obt...</td>\n",
       "      <td>False</td>\n",
       "      <td>True</td>\n",
       "      <td>False</td>\n",
       "      <td>Since the probability of getting a given MI is...</td>\n",
       "      <td>0</td>\n",
       "      <td>Code for calculating partition similarity, obt...</td>\n",
       "      <td>creation</td>\n",
       "    </tr>\n",
       "    <tr>\n",
       "      <th>2</th>\n",
       "      <td>2</td>\n",
       "      <td>PMC4186879</td>\n",
       "      <td>All behavioral statistical analyses were perfo...</td>\n",
       "      <td>False</td>\n",
       "      <td>False</td>\n",
       "      <td>True</td>\n",
       "      <td>All behavioral statistical analyses were perfo...</td>\n",
       "      <td>2</td>\n",
       "      <td>All behavioral statistical analyses were perfo...</td>\n",
       "      <td>mention</td>\n",
       "    </tr>\n",
       "    <tr>\n",
       "      <th>3</th>\n",
       "      <td>3</td>\n",
       "      <td>PMC5026371</td>\n",
       "      <td>M-Track was written using Python 2.7, OpenCV 3...</td>\n",
       "      <td>True</td>\n",
       "      <td>False</td>\n",
       "      <td>False</td>\n",
       "      <td>NaN</td>\n",
       "      <td>1</td>\n",
       "      <td>M-Track was written using Python 2.7, OpenCV 3...</td>\n",
       "      <td>usage</td>\n",
       "    </tr>\n",
       "    <tr>\n",
       "      <th>4</th>\n",
       "      <td>4</td>\n",
       "      <td>PMC1283974</td>\n",
       "      <td>Mindboggle is a freely downloadable, open sour...</td>\n",
       "      <td>False</td>\n",
       "      <td>True</td>\n",
       "      <td>False</td>\n",
       "      <td>Mindboggle is a freely downloadable, open sour...</td>\n",
       "      <td>0</td>\n",
       "      <td>Mindboggle is a freely downloadable, open sour...</td>\n",
       "      <td>creation</td>\n",
       "    </tr>\n",
       "  </tbody>\n",
       "</table>\n",
       "</div>"
      ],
      "text/plain": [
       "   Unnamed: 0  ... label_descriptive\n",
       "0           0  ...          creation\n",
       "1           1  ...          creation\n",
       "2           2  ...           mention\n",
       "3           3  ...             usage\n",
       "4           4  ...          creation\n",
       "\n",
       "[5 rows x 10 columns]"
      ]
     },
     "execution_count": 5,
     "metadata": {},
     "output_type": "execute_result"
    }
   ],
   "source": [
    "final_data_df.head()"
   ]
  },
  {
   "cell_type": "code",
   "execution_count": 0,
   "metadata": {
    "application/vnd.databricks.v1+cell": {
     "cellMetadata": {
      "byteLimit": 2048000,
      "rowLimit": 10000
     },
     "inputWidgets": {},
     "nuid": "5de4fdad-4955-49b3-ad85-c512c98b17cc",
     "showTitle": false,
     "title": ""
    }
   },
   "outputs": [],
   "source": [
    "def get_labels(df):\n",
    "    final_labels = []\n",
    "    used_labels = df['used'].to_list()\n",
    "    created_labels = df['created'].to_list()\n",
    "    mention_labels = df['mention'].to_list()\n",
    "    sentences = df['sentence'].to_list()\n",
    "\n",
    "    for used_label, created_label, mention_label, sentence in zip(used_labels, created_labels, mention_labels, sentences):\n",
    "        final_label = 'no_label'\n",
    "        if used_label:\n",
    "            final_label = 'used'\n",
    "        elif created_label:\n",
    "            final_label = 'created'\n",
    "        elif mention_label:\n",
    "            final_label = 'mentioned'\n",
    "        num_true = int(used_label) + int(created_label) + int(mention_label)\n",
    "        if (num_true > 1):\n",
    "            print(sentence, num_true)\n",
    "        final_labels.append(final_label)\n",
    "    return final_labels"
   ]
  },
  {
   "cell_type": "code",
   "execution_count": 0,
   "metadata": {
    "application/vnd.databricks.v1+cell": {
     "cellMetadata": {
      "byteLimit": 2048000,
      "rowLimit": 10000
     },
     "inputWidgets": {},
     "nuid": "8cbfc9be-c62c-40d7-b2c6-e1922973c7f4",
     "showTitle": false,
     "title": ""
    }
   },
   "outputs": [],
   "source": [
    "X_train_df = pd.read_csv(ROOT_DIR + 'software_citation_intent_train.csv')\n",
    "X_test_df = pd.read_csv(ROOT_DIR + 'software_citation_intent_test.csv')\n",
    "update_context(X_train_df)\n",
    "update_context(X_test_df)\n",
    "\n",
    "labels = get_labels(X_train_df)\n",
    "X_train_df, X_val_df = train_test_split(X_train_df, test_size=0.2, stratify=labels, random_state=42)"
   ]
  },
  {
   "cell_type": "code",
   "execution_count": 0,
   "metadata": {
    "application/vnd.databricks.v1+cell": {
     "cellMetadata": {
      "byteLimit": 2048000,
      "rowLimit": 10000
     },
     "inputWidgets": {},
     "nuid": "0b50c539-39c5-460b-8f68-dac9ff690e8d",
     "showTitle": false,
     "title": ""
    }
   },
   "outputs": [],
   "source": [
    "train_sentences = X_train_df[pred_field].to_list()\n",
    "val_sentences = X_val_df[pred_field].to_list()\n",
    "test_sentences = X_test_df[pred_field].to_list()\n",
    "\n",
    "y_train = X_train_df['label_descriptive'].to_list()\n",
    "y_val = X_val_df['label_descriptive'].to_list()\n",
    "y_test = X_test_df['label_descriptive'].to_list()"
   ]
  },
  {
   "cell_type": "code",
   "execution_count": 0,
   "metadata": {
    "application/vnd.databricks.v1+cell": {
     "cellMetadata": {
      "byteLimit": 2048000,
      "rowLimit": 10000
     },
     "inputWidgets": {},
     "nuid": "eff04b28-ad04-4f2b-882c-52561995cef3",
     "showTitle": false,
     "title": ""
    }
   },
   "outputs": [
    {
     "output_type": "stream",
     "name": "stdout",
     "output_type": "stream",
     "text": [
      "Counter({'usage': 1436, 'none': 640, 'mention': 304, 'creation': 300})\nCounter({'usage': 359, 'none': 160, 'mention': 76, 'creation': 75})\nCounter({'usage': 449, 'none': 200, 'mention': 95, 'creation': 94})\n2680 670 838\n"
     ]
    }
   ],
   "source": [
    "print(Counter(y_train))\n",
    "print(Counter(y_val))\n",
    "print(Counter(y_test))\n",
    "print(len(X_train_df), len(X_val_df), len(X_test_df))"
   ]
  },
  {
   "cell_type": "markdown",
   "metadata": {
    "application/vnd.databricks.v1+cell": {
     "cellMetadata": {
      "byteLimit": 2048000,
      "rowLimit": 10000
     },
     "inputWidgets": {},
     "nuid": "d81fcd3d-ff87-4c07-8f5b-13b6cf756651",
     "showTitle": false,
     "title": ""
    }
   },
   "source": [
    "Convert to OpenAI fine-tuned format:\n",
    "```\n",
    "{\"messages\": \n",
    "  [{\"role\": \"system\", \"content\": \"Marv is a factual chatbot that is also sarcastic.\"}, \n",
    "  {\"role\": \"user\", \"content\": \"What's the capital of France?\"}, \n",
    "  {\"role\": \"assistant\", \"content\": \"Paris, as if everyone doesn't know that already.\"}]}\n",
    "\n",
    "{\"messages\": \n",
    "  [{\"role\": \"system\", \"content\": \"Marv is a factual chatbot that is also sarcastic.\"}, \n",
    "  {\"role\": \"user\", \"content\": \"Who wrote 'Romeo and Juliet'?\"}, \n",
    "  {\"role\": \"assistant\", \"content\": \"Oh, just some guy named William Shakespeare. Ever heard of him?\"}]}\n",
    "\n",
    "{\"messages\": \n",
    "  [{\"role\": \"system\", \"content\": \"Marv is a factual chatbot that is also sarcastic.\"}, \n",
    "  {\"role\": \"user\", \"content\": \"How far is the Moon from Earth?\"}, \n",
    "  {\"role\": \"assistant\", \"content\": \"Around 384,400 kilometers. Give or take a few, like that really matters.\"}]}\n",
    "```"
   ]
  },
  {
   "cell_type": "code",
   "execution_count": 0,
   "metadata": {
    "application/vnd.databricks.v1+cell": {
     "cellMetadata": {
      "byteLimit": 2048000,
      "rowLimit": 10000
     },
     "inputWidgets": {},
     "nuid": "61feb83e-7e40-40e9-be15-6acabade5a1f",
     "showTitle": false,
     "title": ""
    }
   },
   "outputs": [],
   "source": [
    "import json\n",
    "INITIAL_MESSAGE = {\"role\": \"system\", \n",
    "             \"content\": \"You are a scientist trying to figure out the citation intent behind software mentioned in sentences coming from research articles. Your four categories are: usage, creation, mention, or none. The definitions of the classes are: \\\n",
    "             - usage: software was used in the paper \\\n",
    "             - creation: software was created by the authors of the paper \\\n",
    "             - mention: software was mentioned in the paper, but not used, nor created \\\n",
    "             - none: none of the previous 3 categories apply \\\n",
    "             You need to output one category only.\"}\n",
    "\n",
    "jsonl_train = ROOT_DIR + 'gpt3.5-software-citation-intent-train-data.jsonl'\n",
    "jsonl_val = ROOT_DIR + 'gpt3.5-software-citation-intent-val-data.jsonl'\n",
    "jsonl_test = ROOT_DIR + 'gpt3.5-software-citation-intent-test-data.jsonl'\n",
    "\n",
    "def generate_jsonl_file(jsonl_filename, sentences, labels):\n",
    "        with open(jsonl_filename, mode='w') as f:\n",
    "                for sentence, label in zip(sentences, labels):\n",
    "                        message = {\"messages\" : [INITIAL_MESSAGE, \n",
    "                                {'role' : 'user', 'content' : sentence},\n",
    "                                {'role' : 'assistant', 'content' : label}]}\n",
    "                        f.write(json.dumps(message) + \"\\n\")"
   ]
  },
  {
   "cell_type": "code",
   "execution_count": 0,
   "metadata": {
    "application/vnd.databricks.v1+cell": {
     "cellMetadata": {
      "byteLimit": 2048000,
      "rowLimit": 10000
     },
     "inputWidgets": {},
     "nuid": "8e91d1ef-8212-40bd-9aa2-172caea9f405",
     "showTitle": false,
     "title": ""
    }
   },
   "outputs": [],
   "source": [
    "generate_jsonl_file(jsonl_train, train_sentences, y_train)\n",
    "generate_jsonl_file(jsonl_val, val_sentences, y_val)\n",
    "generate_jsonl_file(jsonl_test, test_sentences, y_test)"
   ]
  },
  {
   "cell_type": "markdown",
   "metadata": {
    "application/vnd.databricks.v1+cell": {
     "cellMetadata": {
      "byteLimit": 2048000,
      "rowLimit": 10000
     },
     "inputWidgets": {},
     "nuid": "56fb9592-bbe6-4ec4-9c36-d6706ae16ae9",
     "showTitle": false,
     "title": ""
    }
   },
   "source": [
    "## Fine-tuning model"
   ]
  },
  {
   "cell_type": "code",
   "execution_count": 0,
   "metadata": {
    "application/vnd.databricks.v1+cell": {
     "cellMetadata": {
      "byteLimit": 2048000,
      "rowLimit": 10000
     },
     "inputWidgets": {},
     "nuid": "714e769f-6866-4b08-b2c1-311a252cfe30",
     "showTitle": false,
     "title": ""
    }
   },
   "outputs": [],
   "source": [
    "train_file_id = openai.File.create(\n",
    "  file=open(ROOT_DIR + 'gpt3.5-software-citation-intent-train-data.jsonl', \"rb\"),\n",
    "  purpose='fine-tune'\n",
    ")['id']"
   ]
  },
  {
   "cell_type": "code",
   "execution_count": 0,
   "metadata": {
    "application/vnd.databricks.v1+cell": {
     "cellMetadata": {
      "byteLimit": 2048000,
      "rowLimit": 10000
     },
     "inputWidgets": {},
     "nuid": "22179c6a-2631-48e4-9349-ae045a8fb2de",
     "showTitle": false,
     "title": ""
    }
   },
   "outputs": [],
   "source": [
    "val_file_id = openai.File.create(\n",
    "  file=open(ROOT_DIR + 'gpt3.5-software-citation-intent-val-data.jsonl', \"rb\"),\n",
    "  purpose='fine-tune'\n",
    ")['id']"
   ]
  },
  {
   "cell_type": "code",
   "execution_count": 0,
   "metadata": {
    "application/vnd.databricks.v1+cell": {
     "cellMetadata": {
      "byteLimit": 2048000,
      "rowLimit": 10000
     },
     "inputWidgets": {},
     "nuid": "68a83519-dda4-4195-ac51-6ccadeea44d0",
     "showTitle": false,
     "title": ""
    }
   },
   "outputs": [
    {
     "output_type": "execute_result",
     "data": {
      "text/plain": [
       "<FineTuningJob fine_tuning.job id=ftjob-E97IKtm2bRHI50K4HkID1tFA at 0x7f38cdc8d4e0> JSON: {\n",
       "  \"object\": \"fine_tuning.job\",\n",
       "  \"id\": \"ftjob-E97IKtm2bRHI50K4HkID1tFA\",\n",
       "  \"model\": \"gpt-3.5-turbo-0613\",\n",
       "  \"created_at\": 1698418067,\n",
       "  \"finished_at\": null,\n",
       "  \"fine_tuned_model\": null,\n",
       "  \"organization_id\": \"org-MLQFahmMO0SVF8xGt92L8edn\",\n",
       "  \"result_files\": [],\n",
       "  \"status\": \"validating_files\",\n",
       "  \"validation_file\": \"file-0aJuTQmZJkeQm1K0HGQEpIqQ\",\n",
       "  \"training_file\": \"file-Jf2bBSXoUH7gR1IYL0OupQHL\",\n",
       "  \"hyperparameters\": {\n",
       "    \"n_epochs\": 5\n",
       "  },\n",
       "  \"trained_tokens\": null,\n",
       "  \"error\": null\n",
       "}"
      ]
     },
     "execution_count": 51,
     "metadata": {},
     "output_type": "execute_result"
    }
   ],
   "source": [
    "openai.FineTuningJob.create(training_file=train_file_id, validation_file = val_file_id, model=\"gpt-3.5-turbo\", hyperparameters = {'n_epochs' : 5})"
   ]
  },
  {
   "cell_type": "markdown",
   "metadata": {
    "application/vnd.databricks.v1+cell": {
     "cellMetadata": {
      "byteLimit": 2048000,
      "rowLimit": 10000
     },
     "inputWidgets": {},
     "nuid": "aa2be987-d49a-4917-9f48-8e94b70bbda0",
     "showTitle": false,
     "title": ""
    }
   },
   "source": [
    "## Use in inference mode"
   ]
  },
  {
   "cell_type": "code",
   "execution_count": 0,
   "metadata": {
    "application/vnd.databricks.v1+cell": {
     "cellMetadata": {
      "byteLimit": 2048000,
      "rowLimit": 10000
     },
     "inputWidgets": {},
     "nuid": "f293875d-682e-47a2-9c0f-724c544eef4d",
     "showTitle": false,
     "title": ""
    }
   },
   "outputs": [],
   "source": [
    "def get_gpt_predicted_labels(test_sentences, has_true_labels, true_labels = []):\n",
    "  predicted_labels = []\n",
    "  true_labels_completed = []\n",
    "  for i, x in enumerate(test_sentences):\n",
    "    print('Sentence', i)\n",
    "    try:\n",
    "      completion = openai.ChatCompletion.create(\n",
    "        model=\"ft:gpt-3.5-turbo-0613:personal::8EJLzjK6\",\n",
    "        messages=[\n",
    "          INITIAL_MESSAGE,\n",
    "          {\"role\": \"user\", \"content\": x} \n",
    "        ],\n",
    "        request_timeout = 60\n",
    "      )\n",
    "      predicted_label = completion.choices[0].message['content']\n",
    "      predicted_labels.append(predicted_label)\n",
    "      if has_true_labels:\n",
    "        true_labels_completed.append(true_labels[i])\n",
    "    except:\n",
    "      print('oops got an error')\n",
    "      i -= 1\n",
    "      continue\n",
    "  return predicted_labels, true_labels_completed"
   ]
  },
  {
   "cell_type": "markdown",
   "metadata": {
    "application/vnd.databricks.v1+cell": {
     "cellMetadata": {
      "byteLimit": 2048000,
      "rowLimit": 10000
     },
     "inputWidgets": {},
     "nuid": "c7072fa1-5e25-4b38-9178-4fb7e594b0bd",
     "showTitle": false,
     "title": ""
    }
   },
   "source": [
    "## Evaluation"
   ]
  },
  {
   "cell_type": "markdown",
   "metadata": {
    "application/vnd.databricks.v1+cell": {
     "cellMetadata": {
      "byteLimit": 2048000,
      "rowLimit": 10000
     },
     "inputWidgets": {},
     "nuid": "55a21488-2ae9-40d1-977f-f531cab13ce1",
     "showTitle": false,
     "title": ""
    }
   },
   "source": [
    "#### Test dataset"
   ]
  },
  {
   "cell_type": "code",
   "execution_count": 0,
   "metadata": {
    "application/vnd.databricks.v1+cell": {
     "cellMetadata": {
      "byteLimit": 2048000,
      "rowLimit": 10000
     },
     "inputWidgets": {},
     "nuid": "ea837b3f-d2ca-46e6-affe-9c9b8b9acada",
     "showTitle": false,
     "title": ""
    }
   },
   "outputs": [],
   "source": [
    "def evaluate(true_labels, predicted_labels):\n",
    "    p, r, f1, support = precision_recall_fscore_support(true_labels, predicted_labels, average='macro')\n",
    "    accuracy = round(accuracy_score(true_labels, predicted_labels), 3)\n",
    "    print('Precision: ', round(p, 3), 'Recall: ', round(r, 3), 'F1:', round(f1, 3), 'Accuracy:', accuracy)\n",
    "    print(classification_report(true_labels, predicted_labels))"
   ]
  },
  {
   "cell_type": "code",
   "execution_count": 0,
   "metadata": {
    "application/vnd.databricks.v1+cell": {
     "cellMetadata": {
      "byteLimit": 2048000,
      "rowLimit": 10000
     },
     "inputWidgets": {},
     "nuid": "ab9c7bd5-0591-477f-a59b-32d3b538550b",
     "showTitle": false,
     "title": ""
    }
   },
   "outputs": [
    {
     "output_type": "execute_result",
     "data": {
      "text/plain": [
       "(838, 837)"
      ]
     },
     "execution_count": 54,
     "metadata": {},
     "output_type": "execute_result"
    }
   ],
   "source": [
    "len(test_sentences), len(test_sentences[:-1])"
   ]
  },
  {
   "cell_type": "code",
   "execution_count": 0,
   "metadata": {
    "application/vnd.databricks.v1+cell": {
     "cellMetadata": {
      "byteLimit": 2048000,
      "rowLimit": 10000
     },
     "inputWidgets": {},
     "nuid": "ef1d822b-cef3-4a36-bc05-d8b5f0aeed2c",
     "showTitle": false,
     "title": ""
    }
   },
   "outputs": [
    {
     "output_type": "stream",
     "name": "stdout",
     "output_type": "stream",
     "text": [
      "Sentence 0\noops got an error\nSentence 1\noops got an error\nSentence 2\noops got an error\nSentence 3\noops got an error\nSentence 4\noops got an error\nSentence 5\noops got an error\nSentence 6\noops got an error\nSentence 7\noops got an error\nSentence 8\noops got an error\nSentence 9\noops got an error\nSentence 10\noops got an error\nSentence 11\noops got an error\nSentence 12\noops got an error\nSentence 13\noops got an error\nSentence 14\noops got an error\nSentence 15\noops got an error\nSentence 16\noops got an error\nSentence 17\noops got an error\nSentence 18\noops got an error\nSentence 19\noops got an error\nSentence 20\noops got an error\nSentence 21\noops got an error\nSentence 22\noops got an error\nSentence 23\noops got an error\nSentence 24\noops got an error\nSentence 25\noops got an error\nSentence 26\noops got an error\nSentence 27\noops got an error\nSentence 28\noops got an error\nSentence 29\noops got an error\nSentence 30\noops got an error\nSentence 31\noops got an error\nSentence 32\noops got an error\nSentence 33\noops got an error\nSentence 34\noops got an error\nSentence 35\noops got an error\nSentence 36\noops got an error\nSentence 37\noops got an error\nSentence 38\noops got an error\nSentence 39\noops got an error\nSentence 40\noops got an error\nSentence 41\noops got an error\nSentence 42\noops got an error\nSentence 43\noops got an error\nSentence 44\noops got an error\nSentence 45\noops got an error\nSentence 46\noops got an error\nSentence 47\noops got an error\nSentence 48\noops got an error\nSentence 49\noops got an error\nSentence 50\noops got an error\nSentence 51\noops got an error\nSentence 52\noops got an error\nSentence 53\noops got an error\nSentence 54\noops got an error\nSentence 55\noops got an error\nSentence 56\noops got an error\nSentence 57\noops got an error\nSentence 58\noops got an error\nSentence 59\noops got an error\nSentence 60\noops got an error\nSentence 61\noops got an error\nSentence 62\noops got an error\nSentence 63\noops got an error\nSentence 64\noops got an error\nSentence 65\noops got an error\nSentence 66\noops got an error\nSentence 67\noops got an error\nSentence 68\noops got an error\nSentence 69\noops got an error\nSentence 70\noops got an error\nSentence 71\noops got an error\nSentence 72\noops got an error\nSentence 73\noops got an error\nSentence 74\noops got an error\nSentence 75\noops got an error\nSentence 76\noops got an error\nSentence 77\noops got an error\nSentence 78\noops got an error\nSentence 79\noops got an error\nSentence 80\noops got an error\nSentence 81\noops got an error\nSentence 82\noops got an error\nSentence 83\noops got an error\nSentence 84\noops got an error\nSentence 85\noops got an error\nSentence 86\noops got an error\nSentence 87\noops got an error\nSentence 88\noops got an error\nSentence 89\noops got an error\nSentence 90\noops got an error\nSentence 91\noops got an error\nSentence 92\noops got an error\nSentence 93\noops got an error\nSentence 94\noops got an error\nSentence 95\noops got an error\nSentence 96\noops got an error\nSentence 97\noops got an error\nSentence 98\noops got an error\nSentence 99\noops got an error\nSentence 100\noops got an error\nSentence 101\noops got an error\nSentence 102\noops got an error\nSentence 103\noops got an error\nSentence 104\noops got an error\nSentence 105\noops got an error\nSentence 106\noops got an error\nSentence 107\noops got an error\nSentence 108\noops got an error\nSentence 109\noops got an error\nSentence 110\noops got an error\nSentence 111\noops got an error\nSentence 112\noops got an error\nSentence 113\noops got an error\nSentence 114\noops got an error\nSentence 115\noops got an error\nSentence 116\noops got an error\nSentence 117\noops got an error\nSentence 118\noops got an error\nSentence 119\noops got an error\nSentence 120\noops got an error\nSentence 121\noops got an error\nSentence 122\noops got an error\nSentence 123\noops got an error\nSentence 124\noops got an error\nSentence 125\noops got an error\nSentence 126\noops got an error\nSentence 127\noops got an error\nSentence 128\noops got an error\nSentence 129\noops got an error\nSentence 130\noops got an error\nSentence 131\noops got an error\nSentence 132\noops got an error\nSentence 133\noops got an error\nSentence 134\noops got an error\nSentence 135\noops got an error\nSentence 136\noops got an error\nSentence 137\noops got an error\nSentence 138\noops got an error\nSentence 139\noops got an error\nSentence 140\noops got an error\nSentence 141\noops got an error\nSentence 142\noops got an error\nSentence 143\noops got an error\nSentence 144\noops got an error\nSentence 145\noops got an error\nSentence 146\noops got an error\nSentence 147\noops got an error\nSentence 148\noops got an error\nSentence 149\noops got an error\nSentence 150\noops got an error\nSentence 151\noops got an error\nSentence 152\noops got an error\nSentence 153\noops got an error\nSentence 154\noops got an error\nSentence 155\noops got an error\nSentence 156\noops got an error\nSentence 157\noops got an error\nSentence 158\noops got an error\nSentence 159\noops got an error\nSentence 160\noops got an error\nSentence 161\noops got an error\nSentence 162\noops got an error\nSentence 163\noops got an error\nSentence 164\noops got an error\nSentence 165\noops got an error\nSentence 166\noops got an error\nSentence 167\noops got an error\nSentence 168\noops got an error\nSentence 169\noops got an error\nSentence 170\noops got an error\nSentence 171\noops got an error\nSentence 172\noops got an error\nSentence 173\noops got an error\nSentence 174\noops got an error\nSentence 175\noops got an error\nSentence 176\noops got an error\nSentence 177\noops got an error\nSentence 178\noops got an error\nSentence 179\noops got an error\nSentence 180\noops got an error\nSentence 181\noops got an error\nSentence 182\noops got an error\nSentence 183\noops got an error\nSentence 184\noops got an error\nSentence 185\noops got an error\nSentence 186\noops got an error\nSentence 187\noops got an error\nSentence 188\noops got an error\nSentence 189\noops got an error\nSentence 190\noops got an error\nSentence 191\noops got an error\nSentence 192\noops got an error\nSentence 193\noops got an error\nSentence 194\noops got an error\nSentence 195\noops got an error\nSentence 196\noops got an error\nSentence 197\noops got an error\nSentence 198\noops got an error\nSentence 199\noops got an error\nSentence 200\noops got an error\nSentence 201\noops got an error\nSentence 202\noops got an error\nSentence 203\noops got an error\nSentence 204\noops got an error\nSentence 205\noops got an error\nSentence 206\noops got an error\nSentence 207\noops got an error\nSentence 208\noops got an error\nSentence 209\noops got an error\nSentence 210\noops got an error\nSentence 211\noops got an error\nSentence 212\noops got an error\nSentence 213\noops got an error\nSentence 214\noops got an error\nSentence 215\noops got an error\nSentence 216\noops got an error\nSentence 217\noops got an error\nSentence 218\noops got an error\nSentence 219\noops got an error\nSentence 220\noops got an error\nSentence 221\noops got an error\nSentence 222\noops got an error\nSentence 223\noops got an error\nSentence 224\noops got an error\nSentence 225\noops got an error\nSentence 226\noops got an error\nSentence 227\noops got an error\nSentence 228\noops got an error\nSentence 229\noops got an error\nSentence 230\noops got an error\nSentence 231\noops got an error\nSentence 232\noops got an error\nSentence 233\noops got an error\nSentence 234\noops got an error\nSentence 235\noops got an error\nSentence 236\noops got an error\nSentence 237\noops got an error\nSentence 238\noops got an error\nSentence 239\noops got an error\nSentence 240\noops got an error\nSentence 241\noops got an error\nSentence 242\noops got an error\nSentence 243\noops got an error\nSentence 244\noops got an error\nSentence 245\noops got an error\nSentence 246\noops got an error\nSentence 247\noops got an error\nSentence 248\noops got an error\nSentence 249\noops got an error\nSentence 250\noops got an error\nSentence 251\noops got an error\nSentence 252\noops got an error\nSentence 253\noops got an error\nSentence 254\noops got an error\nSentence 255\noops got an error\nSentence 256\noops got an error\nSentence 257\noops got an error\nSentence 258\noops got an error\nSentence 259\noops got an error\nSentence 260\noops got an error\nSentence 261\noops got an error\nSentence 262\noops got an error\nSentence 263\noops got an error\nSentence 264\noops got an error\nSentence 265\noops got an error\nSentence 266\noops got an error\nSentence 267\noops got an error\nSentence 268\noops got an error\nSentence 269\noops got an error\nSentence 270\noops got an error\nSentence 271\noops got an error\nSentence 272\noops got an error\nSentence 273\noops got an error\nSentence 274\noops got an error\nSentence 275\noops got an error\nSentence 276\noops got an error\nSentence 277\noops got an error\nSentence 278\noops got an error\nSentence 279\noops got an error\nSentence 280\noops got an error\nSentence 281\noops got an error\nSentence 282\noops got an error\nSentence 283\noops got an error\nSentence 284\noops got an error\nSentence 285\noops got an error\nSentence 286\noops got an error\nSentence 287\noops got an error\nSentence 288\noops got an error\nSentence 289\noops got an error\nSentence 290\noops got an error\nSentence 291\noops got an error\nSentence 292\noops got an error\nSentence 293\noops got an error\nSentence 294\noops got an error\nSentence 295\noops got an error\nSentence 296\noops got an error\nSentence 297\noops got an error\nSentence 298\noops got an error\nSentence 299\noops got an error\nSentence 300\noops got an error\nSentence 301\noops got an error\nSentence 302\noops got an error\nSentence 303\noops got an error\nSentence 304\noops got an error\nSentence 305\noops got an error\nSentence 306\noops got an error\nSentence 307\noops got an error\nSentence 308\noops got an error\nSentence 309\noops got an error\nSentence 310\noops got an error\nSentence 311\noops got an error\nSentence 312\noops got an error\nSentence 313\noops got an error\nSentence 314\noops got an error\nSentence 315\noops got an error\nSentence 316\noops got an error\nSentence 317\noops got an error\nSentence 318\noops got an error\nSentence 319\noops got an error\nSentence 320\noops got an error\nSentence 321\noops got an error\nSentence 322\noops got an error\nSentence 323\noops got an error\nSentence 324\noops got an error\nSentence 325\noops got an error\nSentence 326\noops got an error\nSentence 327\noops got an error\nSentence 328\noops got an error\nSentence 329\noops got an error\nSentence 330\noops got an error\nSentence 331\noops got an error\nSentence 332\noops got an error\nSentence 333\noops got an error\nSentence 334\noops got an error\nSentence 335\noops got an error\nSentence 336\noops got an error\nSentence 337\noops got an error\nSentence 338\noops got an error\nSentence 339\noops got an error\nSentence 340\noops got an error\nSentence 341\noops got an error\nSentence 342\noops got an error\nSentence 343\noops got an error\nSentence 344\noops got an error\nSentence 345\noops got an error\nSentence 346\noops got an error\nSentence 347\noops got an error\nSentence 348\noops got an error\nSentence 349\noops got an error\nSentence 350\noops got an error\nSentence 351\noops got an error\nSentence 352\noops got an error\nSentence 353\noops got an error\nSentence 354\noops got an error\nSentence 355\noops got an error\nSentence 356\noops got an error\nSentence 357\noops got an error\nSentence 358\noops got an error\nSentence 359\noops got an error\nSentence 360\noops got an error\nSentence 361\noops got an error\nSentence 362\noops got an error\nSentence 363\noops got an error\nSentence 364\noops got an error\nSentence 365\noops got an error\nSentence 366\noops got an error\nSentence 367\noops got an error\nSentence 368\noops got an error\nSentence 369\noops got an error\nSentence 370\noops got an error\nSentence 371\noops got an error\nSentence 372\noops got an error\nSentence 373\noops got an error\nSentence 374\noops got an error\nSentence 375\noops got an error\nSentence 376\noops got an error\nSentence 377\noops got an error\nSentence 378\noops got an error\nSentence 379\noops got an error\nSentence 380\noops got an error\nSentence 381\noops got an error\nSentence 382\noops got an error\nSentence 383\noops got an error\nSentence 384\noops got an error\nSentence 385\noops got an error\nSentence 386\noops got an error\nSentence 387\noops got an error\nSentence 388\noops got an error\nSentence 389\noops got an error\nSentence 390\noops got an error\nSentence 391\noops got an error\nSentence 392\noops got an error\nSentence 393\noops got an error\nSentence 394\noops got an error\nSentence 395\noops got an error\nSentence 396\noops got an error\nSentence 397\noops got an error\nSentence 398\noops got an error\nSentence 399\noops got an error\nSentence 400\noops got an error\nSentence 401\noops got an error\nSentence 402\noops got an error\nSentence 403\noops got an error\nSentence 404\noops got an error\nSentence 405\noops got an error\nSentence 406\noops got an error\nSentence 407\noops got an error\nSentence 408\noops got an error\nSentence 409\noops got an error\nSentence 410\noops got an error\nSentence 411\noops got an error\nSentence 412\noops got an error\nSentence 413\noops got an error\nSentence 414\noops got an error\nSentence 415\noops got an error\nSentence 416\noops got an error\nSentence 417\noops got an error\nSentence 418\noops got an error\nSentence 419\noops got an error\nSentence 420\noops got an error\nSentence 421\noops got an error\nSentence 422\noops got an error\nSentence 423\noops got an error\nSentence 424\noops got an error\nSentence 425\noops got an error\nSentence 426\noops got an error\nSentence 427\noops got an error\nSentence 428\noops got an error\nSentence 429\noops got an error\nSentence 430\noops got an error\nSentence 431\noops got an error\nSentence 432\noops got an error\nSentence 433\noops got an error\nSentence 434\noops got an error\nSentence 435\noops got an error\nSentence 436\noops got an error\nSentence 437\noops got an error\nSentence 438\noops got an error\nSentence 439\noops got an error\nSentence 440\noops got an error\nSentence 441\noops got an error\nSentence 442\noops got an error\nSentence 443\noops got an error\nSentence 444\noops got an error\nSentence 445\noops got an error\nSentence 446\noops got an error\nSentence 447\noops got an error\nSentence 448\noops got an error\nSentence 449\noops got an error\nSentence 450\noops got an error\nSentence 451\noops got an error\nSentence 452\noops got an error\nSentence 453\noops got an error\nSentence 454\noops got an error\nSentence 455\noops got an error\nSentence 456\noops got an error\nSentence 457\noops got an error\nSentence 458\noops got an error\nSentence 459\noops got an error\nSentence 460\noops got an error\nSentence 461\noops got an error\nSentence 462\noops got an error\nSentence 463\noops got an error\nSentence 464\noops got an error\nSentence 465\noops got an error\nSentence 466\noops got an error\nSentence 467\noops got an error\nSentence 468\noops got an error\nSentence 469\noops got an error\nSentence 470\noops got an error\nSentence 471\noops got an error\nSentence 472\noops got an error\nSentence 473\noops got an error\nSentence 474\noops got an error\nSentence 475\noops got an error\nSentence 476\noops got an error\nSentence 477\noops got an error\nSentence 478\noops got an error\nSentence 479\noops got an error\nSentence 480\noops got an error\nSentence 481\noops got an error\nSentence 482\noops got an error\nSentence 483\noops got an error\nSentence 484\noops got an error\nSentence 485\noops got an error\nSentence 486\noops got an error\nSentence 487\noops got an error\nSentence 488\noops got an error\nSentence 489\noops got an error\nSentence 490\noops got an error\nSentence 491\noops got an error\nSentence 492\noops got an error\nSentence 493\noops got an error\nSentence 494\noops got an error\nSentence 495\noops got an error\nSentence 496\noops got an error\nSentence 497\noops got an error\nSentence 498\noops got an error\nSentence 499\noops got an error\nSentence 500\noops got an error\nSentence 501\noops got an error\nSentence 502\noops got an error\nSentence 503\noops got an error\nSentence 504\noops got an error\nSentence 505\noops got an error\nSentence 506\noops got an error\nSentence 507\noops got an error\nSentence 508\noops got an error\nSentence 509\noops got an error\nSentence 510\noops got an error\nSentence 511\noops got an error\nSentence 512\noops got an error\nSentence 513\noops got an error\nSentence 514\noops got an error\nSentence 515\noops got an error\nSentence 516\noops got an error\nSentence 517\noops got an error\nSentence 518\noops got an error\nSentence 519\noops got an error\nSentence 520\noops got an error\nSentence 521\noops got an error\nSentence 522\noops got an error\nSentence 523\noops got an error\nSentence 524\noops got an error\nSentence 525\noops got an error\nSentence 526\noops got an error\nSentence 527\noops got an error\nSentence 528\noops got an error\nSentence 529\noops got an error\nSentence 530\noops got an error\nSentence 531\noops got an error\nSentence 532\noops got an error\nSentence 533\noops got an error\nSentence 534\noops got an error\nSentence 535\noops got an error\nSentence 536\noops got an error\nSentence 537\noops got an error\nSentence 538\noops got an error\nSentence 539\noops got an error\nSentence 540\noops got an error\nSentence 541\noops got an error\nSentence 542\noops got an error\nSentence 543\noops got an error\nSentence 544\noops got an error\nSentence 545\noops got an error\nSentence 546\noops got an error\nSentence 547\noops got an error\nSentence 548\noops got an error\nSentence 549\noops got an error\nSentence 550\noops got an error\nSentence 551\noops got an error\nSentence 552\noops got an error\nSentence 553\noops got an error\nSentence 554\noops got an error\nSentence 555\noops got an error\nSentence 556\noops got an error\nSentence 557\noops got an error\nSentence 558\noops got an error\nSentence 559\noops got an error\nSentence 560\noops got an error\nSentence 561\noops got an error\nSentence 562\noops got an error\nSentence 563\noops got an error\nSentence 564\noops got an error\nSentence 565\noops got an error\nSentence 566\noops got an error\nSentence 567\noops got an error\nSentence 568\noops got an error\nSentence 569\noops got an error\nSentence 570\noops got an error\nSentence 571\noops got an error\nSentence 572\noops got an error\nSentence 573\noops got an error\nSentence 574\noops got an error\nSentence 575\noops got an error\nSentence 576\noops got an error\nSentence 577\noops got an error\nSentence 578\noops got an error\nSentence 579\noops got an error\nSentence 580\noops got an error\nSentence 581\noops got an error\nSentence 582\noops got an error\nSentence 583\noops got an error\nSentence 584\noops got an error\nSentence 585\noops got an error\nSentence 586\noops got an error\nSentence 587\noops got an error\nSentence 588\noops got an error\nSentence 589\noops got an error\nSentence 590\noops got an error\nSentence 591\noops got an error\nSentence 592\noops got an error\nSentence 593\noops got an error\nSentence 594\noops got an error\nSentence 595\noops got an error\nSentence 596\noops got an error\nSentence 597\noops got an error\nSentence 598\noops got an error\nSentence 599\noops got an error\nSentence 600\noops got an error\nSentence 601\noops got an error\nSentence 602\noops got an error\nSentence 603\noops got an error\nSentence 604\noops got an error\nSentence 605\noops got an error\nSentence 606\noops got an error\nSentence 607\noops got an error\nSentence 608\noops got an error\nSentence 609\noops got an error\nSentence 610\noops got an error\nSentence 611\noops got an error\nSentence 612\noops got an error\nSentence 613\noops got an error\nSentence 614\noops got an error\nSentence 615\noops got an error\nSentence 616\noops got an error\nSentence 617\noops got an error\nSentence 618\noops got an error\nSentence 619\noops got an error\nSentence 620\noops got an error\nSentence 621\noops got an error\nSentence 622\noops got an error\nSentence 623\noops got an error\nSentence 624\noops got an error\nSentence 625\noops got an error\nSentence 626\noops got an error\nSentence 627\noops got an error\nSentence 628\noops got an error\nSentence 629\noops got an error\nSentence 630\noops got an error\nSentence 631\noops got an error\nSentence 632\noops got an error\nSentence 633\noops got an error\nSentence 634\noops got an error\nSentence 635\noops got an error\nSentence 636\noops got an error\nSentence 637\noops got an error\nSentence 638\noops got an error\nSentence 639\noops got an error\nSentence 640\noops got an error\nSentence 641\noops got an error\nSentence 642\noops got an error\nSentence 643\noops got an error\nSentence 644\noops got an error\nSentence 645\noops got an error\nSentence 646\noops got an error\nSentence 647\noops got an error\nSentence 648\noops got an error\nSentence 649\noops got an error\nSentence 650\noops got an error\nSentence 651\noops got an error\nSentence 652\noops got an error\nSentence 653\noops got an error\nSentence 654\noops got an error\nSentence 655\noops got an error\nSentence 656\noops got an error\nSentence 657\noops got an error\nSentence 658\noops got an error\nSentence 659\noops got an error\nSentence 660\noops got an error\nSentence 661\noops got an error\nSentence 662\noops got an error\nSentence 663\noops got an error\nSentence 664\noops got an error\nSentence 665\noops got an error\nSentence 666\noops got an error\nSentence 667\noops got an error\nSentence 668\noops got an error\nSentence 669\noops got an error\nSentence 670\noops got an error\nSentence 671\noops got an error\nSentence 672\noops got an error\nSentence 673\noops got an error\nSentence 674\noops got an error\nSentence 675\noops got an error\nSentence 676\noops got an error\nSentence 677\noops got an error\nSentence 678\noops got an error\nSentence 679\noops got an error\nSentence 680\noops got an error\nSentence 681\noops got an error\nSentence 682\noops got an error\nSentence 683\noops got an error\nSentence 684\noops got an error\nSentence 685\noops got an error\nSentence 686\noops got an error\nSentence 687\noops got an error\nSentence 688\noops got an error\nSentence 689\noops got an error\nSentence 690\noops got an error\nSentence 691\noops got an error\nSentence 692\noops got an error\nSentence 693\noops got an error\nSentence 694\noops got an error\nSentence 695\noops got an error\nSentence 696\noops got an error\nSentence 697\noops got an error\nSentence 698\noops got an error\nSentence 699\noops got an error\nSentence 700\noops got an error\nSentence 701\noops got an error\nSentence 702\noops got an error\nSentence 703\noops got an error\nSentence 704\noops got an error\nSentence 705\noops got an error\nSentence 706\noops got an error\nSentence 707\noops got an error\nSentence 708\noops got an error\nSentence 709\noops got an error\nSentence 710\noops got an error\nSentence 711\noops got an error\nSentence 712\noops got an error\nSentence 713\noops got an error\nSentence 714\noops got an error\nSentence 715\noops got an error\nSentence 716\noops got an error\nSentence 717\noops got an error\nSentence 718\noops got an error\nSentence 719\noops got an error\nSentence 720\noops got an error\nSentence 721\noops got an error\nSentence 722\noops got an error\nSentence 723\noops got an error\nSentence 724\noops got an error\nSentence 725\noops got an error\nSentence 726\noops got an error\nSentence 727\noops got an error\nSentence 728\noops got an error\nSentence 729\noops got an error\nSentence 730\noops got an error\nSentence 731\noops got an error\nSentence 732\noops got an error\nSentence 733\noops got an error\nSentence 734\noops got an error\nSentence 735\noops got an error\nSentence 736\noops got an error\nSentence 737\noops got an error\nSentence 738\noops got an error\nSentence 739\noops got an error\nSentence 740\noops got an error\nSentence 741\noops got an error\nSentence 742\noops got an error\nSentence 743\noops got an error\nSentence 744\noops got an error\nSentence 745\noops got an error\nSentence 746\noops got an error\nSentence 747\noops got an error\nSentence 748\noops got an error\nSentence 749\noops got an error\nSentence 750\noops got an error\nSentence 751\noops got an error\nSentence 752\noops got an error\nSentence 753\noops got an error\nSentence 754\noops got an error\nSentence 755\noops got an error\nSentence 756\noops got an error\nSentence 757\noops got an error\nSentence 758\noops got an error\nSentence 759\noops got an error\nSentence 760\noops got an error\nSentence 761\noops got an error\nSentence 762\noops got an error\nSentence 763\noops got an error\nSentence 764\noops got an error\nSentence 765\noops got an error\nSentence 766\noops got an error\nSentence 767\noops got an error\nSentence 768\noops got an error\nSentence 769\noops got an error\nSentence 770\noops got an error\nSentence 771\noops got an error\nSentence 772\noops got an error\nSentence 773\noops got an error\nSentence 774\noops got an error\nSentence 775\noops got an error\nSentence 776\noops got an error\nSentence 777\noops got an error\nSentence 778\noops got an error\nSentence 779\noops got an error\nSentence 780\noops got an error\nSentence 781\noops got an error\nSentence 782\noops got an error\nSentence 783\noops got an error\nSentence 784\noops got an error\nSentence 785\noops got an error\nSentence 786\noops got an error\nSentence 787\noops got an error\nSentence 788\noops got an error\nSentence 789\noops got an error\nSentence 790\noops got an error\nSentence 791\noops got an error\nSentence 792\noops got an error\nSentence 793\noops got an error\nSentence 794\noops got an error\nSentence 795\noops got an error\nSentence 796\noops got an error\nSentence 797\noops got an error\nSentence 798\noops got an error\nSentence 799\noops got an error\nSentence 800\noops got an error\nSentence 801\noops got an error\nSentence 802\noops got an error\nSentence 803\noops got an error\nSentence 804\noops got an error\nSentence 805\noops got an error\nSentence 806\noops got an error\nSentence 807\noops got an error\nSentence 808\noops got an error\nSentence 809\noops got an error\nSentence 810\noops got an error\nSentence 811\noops got an error\nSentence 812\noops got an error\nSentence 813\noops got an error\nSentence 814\noops got an error\nSentence 815\noops got an error\nSentence 816\noops got an error\nSentence 817\noops got an error\nSentence 818\noops got an error\nSentence 819\noops got an error\nSentence 820\noops got an error\nSentence 821\noops got an error\nSentence 822\noops got an error\nSentence 823\noops got an error\nSentence 824\noops got an error\nSentence 825\noops got an error\nSentence 826\noops got an error\nSentence 827\noops got an error\nSentence 828\noops got an error\nSentence 829\noops got an error\nSentence 830\noops got an error\nSentence 831\noops got an error\nSentence 832\noops got an error\nSentence 833\noops got an error\nSentence 834\noops got an error\nSentence 835\noops got an error\nSentence 836\noops got an error\nPrecision:  nan Recall:  nan F1: nan Accuracy: nan\n"
     ]
    },
    {
     "output_type": "display_data",
     "data": {
      "text/plain": [
       "\u001B[0;31m---------------------------------------------------------------------------\u001B[0m\n",
       "\u001B[0;31mValueError\u001B[0m                                Traceback (most recent call last)\n",
       "File \u001B[0;32m<command-3494665154906555>, line 3\u001B[0m\n",
       "\u001B[1;32m      1\u001B[0m n \u001B[38;5;241m=\u001B[39m \u001B[38;5;241m-\u001B[39m\u001B[38;5;241m1\u001B[39m\n",
       "\u001B[1;32m      2\u001B[0m y_pred, y_true_completed \u001B[38;5;241m=\u001B[39m get_gpt_predicted_labels(test_sentences[:n], \u001B[38;5;28;01mTrue\u001B[39;00m, y_test[:n])\n",
       "\u001B[0;32m----> 3\u001B[0m evaluate(y_pred, y_true_completed)\n",
       "\n",
       "File \u001B[0;32m<command-2884248819784355>, line 5\u001B[0m, in \u001B[0;36mevaluate\u001B[0;34m(true_labels, predicted_labels)\u001B[0m\n",
       "\u001B[1;32m      3\u001B[0m accuracy \u001B[38;5;241m=\u001B[39m \u001B[38;5;28mround\u001B[39m(accuracy_score(true_labels, predicted_labels), \u001B[38;5;241m3\u001B[39m)\n",
       "\u001B[1;32m      4\u001B[0m \u001B[38;5;28mprint\u001B[39m(\u001B[38;5;124m'\u001B[39m\u001B[38;5;124mPrecision: \u001B[39m\u001B[38;5;124m'\u001B[39m, \u001B[38;5;28mround\u001B[39m(p, \u001B[38;5;241m3\u001B[39m), \u001B[38;5;124m'\u001B[39m\u001B[38;5;124mRecall: \u001B[39m\u001B[38;5;124m'\u001B[39m, \u001B[38;5;28mround\u001B[39m(r, \u001B[38;5;241m3\u001B[39m), \u001B[38;5;124m'\u001B[39m\u001B[38;5;124mF1:\u001B[39m\u001B[38;5;124m'\u001B[39m, \u001B[38;5;28mround\u001B[39m(f1, \u001B[38;5;241m3\u001B[39m), \u001B[38;5;124m'\u001B[39m\u001B[38;5;124mAccuracy:\u001B[39m\u001B[38;5;124m'\u001B[39m, accuracy)\n",
       "\u001B[0;32m----> 5\u001B[0m \u001B[38;5;28mprint\u001B[39m(\u001B[43mclassification_report\u001B[49m\u001B[43m(\u001B[49m\u001B[43mtrue_labels\u001B[49m\u001B[43m,\u001B[49m\u001B[43m \u001B[49m\u001B[43mpredicted_labels\u001B[49m\u001B[43m)\u001B[49m)\n",
       "\n",
       "File \u001B[0;32m/databricks/python/lib/python3.10/site-packages/mlflow/utils/autologging_utils/safety.py:571\u001B[0m, in \u001B[0;36msafe_patch.<locals>.safe_patch_function\u001B[0;34m(*args, **kwargs)\u001B[0m\n",
       "\u001B[1;32m    569\u001B[0m     patch_function\u001B[38;5;241m.\u001B[39mcall(call_original, \u001B[38;5;241m*\u001B[39margs, \u001B[38;5;241m*\u001B[39m\u001B[38;5;241m*\u001B[39mkwargs)\n",
       "\u001B[1;32m    570\u001B[0m \u001B[38;5;28;01melse\u001B[39;00m:\n",
       "\u001B[0;32m--> 571\u001B[0m     \u001B[43mpatch_function\u001B[49m\u001B[43m(\u001B[49m\u001B[43mcall_original\u001B[49m\u001B[43m,\u001B[49m\u001B[43m \u001B[49m\u001B[38;5;241;43m*\u001B[39;49m\u001B[43margs\u001B[49m\u001B[43m,\u001B[49m\u001B[43m \u001B[49m\u001B[38;5;241;43m*\u001B[39;49m\u001B[38;5;241;43m*\u001B[39;49m\u001B[43mkwargs\u001B[49m\u001B[43m)\u001B[49m\n",
       "\u001B[1;32m    573\u001B[0m session\u001B[38;5;241m.\u001B[39mstate \u001B[38;5;241m=\u001B[39m \u001B[38;5;124m\"\u001B[39m\u001B[38;5;124msucceeded\u001B[39m\u001B[38;5;124m\"\u001B[39m\n",
       "\u001B[1;32m    575\u001B[0m try_log_autologging_event(\n",
       "\u001B[1;32m    576\u001B[0m     AutologgingEventLogger\u001B[38;5;241m.\u001B[39mget_logger()\u001B[38;5;241m.\u001B[39mlog_patch_function_success,\n",
       "\u001B[1;32m    577\u001B[0m     session,\n",
       "\u001B[0;32m   (...)\u001B[0m\n",
       "\u001B[1;32m    581\u001B[0m     kwargs,\n",
       "\u001B[1;32m    582\u001B[0m )\n",
       "\n",
       "File \u001B[0;32m/databricks/python/lib/python3.10/site-packages/mlflow/sklearn/__init__.py:1694\u001B[0m, in \u001B[0;36m_autolog.<locals>.patched_metric_api\u001B[0;34m(original, *args, **kwargs)\u001B[0m\n",
       "\u001B[1;32m   1690\u001B[0m \u001B[38;5;28;01mif\u001B[39;00m _AUTOLOGGING_METRICS_MANAGER\u001B[38;5;241m.\u001B[39mshould_log_post_training_metrics():\n",
       "\u001B[1;32m   1691\u001B[0m     \u001B[38;5;66;03m# one metric api may call another metric api,\u001B[39;00m\n",
       "\u001B[1;32m   1692\u001B[0m     \u001B[38;5;66;03m# to avoid this, call disable_log_post_training_metrics to avoid nested patch\u001B[39;00m\n",
       "\u001B[1;32m   1693\u001B[0m     \u001B[38;5;28;01mwith\u001B[39;00m _AUTOLOGGING_METRICS_MANAGER\u001B[38;5;241m.\u001B[39mdisable_log_post_training_metrics():\n",
       "\u001B[0;32m-> 1694\u001B[0m         metric \u001B[38;5;241m=\u001B[39m \u001B[43moriginal\u001B[49m\u001B[43m(\u001B[49m\u001B[38;5;241;43m*\u001B[39;49m\u001B[43margs\u001B[49m\u001B[43m,\u001B[49m\u001B[43m \u001B[49m\u001B[38;5;241;43m*\u001B[39;49m\u001B[38;5;241;43m*\u001B[39;49m\u001B[43mkwargs\u001B[49m\u001B[43m)\u001B[49m\n",
       "\u001B[1;32m   1696\u001B[0m     \u001B[38;5;28;01mif\u001B[39;00m _AUTOLOGGING_METRICS_MANAGER\u001B[38;5;241m.\u001B[39mis_metric_value_loggable(metric):\n",
       "\u001B[1;32m   1697\u001B[0m         metric_name \u001B[38;5;241m=\u001B[39m original\u001B[38;5;241m.\u001B[39m\u001B[38;5;18m__name__\u001B[39m\n",
       "\n",
       "File \u001B[0;32m/databricks/python/lib/python3.10/site-packages/mlflow/utils/autologging_utils/safety.py:552\u001B[0m, in \u001B[0;36msafe_patch.<locals>.safe_patch_function.<locals>.call_original\u001B[0;34m(*og_args, **og_kwargs)\u001B[0m\n",
       "\u001B[1;32m    549\u001B[0m         original_result \u001B[38;5;241m=\u001B[39m original(\u001B[38;5;241m*\u001B[39m_og_args, \u001B[38;5;241m*\u001B[39m\u001B[38;5;241m*\u001B[39m_og_kwargs)\n",
       "\u001B[1;32m    550\u001B[0m         \u001B[38;5;28;01mreturn\u001B[39;00m original_result\n",
       "\u001B[0;32m--> 552\u001B[0m \u001B[38;5;28;01mreturn\u001B[39;00m \u001B[43mcall_original_fn_with_event_logging\u001B[49m\u001B[43m(\u001B[49m\u001B[43m_original_fn\u001B[49m\u001B[43m,\u001B[49m\u001B[43m \u001B[49m\u001B[43mog_args\u001B[49m\u001B[43m,\u001B[49m\u001B[43m \u001B[49m\u001B[43mog_kwargs\u001B[49m\u001B[43m)\u001B[49m\n",
       "\n",
       "File \u001B[0;32m/databricks/python/lib/python3.10/site-packages/mlflow/utils/autologging_utils/safety.py:487\u001B[0m, in \u001B[0;36msafe_patch.<locals>.safe_patch_function.<locals>.call_original_fn_with_event_logging\u001B[0;34m(original_fn, og_args, og_kwargs)\u001B[0m\n",
       "\u001B[1;32m    478\u001B[0m \u001B[38;5;28;01mtry\u001B[39;00m:\n",
       "\u001B[1;32m    479\u001B[0m     try_log_autologging_event(\n",
       "\u001B[1;32m    480\u001B[0m         AutologgingEventLogger\u001B[38;5;241m.\u001B[39mget_logger()\u001B[38;5;241m.\u001B[39mlog_original_function_start,\n",
       "\u001B[1;32m    481\u001B[0m         session,\n",
       "\u001B[0;32m   (...)\u001B[0m\n",
       "\u001B[1;32m    485\u001B[0m         og_kwargs,\n",
       "\u001B[1;32m    486\u001B[0m     )\n",
       "\u001B[0;32m--> 487\u001B[0m     original_fn_result \u001B[38;5;241m=\u001B[39m \u001B[43moriginal_fn\u001B[49m\u001B[43m(\u001B[49m\u001B[38;5;241;43m*\u001B[39;49m\u001B[43mog_args\u001B[49m\u001B[43m,\u001B[49m\u001B[43m \u001B[49m\u001B[38;5;241;43m*\u001B[39;49m\u001B[38;5;241;43m*\u001B[39;49m\u001B[43mog_kwargs\u001B[49m\u001B[43m)\u001B[49m\n",
       "\u001B[1;32m    489\u001B[0m     try_log_autologging_event(\n",
       "\u001B[1;32m    490\u001B[0m         AutologgingEventLogger\u001B[38;5;241m.\u001B[39mget_logger()\u001B[38;5;241m.\u001B[39mlog_original_function_success,\n",
       "\u001B[1;32m    491\u001B[0m         session,\n",
       "\u001B[0;32m   (...)\u001B[0m\n",
       "\u001B[1;32m    495\u001B[0m         og_kwargs,\n",
       "\u001B[1;32m    496\u001B[0m     )\n",
       "\u001B[1;32m    497\u001B[0m     \u001B[38;5;28;01mreturn\u001B[39;00m original_fn_result\n",
       "\n",
       "File \u001B[0;32m/databricks/python/lib/python3.10/site-packages/mlflow/utils/autologging_utils/safety.py:549\u001B[0m, in \u001B[0;36msafe_patch.<locals>.safe_patch_function.<locals>.call_original.<locals>._original_fn\u001B[0;34m(*_og_args, **_og_kwargs)\u001B[0m\n",
       "\u001B[1;32m    541\u001B[0m \u001B[38;5;66;03m# Show all non-MLflow warnings as normal (i.e. not as event logs)\u001B[39;00m\n",
       "\u001B[1;32m    542\u001B[0m \u001B[38;5;66;03m# during original function execution, even if silent mode is enabled\u001B[39;00m\n",
       "\u001B[1;32m    543\u001B[0m \u001B[38;5;66;03m# (`silent=True`), since these warnings originate from the ML framework\u001B[39;00m\n",
       "\u001B[1;32m    544\u001B[0m \u001B[38;5;66;03m# or one of its dependencies and are likely relevant to the caller\u001B[39;00m\n",
       "\u001B[1;32m    545\u001B[0m \u001B[38;5;28;01mwith\u001B[39;00m set_non_mlflow_warnings_behavior_for_current_thread(\n",
       "\u001B[1;32m    546\u001B[0m     disable_warnings\u001B[38;5;241m=\u001B[39m\u001B[38;5;28;01mFalse\u001B[39;00m,\n",
       "\u001B[1;32m    547\u001B[0m     reroute_warnings\u001B[38;5;241m=\u001B[39m\u001B[38;5;28;01mFalse\u001B[39;00m,\n",
       "\u001B[1;32m    548\u001B[0m ):\n",
       "\u001B[0;32m--> 549\u001B[0m     original_result \u001B[38;5;241m=\u001B[39m \u001B[43moriginal\u001B[49m\u001B[43m(\u001B[49m\u001B[38;5;241;43m*\u001B[39;49m\u001B[43m_og_args\u001B[49m\u001B[43m,\u001B[49m\u001B[43m \u001B[49m\u001B[38;5;241;43m*\u001B[39;49m\u001B[38;5;241;43m*\u001B[39;49m\u001B[43m_og_kwargs\u001B[49m\u001B[43m)\u001B[49m\n",
       "\u001B[1;32m    550\u001B[0m     \u001B[38;5;28;01mreturn\u001B[39;00m original_result\n",
       "\n",
       "File \u001B[0;32m/databricks/python/lib/python3.10/site-packages/sklearn/metrics/_classification.py:2178\u001B[0m, in \u001B[0;36mclassification_report\u001B[0;34m(y_true, y_pred, labels, target_names, sample_weight, digits, output_dict, zero_division)\u001B[0m\n",
       "\u001B[1;32m   2176\u001B[0m \u001B[38;5;28;01melse\u001B[39;00m:\n",
       "\u001B[1;32m   2177\u001B[0m     longest_last_line_heading \u001B[38;5;241m=\u001B[39m \u001B[38;5;124m\"\u001B[39m\u001B[38;5;124mweighted avg\u001B[39m\u001B[38;5;124m\"\u001B[39m\n",
       "\u001B[0;32m-> 2178\u001B[0m     name_width \u001B[38;5;241m=\u001B[39m \u001B[38;5;28;43mmax\u001B[39;49m\u001B[43m(\u001B[49m\u001B[38;5;28;43mlen\u001B[39;49m\u001B[43m(\u001B[49m\u001B[43mcn\u001B[49m\u001B[43m)\u001B[49m\u001B[43m \u001B[49m\u001B[38;5;28;43;01mfor\u001B[39;49;00m\u001B[43m \u001B[49m\u001B[43mcn\u001B[49m\u001B[43m \u001B[49m\u001B[38;5;129;43;01min\u001B[39;49;00m\u001B[43m \u001B[49m\u001B[43mtarget_names\u001B[49m\u001B[43m)\u001B[49m\n",
       "\u001B[1;32m   2179\u001B[0m     width \u001B[38;5;241m=\u001B[39m \u001B[38;5;28mmax\u001B[39m(name_width, \u001B[38;5;28mlen\u001B[39m(longest_last_line_heading), digits)\n",
       "\u001B[1;32m   2180\u001B[0m     head_fmt \u001B[38;5;241m=\u001B[39m \u001B[38;5;124m\"\u001B[39m\u001B[38;5;124m{\u001B[39m\u001B[38;5;124m:>\u001B[39m\u001B[38;5;132;01m{width}\u001B[39;00m\u001B[38;5;124ms} \u001B[39m\u001B[38;5;124m\"\u001B[39m \u001B[38;5;241m+\u001B[39m \u001B[38;5;124m\"\u001B[39m\u001B[38;5;124m \u001B[39m\u001B[38;5;132;01m{:>9}\u001B[39;00m\u001B[38;5;124m\"\u001B[39m \u001B[38;5;241m*\u001B[39m \u001B[38;5;28mlen\u001B[39m(headers)\n",
       "\n",
       "\u001B[0;31mValueError\u001B[0m: max() arg is an empty sequence"
      ]
     },
     "metadata": {
      "application/vnd.databricks.v1+output": {
       "arguments": {},
       "data": "\u001B[0;31m---------------------------------------------------------------------------\u001B[0m\n\u001B[0;31mValueError\u001B[0m                                Traceback (most recent call last)\nFile \u001B[0;32m<command-3494665154906555>, line 3\u001B[0m\n\u001B[1;32m      1\u001B[0m n \u001B[38;5;241m=\u001B[39m \u001B[38;5;241m-\u001B[39m\u001B[38;5;241m1\u001B[39m\n\u001B[1;32m      2\u001B[0m y_pred, y_true_completed \u001B[38;5;241m=\u001B[39m get_gpt_predicted_labels(test_sentences[:n], \u001B[38;5;28;01mTrue\u001B[39;00m, y_test[:n])\n\u001B[0;32m----> 3\u001B[0m evaluate(y_pred, y_true_completed)\n\nFile \u001B[0;32m<command-2884248819784355>, line 5\u001B[0m, in \u001B[0;36mevaluate\u001B[0;34m(true_labels, predicted_labels)\u001B[0m\n\u001B[1;32m      3\u001B[0m accuracy \u001B[38;5;241m=\u001B[39m \u001B[38;5;28mround\u001B[39m(accuracy_score(true_labels, predicted_labels), \u001B[38;5;241m3\u001B[39m)\n\u001B[1;32m      4\u001B[0m \u001B[38;5;28mprint\u001B[39m(\u001B[38;5;124m'\u001B[39m\u001B[38;5;124mPrecision: \u001B[39m\u001B[38;5;124m'\u001B[39m, \u001B[38;5;28mround\u001B[39m(p, \u001B[38;5;241m3\u001B[39m), \u001B[38;5;124m'\u001B[39m\u001B[38;5;124mRecall: \u001B[39m\u001B[38;5;124m'\u001B[39m, \u001B[38;5;28mround\u001B[39m(r, \u001B[38;5;241m3\u001B[39m), \u001B[38;5;124m'\u001B[39m\u001B[38;5;124mF1:\u001B[39m\u001B[38;5;124m'\u001B[39m, \u001B[38;5;28mround\u001B[39m(f1, \u001B[38;5;241m3\u001B[39m), \u001B[38;5;124m'\u001B[39m\u001B[38;5;124mAccuracy:\u001B[39m\u001B[38;5;124m'\u001B[39m, accuracy)\n\u001B[0;32m----> 5\u001B[0m \u001B[38;5;28mprint\u001B[39m(\u001B[43mclassification_report\u001B[49m\u001B[43m(\u001B[49m\u001B[43mtrue_labels\u001B[49m\u001B[43m,\u001B[49m\u001B[43m \u001B[49m\u001B[43mpredicted_labels\u001B[49m\u001B[43m)\u001B[49m)\n\nFile \u001B[0;32m/databricks/python/lib/python3.10/site-packages/mlflow/utils/autologging_utils/safety.py:571\u001B[0m, in \u001B[0;36msafe_patch.<locals>.safe_patch_function\u001B[0;34m(*args, **kwargs)\u001B[0m\n\u001B[1;32m    569\u001B[0m     patch_function\u001B[38;5;241m.\u001B[39mcall(call_original, \u001B[38;5;241m*\u001B[39margs, \u001B[38;5;241m*\u001B[39m\u001B[38;5;241m*\u001B[39mkwargs)\n\u001B[1;32m    570\u001B[0m \u001B[38;5;28;01melse\u001B[39;00m:\n\u001B[0;32m--> 571\u001B[0m     \u001B[43mpatch_function\u001B[49m\u001B[43m(\u001B[49m\u001B[43mcall_original\u001B[49m\u001B[43m,\u001B[49m\u001B[43m \u001B[49m\u001B[38;5;241;43m*\u001B[39;49m\u001B[43margs\u001B[49m\u001B[43m,\u001B[49m\u001B[43m \u001B[49m\u001B[38;5;241;43m*\u001B[39;49m\u001B[38;5;241;43m*\u001B[39;49m\u001B[43mkwargs\u001B[49m\u001B[43m)\u001B[49m\n\u001B[1;32m    573\u001B[0m session\u001B[38;5;241m.\u001B[39mstate \u001B[38;5;241m=\u001B[39m \u001B[38;5;124m\"\u001B[39m\u001B[38;5;124msucceeded\u001B[39m\u001B[38;5;124m\"\u001B[39m\n\u001B[1;32m    575\u001B[0m try_log_autologging_event(\n\u001B[1;32m    576\u001B[0m     AutologgingEventLogger\u001B[38;5;241m.\u001B[39mget_logger()\u001B[38;5;241m.\u001B[39mlog_patch_function_success,\n\u001B[1;32m    577\u001B[0m     session,\n\u001B[0;32m   (...)\u001B[0m\n\u001B[1;32m    581\u001B[0m     kwargs,\n\u001B[1;32m    582\u001B[0m )\n\nFile \u001B[0;32m/databricks/python/lib/python3.10/site-packages/mlflow/sklearn/__init__.py:1694\u001B[0m, in \u001B[0;36m_autolog.<locals>.patched_metric_api\u001B[0;34m(original, *args, **kwargs)\u001B[0m\n\u001B[1;32m   1690\u001B[0m \u001B[38;5;28;01mif\u001B[39;00m _AUTOLOGGING_METRICS_MANAGER\u001B[38;5;241m.\u001B[39mshould_log_post_training_metrics():\n\u001B[1;32m   1691\u001B[0m     \u001B[38;5;66;03m# one metric api may call another metric api,\u001B[39;00m\n\u001B[1;32m   1692\u001B[0m     \u001B[38;5;66;03m# to avoid this, call disable_log_post_training_metrics to avoid nested patch\u001B[39;00m\n\u001B[1;32m   1693\u001B[0m     \u001B[38;5;28;01mwith\u001B[39;00m _AUTOLOGGING_METRICS_MANAGER\u001B[38;5;241m.\u001B[39mdisable_log_post_training_metrics():\n\u001B[0;32m-> 1694\u001B[0m         metric \u001B[38;5;241m=\u001B[39m \u001B[43moriginal\u001B[49m\u001B[43m(\u001B[49m\u001B[38;5;241;43m*\u001B[39;49m\u001B[43margs\u001B[49m\u001B[43m,\u001B[49m\u001B[43m \u001B[49m\u001B[38;5;241;43m*\u001B[39;49m\u001B[38;5;241;43m*\u001B[39;49m\u001B[43mkwargs\u001B[49m\u001B[43m)\u001B[49m\n\u001B[1;32m   1696\u001B[0m     \u001B[38;5;28;01mif\u001B[39;00m _AUTOLOGGING_METRICS_MANAGER\u001B[38;5;241m.\u001B[39mis_metric_value_loggable(metric):\n\u001B[1;32m   1697\u001B[0m         metric_name \u001B[38;5;241m=\u001B[39m original\u001B[38;5;241m.\u001B[39m\u001B[38;5;18m__name__\u001B[39m\n\nFile \u001B[0;32m/databricks/python/lib/python3.10/site-packages/mlflow/utils/autologging_utils/safety.py:552\u001B[0m, in \u001B[0;36msafe_patch.<locals>.safe_patch_function.<locals>.call_original\u001B[0;34m(*og_args, **og_kwargs)\u001B[0m\n\u001B[1;32m    549\u001B[0m         original_result \u001B[38;5;241m=\u001B[39m original(\u001B[38;5;241m*\u001B[39m_og_args, \u001B[38;5;241m*\u001B[39m\u001B[38;5;241m*\u001B[39m_og_kwargs)\n\u001B[1;32m    550\u001B[0m         \u001B[38;5;28;01mreturn\u001B[39;00m original_result\n\u001B[0;32m--> 552\u001B[0m \u001B[38;5;28;01mreturn\u001B[39;00m \u001B[43mcall_original_fn_with_event_logging\u001B[49m\u001B[43m(\u001B[49m\u001B[43m_original_fn\u001B[49m\u001B[43m,\u001B[49m\u001B[43m \u001B[49m\u001B[43mog_args\u001B[49m\u001B[43m,\u001B[49m\u001B[43m \u001B[49m\u001B[43mog_kwargs\u001B[49m\u001B[43m)\u001B[49m\n\nFile \u001B[0;32m/databricks/python/lib/python3.10/site-packages/mlflow/utils/autologging_utils/safety.py:487\u001B[0m, in \u001B[0;36msafe_patch.<locals>.safe_patch_function.<locals>.call_original_fn_with_event_logging\u001B[0;34m(original_fn, og_args, og_kwargs)\u001B[0m\n\u001B[1;32m    478\u001B[0m \u001B[38;5;28;01mtry\u001B[39;00m:\n\u001B[1;32m    479\u001B[0m     try_log_autologging_event(\n\u001B[1;32m    480\u001B[0m         AutologgingEventLogger\u001B[38;5;241m.\u001B[39mget_logger()\u001B[38;5;241m.\u001B[39mlog_original_function_start,\n\u001B[1;32m    481\u001B[0m         session,\n\u001B[0;32m   (...)\u001B[0m\n\u001B[1;32m    485\u001B[0m         og_kwargs,\n\u001B[1;32m    486\u001B[0m     )\n\u001B[0;32m--> 487\u001B[0m     original_fn_result \u001B[38;5;241m=\u001B[39m \u001B[43moriginal_fn\u001B[49m\u001B[43m(\u001B[49m\u001B[38;5;241;43m*\u001B[39;49m\u001B[43mog_args\u001B[49m\u001B[43m,\u001B[49m\u001B[43m \u001B[49m\u001B[38;5;241;43m*\u001B[39;49m\u001B[38;5;241;43m*\u001B[39;49m\u001B[43mog_kwargs\u001B[49m\u001B[43m)\u001B[49m\n\u001B[1;32m    489\u001B[0m     try_log_autologging_event(\n\u001B[1;32m    490\u001B[0m         AutologgingEventLogger\u001B[38;5;241m.\u001B[39mget_logger()\u001B[38;5;241m.\u001B[39mlog_original_function_success,\n\u001B[1;32m    491\u001B[0m         session,\n\u001B[0;32m   (...)\u001B[0m\n\u001B[1;32m    495\u001B[0m         og_kwargs,\n\u001B[1;32m    496\u001B[0m     )\n\u001B[1;32m    497\u001B[0m     \u001B[38;5;28;01mreturn\u001B[39;00m original_fn_result\n\nFile \u001B[0;32m/databricks/python/lib/python3.10/site-packages/mlflow/utils/autologging_utils/safety.py:549\u001B[0m, in \u001B[0;36msafe_patch.<locals>.safe_patch_function.<locals>.call_original.<locals>._original_fn\u001B[0;34m(*_og_args, **_og_kwargs)\u001B[0m\n\u001B[1;32m    541\u001B[0m \u001B[38;5;66;03m# Show all non-MLflow warnings as normal (i.e. not as event logs)\u001B[39;00m\n\u001B[1;32m    542\u001B[0m \u001B[38;5;66;03m# during original function execution, even if silent mode is enabled\u001B[39;00m\n\u001B[1;32m    543\u001B[0m \u001B[38;5;66;03m# (`silent=True`), since these warnings originate from the ML framework\u001B[39;00m\n\u001B[1;32m    544\u001B[0m \u001B[38;5;66;03m# or one of its dependencies and are likely relevant to the caller\u001B[39;00m\n\u001B[1;32m    545\u001B[0m \u001B[38;5;28;01mwith\u001B[39;00m set_non_mlflow_warnings_behavior_for_current_thread(\n\u001B[1;32m    546\u001B[0m     disable_warnings\u001B[38;5;241m=\u001B[39m\u001B[38;5;28;01mFalse\u001B[39;00m,\n\u001B[1;32m    547\u001B[0m     reroute_warnings\u001B[38;5;241m=\u001B[39m\u001B[38;5;28;01mFalse\u001B[39;00m,\n\u001B[1;32m    548\u001B[0m ):\n\u001B[0;32m--> 549\u001B[0m     original_result \u001B[38;5;241m=\u001B[39m \u001B[43moriginal\u001B[49m\u001B[43m(\u001B[49m\u001B[38;5;241;43m*\u001B[39;49m\u001B[43m_og_args\u001B[49m\u001B[43m,\u001B[49m\u001B[43m \u001B[49m\u001B[38;5;241;43m*\u001B[39;49m\u001B[38;5;241;43m*\u001B[39;49m\u001B[43m_og_kwargs\u001B[49m\u001B[43m)\u001B[49m\n\u001B[1;32m    550\u001B[0m     \u001B[38;5;28;01mreturn\u001B[39;00m original_result\n\nFile \u001B[0;32m/databricks/python/lib/python3.10/site-packages/sklearn/metrics/_classification.py:2178\u001B[0m, in \u001B[0;36mclassification_report\u001B[0;34m(y_true, y_pred, labels, target_names, sample_weight, digits, output_dict, zero_division)\u001B[0m\n\u001B[1;32m   2176\u001B[0m \u001B[38;5;28;01melse\u001B[39;00m:\n\u001B[1;32m   2177\u001B[0m     longest_last_line_heading \u001B[38;5;241m=\u001B[39m \u001B[38;5;124m\"\u001B[39m\u001B[38;5;124mweighted avg\u001B[39m\u001B[38;5;124m\"\u001B[39m\n\u001B[0;32m-> 2178\u001B[0m     name_width \u001B[38;5;241m=\u001B[39m \u001B[38;5;28;43mmax\u001B[39;49m\u001B[43m(\u001B[49m\u001B[38;5;28;43mlen\u001B[39;49m\u001B[43m(\u001B[49m\u001B[43mcn\u001B[49m\u001B[43m)\u001B[49m\u001B[43m \u001B[49m\u001B[38;5;28;43;01mfor\u001B[39;49;00m\u001B[43m \u001B[49m\u001B[43mcn\u001B[49m\u001B[43m \u001B[49m\u001B[38;5;129;43;01min\u001B[39;49;00m\u001B[43m \u001B[49m\u001B[43mtarget_names\u001B[49m\u001B[43m)\u001B[49m\n\u001B[1;32m   2179\u001B[0m     width \u001B[38;5;241m=\u001B[39m \u001B[38;5;28mmax\u001B[39m(name_width, \u001B[38;5;28mlen\u001B[39m(longest_last_line_heading), digits)\n\u001B[1;32m   2180\u001B[0m     head_fmt \u001B[38;5;241m=\u001B[39m \u001B[38;5;124m\"\u001B[39m\u001B[38;5;124m{\u001B[39m\u001B[38;5;124m:>\u001B[39m\u001B[38;5;132;01m{width}\u001B[39;00m\u001B[38;5;124ms} \u001B[39m\u001B[38;5;124m\"\u001B[39m \u001B[38;5;241m+\u001B[39m \u001B[38;5;124m\"\u001B[39m\u001B[38;5;124m \u001B[39m\u001B[38;5;132;01m{:>9}\u001B[39;00m\u001B[38;5;124m\"\u001B[39m \u001B[38;5;241m*\u001B[39m \u001B[38;5;28mlen\u001B[39m(headers)\n\n\u001B[0;31mValueError\u001B[0m: max() arg is an empty sequence",
       "errorSummary": "<span class='ansi-red-fg'>ValueError</span>: max() arg is an empty sequence",
       "errorTraceType": "ansi",
       "metadata": {},
       "type": "ipynbError"
      }
     },
     "output_type": "display_data"
    }
   ],
   "source": [
    "n = -1\n",
    "y_pred, y_true_completed = get_gpt_predicted_labels(test_sentences[:n], True, y_test[:n])\n",
    "evaluate(y_pred, y_true_completed)"
   ]
  },
  {
   "cell_type": "markdown",
   "metadata": {
    "application/vnd.databricks.v1+cell": {
     "cellMetadata": {
      "byteLimit": 2048000,
      "rowLimit": 10000
     },
     "inputWidgets": {},
     "nuid": "6aa57dde-38d4-46a2-aa5b-c8f0e4669285",
     "showTitle": false,
     "title": ""
    }
   },
   "source": [
    "#### CZI validation dataset"
   ]
  },
  {
   "cell_type": "code",
   "execution_count": 0,
   "metadata": {
    "application/vnd.databricks.v1+cell": {
     "cellMetadata": {
      "byteLimit": 2048000,
      "rowLimit": 10000
     },
     "inputWidgets": {},
     "nuid": "486667fe-1793-4b5d-a055-264f98eb0c30",
     "showTitle": false,
     "title": ""
    }
   },
   "outputs": [
    {
     "output_type": "display_data",
     "data": {
      "text/html": [
       "<style scoped>\n",
       "  .ansiout {\n",
       "    display: block;\n",
       "    unicode-bidi: embed;\n",
       "    white-space: pre-wrap;\n",
       "    word-wrap: break-word;\n",
       "    word-break: break-all;\n",
       "    font-family: \"Source Code Pro\", \"Menlo\", monospace;;\n",
       "    font-size: 13px;\n",
       "    color: #555;\n",
       "    margin-left: 4px;\n",
       "    line-height: 19px;\n",
       "  }\n",
       "</style>"
      ]
     },
     "metadata": {
      "application/vnd.databricks.v1+output": {
       "arguments": {},
       "data": "",
       "errorSummary": "Cancelled",
       "errorTraceType": "html",
       "metadata": {},
       "type": "ipynbError"
      }
     },
     "output_type": "display_data"
    }
   ],
   "source": [
    "czi_combined = pd.read_csv('/Workspace/Users/aistrate@chanzuckerberg.com/czi_val.csv')\n",
    "test_sentences_czi = czi_combined['text'].to_list()\n",
    "y_test_czi = czi_combined['label'].to_list()\n",
    "y_pred_czi, y_true_czi_completed = get_gpt_predicted_labels(test_sentences_czi, True, y_test_czi)"
   ]
  },
  {
   "cell_type": "code",
   "execution_count": 0,
   "metadata": {
    "application/vnd.databricks.v1+cell": {
     "cellMetadata": {
      "byteLimit": 2048000,
      "rowLimit": 10000
     },
     "inputWidgets": {},
     "nuid": "2d3c0613-99a0-4b0a-b477-2acf3633a7d1",
     "showTitle": false,
     "title": ""
    }
   },
   "outputs": [
    {
     "output_type": "display_data",
     "data": {
      "text/html": [
       "<style scoped>\n",
       "  .ansiout {\n",
       "    display: block;\n",
       "    unicode-bidi: embed;\n",
       "    white-space: pre-wrap;\n",
       "    word-wrap: break-word;\n",
       "    word-break: break-all;\n",
       "    font-family: \"Source Code Pro\", \"Menlo\", monospace;;\n",
       "    font-size: 13px;\n",
       "    color: #555;\n",
       "    margin-left: 4px;\n",
       "    line-height: 19px;\n",
       "  }\n",
       "</style>"
      ]
     },
     "metadata": {
      "application/vnd.databricks.v1+output": {
       "arguments": {},
       "data": "",
       "errorSummary": "Cancelled",
       "errorTraceType": "html",
       "metadata": {},
       "type": "ipynbError"
      }
     },
     "output_type": "display_data"
    }
   ],
   "source": [
    "evaluate(y_pred_czi, y_true_czi_completed)"
   ]
  },
  {
   "cell_type": "code",
   "execution_count": 0,
   "metadata": {
    "application/vnd.databricks.v1+cell": {
     "cellMetadata": {
      "byteLimit": 2048000,
      "rowLimit": 10000
     },
     "inputWidgets": {},
     "nuid": "d2411dab-01c8-4571-ab6b-bfd5c902b8fa",
     "showTitle": false,
     "title": ""
    }
   },
   "outputs": [
    {
     "output_type": "display_data",
     "data": {
      "text/html": [
       "<html>\n",
       "<head><meta charset=\"utf-8\" /></head>\n",
       "<body>\n",
       "    <div>            <script src=\"https://cdnjs.cloudflare.com/ajax/libs/mathjax/2.7.5/MathJax.js?config=TeX-AMS-MML_SVG\"></script><script type=\"text/javascript\">if (window.MathJax && window.MathJax.Hub && window.MathJax.Hub.Config) {window.MathJax.Hub.Config({SVG: {font: \"STIX-Web\"}});}</script>                <script type=\"text/javascript\">window.PlotlyConfig = {MathJaxConfig: 'local'};</script>\n",
       "        <script src=\"https://cdn.plot.ly/plotly-2.12.1.min.js\"></script>                <div id=\"6fa05961-73ef-4676-a141-f46faa2e9d2b\" class=\"plotly-graph-div\" style=\"height:500px; width:700px;\"></div>            <script type=\"text/javascript\">                                    window.PLOTLYENV=window.PLOTLYENV || {};                                    if (document.getElementById(\"6fa05961-73ef-4676-a141-f46faa2e9d2b\")) {                    Plotly.newPlot(                        \"6fa05961-73ef-4676-a141-f46faa2e9d2b\",                        [{\"alignmentgroup\":\"True\",\"hovertemplate\":\"label=%{x}<br>text=%{y}<extra></extra>\",\"legendgroup\":\"creation\",\"marker\":{\"color\":\"#636efa\",\"pattern\":{\"shape\":\"\"}},\"name\":\"creation\",\"offsetgroup\":\"creation\",\"orientation\":\"v\",\"showlegend\":true,\"textposition\":\"auto\",\"x\":[\"creation\"],\"xaxis\":\"x\",\"y\":[10],\"yaxis\":\"y\",\"type\":\"bar\"},{\"alignmentgroup\":\"True\",\"hovertemplate\":\"label=%{x}<br>text=%{y}<extra></extra>\",\"legendgroup\":\"mention\",\"marker\":{\"color\":\"#EF553B\",\"pattern\":{\"shape\":\"\"}},\"name\":\"mention\",\"offsetgroup\":\"mention\",\"orientation\":\"v\",\"showlegend\":true,\"textposition\":\"auto\",\"x\":[\"mention\"],\"xaxis\":\"x\",\"y\":[28],\"yaxis\":\"y\",\"type\":\"bar\"},{\"alignmentgroup\":\"True\",\"hovertemplate\":\"label=%{x}<br>text=%{y}<extra></extra>\",\"legendgroup\":\"none\",\"marker\":{\"color\":\"#00cc96\",\"pattern\":{\"shape\":\"\"}},\"name\":\"none\",\"offsetgroup\":\"none\",\"orientation\":\"v\",\"showlegend\":true,\"textposition\":\"auto\",\"x\":[\"none\"],\"xaxis\":\"x\",\"y\":[18],\"yaxis\":\"y\",\"type\":\"bar\"},{\"alignmentgroup\":\"True\",\"hovertemplate\":\"label=%{x}<br>text=%{y}<extra></extra>\",\"legendgroup\":\"usage\",\"marker\":{\"color\":\"#ab63fa\",\"pattern\":{\"shape\":\"\"}},\"name\":\"usage\",\"offsetgroup\":\"usage\",\"orientation\":\"v\",\"showlegend\":true,\"textposition\":\"auto\",\"x\":[\"usage\"],\"xaxis\":\"x\",\"y\":[354],\"yaxis\":\"y\",\"type\":\"bar\"}],                        {\"template\":{\"data\":{\"histogram2dcontour\":[{\"type\":\"histogram2dcontour\",\"colorbar\":{\"outlinewidth\":0,\"ticks\":\"\"},\"colorscale\":[[0.0,\"#0d0887\"],[0.1111111111111111,\"#46039f\"],[0.2222222222222222,\"#7201a8\"],[0.3333333333333333,\"#9c179e\"],[0.4444444444444444,\"#bd3786\"],[0.5555555555555556,\"#d8576b\"],[0.6666666666666666,\"#ed7953\"],[0.7777777777777778,\"#fb9f3a\"],[0.8888888888888888,\"#fdca26\"],[1.0,\"#f0f921\"]]}],\"choropleth\":[{\"type\":\"choropleth\",\"colorbar\":{\"outlinewidth\":0,\"ticks\":\"\"}}],\"histogram2d\":[{\"type\":\"histogram2d\",\"colorbar\":{\"outlinewidth\":0,\"ticks\":\"\"},\"colorscale\":[[0.0,\"#0d0887\"],[0.1111111111111111,\"#46039f\"],[0.2222222222222222,\"#7201a8\"],[0.3333333333333333,\"#9c179e\"],[0.4444444444444444,\"#bd3786\"],[0.5555555555555556,\"#d8576b\"],[0.6666666666666666,\"#ed7953\"],[0.7777777777777778,\"#fb9f3a\"],[0.8888888888888888,\"#fdca26\"],[1.0,\"#f0f921\"]]}],\"heatmap\":[{\"type\":\"heatmap\",\"colorbar\":{\"outlinewidth\":0,\"ticks\":\"\"},\"colorscale\":[[0.0,\"#0d0887\"],[0.1111111111111111,\"#46039f\"],[0.2222222222222222,\"#7201a8\"],[0.3333333333333333,\"#9c179e\"],[0.4444444444444444,\"#bd3786\"],[0.5555555555555556,\"#d8576b\"],[0.6666666666666666,\"#ed7953\"],[0.7777777777777778,\"#fb9f3a\"],[0.8888888888888888,\"#fdca26\"],[1.0,\"#f0f921\"]]}],\"heatmapgl\":[{\"type\":\"heatmapgl\",\"colorbar\":{\"outlinewidth\":0,\"ticks\":\"\"},\"colorscale\":[[0.0,\"#0d0887\"],[0.1111111111111111,\"#46039f\"],[0.2222222222222222,\"#7201a8\"],[0.3333333333333333,\"#9c179e\"],[0.4444444444444444,\"#bd3786\"],[0.5555555555555556,\"#d8576b\"],[0.6666666666666666,\"#ed7953\"],[0.7777777777777778,\"#fb9f3a\"],[0.8888888888888888,\"#fdca26\"],[1.0,\"#f0f921\"]]}],\"contourcarpet\":[{\"type\":\"contourcarpet\",\"colorbar\":{\"outlinewidth\":0,\"ticks\":\"\"}}],\"contour\":[{\"type\":\"contour\",\"colorbar\":{\"outlinewidth\":0,\"ticks\":\"\"},\"colorscale\":[[0.0,\"#0d0887\"],[0.1111111111111111,\"#46039f\"],[0.2222222222222222,\"#7201a8\"],[0.3333333333333333,\"#9c179e\"],[0.4444444444444444,\"#bd3786\"],[0.5555555555555556,\"#d8576b\"],[0.6666666666666666,\"#ed7953\"],[0.7777777777777778,\"#fb9f3a\"],[0.8888888888888888,\"#fdca26\"],[1.0,\"#f0f921\"]]}],\"surface\":[{\"type\":\"surface\",\"colorbar\":{\"outlinewidth\":0,\"ticks\":\"\"},\"colorscale\":[[0.0,\"#0d0887\"],[0.1111111111111111,\"#46039f\"],[0.2222222222222222,\"#7201a8\"],[0.3333333333333333,\"#9c179e\"],[0.4444444444444444,\"#bd3786\"],[0.5555555555555556,\"#d8576b\"],[0.6666666666666666,\"#ed7953\"],[0.7777777777777778,\"#fb9f3a\"],[0.8888888888888888,\"#fdca26\"],[1.0,\"#f0f921\"]]}],\"mesh3d\":[{\"type\":\"mesh3d\",\"colorbar\":{\"outlinewidth\":0,\"ticks\":\"\"}}],\"scatter\":[{\"fillpattern\":{\"fillmode\":\"overlay\",\"size\":10,\"solidity\":0.2},\"type\":\"scatter\"}],\"parcoords\":[{\"type\":\"parcoords\",\"line\":{\"colorbar\":{\"outlinewidth\":0,\"ticks\":\"\"}}}],\"scatterpolargl\":[{\"type\":\"scatterpolargl\",\"marker\":{\"colorbar\":{\"outlinewidth\":0,\"ticks\":\"\"}}}],\"bar\":[{\"error_x\":{\"color\":\"#2a3f5f\"},\"error_y\":{\"color\":\"#2a3f5f\"},\"marker\":{\"line\":{\"color\":\"#E5ECF6\",\"width\":0.5},\"pattern\":{\"fillmode\":\"overlay\",\"size\":10,\"solidity\":0.2}},\"type\":\"bar\"}],\"scattergeo\":[{\"type\":\"scattergeo\",\"marker\":{\"colorbar\":{\"outlinewidth\":0,\"ticks\":\"\"}}}],\"scatterpolar\":[{\"type\":\"scatterpolar\",\"marker\":{\"colorbar\":{\"outlinewidth\":0,\"ticks\":\"\"}}}],\"histogram\":[{\"marker\":{\"pattern\":{\"fillmode\":\"overlay\",\"size\":10,\"solidity\":0.2}},\"type\":\"histogram\"}],\"scattergl\":[{\"type\":\"scattergl\",\"marker\":{\"colorbar\":{\"outlinewidth\":0,\"ticks\":\"\"}}}],\"scatter3d\":[{\"type\":\"scatter3d\",\"line\":{\"colorbar\":{\"outlinewidth\":0,\"ticks\":\"\"}},\"marker\":{\"colorbar\":{\"outlinewidth\":0,\"ticks\":\"\"}}}],\"scattermapbox\":[{\"type\":\"scattermapbox\",\"marker\":{\"colorbar\":{\"outlinewidth\":0,\"ticks\":\"\"}}}],\"scatterternary\":[{\"type\":\"scatterternary\",\"marker\":{\"colorbar\":{\"outlinewidth\":0,\"ticks\":\"\"}}}],\"scattercarpet\":[{\"type\":\"scattercarpet\",\"marker\":{\"colorbar\":{\"outlinewidth\":0,\"ticks\":\"\"}}}],\"carpet\":[{\"aaxis\":{\"endlinecolor\":\"#2a3f5f\",\"gridcolor\":\"white\",\"linecolor\":\"white\",\"minorgridcolor\":\"white\",\"startlinecolor\":\"#2a3f5f\"},\"baxis\":{\"endlinecolor\":\"#2a3f5f\",\"gridcolor\":\"white\",\"linecolor\":\"white\",\"minorgridcolor\":\"white\",\"startlinecolor\":\"#2a3f5f\"},\"type\":\"carpet\"}],\"table\":[{\"cells\":{\"fill\":{\"color\":\"#EBF0F8\"},\"line\":{\"color\":\"white\"}},\"header\":{\"fill\":{\"color\":\"#C8D4E3\"},\"line\":{\"color\":\"white\"}},\"type\":\"table\"}],\"barpolar\":[{\"marker\":{\"line\":{\"color\":\"#E5ECF6\",\"width\":0.5},\"pattern\":{\"fillmode\":\"overlay\",\"size\":10,\"solidity\":0.2}},\"type\":\"barpolar\"}],\"pie\":[{\"automargin\":true,\"type\":\"pie\"}]},\"layout\":{\"autotypenumbers\":\"strict\",\"colorway\":[\"#636efa\",\"#EF553B\",\"#00cc96\",\"#ab63fa\",\"#FFA15A\",\"#19d3f3\",\"#FF6692\",\"#B6E880\",\"#FF97FF\",\"#FECB52\"],\"font\":{\"color\":\"#2a3f5f\"},\"hovermode\":\"closest\",\"hoverlabel\":{\"align\":\"left\"},\"paper_bgcolor\":\"white\",\"plot_bgcolor\":\"#E5ECF6\",\"polar\":{\"bgcolor\":\"#E5ECF6\",\"angularaxis\":{\"gridcolor\":\"white\",\"linecolor\":\"white\",\"ticks\":\"\"},\"radialaxis\":{\"gridcolor\":\"white\",\"linecolor\":\"white\",\"ticks\":\"\"}},\"ternary\":{\"bgcolor\":\"#E5ECF6\",\"aaxis\":{\"gridcolor\":\"white\",\"linecolor\":\"white\",\"ticks\":\"\"},\"baxis\":{\"gridcolor\":\"white\",\"linecolor\":\"white\",\"ticks\":\"\"},\"caxis\":{\"gridcolor\":\"white\",\"linecolor\":\"white\",\"ticks\":\"\"}},\"coloraxis\":{\"colorbar\":{\"outlinewidth\":0,\"ticks\":\"\"}},\"colorscale\":{\"sequential\":[[0.0,\"#0d0887\"],[0.1111111111111111,\"#46039f\"],[0.2222222222222222,\"#7201a8\"],[0.3333333333333333,\"#9c179e\"],[0.4444444444444444,\"#bd3786\"],[0.5555555555555556,\"#d8576b\"],[0.6666666666666666,\"#ed7953\"],[0.7777777777777778,\"#fb9f3a\"],[0.8888888888888888,\"#fdca26\"],[1.0,\"#f0f921\"]],\"sequentialminus\":[[0.0,\"#0d0887\"],[0.1111111111111111,\"#46039f\"],[0.2222222222222222,\"#7201a8\"],[0.3333333333333333,\"#9c179e\"],[0.4444444444444444,\"#bd3786\"],[0.5555555555555556,\"#d8576b\"],[0.6666666666666666,\"#ed7953\"],[0.7777777777777778,\"#fb9f3a\"],[0.8888888888888888,\"#fdca26\"],[1.0,\"#f0f921\"]],\"diverging\":[[0,\"#8e0152\"],[0.1,\"#c51b7d\"],[0.2,\"#de77ae\"],[0.3,\"#f1b6da\"],[0.4,\"#fde0ef\"],[0.5,\"#f7f7f7\"],[0.6,\"#e6f5d0\"],[0.7,\"#b8e186\"],[0.8,\"#7fbc41\"],[0.9,\"#4d9221\"],[1,\"#276419\"]]},\"xaxis\":{\"gridcolor\":\"white\",\"linecolor\":\"white\",\"ticks\":\"\",\"title\":{\"standoff\":15},\"zerolinecolor\":\"white\",\"automargin\":true,\"zerolinewidth\":2},\"yaxis\":{\"gridcolor\":\"white\",\"linecolor\":\"white\",\"ticks\":\"\",\"title\":{\"standoff\":15},\"zerolinecolor\":\"white\",\"automargin\":true,\"zerolinewidth\":2},\"scene\":{\"xaxis\":{\"backgroundcolor\":\"#E5ECF6\",\"gridcolor\":\"white\",\"linecolor\":\"white\",\"showbackground\":true,\"ticks\":\"\",\"zerolinecolor\":\"white\",\"gridwidth\":2},\"yaxis\":{\"backgroundcolor\":\"#E5ECF6\",\"gridcolor\":\"white\",\"linecolor\":\"white\",\"showbackground\":true,\"ticks\":\"\",\"zerolinecolor\":\"white\",\"gridwidth\":2},\"zaxis\":{\"backgroundcolor\":\"#E5ECF6\",\"gridcolor\":\"white\",\"linecolor\":\"white\",\"showbackground\":true,\"ticks\":\"\",\"zerolinecolor\":\"white\",\"gridwidth\":2}},\"shapedefaults\":{\"line\":{\"color\":\"#2a3f5f\"}},\"annotationdefaults\":{\"arrowcolor\":\"#2a3f5f\",\"arrowhead\":0,\"arrowwidth\":1},\"geo\":{\"bgcolor\":\"white\",\"landcolor\":\"#E5ECF6\",\"subunitcolor\":\"white\",\"showland\":true,\"showlakes\":true,\"lakecolor\":\"white\"},\"title\":{\"x\":0.05},\"mapbox\":{\"style\":\"light\"}}},\"xaxis\":{\"anchor\":\"y\",\"domain\":[0.0,1.0],\"title\":{\"text\":\"label\"},\"categoryorder\":\"array\",\"categoryarray\":[\"creation\",\"mention\",\"none\",\"usage\"]},\"yaxis\":{\"anchor\":\"x\",\"domain\":[0.0,1.0],\"title\":{\"text\":\"text\"}},\"legend\":{\"title\":{\"text\":\"label\"},\"tracegroupgap\":0},\"margin\":{\"t\":60},\"barmode\":\"relative\",\"width\":700,\"height\":500,\"title\":{\"text\":\"Label Distribution in CZI Validation Dataset\"}},                        {\"responsive\": true}                    )                };                            </script>        </div>\n",
       "</body>\n",
       "</html>"
      ]
     },
     "metadata": {},
     "output_type": "display_data"
    }
   ],
   "source": [
    "import plotly.express as px\n",
    "labels_grouped = czi_combined.groupby('label').count().reset_index()\n",
    "labels_grouped\n",
    "fig = px.bar(labels_grouped, x = 'label', y = 'text', color = 'label')\n",
    "fig.update_layout(width=700,height=500, title = 'Label Distribution in CZI Validation Dataset')"
   ]
  },
  {
   "cell_type": "code",
   "execution_count": 0,
   "metadata": {
    "application/vnd.databricks.v1+cell": {
     "cellMetadata": {
      "byteLimit": 2048000,
      "rowLimit": 10000
     },
     "inputWidgets": {},
     "nuid": "1d651d32-eb8e-44a4-9954-8b608933548f",
     "showTitle": false,
     "title": ""
    }
   },
   "outputs": [
    {
     "output_type": "stream",
     "name": "stdout",
     "output_type": "stream",
     "text": [
      "none usage\nnone usage\nnone mention\nnone usage\nnone mention\nnone usage\nnone usage\nnone usage\nnone mention\nnone usage\nnone mention\n"
     ]
    }
   ],
   "source": [
    "ct = 0\n",
    "for x, x_pred in zip(y_pred_czi, y_true_czi_completed):\n",
    "    if x == 'none':\n",
    "        print(x, x_pred)\n",
    "        ct += 1"
   ]
  },
  {
   "cell_type": "code",
   "execution_count": 0,
   "metadata": {
    "application/vnd.databricks.v1+cell": {
     "cellMetadata": {
      "byteLimit": 2048000,
      "rowLimit": 10000
     },
     "inputWidgets": {},
     "nuid": "13dfdc61-3353-456d-9cf1-e01b358e6b01",
     "showTitle": false,
     "title": ""
    }
   },
   "outputs": [
    {
     "output_type": "execute_result",
     "data": {
      "text/plain": [
       "11"
      ]
     },
     "execution_count": 47,
     "metadata": {},
     "output_type": "execute_result"
    }
   ],
   "source": [
    "ct"
   ]
  },
  {
   "cell_type": "code",
   "execution_count": 0,
   "metadata": {
    "application/vnd.databricks.v1+cell": {
     "cellMetadata": {},
     "inputWidgets": {},
     "nuid": "9877957c-c461-425c-93a1-667bd6aee75c",
     "showTitle": false,
     "title": ""
    }
   },
   "outputs": [],
   "source": []
  }
 ],
 "metadata": {
  "application/vnd.databricks.v1+notebook": {
   "dashboards": [],
   "language": "python",
   "notebookMetadata": {
    "pythonIndentUnit": 4
   },
   "notebookName": "gpt3.5_finetuned",
   "widgets": {}
  }
 },
 "nbformat": 4,
 "nbformat_minor": 0
}
