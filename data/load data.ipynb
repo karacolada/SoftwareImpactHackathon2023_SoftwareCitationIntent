{
 "cells": [
  {
   "cell_type": "code",
   "execution_count": null,
   "metadata": {
    "application/vnd.databricks.v1+cell": {
     "cellMetadata": {
      "byteLimit": 2048000,
      "rowLimit": 10000
     },
     "inputWidgets": {},
     "nuid": "86d6eb62-6d38-444a-9a92-ffebb0dbbb35",
     "showTitle": false,
     "title": ""
    }
   },
   "outputs": [],
   "source": [
    "import pandas as pd\n",
    "import numpy as np"
   ]
  },
  {
   "cell_type": "code",
   "execution_count": null,
   "metadata": {
    "application/vnd.databricks.v1+cell": {
     "cellMetadata": {
      "byteLimit": 2048000,
      "rowLimit": 10000
     },
     "inputWidgets": {},
     "nuid": "3ce1876e-de1a-4b64-942c-4ebf85be7fcd",
     "showTitle": false,
     "title": ""
    }
   },
   "outputs": [
    {
     "name": "stdout",
     "output_type": "stream",
     "text": [
      "\u001b[43mNote: you may need to restart the kernel using dbutils.library.restartPython() to use updated packages.\u001b[0m\n",
      "Collecting openpyxl\n",
      "  Downloading openpyxl-3.1.2-py2.py3-none-any.whl (249 kB)\n",
      "     ━━━━━━━━━━━━━━━━━━━━━━━━━━━━━━━━━━━━━━━ 250.0/250.0 kB 5.3 MB/s eta 0:00:00\n",
      "Collecting et-xmlfile\n",
      "  Downloading et_xmlfile-1.1.0-py3-none-any.whl (4.7 kB)\n",
      "Installing collected packages: et-xmlfile, openpyxl\n",
      "Successfully installed et-xmlfile-1.1.0 openpyxl-3.1.2\n",
      "\u001b[43mNote: you may need to restart the kernel using dbutils.library.restartPython() to use updated packages.\u001b[0m\n"
     ]
    }
   ],
   "source": [
    "!pip install openpyxl"
   ]
  },
  {
   "cell_type": "code",
   "execution_count": null,
   "metadata": {
    "application/vnd.databricks.v1+cell": {
     "cellMetadata": {
      "byteLimit": 2048000,
      "rowLimit": 10000
     },
     "inputWidgets": {},
     "nuid": "8f00d8bc-99c5-45b8-8d01-228f72fac54f",
     "showTitle": false,
     "title": ""
    }
   },
   "outputs": [],
   "source": [
    "czi_dfs = pd.read_excel('./czi_software_citation_intent_data.xlsx', sheet_name=[\"comm_sample_200\", \"non_comm_sample_200\"])\n",
    "merged_dfs = pd.read_excel('./software_intent_data_merged.xlsx', sheet_name=[\"final_data_w_context\", \"final_data\", \"unlabeled\"])"
   ]
  },
  {
   "cell_type": "code",
   "execution_count": null,
   "metadata": {
    "application/vnd.databricks.v1+cell": {
     "cellMetadata": {
      "byteLimit": 2048000,
      "rowLimit": 10000
     },
     "inputWidgets": {},
     "nuid": "c1abaf5d-d844-4eb8-a4f7-78b2fdd23b36",
     "showTitle": false,
     "title": ""
    }
   },
   "outputs": [],
   "source": [
    "# assign numerical labels\n",
    "num2label = {0: \"created\", 1: \"used\", 2: \"mention\", 3: \"none\"}\n",
    "label2num = {\"created\": 0, \"used\": 1, \"mention\": 2, \"none\": 3}"
   ]
  },
  {
   "cell_type": "code",
   "execution_count": null,
   "metadata": {
    "application/vnd.databricks.v1+cell": {
     "cellMetadata": {
      "byteLimit": 2048000,
      "rowLimit": 10000
     },
     "inputWidgets": {},
     "nuid": "b781ba91-ba61-463f-8c41-4cf648afccd6",
     "showTitle": false,
     "title": ""
    }
   },
   "outputs": [],
   "source": [
    "# remove excel column parsing errors\n",
    "for df_dict in [czi_dfs, merged_dfs]:\n",
    "    for df in df_dict.values():\n",
    "        unnamed_cols = [c for c in df.columns if c.startswith(\"Unnamed\")]\n",
    "        if len(unnamed_cols) > 0:\n",
    "            df.drop(columns=unnamed_cols, inplace=True)\n",
    "merged_df = merged_dfs[\"final_data\"].drop(columns=[\"context\"])\n",
    "# merge context data in\n",
    "merged_df = pd.merge(merged_df, merged_dfs[\"final_data_w_context\"], on=[\"id\", \"sentence\", \"used\", \"created\", \"mention\"], how=\"left\")\n",
    "# concatenate unlabelled data\n",
    "merged_df = pd.concat([merged_df, merged_dfs[\"unlabeled\"]])\n",
    "czi_df = pd.concat(list(czi_dfs.values()))\n",
    "czi_df = czi_df.dropna(subset=\"Intent (creation, used, mention)\")\n",
    "merged_df[\"label\"] = np.where(\n",
    "    merged_df[\"created\"], label2num[\"created\"], np.where(\n",
    "        merged_df[\"used\"], label2num[\"used\"], np.where(\n",
    "            merged_df[\"mention\"], label2num[\"mention\"], label2num[\"none\"]\n",
    "        )\n",
    "    )\n",
    ")\n",
    "merged_df[\"text\"] = merged_df[\"sentence\"]\n",
    "merged_df = merged_df.drop_duplicates(subset=\"text\")\n",
    "czi_df[\"label\"] = np.where(\n",
    "    czi_df[\"Intent (creation, used, mention)\"] == \"creation\", label2num[\"created\"], np.where(\n",
    "        czi_df[\"Intent (creation, used, mention)\"] == \"used\", label2num[\"used\"], np.where(\n",
    "            czi_df[\"Intent (creation, used, mention)\"] == \"mention\", label2num[\"mention\"], label2num[\"none\"]\n",
    "        )\n",
    "    )\n",
    ")"
   ]
  },
  {
   "cell_type": "code",
   "execution_count": null,
   "metadata": {
    "application/vnd.databricks.v1+cell": {
     "cellMetadata": {
      "byteLimit": 2048000,
      "rowLimit": 10000
     },
     "inputWidgets": {},
     "nuid": "50accb36-cbec-42c2-8acf-b41c0993e449",
     "showTitle": false,
     "title": ""
    }
   },
   "outputs": [],
   "source": [
    "merged_df.to_csv(\"./software_citation_intent_merged.csv\")\n",
    "czi_df.to_csv(\"./software_citation_intent_czi.csv\")"
   ]
  }
 ],
 "metadata": {
  "application/vnd.databricks.v1+notebook": {
   "dashboards": [],
   "language": "python",
   "notebookMetadata": {
    "pythonIndentUnit": 4
   },
   "notebookName": "load data",
   "widgets": {}
  },
  "language_info": {
   "name": "python"
  }
 },
 "nbformat": 4,
 "nbformat_minor": 0
}
