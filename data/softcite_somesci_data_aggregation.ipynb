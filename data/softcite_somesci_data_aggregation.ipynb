{
 "cells": [
  {
   "cell_type": "code",
   "execution_count": 0,
   "metadata": {
    "application/vnd.databricks.v1+cell": {
     "cellMetadata": {
      "byteLimit": 2048000,
      "rowLimit": 10000
     },
     "inputWidgets": {},
     "nuid": "00cd393e-940f-4fce-bc03-88436c9b35b7",
     "showTitle": false,
     "title": ""
    }
   },
   "outputs": [
    {
     "output_type": "stream",
     "name": "stdout",
     "output_type": "stream",
     "text": [
      "2023-10-26 16:12:21.486865: I tensorflow/core/platform/cpu_feature_guard.cc:182] This TensorFlow binary is optimized to use available CPU instructions in performance-critical operations.\r\nTo enable the following instructions: AVX2 FMA, in other operations, rebuild TensorFlow with the appropriate compiler flags.\r\nCollecting en-core-web-md==3.6.0\r\n  Downloading https://github.com/explosion/spacy-models/releases/download/en_core_web_md-3.6.0/en_core_web_md-3.6.0-py3-none-any.whl (42.8 MB)\r\n\u001B[?25l     \u001B[90m━━━━━━━━━━━━━━━━━━━━━━━━━━━━━━━━━━━━━━━━\u001B[0m \u001B[32m0.0/42.8 MB\u001B[0m \u001B[31m?\u001B[0m eta \u001B[36m-:--:--\u001B[0m\r\u001B[2K     \u001B[90m━━━━━━━━━━━━━━━━━━━━━━━━━━━━━━━━━━━━━━━━\u001B[0m \u001B[32m0.1/42.8 MB\u001B[0m \u001B[31m1.4 MB/s\u001B[0m eta \u001B[36m0:00:31\u001B[0m\r\u001B[2K     \u001B[91m━\u001B[0m\u001B[90m╺\u001B[0m\u001B[90m━━━━━━━━━━━━━━━━━━━━━━━━━━━━━━━━━━━━━━\u001B[0m \u001B[32m1.4/42.8 MB\u001B[0m \u001B[31m21.5 MB/s\u001B[0m eta \u001B[36m0:00:02\u001B[0m\r\u001B[2K     \u001B[91m━━━\u001B[0m\u001B[91m╸\u001B[0m\u001B[90m━━━━━━━━━━━━━━━━━━━━━━━━━━━━━━━━━━━━\u001B[0m \u001B[32m3.8/42.8 MB\u001B[0m \u001B[31m36.4 MB/s\u001B[0m eta \u001B[36m0:00:02\u001B[0m\r\u001B[2K     \u001B[91m━━━━━━\u001B[0m\u001B[90m╺\u001B[0m\u001B[90m━━━━━━━━━━━━━━━━━━━━━━━━━━━━━━━━━\u001B[0m \u001B[32m6.9/42.8 MB\u001B[0m \u001B[31m49.7 MB/s\u001B[0m eta \u001B[36m0:00:01\u001B[0m\r\u001B[2K     \u001B[91m━━━━━━━━━\u001B[0m\u001B[91m╸\u001B[0m\u001B[90m━━━━━━━━━━━━━━━━━━━━━━━━━━━━━━\u001B[0m \u001B[32m10.5/42.8 MB\u001B[0m \u001B[31m81.8 MB/s\u001B[0m eta \u001B[36m0:00:01\u001B[0m\r\u001B[2K     \u001B[91m━━━━━━━━━━━━\u001B[0m\u001B[90m╺\u001B[0m\u001B[90m━━━━━━━━━━━━━━━━━━━━━━━━━━━\u001B[0m \u001B[32m13.0/42.8 MB\u001B[0m \u001B[31m83.2 MB/s\u001B[0m eta \u001B[36m0:00:01\u001B[0m\r\u001B[2K     \u001B[91m━━━━━━━━━━━━━━━\u001B[0m\u001B[91m╸\u001B[0m\u001B[90m━━━━━━━━━━━━━━━━━━━━━━━━\u001B[0m \u001B[32m16.6/42.8 MB\u001B[0m \u001B[31m88.6 MB/s\u001B[0m eta \u001B[36m0:00:01\u001B[0m\r\u001B[2K     \u001B[91m━━━━━━━━━━━━━━━━━━━\u001B[0m\u001B[91m╸\u001B[0m\u001B[90m━━━━━━━━━━━━━━━━━━━━\u001B[0m \u001B[32m21.0/42.8 MB\u001B[0m \u001B[31m98.7 MB/s\u001B[0m eta \u001B[36m0:00:01\u001B[0m\r\u001B[2K     \u001B[91m━━━━━━━━━━━━━━━━━━━━━━━\u001B[0m\u001B[90m╺\u001B[0m\u001B[90m━━━━━━━━━━━━━━━\u001B[0m \u001B[32m25.3/42.8 MB\u001B[0m \u001B[31m117.3 MB/s\u001B[0m eta \u001B[36m0:00:01\u001B[0m\r\u001B[2K     \u001B[91m━━━━━━━━━━━━━━━━━━━━━━━━━━\u001B[0m\u001B[91m╸\u001B[0m\u001B[90m━━━━━━━━━━━━\u001B[0m \u001B[32m29.5/42.8 MB\u001B[0m \u001B[31m117.3 MB/s\u001B[0m eta \u001B[36m0:00:01\u001B[0m\r\u001B[2K     \u001B[91m━━━━━━━━━━━━━━━━━━━━━━━━━━━━━━\u001B[0m\u001B[90m╺\u001B[0m\u001B[90m━━━━━━━━\u001B[0m \u001B[32m33.0/42.8 MB\u001B[0m \u001B[31m106.0 MB/s\u001B[0m eta \u001B[36m0:00:01\u001B[0m\r\u001B[2K     \u001B[91m━━━━━━━━━━━━━━━━━━━━━━━━━━━━━━━━━\u001B[0m\u001B[90m╺\u001B[0m\u001B[90m━━━━━\u001B[0m \u001B[32m36.7/42.8 MB\u001B[0m \u001B[31m100.2 MB/s\u001B[0m eta \u001B[36m0:00:01\u001B[0m\r\u001B[2K     \u001B[91m━━━━━━━━━━━━━━━━━━━━━━━━━━━━━━━━━━━━\u001B[0m\u001B[91m╸\u001B[0m\u001B[90m━━━\u001B[0m \u001B[32m39.5/42.8 MB\u001B[0m \u001B[31m89.9 MB/s\u001B[0m eta \u001B[36m0:00:01\u001B[0m\r\u001B[2K     \u001B[91m━━━━━━━━━━━━━━━━━━━━━━━━━━━━━━━━━━━━━━━\u001B[0m\u001B[91m╸\u001B[0m \u001B[32m42.8/42.8 MB\u001B[0m \u001B[31m95.8 MB/s\u001B[0m eta \u001B[36m0:00:01\u001B[0m\r\u001B[2K     \u001B[91m━━━━━━━━━━━━━━━━━━━━━━━━━━━━━━━━━━━━━━━\u001B[0m\u001B[91m╸\u001B[0m \u001B[32m42.8/42.8 MB\u001B[0m \u001B[31m95.8 MB/s\u001B[0m eta \u001B[36m0:00:01\u001B[0m\r\u001B[2K     \u001B[91m━━━━━━━━━━━━━━━━━━━━━━━━━━━━━━━━━━━━━━━\u001B[0m\u001B[91m╸\u001B[0m \u001B[32m42.8/42.8 MB\u001B[0m \u001B[31m95.8 MB/s\u001B[0m eta \u001B[36m0:00:01\u001B[0m\r\u001B[2K     \u001B[91m━━━━━━━━━━━━━━━━━━━━━━━━━━━━━━━━━━━━━━━\u001B[0m\u001B[91m╸\u001B[0m \u001B[32m42.8/42.8 MB\u001B[0m \u001B[31m95.8 MB/s\u001B[0m eta \u001B[36m0:00:01\u001B[0m\r\u001B[2K     \u001B[91m━━━━━━━━━━━━━━━━━━━━━━━━━━━━━━━━━━━━━━━\u001B[0m\u001B[91m╸\u001B[0m \u001B[32m42.8/42.8 MB\u001B[0m \u001B[31m95.8 MB/s\u001B[0m eta \u001B[36m0:00:01\u001B[0m\r\u001B[2K     \u001B[91m━━━━━━━━━━━━━━━━━━━━━━━━━━━━━━━━━━━━━━━\u001B[0m\u001B[91m╸\u001B[0m \u001B[32m42.8/42.8 MB\u001B[0m \u001B[31m95.8 MB/s\u001B[0m eta \u001B[36m0:00:01\u001B[0m\r\u001B[2K     \u001B[91m━━━━━━━━━━━━━━━━━━━━━━━━━━━━━━━━━━━━━━━\u001B[0m\u001B[91m╸\u001B[0m \u001B[32m42.8/42.8 MB\u001B[0m \u001B[31m95.8 MB/s\u001B[0m eta \u001B[36m0:00:01\u001B[0m\r\u001B[2K     \u001B[91m━━━━━━━━━━━━━━━━━━━━━━━━━━━━━━━━━━━━━━━\u001B[0m\u001B[91m╸\u001B[0m \u001B[32m42.8/42.8 MB\u001B[0m \u001B[31m95.8 MB/s\u001B[0m eta \u001B[36m0:00:01\u001B[0m\r\u001B[2K     \u001B[91m━━━━━━━━━━━━━━━━━━━━━━━━━━━━━━━━━━━━━━━\u001B[0m\u001B[91m╸\u001B[0m \u001B[32m42.8/42.8 MB\u001B[0m \u001B[31m95.8 MB/s\u001B[0m eta \u001B[36m0:00:01\u001B[0m\r\u001B[2K     \u001B[91m━━━━━━━━━━━━━━━━━━━━━━━━━━━━━━━━━━━━━━━\u001B[0m\u001B[91m╸\u001B[0m \u001B[32m42.8/42.8 MB\u001B[0m \u001B[31m95.8 MB/s\u001B[0m eta \u001B[36m0:00:01\u001B[0m\r\u001B[2K     \u001B[91m━━━━━━━━━━━━━━━━━━━━━━━━━━━━━━━━━━━━━━━\u001B[0m\u001B[91m╸\u001B[0m \u001B[32m42.8/42.8 MB\u001B[0m \u001B[31m95.8 MB/s\u001B[0m eta \u001B[36m0:00:01\u001B[0m\r\u001B[2K     \u001B[91m━━━━━━━━━━━━━━━━━━━━━━━━━━━━━━━━━━━━━━━\u001B[0m\u001B[91m╸\u001B[0m \u001B[32m42.8/42.8 MB\u001B[0m \u001B[31m95.8 MB/s\u001B[0m eta \u001B[36m0:00:01\u001B[0m\r\u001B[2K     \u001B[90m━━━━━━━━━━━━━━━━━━━━━━━━━━━━━━━━━━━━━━━━\u001B[0m \u001B[32m42.8/42.8 MB\u001B[0m \u001B[31m18.6 MB/s\u001B[0m eta \u001B[36m0:00:00\u001B[0m\r\n\u001B[?25hRequirement already satisfied: spacy<3.7.0,>=3.6.0 in /databricks/python3/lib/python3.10/site-packages (from en-core-web-md==3.6.0) (3.6.1)\r\nRequirement already satisfied: jinja2 in /databricks/python3/lib/python3.10/site-packages (from spacy<3.7.0,>=3.6.0->en-core-web-md==3.6.0) (3.1.2)\r\nRequirement already satisfied: murmurhash<1.1.0,>=0.28.0 in /databricks/python3/lib/python3.10/site-packages (from spacy<3.7.0,>=3.6.0->en-core-web-md==3.6.0) (1.0.10)\r\nRequirement already satisfied: typer<0.10.0,>=0.3.0 in /databricks/python3/lib/python3.10/site-packages (from spacy<3.7.0,>=3.6.0->en-core-web-md==3.6.0) (0.9.0)\r\nRequirement already satisfied: packaging>=20.0 in /databricks/python3/lib/python3.10/site-packages (from spacy<3.7.0,>=3.6.0->en-core-web-md==3.6.0) (22.0)\r\nRequirement already satisfied: catalogue<2.1.0,>=2.0.6 in /databricks/python3/lib/python3.10/site-packages (from spacy<3.7.0,>=3.6.0->en-core-web-md==3.6.0) (2.0.10)\r\nRequirement already satisfied: numpy>=1.15.0 in /databricks/python3/lib/python3.10/site-packages (from spacy<3.7.0,>=3.6.0->en-core-web-md==3.6.0) (1.23.5)\r\nRequirement already satisfied: pathy>=0.10.0 in /databricks/python3/lib/python3.10/site-packages (from spacy<3.7.0,>=3.6.0->en-core-web-md==3.6.0) (0.10.2)\r\nRequirement already satisfied: spacy-loggers<2.0.0,>=1.0.0 in /databricks/python3/lib/python3.10/site-packages (from spacy<3.7.0,>=3.6.0->en-core-web-md==3.6.0) (1.0.5)\r\nRequirement already satisfied: smart-open<7.0.0,>=5.2.1 in /databricks/python3/lib/python3.10/site-packages (from spacy<3.7.0,>=3.6.0->en-core-web-md==3.6.0) (5.2.1)\r\nRequirement already satisfied: cymem<2.1.0,>=2.0.2 in /databricks/python3/lib/python3.10/site-packages (from spacy<3.7.0,>=3.6.0->en-core-web-md==3.6.0) (2.0.8)\r\nRequirement already satisfied: requests<3.0.0,>=2.13.0 in /databricks/python3/lib/python3.10/site-packages (from spacy<3.7.0,>=3.6.0->en-core-web-md==3.6.0) (2.28.1)\r\nRequirement already satisfied: thinc<8.2.0,>=8.1.8 in /databricks/python3/lib/python3.10/site-packages (from spacy<3.7.0,>=3.6.0->en-core-web-md==3.6.0) (8.1.12)\r\nRequirement already satisfied: spacy-legacy<3.1.0,>=3.0.11 in /databricks/python3/lib/python3.10/site-packages (from spacy<3.7.0,>=3.6.0->en-core-web-md==3.6.0) (3.0.12)\r\nRequirement already satisfied: tqdm<5.0.0,>=4.38.0 in /databricks/python3/lib/python3.10/site-packages (from spacy<3.7.0,>=3.6.0->en-core-web-md==3.6.0) (4.64.1)\r\nRequirement already satisfied: langcodes<4.0.0,>=3.2.0 in /databricks/python3/lib/python3.10/site-packages (from spacy<3.7.0,>=3.6.0->en-core-web-md==3.6.0) (3.3.0)\r\nRequirement already satisfied: wasabi<1.2.0,>=0.9.1 in /databricks/python3/lib/python3.10/site-packages (from spacy<3.7.0,>=3.6.0->en-core-web-md==3.6.0) (1.1.2)\r\nRequirement already satisfied: setuptools in /databricks/python3/lib/python3.10/site-packages (from spacy<3.7.0,>=3.6.0->en-core-web-md==3.6.0) (65.6.3)\r\nRequirement already satisfied: preshed<3.1.0,>=3.0.2 in /databricks/python3/lib/python3.10/site-packages (from spacy<3.7.0,>=3.6.0->en-core-web-md==3.6.0) (3.0.9)\r\nRequirement already satisfied: srsly<3.0.0,>=2.4.3 in /databricks/python3/lib/python3.10/site-packages (from spacy<3.7.0,>=3.6.0->en-core-web-md==3.6.0) (2.4.8)\r\nRequirement already satisfied: pydantic!=1.8,!=1.8.1,<3.0.0,>=1.7.4 in /databricks/python3/lib/python3.10/site-packages (from spacy<3.7.0,>=3.6.0->en-core-web-md==3.6.0) (1.10.6)\r\nRequirement already satisfied: typing-extensions>=4.2.0 in /databricks/python3/lib/python3.10/site-packages (from pydantic!=1.8,!=1.8.1,<3.0.0,>=1.7.4->spacy<3.7.0,>=3.6.0->en-core-web-md==3.6.0) (4.4.0)\r\nRequirement already satisfied: urllib3<1.27,>=1.21.1 in /databricks/python3/lib/python3.10/site-packages (from requests<3.0.0,>=2.13.0->spacy<3.7.0,>=3.6.0->en-core-web-md==3.6.0) (1.26.14)\r\nRequirement already satisfied: idna<4,>=2.5 in /databricks/python3/lib/python3.10/site-packages (from requests<3.0.0,>=2.13.0->spacy<3.7.0,>=3.6.0->en-core-web-md==3.6.0) (3.4)\r\nRequirement already satisfied: certifi>=2017.4.17 in /databricks/python3/lib/python3.10/site-packages (from requests<3.0.0,>=2.13.0->spacy<3.7.0,>=3.6.0->en-core-web-md==3.6.0) (2022.12.7)\r\nRequirement already satisfied: charset-normalizer<3,>=2 in /databricks/python3/lib/python3.10/site-packages (from requests<3.0.0,>=2.13.0->spacy<3.7.0,>=3.6.0->en-core-web-md==3.6.0) (2.0.4)\r\nRequirement already satisfied: confection<1.0.0,>=0.0.1 in /databricks/python3/lib/python3.10/site-packages (from thinc<8.2.0,>=8.1.8->spacy<3.7.0,>=3.6.0->en-core-web-md==3.6.0) (0.1.3)\r\nRequirement already satisfied: blis<0.8.0,>=0.7.8 in /databricks/python3/lib/python3.10/site-packages (from thinc<8.2.0,>=8.1.8->spacy<3.7.0,>=3.6.0->en-core-web-md==3.6.0) (0.7.11)\r\nRequirement already satisfied: click<9.0.0,>=7.1.1 in /databricks/python3/lib/python3.10/site-packages (from typer<0.10.0,>=0.3.0->spacy<3.7.0,>=3.6.0->en-core-web-md==3.6.0) (8.0.4)\r\nRequirement already satisfied: MarkupSafe>=2.0 in /databricks/python3/lib/python3.10/site-packages (from jinja2->spacy<3.7.0,>=3.6.0->en-core-web-md==3.6.0) (2.1.1)\r\nInstalling collected packages: en-core-web-md\r\nSuccessfully installed en-core-web-md-3.6.0\r\n\r\n\u001B[1m[\u001B[0m\u001B[34;49mnotice\u001B[0m\u001B[1;39;49m]\u001B[0m\u001B[39;49m A new release of pip available: \u001B[0m\u001B[31;49m22.3.1\u001B[0m\u001B[39;49m -> \u001B[0m\u001B[32;49m23.3.1\u001B[0m\r\n\u001B[1m[\u001B[0m\u001B[34;49mnotice\u001B[0m\u001B[1;39;49m]\u001B[0m\u001B[39;49m To update, run: \u001B[0m\u001B[32;49mpip install --upgrade pip\u001B[0m\r\n\u001B[38;5;2m✔ Download and installation successful\u001B[0m\r\nYou can now load the package via spacy.load('en_core_web_md')\r\n"
     ]
    }
   ],
   "source": [
    "!python -m spacy download en_core_web_md\n",
    "%pip install thefuzz\n",
    "%pip install beautifulsoup4"
   ]
  },
  {
   "cell_type": "code",
   "execution_count": 0,
   "metadata": {
    "application/vnd.databricks.v1+cell": {
     "cellMetadata": {
      "byteLimit": 2048000,
      "rowLimit": 10000
     },
     "inputWidgets": {},
     "nuid": "3541840e-7e1f-4f2a-bae8-7546d6ca729d",
     "showTitle": false,
     "title": ""
    }
   },
   "outputs": [],
   "source": [
    "import gzip\n",
    "import json\n",
    "import pandas as pd\n",
    "import warnings\n",
    "warnings.simplefilter(action='ignore', category=FutureWarning)\n",
    "import spacy\n",
    "from thefuzz import fuzz\n",
    "from bs4 import BeautifulSoup\n",
    "import requests\n",
    "import re\n",
    "from tqdm import tqdm"
   ]
  },
  {
   "cell_type": "code",
   "execution_count": 0,
   "metadata": {
    "application/vnd.databricks.v1+cell": {
     "cellMetadata": {
      "byteLimit": 2048000,
      "rowLimit": 10000
     },
     "inputWidgets": {},
     "nuid": "7aae8fe6-2fdf-42d3-8cd2-1552a8e6267b",
     "showTitle": false,
     "title": ""
    }
   },
   "outputs": [],
   "source": [
    "software_contexts = '/dbfs/FileStore/citation_intent/software_contexts_json.gz'\n",
    "extra = '/dbfs/FileStore/citation_intent/dataset_software_extra_contexts_json.gz'\n",
    "\n",
    "def open_gzip_json(fpath):\n",
    "    with gzip.open(fpath, 'r') as gzip_file:\n",
    "        reserve_data = gzip_file.read()\n",
    "        j = gzip.decompress(reserve_data)\n",
    "        data = json.loads(j.decode('utf-8')) \n",
    "    return data"
   ]
  },
  {
   "cell_type": "code",
   "execution_count": 0,
   "metadata": {
    "application/vnd.databricks.v1+cell": {
     "cellMetadata": {
      "byteLimit": 2048000,
      "rowLimit": 10000
     },
     "inputWidgets": {},
     "nuid": "08ff6c4a-12e6-4d50-917a-b76ebc61f9bc",
     "showTitle": false,
     "title": ""
    }
   },
   "outputs": [],
   "source": [
    "extra_data = open_gzip_json(extra)\n",
    "nlp = spacy.load('en_core_web_md')\n",
    "\n",
    "extra_df = pd.DataFrame(columns=['id', 'sentence', 'context', 'used', 'created'])\n",
    "\n",
    "for pub in extra_data['documents']:\n",
    "    texts = pub['texts']\n",
    "    for text in texts:\n",
    "        try:\n",
    "            id = pub['id']\n",
    "            sentence = text['text'].strip()\n",
    "            context = text['full_context']\n",
    "            context_sentences = [i.text for i in nlp(context).sents]\n",
    "            for t in context_sentences:\n",
    "                ratio = fuzz.ratio(sentence, t)\n",
    "                if ratio > 90:\n",
    "                    sentence_index = context_sentences.index(t)\n",
    "                    break\n",
    "            try:\n",
    "                prior_sentence = context_sentences[sentence_index-1]\n",
    "            except:\n",
    "                prior_sentence = None\n",
    "            try:\n",
    "                trailing_sentence = context_sentences[sentence_index+1]\n",
    "            except:\n",
    "                trailing_sentence = None\n",
    "\n",
    "            if prior_sentence and trailing_sentence:\n",
    "                context = ' '.join([prior_sentence, sentence, trailing_sentence])\n",
    "            elif prior_sentence and not trailing_sentence:\n",
    "                context = ' '.join([prior_sentence, sentence])\n",
    "            else:\n",
    "                context = ' '.join([sentence, trailing_sentence])\n",
    "\n",
    "\n",
    "            try:\n",
    "                used = text['class_attributes']['classification']['used']['value']\n",
    "            except:\n",
    "                used = False\n",
    "            try:\n",
    "                created = text['class_attributes']['classification']['created']['value']\n",
    "            except:\n",
    "                created = False\n",
    "            try:\n",
    "                shared = text['class_attributes']['classification']['created']['value']\n",
    "            except:\n",
    "                shared = False\n",
    "\n",
    "            temp_df = pd.DataFrame({'id':[id], \n",
    "                                    'sentence':[sentence], \n",
    "                                    'context':[context], \n",
    "                                    'used':[used], \n",
    "                                    'created':[created],\n",
    "                                    'shared':[shared]})\n",
    "            \n",
    "            extra_df = pd.concat([extra_df, temp_df])\n",
    "        except:\n",
    "            continue"
   ]
  },
  {
   "cell_type": "code",
   "execution_count": 0,
   "metadata": {
    "application/vnd.databricks.v1+cell": {
     "cellMetadata": {
      "byteLimit": 2048000,
      "rowLimit": 10000
     },
     "inputWidgets": {},
     "nuid": "9a35ff4e-1e4d-466a-8520-895e3ea3a10c",
     "showTitle": false,
     "title": ""
    }
   },
   "outputs": [],
   "source": [
    "def get_response(url):\n",
    "    \n",
    "    headers = {'User-Agent': 'Mozilla/5.0 (Macintosh; Intel Mac OS X 10_11_5) AppleWebKit/537.36 (KHTML, like Gecko) Chrome/50.0.2661.102 Safari/537.36'}\n",
    "    session = requests.Session()\n",
    "    response = session.get(url, headers=headers)\n",
    "    \n",
    "    return BeautifulSoup(response.text, 'xml')\n",
    "\n",
    "def get_context(pmcid, software_sentence):\n",
    "    try:\n",
    "        resp = get_response(f'https://www.ncbi.nlm.nih.gov/research/bionlp/RESTful/pmcoa.cgi/BioC_xml/{pmcid}/ascii')\n",
    "        texts = resp.findAll('text')\n",
    "        context_sentences = [i.get_text() for i in texts]\n",
    "        result = []\n",
    "        for sent in context_sentences:\n",
    "            sentences = nlp(sent).sents\n",
    "            sentences = [i.text for i in sentences]\n",
    "            result.append(sentences)\n",
    "\n",
    "\n",
    "        for t in result:\n",
    "            for sent in t:\n",
    "                ratio = fuzz.ratio(software_sentence, sent)\n",
    "                if ratio > 90:\n",
    "                    sent_match = t\n",
    "                    sent_match_ind = sent_match.index(sent)\n",
    "                    break\n",
    "        try:\n",
    "            if sent_match_ind != 0:\n",
    "                prior_sentence = sent_match[sent_match_ind-1]\n",
    "            else:\n",
    "                raise ValueError('no prior sentence')\n",
    "        except:\n",
    "            prior_sentence = None\n",
    "        try:\n",
    "            trailing_sentence = sent_match[sent_match_ind+1]\n",
    "        except:\n",
    "            trailing_sentence = None\n",
    "        \n",
    "        if prior_sentence and trailing_sentence:\n",
    "            context = ' '.join([prior_sentence, software_sentence, trailing_sentence])\n",
    "        elif prior_sentence and not trailing_sentence:\n",
    "            context = ' '.join([prior_sentence, software_sentence])\n",
    "        else:\n",
    "            context = ' '.join([software_sentence, trailing_sentence])\n",
    "    except:\n",
    "        context = None\n",
    "        \n",
    "    return context\n"
   ]
  },
  {
   "cell_type": "code",
   "execution_count": 0,
   "metadata": {
    "application/vnd.databricks.v1+cell": {
     "cellMetadata": {
      "byteLimit": 2048000,
      "rowLimit": 10000
     },
     "inputWidgets": {},
     "nuid": "3cd3f0ae-402d-44b5-aa44-a15d3a871146",
     "showTitle": false,
     "title": ""
    }
   },
   "outputs": [],
   "source": [
    "softcite_somesci_data = open_gzip_json(software_contexts)\n",
    "\n",
    "softcite_somesci_data_df = pd.DataFrame(columns=['id', 'sentence', 'context', 'used', 'created', 'shared'])\n",
    "for i in tqdm(softcite_somesci_data['documents']):\n",
    "    for ind, t in enumerate(i['texts']):\n",
    "        pmcid = i['pmcid']\n",
    "        if 'entity_spans' in t:\n",
    "            text = t['text']\n",
    "\n",
    "            try:\n",
    "                context = get_context(pmcid, text)\n",
    "            except:\n",
    "                context = None\n",
    "\n",
    "            used = False\n",
    "            created = False\n",
    "            shared = False\n",
    "            for ind in t['entity_spans']:\n",
    "                if 'used' in ind:\n",
    "                    if ind['used']:\n",
    "                        used = True\n",
    "                if 'created' in ind:\n",
    "                    if ind['created']:\n",
    "                        created = True\n",
    "                if 'shared' in ind:\n",
    "                    if ind['shared']:\n",
    "                        shared = True\n",
    "            temp_df = pd.DataFrame({'id':[pmcid], 'sentence':[text], 'context':[context], 'used':[used], 'created':[created], 'shared':[shared]})\n",
    "            softcite_somesci_data_df = pd.concat([softcite_somesci_data_df, temp_df])\n",
    "        else:\n",
    "            continue\n"
   ]
  },
  {
   "cell_type": "code",
   "execution_count": 0,
   "metadata": {
    "application/vnd.databricks.v1+cell": {
     "cellMetadata": {
      "byteLimit": 2048000,
      "rowLimit": 10000
     },
     "inputWidgets": {},
     "nuid": "adc91066-c447-4eb8-a14e-36f83e9b833d",
     "showTitle": false,
     "title": ""
    }
   },
   "outputs": [
    {
     "output_type": "execute_result",
     "data": {
      "text/html": [
       "<div>\n",
       "<style scoped>\n",
       "    .dataframe tbody tr th:only-of-type {\n",
       "        vertical-align: middle;\n",
       "    }\n",
       "\n",
       "    .dataframe tbody tr th {\n",
       "        vertical-align: top;\n",
       "    }\n",
       "\n",
       "    .dataframe thead th {\n",
       "        text-align: right;\n",
       "    }\n",
       "</style>\n",
       "<table border=\"1\" class=\"dataframe\">\n",
       "  <thead>\n",
       "    <tr style=\"text-align: right;\">\n",
       "      <th></th>\n",
       "      <th>id</th>\n",
       "      <th>sentence</th>\n",
       "      <th>context</th>\n",
       "      <th>used</th>\n",
       "      <th>created</th>\n",
       "      <th>shared</th>\n",
       "    </tr>\n",
       "  </thead>\n",
       "  <tbody>\n",
       "    <tr>\n",
       "      <th>0</th>\n",
       "      <td>PMC4690612</td>\n",
       "      <td>We used EventIDE (Okazolab Ltd, London, UK) fo...</td>\n",
       "      <td>We used EventIDE (Okazolab Ltd, London, UK) fo...</td>\n",
       "      <td>True</td>\n",
       "      <td>False</td>\n",
       "      <td>False</td>\n",
       "    </tr>\n",
       "    <tr>\n",
       "      <th>0</th>\n",
       "      <td>PMC6185835</td>\n",
       "      <td>Part of the controls were recruited via an onl...</td>\n",
       "      <td>Seven participants with ADHD reported using MP...</td>\n",
       "      <td>True</td>\n",
       "      <td>False</td>\n",
       "      <td>False</td>\n",
       "    </tr>\n",
       "    <tr>\n",
       "      <th>0</th>\n",
       "      <td>PMC6185835</td>\n",
       "      <td>The heartbeat perception task was programmed u...</td>\n",
       "      <td>The Mental Tracking Method, a well-validated t...</td>\n",
       "      <td>True</td>\n",
       "      <td>False</td>\n",
       "      <td>False</td>\n",
       "    </tr>\n",
       "    <tr>\n",
       "      <th>0</th>\n",
       "      <td>PMC6185835</td>\n",
       "      <td>R-waves were counted offline by means of a cus...</td>\n",
       "      <td>The electrocardiogram was recorded via two ext...</td>\n",
       "      <td>True</td>\n",
       "      <td>False</td>\n",
       "      <td>False</td>\n",
       "    </tr>\n",
       "    <tr>\n",
       "      <th>0</th>\n",
       "      <td>PMC3515589</td>\n",
       "      <td>The Brain Vision Analyzer software (Brain Prod...</td>\n",
       "      <td>The Brain Vision Analyzer software (Brain Prod...</td>\n",
       "      <td>True</td>\n",
       "      <td>False</td>\n",
       "      <td>False</td>\n",
       "    </tr>\n",
       "    <tr>\n",
       "      <th>...</th>\n",
       "      <td>...</td>\n",
       "      <td>...</td>\n",
       "      <td>...</td>\n",
       "      <td>...</td>\n",
       "      <td>...</td>\n",
       "      <td>...</td>\n",
       "    </tr>\n",
       "    <tr>\n",
       "      <th>0</th>\n",
       "      <td>PMC5253549</td>\n",
       "      <td>We generated multilevel logistic regression mo...</td>\n",
       "      <td>None</td>\n",
       "      <td>True</td>\n",
       "      <td>False</td>\n",
       "      <td>False</td>\n",
       "    </tr>\n",
       "    <tr>\n",
       "      <th>0</th>\n",
       "      <td>PMC5253549</td>\n",
       "      <td>We used reweighted iterative least squares and...</td>\n",
       "      <td>None</td>\n",
       "      <td>True</td>\n",
       "      <td>False</td>\n",
       "      <td>False</td>\n",
       "    </tr>\n",
       "    <tr>\n",
       "      <th>0</th>\n",
       "      <td>PMC7471053</td>\n",
       "      <td>The Statistical Analysis System for Windows, v...</td>\n",
       "      <td>Student's t-test was used to compare promotor ...</td>\n",
       "      <td>True</td>\n",
       "      <td>False</td>\n",
       "      <td>False</td>\n",
       "    </tr>\n",
       "    <tr>\n",
       "      <th>0</th>\n",
       "      <td>PMC3794969</td>\n",
       "      <td>Quantitative data were obtained using the Lumi...</td>\n",
       "      <td>These parameters were measured simultaneously ...</td>\n",
       "      <td>True</td>\n",
       "      <td>False</td>\n",
       "      <td>False</td>\n",
       "    </tr>\n",
       "    <tr>\n",
       "      <th>0</th>\n",
       "      <td>PMC3794969</td>\n",
       "      <td>Data management and analysis were performed us...</td>\n",
       "      <td>Data management and analysis were performed us...</td>\n",
       "      <td>True</td>\n",
       "      <td>False</td>\n",
       "      <td>False</td>\n",
       "    </tr>\n",
       "  </tbody>\n",
       "</table>\n",
       "<p>2739 rows × 6 columns</p>\n",
       "</div>"
      ],
      "text/plain": [
       "            id  ... shared\n",
       "0   PMC4690612  ...  False\n",
       "0   PMC6185835  ...  False\n",
       "0   PMC6185835  ...  False\n",
       "0   PMC6185835  ...  False\n",
       "0   PMC3515589  ...  False\n",
       "..         ...  ...    ...\n",
       "0   PMC5253549  ...  False\n",
       "0   PMC5253549  ...  False\n",
       "0   PMC7471053  ...  False\n",
       "0   PMC3794969  ...  False\n",
       "0   PMC3794969  ...  False\n",
       "\n",
       "[2739 rows x 6 columns]"
      ]
     },
     "execution_count": 76,
     "metadata": {},
     "output_type": "execute_result"
    }
   ],
   "source": [
    "softcite_somesci_data_df"
   ]
  },
  {
   "cell_type": "code",
   "execution_count": 0,
   "metadata": {
    "application/vnd.databricks.v1+cell": {
     "cellMetadata": {
      "byteLimit": 2048000,
      "rowLimit": 10000
     },
     "inputWidgets": {},
     "nuid": "fe0b6085-b20a-4502-8961-aaacb55977f4",
     "showTitle": false,
     "title": ""
    }
   },
   "outputs": [
    {
     "output_type": "execute_result",
     "data": {
      "text/html": [
       "<div>\n",
       "<style scoped>\n",
       "    .dataframe tbody tr th:only-of-type {\n",
       "        vertical-align: middle;\n",
       "    }\n",
       "\n",
       "    .dataframe tbody tr th {\n",
       "        vertical-align: top;\n",
       "    }\n",
       "\n",
       "    .dataframe thead th {\n",
       "        text-align: right;\n",
       "    }\n",
       "</style>\n",
       "<table border=\"1\" class=\"dataframe\">\n",
       "  <thead>\n",
       "    <tr style=\"text-align: right;\">\n",
       "      <th></th>\n",
       "      <th>id</th>\n",
       "      <th>sentence</th>\n",
       "      <th>context</th>\n",
       "      <th>used</th>\n",
       "      <th>created</th>\n",
       "      <th>shared</th>\n",
       "    </tr>\n",
       "  </thead>\n",
       "  <tbody>\n",
       "    <tr>\n",
       "      <th>0</th>\n",
       "      <td>005f9f83-dabe-4ab0-b674-257b5ff1b4af</td>\n",
       "      <td>Finally, Haft et al. (12) used REPfind (http:/...</td>\n",
       "      <td>The PYGRAM program is mostly efficient in visu...</td>\n",
       "      <td>True</td>\n",
       "      <td>False</td>\n",
       "      <td>False</td>\n",
       "    </tr>\n",
       "    <tr>\n",
       "      <th>0</th>\n",
       "      <td>005f9f83-dabe-4ab0-b674-257b5ff1b4af</td>\n",
       "      <td>Recently, two CRISPR-dedicated software tools ...</td>\n",
       "      <td>They require further manual manipulations to e...</td>\n",
       "      <td>True</td>\n",
       "      <td>False</td>\n",
       "      <td>False</td>\n",
       "    </tr>\n",
       "    <tr>\n",
       "      <th>0</th>\n",
       "      <td>005f9f83-dabe-4ab0-b674-257b5ff1b4af</td>\n",
       "      <td>In the first step, maximal repeats are found b...</td>\n",
       "      <td>Hereafter, the obtained maximal repeats are gr...</td>\n",
       "      <td>True</td>\n",
       "      <td>False</td>\n",
       "      <td>False</td>\n",
       "    </tr>\n",
       "    <tr>\n",
       "      <th>0</th>\n",
       "      <td>005f9f83-dabe-4ab0-b674-257b5ff1b4af</td>\n",
       "      <td>Vmatch is based on a comprehensive implementat...</td>\n",
       "      <td>In the first step, maximal repeats are found b...</td>\n",
       "      <td>False</td>\n",
       "      <td>False</td>\n",
       "      <td>False</td>\n",
       "    </tr>\n",
       "    <tr>\n",
       "      <th>0</th>\n",
       "      <td>0114b264-4f0d-4ac0-9aac-56ba96e36f90</td>\n",
       "      <td>The FASTX application (www.molecularevolution....</td>\n",
       "      <td>Calculation of percent of reads by biotype was...</td>\n",
       "      <td>True</td>\n",
       "      <td>False</td>\n",
       "      <td>False</td>\n",
       "    </tr>\n",
       "  </tbody>\n",
       "</table>\n",
       "</div>"
      ],
      "text/plain": [
       "                                     id  ... shared\n",
       "0  005f9f83-dabe-4ab0-b674-257b5ff1b4af  ...  False\n",
       "0  005f9f83-dabe-4ab0-b674-257b5ff1b4af  ...  False\n",
       "0  005f9f83-dabe-4ab0-b674-257b5ff1b4af  ...  False\n",
       "0  005f9f83-dabe-4ab0-b674-257b5ff1b4af  ...  False\n",
       "0  0114b264-4f0d-4ac0-9aac-56ba96e36f90  ...  False\n",
       "\n",
       "[5 rows x 6 columns]"
      ]
     },
     "execution_count": 151,
     "metadata": {},
     "output_type": "execute_result"
    }
   ],
   "source": [
    "extra_df.head()"
   ]
  },
  {
   "cell_type": "code",
   "execution_count": 0,
   "metadata": {
    "application/vnd.databricks.v1+cell": {
     "cellMetadata": {
      "byteLimit": 2048000,
      "rowLimit": 10000
     },
     "inputWidgets": {},
     "nuid": "67571acf-718c-46d0-b820-ff25c8192440",
     "showTitle": false,
     "title": ""
    }
   },
   "outputs": [],
   "source": [
    "final_df = pd.concat([softcite_somesci_data_df, extra_df])"
   ]
  },
  {
   "cell_type": "code",
   "execution_count": 0,
   "metadata": {
    "application/vnd.databricks.v1+cell": {
     "cellMetadata": {
      "byteLimit": 2048000,
      "rowLimit": 10000
     },
     "inputWidgets": {},
     "nuid": "b4e3a897-de0e-49a4-b109-52c025239470",
     "showTitle": false,
     "title": ""
    }
   },
   "outputs": [],
   "source": [
    "final_df.to_csv('/dbfs/FileStore/citation_intent/software_intent_data_with_context.csv')"
   ]
  },
  {
   "cell_type": "code",
   "execution_count": 0,
   "metadata": {
    "application/vnd.databricks.v1+cell": {
     "cellMetadata": {
      "byteLimit": 2048000,
      "rowLimit": 10000
     },
     "inputWidgets": {},
     "nuid": "24849d8b-9a07-4065-8541-2008c2a57ead",
     "showTitle": false,
     "title": ""
    }
   },
   "outputs": [],
   "source": [
    "curated_data = pd.read_csv('/dbfs/FileStore/citation_intent/software_intent_data___final_data.csv')"
   ]
  },
  {
   "cell_type": "code",
   "execution_count": 0,
   "metadata": {
    "application/vnd.databricks.v1+cell": {
     "cellMetadata": {
      "byteLimit": 2048000,
      "rowLimit": 10000
     },
     "inputWidgets": {},
     "nuid": "b1430677-198c-43c3-a71c-b22f499d4e4a",
     "showTitle": false,
     "title": ""
    }
   },
   "outputs": [],
   "source": [
    "curated_data = curated_data.drop(['context', 'Unnamed: 6'], axis=1)"
   ]
  },
  {
   "cell_type": "code",
   "execution_count": 0,
   "metadata": {
    "application/vnd.databricks.v1+cell": {
     "cellMetadata": {
      "byteLimit": 2048000,
      "rowLimit": 10000
     },
     "inputWidgets": {},
     "nuid": "150fb65e-000f-4470-9334-554ac93ef502",
     "showTitle": false,
     "title": ""
    }
   },
   "outputs": [
    {
     "output_type": "execute_result",
     "data": {
      "text/html": [
       "<div>\n",
       "<style scoped>\n",
       "    .dataframe tbody tr th:only-of-type {\n",
       "        vertical-align: middle;\n",
       "    }\n",
       "\n",
       "    .dataframe tbody tr th {\n",
       "        vertical-align: top;\n",
       "    }\n",
       "\n",
       "    .dataframe thead th {\n",
       "        text-align: right;\n",
       "    }\n",
       "</style>\n",
       "<table border=\"1\" class=\"dataframe\">\n",
       "  <thead>\n",
       "    <tr style=\"text-align: right;\">\n",
       "      <th></th>\n",
       "      <th>id</th>\n",
       "      <th>sentence</th>\n",
       "      <th>context</th>\n",
       "      <th>used</th>\n",
       "      <th>created</th>\n",
       "      <th>mention</th>\n",
       "      <th>Unnamed: 6</th>\n",
       "    </tr>\n",
       "  </thead>\n",
       "  <tbody>\n",
       "    <tr>\n",
       "      <th>0</th>\n",
       "      <td>PMC5189946</td>\n",
       "      <td>All of this analysis was implemented using Mat...</td>\n",
       "      <td>In turn, Pemp(I) was inferred using a well-est...</td>\n",
       "      <td>False</td>\n",
       "      <td>True</td>\n",
       "      <td>False</td>\n",
       "      <td>NaN</td>\n",
       "    </tr>\n",
       "    <tr>\n",
       "      <th>1</th>\n",
       "      <td>PMC4511233</td>\n",
       "      <td>Code for calculating partition similarity, obt...</td>\n",
       "      <td>Since the probability of getting a given MI is...</td>\n",
       "      <td>False</td>\n",
       "      <td>True</td>\n",
       "      <td>False</td>\n",
       "      <td>NaN</td>\n",
       "    </tr>\n",
       "    <tr>\n",
       "      <th>2</th>\n",
       "      <td>PMC4186879</td>\n",
       "      <td>All behavioral statistical analyses were perfo...</td>\n",
       "      <td>After 1,000 permutations, the cluster-level si...</td>\n",
       "      <td>False</td>\n",
       "      <td>False</td>\n",
       "      <td>True</td>\n",
       "      <td>NaN</td>\n",
       "    </tr>\n",
       "    <tr>\n",
       "      <th>3</th>\n",
       "      <td>PMC5026371</td>\n",
       "      <td>M-Track was written using Python 2.7, OpenCV 3...</td>\n",
       "      <td>The software and documentation for M-Track is ...</td>\n",
       "      <td>True</td>\n",
       "      <td>False</td>\n",
       "      <td>False</td>\n",
       "      <td>NaN</td>\n",
       "    </tr>\n",
       "    <tr>\n",
       "      <th>4</th>\n",
       "      <td>PMC1283974</td>\n",
       "      <td>Mindboggle is a freely downloadable, open sour...</td>\n",
       "      <td>In this paper, we have chosen to extend the us...</td>\n",
       "      <td>False</td>\n",
       "      <td>True</td>\n",
       "      <td>False</td>\n",
       "      <td>NaN</td>\n",
       "    </tr>\n",
       "    <tr>\n",
       "      <th>...</th>\n",
       "      <td>...</td>\n",
       "      <td>...</td>\n",
       "      <td>...</td>\n",
       "      <td>...</td>\n",
       "      <td>...</td>\n",
       "      <td>...</td>\n",
       "      <td>...</td>\n",
       "    </tr>\n",
       "    <tr>\n",
       "      <th>3212</th>\n",
       "      <td>fa2b2905-5624-449c-bc30-13682e2f5e84</td>\n",
       "      <td>Microarray data are available in the ArrayExpr...</td>\n",
       "      <td>The pooled RNA samples of each experimental gr...</td>\n",
       "      <td>False</td>\n",
       "      <td>False</td>\n",
       "      <td>True</td>\n",
       "      <td>NaN</td>\n",
       "    </tr>\n",
       "    <tr>\n",
       "      <th>3213</th>\n",
       "      <td>fbdacd7f-c51f-4453-99f8-07799f76fa27</td>\n",
       "      <td>AltAnalyze (http://www. altanalyze.org) identi...</td>\n",
       "      <td>There are few tools for analyzing AS isoforms ...</td>\n",
       "      <td>False</td>\n",
       "      <td>False</td>\n",
       "      <td>True</td>\n",
       "      <td>NaN</td>\n",
       "    </tr>\n",
       "    <tr>\n",
       "      <th>3214</th>\n",
       "      <td>fdb400f9-9c0c-43c2-afb3-1d8d14d3f474</td>\n",
       "      <td>Information about the data and their availabil...</td>\n",
       "      <td>Information about the data and their availabil...</td>\n",
       "      <td>False</td>\n",
       "      <td>False</td>\n",
       "      <td>True</td>\n",
       "      <td>NaN</td>\n",
       "    </tr>\n",
       "    <tr>\n",
       "      <th>3215</th>\n",
       "      <td>ff070b04-1c52-4506-a92d-3f46a0c612e7</td>\n",
       "      <td>All files are available from the SEANOE databa...</td>\n",
       "      <td>All files are available from the SEANOE databa...</td>\n",
       "      <td>False</td>\n",
       "      <td>False</td>\n",
       "      <td>True</td>\n",
       "      <td>NaN</td>\n",
       "    </tr>\n",
       "    <tr>\n",
       "      <th>3216</th>\n",
       "      <td>ff6bdc23-bfae-4e81-945b-945edb2694e6</td>\n",
       "      <td>This is also the identification protocol as it...</td>\n",
       "      <td>The use of ITS as the primary locus, and if ne...</td>\n",
       "      <td>False</td>\n",
       "      <td>False</td>\n",
       "      <td>True</td>\n",
       "      <td>NaN</td>\n",
       "    </tr>\n",
       "  </tbody>\n",
       "</table>\n",
       "<p>3217 rows × 7 columns</p>\n",
       "</div>"
      ],
      "text/plain": [
       "                                        id  ... Unnamed: 6\n",
       "0                               PMC5189946  ...        NaN\n",
       "1                               PMC4511233  ...        NaN\n",
       "2                               PMC4186879  ...        NaN\n",
       "3                               PMC5026371  ...        NaN\n",
       "4                               PMC1283974  ...        NaN\n",
       "...                                    ...  ...        ...\n",
       "3212  fa2b2905-5624-449c-bc30-13682e2f5e84  ...        NaN\n",
       "3213  fbdacd7f-c51f-4453-99f8-07799f76fa27  ...        NaN\n",
       "3214  fdb400f9-9c0c-43c2-afb3-1d8d14d3f474  ...        NaN\n",
       "3215  ff070b04-1c52-4506-a92d-3f46a0c612e7  ...        NaN\n",
       "3216  ff6bdc23-bfae-4e81-945b-945edb2694e6  ...        NaN\n",
       "\n",
       "[3217 rows x 7 columns]"
      ]
     },
     "execution_count": 111,
     "metadata": {},
     "output_type": "execute_result"
    }
   ],
   "source": [
    "curated_data"
   ]
  },
  {
   "cell_type": "code",
   "execution_count": 0,
   "metadata": {
    "application/vnd.databricks.v1+cell": {
     "cellMetadata": {
      "byteLimit": 2048000,
      "rowLimit": 10000
     },
     "inputWidgets": {},
     "nuid": "4b09902c-4c7c-453c-9c63-a96f71d320f2",
     "showTitle": false,
     "title": ""
    }
   },
   "outputs": [],
   "source": [
    "merged_df = pd.merge(curated_data, final_df, on=['id', 'sentence'])"
   ]
  },
  {
   "cell_type": "code",
   "execution_count": 0,
   "metadata": {
    "application/vnd.databricks.v1+cell": {
     "cellMetadata": {
      "byteLimit": 2048000,
      "rowLimit": 10000
     },
     "inputWidgets": {},
     "nuid": "4ef6bde9-d572-4f9d-b221-5cb3f3bd3808",
     "showTitle": false,
     "title": ""
    }
   },
   "outputs": [],
   "source": [
    "merged_df = merged_df.drop(['used_y', 'created_y', 'shared'], axis=1)"
   ]
  },
  {
   "cell_type": "code",
   "execution_count": 0,
   "metadata": {
    "application/vnd.databricks.v1+cell": {
     "cellMetadata": {
      "byteLimit": 2048000,
      "rowLimit": 10000
     },
     "inputWidgets": {},
     "nuid": "7b7830d6-6e33-4b9a-ad92-be41eefc625f",
     "showTitle": false,
     "title": ""
    }
   },
   "outputs": [],
   "source": [
    "filtered_merged = merged_df[~merged_df['context'].isnull()]"
   ]
  },
  {
   "cell_type": "code",
   "execution_count": 0,
   "metadata": {
    "application/vnd.databricks.v1+cell": {
     "cellMetadata": {
      "byteLimit": 2048000,
      "rowLimit": 10000
     },
     "inputWidgets": {},
     "nuid": "558bc8c2-37c4-44d8-9866-cb80599525a1",
     "showTitle": false,
     "title": ""
    }
   },
   "outputs": [],
   "source": [
    "filtered_merged = filtered_merged.rename(columns={'used_x':'used', 'created_x':'created'})"
   ]
  },
  {
   "cell_type": "code",
   "execution_count": 0,
   "metadata": {
    "application/vnd.databricks.v1+cell": {
     "cellMetadata": {
      "byteLimit": 2048000,
      "rowLimit": 10000
     },
     "inputWidgets": {},
     "nuid": "010ee5d9-e628-42f3-b12c-dcf97fc4c56c",
     "showTitle": false,
     "title": ""
    }
   },
   "outputs": [],
   "source": [
    "filtered_merged.to_csv('/dbfs/FileStore/citation_intent/software_intent_data_with_context.csv')"
   ]
  },
  {
   "cell_type": "code",
   "execution_count": 0,
   "metadata": {
    "application/vnd.databricks.v1+cell": {
     "cellMetadata": {
      "byteLimit": 2048000,
      "rowLimit": 10000
     },
     "inputWidgets": {},
     "nuid": "2dec661f-cbe1-409d-9fb6-b6e0cdd72012",
     "showTitle": false,
     "title": ""
    }
   },
   "outputs": [
    {
     "output_type": "execute_result",
     "data": {
      "text/html": [
       "<div>\n",
       "<style scoped>\n",
       "    .dataframe tbody tr th:only-of-type {\n",
       "        vertical-align: middle;\n",
       "    }\n",
       "\n",
       "    .dataframe tbody tr th {\n",
       "        vertical-align: top;\n",
       "    }\n",
       "\n",
       "    .dataframe thead th {\n",
       "        text-align: right;\n",
       "    }\n",
       "</style>\n",
       "<table border=\"1\" class=\"dataframe\">\n",
       "  <thead>\n",
       "    <tr style=\"text-align: right;\">\n",
       "      <th></th>\n",
       "      <th>id</th>\n",
       "      <th>sentence</th>\n",
       "      <th>used</th>\n",
       "      <th>created</th>\n",
       "      <th>mention</th>\n",
       "      <th>context</th>\n",
       "    </tr>\n",
       "  </thead>\n",
       "  <tbody>\n",
       "    <tr>\n",
       "      <th>1</th>\n",
       "      <td>PMC4511233</td>\n",
       "      <td>Code for calculating partition similarity, obt...</td>\n",
       "      <td>False</td>\n",
       "      <td>True</td>\n",
       "      <td>False</td>\n",
       "      <td>Since the probability of getting a given MI is...</td>\n",
       "    </tr>\n",
       "    <tr>\n",
       "      <th>2</th>\n",
       "      <td>PMC4186879</td>\n",
       "      <td>All behavioral statistical analyses were perfo...</td>\n",
       "      <td>False</td>\n",
       "      <td>False</td>\n",
       "      <td>True</td>\n",
       "      <td>All behavioral statistical analyses were perfo...</td>\n",
       "    </tr>\n",
       "    <tr>\n",
       "      <th>4</th>\n",
       "      <td>PMC1283974</td>\n",
       "      <td>Mindboggle is a freely downloadable, open sour...</td>\n",
       "      <td>False</td>\n",
       "      <td>True</td>\n",
       "      <td>False</td>\n",
       "      <td>Mindboggle is a freely downloadable, open sour...</td>\n",
       "    </tr>\n",
       "    <tr>\n",
       "      <th>5</th>\n",
       "      <td>PMC3591454</td>\n",
       "      <td>All graph algorithms used in this article were...</td>\n",
       "      <td>False</td>\n",
       "      <td>True</td>\n",
       "      <td>False</td>\n",
       "      <td>The graph's community structure can be determi...</td>\n",
       "    </tr>\n",
       "    <tr>\n",
       "      <th>6</th>\n",
       "      <td>01a01273-2e2c-423c-b480-6a3161c2aa36</td>\n",
       "      <td>Data analysis was performed in R version 3.2.3...</td>\n",
       "      <td>True</td>\n",
       "      <td>False</td>\n",
       "      <td>False</td>\n",
       "      <td>Data sets obtained in this study have been upl...</td>\n",
       "    </tr>\n",
       "    <tr>\n",
       "      <th>...</th>\n",
       "      <td>...</td>\n",
       "      <td>...</td>\n",
       "      <td>...</td>\n",
       "      <td>...</td>\n",
       "      <td>...</td>\n",
       "      <td>...</td>\n",
       "    </tr>\n",
       "    <tr>\n",
       "      <th>2545</th>\n",
       "      <td>fa2b2905-5624-449c-bc30-13682e2f5e84</td>\n",
       "      <td>Microarray data are available in the ArrayExpr...</td>\n",
       "      <td>False</td>\n",
       "      <td>False</td>\n",
       "      <td>True</td>\n",
       "      <td>The pooled RNA samples of each experimental gr...</td>\n",
       "    </tr>\n",
       "    <tr>\n",
       "      <th>2546</th>\n",
       "      <td>fbdacd7f-c51f-4453-99f8-07799f76fa27</td>\n",
       "      <td>AltAnalyze (http://www. altanalyze.org) identi...</td>\n",
       "      <td>False</td>\n",
       "      <td>False</td>\n",
       "      <td>True</td>\n",
       "      <td>There are few tools for analyzing AS isoforms ...</td>\n",
       "    </tr>\n",
       "    <tr>\n",
       "      <th>2547</th>\n",
       "      <td>fdb400f9-9c0c-43c2-afb3-1d8d14d3f474</td>\n",
       "      <td>Information about the data and their availabil...</td>\n",
       "      <td>False</td>\n",
       "      <td>False</td>\n",
       "      <td>True</td>\n",
       "      <td>Information about the data and their availabil...</td>\n",
       "    </tr>\n",
       "    <tr>\n",
       "      <th>2548</th>\n",
       "      <td>ff070b04-1c52-4506-a92d-3f46a0c612e7</td>\n",
       "      <td>All files are available from the SEANOE databa...</td>\n",
       "      <td>False</td>\n",
       "      <td>False</td>\n",
       "      <td>True</td>\n",
       "      <td>All files are available from the SEANOE databa...</td>\n",
       "    </tr>\n",
       "    <tr>\n",
       "      <th>2549</th>\n",
       "      <td>ff6bdc23-bfae-4e81-945b-945edb2694e6</td>\n",
       "      <td>This is also the identification protocol as it...</td>\n",
       "      <td>False</td>\n",
       "      <td>False</td>\n",
       "      <td>True</td>\n",
       "      <td>The use of ITS as the primary locus, and if ne...</td>\n",
       "    </tr>\n",
       "  </tbody>\n",
       "</table>\n",
       "<p>2283 rows × 6 columns</p>\n",
       "</div>"
      ],
      "text/plain": [
       "                                        id  ...                                            context\n",
       "1                               PMC4511233  ...  Since the probability of getting a given MI is...\n",
       "2                               PMC4186879  ...  All behavioral statistical analyses were perfo...\n",
       "4                               PMC1283974  ...  Mindboggle is a freely downloadable, open sour...\n",
       "5                               PMC3591454  ...  The graph's community structure can be determi...\n",
       "6     01a01273-2e2c-423c-b480-6a3161c2aa36  ...  Data sets obtained in this study have been upl...\n",
       "...                                    ...  ...                                                ...\n",
       "2545  fa2b2905-5624-449c-bc30-13682e2f5e84  ...  The pooled RNA samples of each experimental gr...\n",
       "2546  fbdacd7f-c51f-4453-99f8-07799f76fa27  ...  There are few tools for analyzing AS isoforms ...\n",
       "2547  fdb400f9-9c0c-43c2-afb3-1d8d14d3f474  ...  Information about the data and their availabil...\n",
       "2548  ff070b04-1c52-4506-a92d-3f46a0c612e7  ...  All files are available from the SEANOE databa...\n",
       "2549  ff6bdc23-bfae-4e81-945b-945edb2694e6  ...  The use of ITS as the primary locus, and if ne...\n",
       "\n",
       "[2283 rows x 6 columns]"
      ]
     },
     "execution_count": 179,
     "metadata": {},
     "output_type": "execute_result"
    }
   ],
   "source": [
    "filtered_merged"
   ]
  },
  {
   "cell_type": "markdown",
   "metadata": {
    "application/vnd.databricks.v1+cell": {
     "cellMetadata": {},
     "inputWidgets": {},
     "nuid": "bfbe6817-62af-43ae-a2f0-67f1cf8a91e7",
     "showTitle": false,
     "title": ""
    }
   },
   "source": [
    "\n",
    "#### Extract unlabeled data from dataset to use as negative samples"
   ]
  },
  {
   "cell_type": "code",
   "execution_count": 0,
   "metadata": {
    "application/vnd.databricks.v1+cell": {
     "cellMetadata": {
      "byteLimit": 2048000,
      "rowLimit": 10000
     },
     "inputWidgets": {},
     "nuid": "4e4b3359-3827-454b-a2d1-6870bb848862",
     "showTitle": false,
     "title": ""
    }
   },
   "outputs": [],
   "source": [
    "unlabeled_df = pd.DataFrame(columns=['id', 'sentence', 'used', 'created', 'mention'])\n",
    "for i in softcite_somesci_data['documents']:\n",
    "    for ind, t in enumerate(i['texts']):\n",
    "        pmcid = i['pmcid']\n",
    "        if 'entity_spans' not in t:\n",
    "            text = t['text']\n",
    "            used = False\n",
    "            created = False\n",
    "            mention = False\n",
    "            temp_df = pd.DataFrame({'id':[pmcid], 'sentence':[text], 'used':[used], 'created':[created], 'mention':[mention]})\n",
    "            unlabeled_df = pd.concat([unlabeled_df, temp_df])"
   ]
  },
  {
   "cell_type": "code",
   "execution_count": 0,
   "metadata": {
    "application/vnd.databricks.v1+cell": {
     "cellMetadata": {
      "byteLimit": 2048000,
      "rowLimit": 10000
     },
     "inputWidgets": {},
     "nuid": "240c02b5-163a-4ffc-818e-1e1e0821bf17",
     "showTitle": false,
     "title": ""
    }
   },
   "outputs": [],
   "source": [
    "unlabeled_df_sample = unlabeled_df.sample(1000)\n",
    "unlabeled_df_sample.to_csv('/dbfs/FileStore/citation_intent/unlabeled.csv')"
   ]
  },
  {
   "cell_type": "code",
   "execution_count": 0,
   "metadata": {
    "application/vnd.databricks.v1+cell": {
     "cellMetadata": {
      "byteLimit": 2048000,
      "rowLimit": 10000
     },
     "inputWidgets": {},
     "nuid": "09c40daf-7940-41de-98c6-1def75cfea5a",
     "showTitle": false,
     "title": ""
    }
   },
   "outputs": [],
   "source": [
    "unlabeled_df_sample['context'] = unlabeled_df_sample.apply(lambda x: get_context(x['id'], x['sentence']), axis=1)"
   ]
  },
  {
   "cell_type": "code",
   "execution_count": 0,
   "metadata": {
    "application/vnd.databricks.v1+cell": {
     "cellMetadata": {
      "byteLimit": 2048000,
      "rowLimit": 10000
     },
     "inputWidgets": {},
     "nuid": "b5e58f22-dcb3-463d-a151-e452338876fe",
     "showTitle": false,
     "title": ""
    }
   },
   "outputs": [],
   "source": [
    "unlabeled_df_sample.to_csv('/dbfs/FileStore/citation_intent/unlabeled_w_context.csv')"
   ]
  },
  {
   "cell_type": "code",
   "execution_count": 0,
   "metadata": {
    "application/vnd.databricks.v1+cell": {
     "cellMetadata": {
      "byteLimit": 2048000,
      "rowLimit": 10000
     },
     "inputWidgets": {},
     "nuid": "1554a751-cf23-4c72-95f6-f2261812ee46",
     "showTitle": false,
     "title": ""
    }
   },
   "outputs": [],
   "source": [
    "filtered_unlabeled_df_sample = unlabeled_df_sample[~unlabeled_df_sample['context'].isnull()]"
   ]
  },
  {
   "cell_type": "code",
   "execution_count": 0,
   "metadata": {
    "application/vnd.databricks.v1+cell": {
     "cellMetadata": {
      "byteLimit": 2048000,
      "rowLimit": 10000
     },
     "inputWidgets": {},
     "nuid": "52802d52-dfee-4757-aee8-2df7b218a45c",
     "showTitle": false,
     "title": ""
    }
   },
   "outputs": [],
   "source": [
    "final_df_w_unlabeled = pd.concat([filtered_merged, filtered_unlabeled_df_sample])"
   ]
  },
  {
   "cell_type": "code",
   "execution_count": 0,
   "metadata": {
    "application/vnd.databricks.v1+cell": {
     "cellMetadata": {
      "byteLimit": 2048000,
      "rowLimit": 10000
     },
     "inputWidgets": {},
     "nuid": "c04e077e-1379-477c-b8b6-648ffa284f12",
     "showTitle": false,
     "title": ""
    }
   },
   "outputs": [],
   "source": [
    "final_df_w_unlabeled.to_csv('/dbfs/FileStore/citation_intent/final_df_w_unlabeled_context.csv', index=None)"
   ]
  },
  {
   "cell_type": "code",
   "execution_count": 0,
   "metadata": {
    "application/vnd.databricks.v1+cell": {
     "cellMetadata": {
      "byteLimit": 2048000,
      "rowLimit": 10000
     },
     "inputWidgets": {},
     "nuid": "281d0fe9-b5b8-46a2-9d23-29e63aad9df2",
     "showTitle": false,
     "title": ""
    }
   },
   "outputs": [
    {
     "output_type": "execute_result",
     "data": {
      "text/html": [
       "<div>\n",
       "<style scoped>\n",
       "    .dataframe tbody tr th:only-of-type {\n",
       "        vertical-align: middle;\n",
       "    }\n",
       "\n",
       "    .dataframe tbody tr th {\n",
       "        vertical-align: top;\n",
       "    }\n",
       "\n",
       "    .dataframe thead th {\n",
       "        text-align: right;\n",
       "    }\n",
       "</style>\n",
       "<table border=\"1\" class=\"dataframe\">\n",
       "  <thead>\n",
       "    <tr style=\"text-align: right;\">\n",
       "      <th></th>\n",
       "      <th>id</th>\n",
       "      <th>sentence</th>\n",
       "      <th>used</th>\n",
       "      <th>created</th>\n",
       "      <th>mention</th>\n",
       "      <th>context</th>\n",
       "    </tr>\n",
       "  </thead>\n",
       "  <tbody>\n",
       "    <tr>\n",
       "      <th>1</th>\n",
       "      <td>PMC4511233</td>\n",
       "      <td>Code for calculating partition similarity, obt...</td>\n",
       "      <td>False</td>\n",
       "      <td>True</td>\n",
       "      <td>False</td>\n",
       "      <td>Since the probability of getting a given MI is...</td>\n",
       "    </tr>\n",
       "    <tr>\n",
       "      <th>2</th>\n",
       "      <td>PMC4186879</td>\n",
       "      <td>All behavioral statistical analyses were perfo...</td>\n",
       "      <td>False</td>\n",
       "      <td>False</td>\n",
       "      <td>True</td>\n",
       "      <td>All behavioral statistical analyses were perfo...</td>\n",
       "    </tr>\n",
       "    <tr>\n",
       "      <th>4</th>\n",
       "      <td>PMC1283974</td>\n",
       "      <td>Mindboggle is a freely downloadable, open sour...</td>\n",
       "      <td>False</td>\n",
       "      <td>True</td>\n",
       "      <td>False</td>\n",
       "      <td>Mindboggle is a freely downloadable, open sour...</td>\n",
       "    </tr>\n",
       "    <tr>\n",
       "      <th>5</th>\n",
       "      <td>PMC3591454</td>\n",
       "      <td>All graph algorithms used in this article were...</td>\n",
       "      <td>False</td>\n",
       "      <td>True</td>\n",
       "      <td>False</td>\n",
       "      <td>The graph's community structure can be determi...</td>\n",
       "    </tr>\n",
       "    <tr>\n",
       "      <th>6</th>\n",
       "      <td>01a01273-2e2c-423c-b480-6a3161c2aa36</td>\n",
       "      <td>Data analysis was performed in R version 3.2.3...</td>\n",
       "      <td>True</td>\n",
       "      <td>False</td>\n",
       "      <td>False</td>\n",
       "      <td>Data sets obtained in this study have been upl...</td>\n",
       "    </tr>\n",
       "    <tr>\n",
       "      <th>...</th>\n",
       "      <td>...</td>\n",
       "      <td>...</td>\n",
       "      <td>...</td>\n",
       "      <td>...</td>\n",
       "      <td>...</td>\n",
       "      <td>...</td>\n",
       "    </tr>\n",
       "    <tr>\n",
       "      <th>0</th>\n",
       "      <td>PMC5388469</td>\n",
       "      <td>The study was approved by the Health Research ...</td>\n",
       "      <td>False</td>\n",
       "      <td>False</td>\n",
       "      <td>False</td>\n",
       "      <td>The protocol for this study has been published...</td>\n",
       "    </tr>\n",
       "    <tr>\n",
       "      <th>0</th>\n",
       "      <td>PMC3660501</td>\n",
       "      <td>U0216 and Wortmannin were dissolved in PBS whe...</td>\n",
       "      <td>False</td>\n",
       "      <td>False</td>\n",
       "      <td>False</td>\n",
       "      <td>An ERK1/2 inhibitor, U0216; a PI3 kinase inhib...</td>\n",
       "    </tr>\n",
       "    <tr>\n",
       "      <th>0</th>\n",
       "      <td>PMC4213368</td>\n",
       "      <td>The linker unit serves as an acceptor for the ...</td>\n",
       "      <td>False</td>\n",
       "      <td>False</td>\n",
       "      <td>False</td>\n",
       "      <td>The rhamnosyltransferase WbbL then attaches th...</td>\n",
       "    </tr>\n",
       "    <tr>\n",
       "      <th>0</th>\n",
       "      <td>PMC4451992</td>\n",
       "      <td>The Training and Recourse Center of CIDI in Be...</td>\n",
       "      <td>False</td>\n",
       "      <td>False</td>\n",
       "      <td>False</td>\n",
       "      <td>The WHO Composite International Diagnostic Int...</td>\n",
       "    </tr>\n",
       "    <tr>\n",
       "      <th>0</th>\n",
       "      <td>PMC5869224</td>\n",
       "      <td>Fluorescent PCR permits multiplexing of differ...</td>\n",
       "      <td>False</td>\n",
       "      <td>False</td>\n",
       "      <td>False</td>\n",
       "      <td>In addition, the use of fluorescent PCR allows...</td>\n",
       "    </tr>\n",
       "  </tbody>\n",
       "</table>\n",
       "<p>3119 rows × 6 columns</p>\n",
       "</div>"
      ],
      "text/plain": [
       "                                      id  ...                                            context\n",
       "1                             PMC4511233  ...  Since the probability of getting a given MI is...\n",
       "2                             PMC4186879  ...  All behavioral statistical analyses were perfo...\n",
       "4                             PMC1283974  ...  Mindboggle is a freely downloadable, open sour...\n",
       "5                             PMC3591454  ...  The graph's community structure can be determi...\n",
       "6   01a01273-2e2c-423c-b480-6a3161c2aa36  ...  Data sets obtained in this study have been upl...\n",
       "..                                   ...  ...                                                ...\n",
       "0                             PMC5388469  ...  The protocol for this study has been published...\n",
       "0                             PMC3660501  ...  An ERK1/2 inhibitor, U0216; a PI3 kinase inhib...\n",
       "0                             PMC4213368  ...  The rhamnosyltransferase WbbL then attaches th...\n",
       "0                             PMC4451992  ...  The WHO Composite International Diagnostic Int...\n",
       "0                             PMC5869224  ...  In addition, the use of fluorescent PCR allows...\n",
       "\n",
       "[3119 rows x 6 columns]"
      ]
     },
     "execution_count": 181,
     "metadata": {},
     "output_type": "execute_result"
    }
   ],
   "source": [
    "final_df_w_unlabeled"
   ]
  }
 ],
 "metadata": {
  "application/vnd.databricks.v1+notebook": {
   "dashboards": [],
   "language": "python",
   "notebookMetadata": {
    "pythonIndentUnit": 4
   },
   "notebookName": "Data_aggregation",
   "widgets": {}
  }
 },
 "nbformat": 4,
 "nbformat_minor": 0
}
