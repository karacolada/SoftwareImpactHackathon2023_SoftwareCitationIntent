{
 "cells": [
  {
   "cell_type": "markdown",
   "metadata": {
    "application/vnd.databricks.v1+cell": {
     "cellMetadata": {
      "byteLimit": 2048000,
      "rowLimit": 10000
     },
     "inputWidgets": {},
     "nuid": "ed0457b0-575f-49d9-b6ef-d5d698607e69",
     "showTitle": false,
     "title": ""
    }
   },
   "source": [
    "# GPT3.5 Fine-tuning Modeling for Software Citation Intent Prediction\n",
    "\n",
    "In this notebok, we showcase an example of finetuning GPT3.5 for predicting software citation intent.\n",
    "Note that running this notebook requires access to an OpenAI API key, which can be retrieved from the OpenAI API website: https://openai.com/product#made-for-developers"
   ]
  },
  {
   "cell_type": "code",
   "execution_count": 1,
   "metadata": {
    "application/vnd.databricks.v1+cell": {
     "cellMetadata": {
      "byteLimit": 2048000,
      "rowLimit": 10000
     },
     "inputWidgets": {},
     "nuid": "6c7bb58b-84e9-45d6-9558-73580835526b",
     "showTitle": false,
     "title": ""
    }
   },
   "outputs": [],
   "source": [
    "import pandas as pd\n",
    "import os\n",
    "from openai import OpenAI\n",
    "from sklearn.metrics import precision_recall_fscore_support, accuracy_score, classification_report\n",
    "# your OpenAI key goes here\n",
    "OPENAI_API_KEY = \"\"\n",
    "client = OpenAI(api_key = OPENAI_API_KEY)\n",
    "import warnings\n",
    "warnings.simplefilter(\"ignore\")\n",
    "import numpy as np\n",
    "from collections import Counter\n",
    "from sklearn.model_selection import train_test_split\n",
    "import plotly.express as px\n",
    "from collections import Counter\n",
    "np.random.seed(123)\n",
    "ROOT_DIR = '../data/'\n",
    "pred_field = 'sentence'  # this can be one of : 'sentence' or 'context'"
   ]
  },
  {
   "cell_type": "markdown",
   "metadata": {
    "application/vnd.databricks.v1+cell": {
     "cellMetadata": {
      "byteLimit": 2048000,
      "rowLimit": 10000
     },
     "inputWidgets": {},
     "nuid": "34c7f5e0-17f9-4ec2-a1a3-278c2fdb6a67",
     "showTitle": false,
     "title": ""
    }
   },
   "source": [
    "## Data Reading + Formatting"
   ]
  },
  {
   "cell_type": "code",
   "execution_count": 2,
   "metadata": {
    "application/vnd.databricks.v1+cell": {
     "cellMetadata": {
      "byteLimit": 2048000,
      "rowLimit": 10000
     },
     "inputWidgets": {},
     "nuid": "65fde911-574c-415c-b189-164c0f8a09b3",
     "showTitle": false,
     "title": ""
    }
   },
   "outputs": [],
   "source": [
    "data_df = pd.read_csv('../data/software_citation_intent_merged.csv')\n",
    "LABEL2TEXT = {0: 'creation', 1 : 'usage', 2 : 'mention', 3 : 'none'}\n",
    "data_df['label_descriptive'] = data_df['label'].apply(lambda x: LABEL2TEXT[x])"
   ]
  },
  {
   "cell_type": "code",
   "execution_count": 3,
   "metadata": {
    "application/vnd.databricks.v1+cell": {
     "cellMetadata": {
      "byteLimit": 2048000,
      "rowLimit": 10000
     },
     "inputWidgets": {},
     "nuid": "8ff432bc-a701-4324-af93-2e107e5a7887",
     "showTitle": false,
     "title": ""
    }
   },
   "outputs": [
    {
     "data": {
      "text/html": [
       "<div>\n",
       "<style scoped>\n",
       "    .dataframe tbody tr th:only-of-type {\n",
       "        vertical-align: middle;\n",
       "    }\n",
       "\n",
       "    .dataframe tbody tr th {\n",
       "        vertical-align: top;\n",
       "    }\n",
       "\n",
       "    .dataframe thead th {\n",
       "        text-align: right;\n",
       "    }\n",
       "</style>\n",
       "<table border=\"1\" class=\"dataframe\">\n",
       "  <thead>\n",
       "    <tr style=\"text-align: right;\">\n",
       "      <th></th>\n",
       "      <th>Unnamed: 0</th>\n",
       "      <th>id</th>\n",
       "      <th>sentence</th>\n",
       "      <th>used</th>\n",
       "      <th>created</th>\n",
       "      <th>mention</th>\n",
       "      <th>context</th>\n",
       "      <th>label</th>\n",
       "      <th>text</th>\n",
       "      <th>label_descriptive</th>\n",
       "    </tr>\n",
       "  </thead>\n",
       "  <tbody>\n",
       "    <tr>\n",
       "      <th>0</th>\n",
       "      <td>0</td>\n",
       "      <td>PMC5189946</td>\n",
       "      <td>All of this analysis was implemented using Mat...</td>\n",
       "      <td>False</td>\n",
       "      <td>True</td>\n",
       "      <td>False</td>\n",
       "      <td>NaN</td>\n",
       "      <td>0</td>\n",
       "      <td>All of this analysis was implemented using Mat...</td>\n",
       "      <td>creation</td>\n",
       "    </tr>\n",
       "    <tr>\n",
       "      <th>1</th>\n",
       "      <td>1</td>\n",
       "      <td>PMC4511233</td>\n",
       "      <td>Code for calculating partition similarity, obt...</td>\n",
       "      <td>False</td>\n",
       "      <td>True</td>\n",
       "      <td>False</td>\n",
       "      <td>Since the probability of getting a given MI is...</td>\n",
       "      <td>0</td>\n",
       "      <td>Code for calculating partition similarity, obt...</td>\n",
       "      <td>creation</td>\n",
       "    </tr>\n",
       "    <tr>\n",
       "      <th>2</th>\n",
       "      <td>2</td>\n",
       "      <td>PMC4186879</td>\n",
       "      <td>All behavioral statistical analyses were perfo...</td>\n",
       "      <td>False</td>\n",
       "      <td>False</td>\n",
       "      <td>True</td>\n",
       "      <td>All behavioral statistical analyses were perfo...</td>\n",
       "      <td>2</td>\n",
       "      <td>All behavioral statistical analyses were perfo...</td>\n",
       "      <td>mention</td>\n",
       "    </tr>\n",
       "    <tr>\n",
       "      <th>3</th>\n",
       "      <td>3</td>\n",
       "      <td>PMC5026371</td>\n",
       "      <td>M-Track was written using Python 2.7, OpenCV 3...</td>\n",
       "      <td>True</td>\n",
       "      <td>False</td>\n",
       "      <td>False</td>\n",
       "      <td>NaN</td>\n",
       "      <td>1</td>\n",
       "      <td>M-Track was written using Python 2.7, OpenCV 3...</td>\n",
       "      <td>usage</td>\n",
       "    </tr>\n",
       "    <tr>\n",
       "      <th>4</th>\n",
       "      <td>4</td>\n",
       "      <td>PMC1283974</td>\n",
       "      <td>Mindboggle is a freely downloadable, open sour...</td>\n",
       "      <td>False</td>\n",
       "      <td>True</td>\n",
       "      <td>False</td>\n",
       "      <td>Mindboggle is a freely downloadable, open sour...</td>\n",
       "      <td>0</td>\n",
       "      <td>Mindboggle is a freely downloadable, open sour...</td>\n",
       "      <td>creation</td>\n",
       "    </tr>\n",
       "  </tbody>\n",
       "</table>\n",
       "</div>"
      ],
      "text/plain": [
       "   Unnamed: 0          id                                           sentence  \\\n",
       "0           0  PMC5189946  All of this analysis was implemented using Mat...   \n",
       "1           1  PMC4511233  Code for calculating partition similarity, obt...   \n",
       "2           2  PMC4186879  All behavioral statistical analyses were perfo...   \n",
       "3           3  PMC5026371  M-Track was written using Python 2.7, OpenCV 3...   \n",
       "4           4  PMC1283974  Mindboggle is a freely downloadable, open sour...   \n",
       "\n",
       "    used  created  mention                                            context  \\\n",
       "0  False     True    False                                                NaN   \n",
       "1  False     True    False  Since the probability of getting a given MI is...   \n",
       "2  False    False     True  All behavioral statistical analyses were perfo...   \n",
       "3   True    False    False                                                NaN   \n",
       "4  False     True    False  Mindboggle is a freely downloadable, open sour...   \n",
       "\n",
       "   label                                               text label_descriptive  \n",
       "0      0  All of this analysis was implemented using Mat...          creation  \n",
       "1      0  Code for calculating partition similarity, obt...          creation  \n",
       "2      2  All behavioral statistical analyses were perfo...           mention  \n",
       "3      1  M-Track was written using Python 2.7, OpenCV 3...             usage  \n",
       "4      0  Mindboggle is a freely downloadable, open sour...          creation  "
      ]
     },
     "execution_count": 3,
     "metadata": {},
     "output_type": "execute_result"
    }
   ],
   "source": [
    "data_df.head()"
   ]
  },
  {
   "cell_type": "code",
   "execution_count": 4,
   "metadata": {
    "application/vnd.databricks.v1+cell": {
     "cellMetadata": {
      "byteLimit": 2048000,
      "rowLimit": 10000
     },
     "inputWidgets": {},
     "nuid": "096a715b-2403-4df0-a42f-3e862a91c2ea",
     "showTitle": false,
     "title": ""
    }
   },
   "outputs": [],
   "source": [
    "def update_context(df):\n",
    "    df['context'] = df.apply(lambda x: x['context'] if x['context'] == x['context'] else x['sentence'], axis = 1)"
   ]
  },
  {
   "cell_type": "code",
   "execution_count": 5,
   "metadata": {
    "application/vnd.databricks.v1+cell": {
     "cellMetadata": {
      "byteLimit": 2048000,
      "rowLimit": 10000
     },
     "inputWidgets": {},
     "nuid": "214ae2b2-7af9-46db-adf2-6aed6c12856c",
     "showTitle": false,
     "title": ""
    }
   },
   "outputs": [
    {
     "data": {
      "text/html": [
       "<div>\n",
       "<style scoped>\n",
       "    .dataframe tbody tr th:only-of-type {\n",
       "        vertical-align: middle;\n",
       "    }\n",
       "\n",
       "    .dataframe tbody tr th {\n",
       "        vertical-align: top;\n",
       "    }\n",
       "\n",
       "    .dataframe thead th {\n",
       "        text-align: right;\n",
       "    }\n",
       "</style>\n",
       "<table border=\"1\" class=\"dataframe\">\n",
       "  <thead>\n",
       "    <tr style=\"text-align: right;\">\n",
       "      <th></th>\n",
       "      <th>Unnamed: 0</th>\n",
       "      <th>id</th>\n",
       "      <th>sentence</th>\n",
       "      <th>used</th>\n",
       "      <th>created</th>\n",
       "      <th>mention</th>\n",
       "      <th>context</th>\n",
       "      <th>label</th>\n",
       "      <th>text</th>\n",
       "      <th>label_descriptive</th>\n",
       "    </tr>\n",
       "  </thead>\n",
       "  <tbody>\n",
       "    <tr>\n",
       "      <th>0</th>\n",
       "      <td>0</td>\n",
       "      <td>PMC5189946</td>\n",
       "      <td>All of this analysis was implemented using Mat...</td>\n",
       "      <td>False</td>\n",
       "      <td>True</td>\n",
       "      <td>False</td>\n",
       "      <td>NaN</td>\n",
       "      <td>0</td>\n",
       "      <td>All of this analysis was implemented using Mat...</td>\n",
       "      <td>creation</td>\n",
       "    </tr>\n",
       "    <tr>\n",
       "      <th>1</th>\n",
       "      <td>1</td>\n",
       "      <td>PMC4511233</td>\n",
       "      <td>Code for calculating partition similarity, obt...</td>\n",
       "      <td>False</td>\n",
       "      <td>True</td>\n",
       "      <td>False</td>\n",
       "      <td>Since the probability of getting a given MI is...</td>\n",
       "      <td>0</td>\n",
       "      <td>Code for calculating partition similarity, obt...</td>\n",
       "      <td>creation</td>\n",
       "    </tr>\n",
       "    <tr>\n",
       "      <th>2</th>\n",
       "      <td>2</td>\n",
       "      <td>PMC4186879</td>\n",
       "      <td>All behavioral statistical analyses were perfo...</td>\n",
       "      <td>False</td>\n",
       "      <td>False</td>\n",
       "      <td>True</td>\n",
       "      <td>All behavioral statistical analyses were perfo...</td>\n",
       "      <td>2</td>\n",
       "      <td>All behavioral statistical analyses were perfo...</td>\n",
       "      <td>mention</td>\n",
       "    </tr>\n",
       "    <tr>\n",
       "      <th>3</th>\n",
       "      <td>3</td>\n",
       "      <td>PMC5026371</td>\n",
       "      <td>M-Track was written using Python 2.7, OpenCV 3...</td>\n",
       "      <td>True</td>\n",
       "      <td>False</td>\n",
       "      <td>False</td>\n",
       "      <td>NaN</td>\n",
       "      <td>1</td>\n",
       "      <td>M-Track was written using Python 2.7, OpenCV 3...</td>\n",
       "      <td>usage</td>\n",
       "    </tr>\n",
       "    <tr>\n",
       "      <th>4</th>\n",
       "      <td>4</td>\n",
       "      <td>PMC1283974</td>\n",
       "      <td>Mindboggle is a freely downloadable, open sour...</td>\n",
       "      <td>False</td>\n",
       "      <td>True</td>\n",
       "      <td>False</td>\n",
       "      <td>Mindboggle is a freely downloadable, open sour...</td>\n",
       "      <td>0</td>\n",
       "      <td>Mindboggle is a freely downloadable, open sour...</td>\n",
       "      <td>creation</td>\n",
       "    </tr>\n",
       "  </tbody>\n",
       "</table>\n",
       "</div>"
      ],
      "text/plain": [
       "   Unnamed: 0          id                                           sentence  \\\n",
       "0           0  PMC5189946  All of this analysis was implemented using Mat...   \n",
       "1           1  PMC4511233  Code for calculating partition similarity, obt...   \n",
       "2           2  PMC4186879  All behavioral statistical analyses were perfo...   \n",
       "3           3  PMC5026371  M-Track was written using Python 2.7, OpenCV 3...   \n",
       "4           4  PMC1283974  Mindboggle is a freely downloadable, open sour...   \n",
       "\n",
       "    used  created  mention                                            context  \\\n",
       "0  False     True    False                                                NaN   \n",
       "1  False     True    False  Since the probability of getting a given MI is...   \n",
       "2  False    False     True  All behavioral statistical analyses were perfo...   \n",
       "3   True    False    False                                                NaN   \n",
       "4  False     True    False  Mindboggle is a freely downloadable, open sour...   \n",
       "\n",
       "   label                                               text label_descriptive  \n",
       "0      0  All of this analysis was implemented using Mat...          creation  \n",
       "1      0  Code for calculating partition similarity, obt...          creation  \n",
       "2      2  All behavioral statistical analyses were perfo...           mention  \n",
       "3      1  M-Track was written using Python 2.7, OpenCV 3...             usage  \n",
       "4      0  Mindboggle is a freely downloadable, open sour...          creation  "
      ]
     },
     "execution_count": 5,
     "metadata": {},
     "output_type": "execute_result"
    }
   ],
   "source": [
    "data_df.head()"
   ]
  },
  {
   "cell_type": "code",
   "execution_count": 6,
   "metadata": {
    "application/vnd.databricks.v1+cell": {
     "cellMetadata": {
      "byteLimit": 2048000,
      "rowLimit": 10000
     },
     "inputWidgets": {},
     "nuid": "5de4fdad-4955-49b3-ad85-c512c98b17cc",
     "showTitle": false,
     "title": ""
    }
   },
   "outputs": [],
   "source": [
    "def get_labels(df):\n",
    "    final_labels = []\n",
    "    used_labels = df['used'].to_list()\n",
    "    created_labels = df['created'].to_list()\n",
    "    mention_labels = df['mention'].to_list()\n",
    "    sentences = df['sentence'].to_list()\n",
    "\n",
    "    for used_label, created_label, mention_label, sentence in zip(used_labels, created_labels, mention_labels, sentences):\n",
    "        final_label = 'no_label'\n",
    "        if used_label:\n",
    "            final_label = 'used'\n",
    "        elif created_label:\n",
    "            final_label = 'created'\n",
    "        elif mention_label:\n",
    "            final_label = 'mentioned'\n",
    "        num_true = int(used_label) + int(created_label) + int(mention_label)\n",
    "        if (num_true > 1):\n",
    "            print(sentence, num_true)\n",
    "        final_labels.append(final_label)\n",
    "    return final_labels"
   ]
  },
  {
   "cell_type": "code",
   "execution_count": 7,
   "metadata": {
    "application/vnd.databricks.v1+cell": {
     "cellMetadata": {
      "byteLimit": 2048000,
      "rowLimit": 10000
     },
     "inputWidgets": {},
     "nuid": "8cbfc9be-c62c-40d7-b2c6-e1922973c7f4",
     "showTitle": false,
     "title": ""
    }
   },
   "outputs": [],
   "source": [
    "X_train_df = pd.read_csv('../data/gpt3.5_formatted_data/gpt3.5_train.csv')\n",
    "X_test_df = pd.read_csv('../data/gpt3.5_formatted_data/gpt3.5_test.csv')\n",
    "update_context(X_train_df)\n",
    "update_context(X_test_df)\n",
    "\n",
    "labels = get_labels(X_train_df)\n",
    "X_train_df, X_val_df = train_test_split(X_train_df, test_size=0.2, stratify=labels, random_state=42)"
   ]
  },
  {
   "cell_type": "code",
   "execution_count": 8,
   "metadata": {
    "application/vnd.databricks.v1+cell": {
     "cellMetadata": {
      "byteLimit": 2048000,
      "rowLimit": 10000
     },
     "inputWidgets": {},
     "nuid": "0b50c539-39c5-460b-8f68-dac9ff690e8d",
     "showTitle": false,
     "title": ""
    }
   },
   "outputs": [],
   "source": [
    "train_sentences = X_train_df[pred_field].to_list()\n",
    "val_sentences = X_val_df[pred_field].to_list()\n",
    "test_sentences = X_test_df[pred_field].to_list()\n",
    "\n",
    "y_train = X_train_df['label_descriptive'].to_list()\n",
    "y_val = X_val_df['label_descriptive'].to_list()\n",
    "y_test = X_test_df['label_descriptive'].to_list()"
   ]
  },
  {
   "cell_type": "code",
   "execution_count": 9,
   "metadata": {
    "application/vnd.databricks.v1+cell": {
     "cellMetadata": {
      "byteLimit": 2048000,
      "rowLimit": 10000
     },
     "inputWidgets": {},
     "nuid": "eff04b28-ad04-4f2b-882c-52561995cef3",
     "showTitle": false,
     "title": ""
    }
   },
   "outputs": [
    {
     "name": "stdout",
     "output_type": "stream",
     "text": [
      "Counter({'usage': 1436, 'none': 640, 'mention': 304, 'creation': 300})\n",
      "Counter({'usage': 359, 'none': 160, 'mention': 76, 'creation': 75})\n",
      "Counter({'usage': 449, 'none': 200, 'mention': 95, 'creation': 94})\n",
      "2680 670 838\n"
     ]
    }
   ],
   "source": [
    "print(Counter(y_train))\n",
    "print(Counter(y_val))\n",
    "print(Counter(y_test))\n",
    "print(len(X_train_df), len(X_val_df), len(X_test_df))"
   ]
  },
  {
   "cell_type": "markdown",
   "metadata": {
    "application/vnd.databricks.v1+cell": {
     "cellMetadata": {
      "byteLimit": 2048000,
      "rowLimit": 10000
     },
     "inputWidgets": {},
     "nuid": "d81fcd3d-ff87-4c07-8f5b-13b6cf756651",
     "showTitle": false,
     "title": ""
    }
   },
   "source": [
    "Convert to OpenAI fine-tuned format:\n",
    "```\n",
    "{\"messages\": \n",
    "  [{\"role\": \"system\", \"content\": \"Marv is a factual chatbot that is also sarcastic.\"}, \n",
    "  {\"role\": \"user\", \"content\": \"What's the capital of France?\"}, \n",
    "  {\"role\": \"assistant\", \"content\": \"Paris, as if everyone doesn't know that already.\"}]}\n",
    "\n",
    "{\"messages\": \n",
    "  [{\"role\": \"system\", \"content\": \"Marv is a factual chatbot that is also sarcastic.\"}, \n",
    "  {\"role\": \"user\", \"content\": \"Who wrote 'Romeo and Juliet'?\"}, \n",
    "  {\"role\": \"assistant\", \"content\": \"Oh, just some guy named William Shakespeare. Ever heard of him?\"}]}\n",
    "\n",
    "{\"messages\": \n",
    "  [{\"role\": \"system\", \"content\": \"Marv is a factual chatbot that is also sarcastic.\"}, \n",
    "  {\"role\": \"user\", \"content\": \"How far is the Moon from Earth?\"}, \n",
    "  {\"role\": \"assistant\", \"content\": \"Around 384,400 kilometers. Give or take a few, like that really matters.\"}]}\n",
    "```"
   ]
  },
  {
   "cell_type": "code",
   "execution_count": 10,
   "metadata": {
    "application/vnd.databricks.v1+cell": {
     "cellMetadata": {
      "byteLimit": 2048000,
      "rowLimit": 10000
     },
     "inputWidgets": {},
     "nuid": "61feb83e-7e40-40e9-be15-6acabade5a1f",
     "showTitle": false,
     "title": ""
    }
   },
   "outputs": [],
   "source": [
    "import json\n",
    "INITIAL_MESSAGE = {\"role\": \"system\", \n",
    "                \"content\": \"You are a scientist trying to figure out the citation intent behind software mentioned in sentences coming from research articles. Your four categories are: creation, usage, mention, or none. The definitions of the classes are: \\\n",
    "                - creation: software was created by the authors of the paper \\\n",
    "                - usage: software was used in the paper \\\n",
    "                - mention: software was mentioned in the paper, but not used, nor created \\\n",
    "                - none: none of the previous 3 categories apply \\\n",
    "                You need to output one category only.\"}\n",
    "\n",
    "jsonl_train = ROOT_DIR + 'gpt3.5-software-citation-intent-train-data.jsonl'\n",
    "jsonl_val = ROOT_DIR + 'gpt3.5-software-citation-intent-val-data.jsonl'\n",
    "jsonl_test = ROOT_DIR + 'gpt3.5-software-citation-intent-test-data.jsonl'\n",
    "\n",
    "def generate_jsonl_file(jsonl_filename, sentences, labels):\n",
    "        with open(jsonl_filename, mode='w') as f:\n",
    "                for sentence, label in zip(sentences, labels):\n",
    "                        message = {\"messages\" : [INITIAL_MESSAGE, \n",
    "                                {'role' : 'user', 'content' : sentence},\n",
    "                                {'role' : 'assistant', 'content' : label}]}\n",
    "                        f.write(json.dumps(message) + \"\\n\")"
   ]
  },
  {
   "cell_type": "code",
   "execution_count": 11,
   "metadata": {
    "application/vnd.databricks.v1+cell": {
     "cellMetadata": {
      "byteLimit": 2048000,
      "rowLimit": 10000
     },
     "inputWidgets": {},
     "nuid": "8e91d1ef-8212-40bd-9aa2-172caea9f405",
     "showTitle": false,
     "title": ""
    }
   },
   "outputs": [],
   "source": [
    "generate_jsonl_file(jsonl_train, train_sentences, y_train)\n",
    "generate_jsonl_file(jsonl_val, val_sentences, y_val)\n",
    "generate_jsonl_file(jsonl_test, test_sentences, y_test)"
   ]
  },
  {
   "cell_type": "markdown",
   "metadata": {
    "application/vnd.databricks.v1+cell": {
     "cellMetadata": {
      "byteLimit": 2048000,
      "rowLimit": 10000
     },
     "inputWidgets": {},
     "nuid": "56fb9592-bbe6-4ec4-9c36-d6706ae16ae9",
     "showTitle": false,
     "title": ""
    }
   },
   "source": [
    "## GPT3.5 Fine-tuning"
   ]
  },
  {
   "cell_type": "code",
   "execution_count": 12,
   "metadata": {
    "application/vnd.databricks.v1+cell": {
     "cellMetadata": {
      "byteLimit": 2048000,
      "rowLimit": 10000
     },
     "inputWidgets": {},
     "nuid": "714e769f-6866-4b08-b2c1-311a252cfe30",
     "showTitle": false,
     "title": ""
    }
   },
   "outputs": [
    {
     "data": {
      "text/plain": [
       "FileObject(id='file-G4XP4GR8II5jCJwLdCBy7zSV', bytes=2270720, created_at=1710190761, filename='gpt3.5-software-citation-intent-train-data.jsonl', object='file', purpose='fine-tune', status='processed', status_details=None)"
      ]
     },
     "execution_count": 12,
     "metadata": {},
     "output_type": "execute_result"
    }
   ],
   "source": [
    "client.files.create(\n",
    "  file=open(ROOT_DIR + 'gpt3.5-software-citation-intent-train-data.jsonl', \"rb\"),\n",
    "  purpose='fine-tune'\n",
    ")"
   ]
  },
  {
   "cell_type": "code",
   "execution_count": 13,
   "metadata": {
    "application/vnd.databricks.v1+cell": {
     "cellMetadata": {
      "byteLimit": 2048000,
      "rowLimit": 10000
     },
     "inputWidgets": {},
     "nuid": "22179c6a-2631-48e4-9349-ae045a8fb2de",
     "showTitle": false,
     "title": ""
    }
   },
   "outputs": [
    {
     "data": {
      "text/plain": [
       "FileObject(id='file-4dNzQMITP70VXPW8mqaqhqYw', bytes=566876, created_at=1710190762, filename='gpt3.5-software-citation-intent-val-data.jsonl', object='file', purpose='fine-tune', status='processed', status_details=None)"
      ]
     },
     "execution_count": 13,
     "metadata": {},
     "output_type": "execute_result"
    }
   ],
   "source": [
    "client.files.create(\n",
    "  file=open(ROOT_DIR + 'gpt3.5-software-citation-intent-val-data.jsonl', \"rb\"),\n",
    "  purpose='fine-tune'\n",
    ")"
   ]
  },
  {
   "cell_type": "code",
   "execution_count": 16,
   "metadata": {
    "application/vnd.databricks.v1+cell": {
     "cellMetadata": {
      "byteLimit": 2048000,
      "rowLimit": 10000
     },
     "inputWidgets": {},
     "nuid": "68a83519-dda4-4195-ac51-6ccadeea44d0",
     "showTitle": false,
     "title": ""
    }
   },
   "outputs": [],
   "source": [
    "# this flag should be set to True if you want to train from scratch\n",
    "train = True\n",
    "if train:\n",
    "    client.fine_tuning.jobs.create(\n",
    "        training_file=\"file-G4XP4GR8II5jCJwLdCBy7zSV\", \n",
    "        validation_file = \"file-4dNzQMITP70VXPW8mqaqhqYw\", \n",
    "        model=\"gpt-3.5-turbo\", \n",
    "        hyperparameters = {'n_epochs' : 5}\n",
    "    )"
   ]
  },
  {
   "cell_type": "markdown",
   "metadata": {
    "application/vnd.databricks.v1+cell": {
     "cellMetadata": {
      "byteLimit": 2048000,
      "rowLimit": 10000
     },
     "inputWidgets": {},
     "nuid": "aa2be987-d49a-4917-9f48-8e94b70bbda0",
     "showTitle": false,
     "title": ""
    }
   },
   "source": [
    "### Use in inference mode"
   ]
  },
  {
   "cell_type": "code",
   "execution_count": 17,
   "metadata": {
    "application/vnd.databricks.v1+cell": {
     "cellMetadata": {
      "byteLimit": 2048000,
      "rowLimit": 10000
     },
     "inputWidgets": {},
     "nuid": "f293875d-682e-47a2-9c0f-724c544eef4d",
     "showTitle": false,
     "title": ""
    }
   },
   "outputs": [],
   "source": [
    "def get_gpt_predicted_labels(test_sentences, has_true_labels, model_name, true_labels = []):\n",
    "  predicted_labels = []\n",
    "  true_labels_completed = []\n",
    "  completed_sentences = []\n",
    "  for i, sentence in enumerate(test_sentences):\n",
    "    print('Sentence', i)\n",
    "    try:\n",
    "      completion = client.chat.completions.create(\n",
    "        model=model_name,\n",
    "        messages=[\n",
    "          INITIAL_MESSAGE,\n",
    "          {\"role\": \"user\", \"content\": sentence} \n",
    "        ]\n",
    "      )\n",
    "      predicted_label = completion.choices[0].message.content\n",
    "      predicted_labels.append(predicted_label)\n",
    "      completed_sentences.append(sentence)\n",
    "      if has_true_labels:\n",
    "        true_labels_completed.append(true_labels[i])\n",
    "    except:\n",
    "      print('oops got an error')\n",
    "      i -= 1\n",
    "      continue\n",
    "  return predicted_labels, true_labels_completed, completed_sentences"
   ]
  },
  {
   "cell_type": "markdown",
   "metadata": {
    "application/vnd.databricks.v1+cell": {
     "cellMetadata": {
      "byteLimit": 2048000,
      "rowLimit": 10000
     },
     "inputWidgets": {},
     "nuid": "55a21488-2ae9-40d1-977f-f531cab13ce1",
     "showTitle": false,
     "title": ""
    }
   },
   "source": [
    "### Test dataset"
   ]
  },
  {
   "cell_type": "code",
   "execution_count": 18,
   "metadata": {
    "application/vnd.databricks.v1+cell": {
     "cellMetadata": {
      "byteLimit": 2048000,
      "rowLimit": 10000
     },
     "inputWidgets": {},
     "nuid": "ea837b3f-d2ca-46e6-affe-9c9b8b9acada",
     "showTitle": false,
     "title": ""
    }
   },
   "outputs": [],
   "source": [
    "def evaluate(true_labels, predicted_labels):\n",
    "    p, r, f1, support = precision_recall_fscore_support(true_labels, predicted_labels, average='macro', labels = list(LABEL2TEXT.values()))\n",
    "    accuracy = round(accuracy_score(true_labels, predicted_labels), 3)\n",
    "    print('Precision: ', round(p, 3), 'Recall: ', round(r, 3), 'F1:', round(f1, 3), 'Accuracy:', accuracy)\n",
    "    print(classification_report(true_labels, predicted_labels, labels = list(LABEL2TEXT.values())))"
   ]
  },
  {
   "cell_type": "code",
   "execution_count": 19,
   "metadata": {
    "application/vnd.databricks.v1+cell": {
     "cellMetadata": {
      "byteLimit": 2048000,
      "rowLimit": 10000
     },
     "inputWidgets": {},
     "nuid": "ef1d822b-cef3-4a36-bc05-d8b5f0aeed2c",
     "showTitle": false,
     "title": ""
    }
   },
   "outputs": [
    {
     "name": "stdout",
     "output_type": "stream",
     "text": [
      "Sentence 0\n",
      "Sentence 1\n",
      "Sentence 2\n",
      "Sentence 3\n",
      "Sentence 4\n",
      "Sentence 5\n",
      "Sentence 6\n",
      "Sentence 7\n",
      "Sentence 8\n",
      "Sentence 9\n",
      "Sentence 10\n",
      "Sentence 11\n",
      "Sentence 12\n",
      "Sentence 13\n",
      "Sentence 14\n",
      "Sentence 15\n",
      "Sentence 16\n",
      "Sentence 17\n",
      "Sentence 18\n",
      "Sentence 19\n",
      "Sentence 20\n",
      "Sentence 21\n",
      "Sentence 22\n",
      "Sentence 23\n",
      "Sentence 24\n",
      "Sentence 25\n",
      "Sentence 26\n",
      "Sentence 27\n",
      "Sentence 28\n",
      "Sentence 29\n",
      "Sentence 30\n",
      "Sentence 31\n",
      "Sentence 32\n",
      "Sentence 33\n",
      "Sentence 34\n",
      "Sentence 35\n",
      "Sentence 36\n",
      "Sentence 37\n",
      "Sentence 38\n",
      "Sentence 39\n",
      "Sentence 40\n",
      "Sentence 41\n",
      "Sentence 42\n",
      "Sentence 43\n",
      "Sentence 44\n",
      "Sentence 45\n",
      "Sentence 46\n",
      "Sentence 47\n",
      "Sentence 48\n",
      "Sentence 49\n",
      "Sentence 50\n",
      "Sentence 51\n",
      "Sentence 52\n",
      "Sentence 53\n",
      "Sentence 54\n",
      "Sentence 55\n",
      "Sentence 56\n",
      "Sentence 57\n",
      "Sentence 58\n",
      "Sentence 59\n",
      "Sentence 60\n",
      "Sentence 61\n",
      "Sentence 62\n",
      "Sentence 63\n",
      "Sentence 64\n",
      "Sentence 65\n",
      "Sentence 66\n",
      "Sentence 67\n",
      "Sentence 68\n",
      "Sentence 69\n",
      "Sentence 70\n",
      "Sentence 71\n",
      "Sentence 72\n",
      "Sentence 73\n",
      "Sentence 74\n",
      "Sentence 75\n",
      "Sentence 76\n",
      "Sentence 77\n",
      "Sentence 78\n",
      "Sentence 79\n",
      "Sentence 80\n",
      "Sentence 81\n",
      "Sentence 82\n",
      "Sentence 83\n",
      "Sentence 84\n",
      "Sentence 85\n",
      "Sentence 86\n",
      "Sentence 87\n",
      "Sentence 88\n",
      "Sentence 89\n",
      "Sentence 90\n",
      "Sentence 91\n",
      "Sentence 92\n",
      "Sentence 93\n",
      "Sentence 94\n",
      "Sentence 95\n",
      "Sentence 96\n",
      "Sentence 97\n",
      "Sentence 98\n",
      "Sentence 99\n",
      "Sentence 100\n",
      "Sentence 101\n",
      "Sentence 102\n",
      "Sentence 103\n",
      "Sentence 104\n",
      "Sentence 105\n",
      "Sentence 106\n",
      "Sentence 107\n",
      "Sentence 108\n",
      "Sentence 109\n",
      "Sentence 110\n",
      "Sentence 111\n",
      "Sentence 112\n",
      "Sentence 113\n",
      "Sentence 114\n",
      "Sentence 115\n",
      "Sentence 116\n",
      "Sentence 117\n",
      "Sentence 118\n",
      "Sentence 119\n",
      "Sentence 120\n",
      "Sentence 121\n",
      "Sentence 122\n",
      "Sentence 123\n",
      "Sentence 124\n",
      "Sentence 125\n",
      "Sentence 126\n",
      "Sentence 127\n",
      "Sentence 128\n",
      "Sentence 129\n",
      "Sentence 130\n",
      "Sentence 131\n",
      "Sentence 132\n",
      "Sentence 133\n",
      "Sentence 134\n",
      "Sentence 135\n",
      "Sentence 136\n",
      "Sentence 137\n",
      "Sentence 138\n",
      "Sentence 139\n",
      "Sentence 140\n",
      "Sentence 141\n",
      "Sentence 142\n",
      "Sentence 143\n",
      "Sentence 144\n",
      "Sentence 145\n",
      "Sentence 146\n",
      "Sentence 147\n",
      "Sentence 148\n",
      "Sentence 149\n",
      "Sentence 150\n",
      "Sentence 151\n",
      "Sentence 152\n",
      "Sentence 153\n",
      "Sentence 154\n",
      "Sentence 155\n",
      "Sentence 156\n",
      "Sentence 157\n",
      "Sentence 158\n",
      "Sentence 159\n",
      "Sentence 160\n",
      "Sentence 161\n",
      "Sentence 162\n",
      "Sentence 163\n",
      "Sentence 164\n",
      "Sentence 165\n",
      "Sentence 166\n",
      "Sentence 167\n",
      "Sentence 168\n",
      "Sentence 169\n",
      "Sentence 170\n",
      "Sentence 171\n",
      "Sentence 172\n",
      "Sentence 173\n",
      "Sentence 174\n",
      "Sentence 175\n",
      "Sentence 176\n",
      "Sentence 177\n",
      "Sentence 178\n",
      "Sentence 179\n",
      "Sentence 180\n",
      "Sentence 181\n",
      "Sentence 182\n",
      "Sentence 183\n",
      "Sentence 184\n",
      "Sentence 185\n",
      "Sentence 186\n",
      "Sentence 187\n",
      "Sentence 188\n",
      "Sentence 189\n",
      "Sentence 190\n",
      "Sentence 191\n",
      "Sentence 192\n",
      "Sentence 193\n",
      "Sentence 194\n",
      "Sentence 195\n",
      "Sentence 196\n",
      "Sentence 197\n",
      "Sentence 198\n",
      "Sentence 199\n",
      "Sentence 200\n",
      "Sentence 201\n",
      "Sentence 202\n",
      "Sentence 203\n",
      "Sentence 204\n",
      "Sentence 205\n",
      "Sentence 206\n",
      "Sentence 207\n",
      "Sentence 208\n",
      "Sentence 209\n",
      "Sentence 210\n",
      "Sentence 211\n",
      "Sentence 212\n",
      "Sentence 213\n",
      "Sentence 214\n",
      "Sentence 215\n",
      "Sentence 216\n",
      "Sentence 217\n",
      "Sentence 218\n",
      "Sentence 219\n",
      "Sentence 220\n",
      "Sentence 221\n",
      "Sentence 222\n",
      "Sentence 223\n",
      "Sentence 224\n",
      "Sentence 225\n",
      "Sentence 226\n",
      "Sentence 227\n",
      "Sentence 228\n",
      "Sentence 229\n",
      "Sentence 230\n",
      "Sentence 231\n",
      "Sentence 232\n",
      "Sentence 233\n",
      "Sentence 234\n",
      "Sentence 235\n",
      "Sentence 236\n",
      "Sentence 237\n",
      "Sentence 238\n",
      "Sentence 239\n",
      "Sentence 240\n",
      "Sentence 241\n",
      "Sentence 242\n",
      "Sentence 243\n",
      "Sentence 244\n",
      "Sentence 245\n",
      "Sentence 246\n",
      "Sentence 247\n",
      "Sentence 248\n",
      "Sentence 249\n",
      "Sentence 250\n",
      "Sentence 251\n",
      "Sentence 252\n",
      "Sentence 253\n",
      "Sentence 254\n",
      "Sentence 255\n",
      "Sentence 256\n",
      "Sentence 257\n",
      "Sentence 258\n",
      "Sentence 259\n",
      "Sentence 260\n",
      "Sentence 261\n",
      "Sentence 262\n",
      "Sentence 263\n",
      "Sentence 264\n",
      "Sentence 265\n",
      "Sentence 266\n",
      "Sentence 267\n",
      "Sentence 268\n",
      "Sentence 269\n",
      "Sentence 270\n",
      "Sentence 271\n",
      "Sentence 272\n",
      "Sentence 273\n",
      "Sentence 274\n",
      "Sentence 275\n",
      "Sentence 276\n",
      "Sentence 277\n",
      "Sentence 278\n",
      "Sentence 279\n",
      "Sentence 280\n",
      "Sentence 281\n",
      "Sentence 282\n",
      "Sentence 283\n",
      "Sentence 284\n",
      "Sentence 285\n",
      "Sentence 286\n",
      "Sentence 287\n",
      "Sentence 288\n",
      "Sentence 289\n",
      "Sentence 290\n",
      "Sentence 291\n",
      "Sentence 292\n",
      "Sentence 293\n",
      "Sentence 294\n",
      "Sentence 295\n",
      "Sentence 296\n",
      "Sentence 297\n",
      "Sentence 298\n",
      "Sentence 299\n",
      "Sentence 300\n",
      "Sentence 301\n",
      "Sentence 302\n",
      "Sentence 303\n",
      "Sentence 304\n",
      "Sentence 305\n",
      "Sentence 306\n",
      "Sentence 307\n",
      "Sentence 308\n",
      "Sentence 309\n",
      "Sentence 310\n",
      "Sentence 311\n",
      "Sentence 312\n",
      "Sentence 313\n",
      "Sentence 314\n",
      "Sentence 315\n",
      "Sentence 316\n",
      "Sentence 317\n",
      "Sentence 318\n",
      "Sentence 319\n",
      "Sentence 320\n",
      "Sentence 321\n",
      "Sentence 322\n",
      "Sentence 323\n",
      "Sentence 324\n",
      "Sentence 325\n",
      "Sentence 326\n",
      "Sentence 327\n",
      "Sentence 328\n",
      "Sentence 329\n",
      "Sentence 330\n",
      "Sentence 331\n",
      "Sentence 332\n",
      "Sentence 333\n",
      "Sentence 334\n",
      "Sentence 335\n",
      "Sentence 336\n",
      "Sentence 337\n",
      "Sentence 338\n",
      "Sentence 339\n",
      "Sentence 340\n",
      "Sentence 341\n",
      "Sentence 342\n",
      "Sentence 343\n",
      "Sentence 344\n",
      "Sentence 345\n",
      "Sentence 346\n",
      "Sentence 347\n",
      "Sentence 348\n",
      "Sentence 349\n",
      "Sentence 350\n",
      "Sentence 351\n",
      "Sentence 352\n",
      "Sentence 353\n",
      "Sentence 354\n",
      "Sentence 355\n",
      "Sentence 356\n",
      "Sentence 357\n",
      "Sentence 358\n",
      "Sentence 359\n",
      "Sentence 360\n",
      "Sentence 361\n",
      "Sentence 362\n",
      "Sentence 363\n",
      "Sentence 364\n",
      "Sentence 365\n",
      "Sentence 366\n",
      "Sentence 367\n",
      "Sentence 368\n",
      "Sentence 369\n",
      "Sentence 370\n",
      "Sentence 371\n",
      "Sentence 372\n",
      "Sentence 373\n",
      "Sentence 374\n",
      "Sentence 375\n",
      "Sentence 376\n",
      "Sentence 377\n",
      "Sentence 378\n",
      "Sentence 379\n",
      "Sentence 380\n",
      "Sentence 381\n",
      "Sentence 382\n",
      "Sentence 383\n",
      "Sentence 384\n",
      "Sentence 385\n",
      "Sentence 386\n",
      "Sentence 387\n",
      "Sentence 388\n",
      "Sentence 389\n",
      "Sentence 390\n",
      "Sentence 391\n",
      "Sentence 392\n",
      "Sentence 393\n",
      "Sentence 394\n",
      "Sentence 395\n",
      "Sentence 396\n",
      "Sentence 397\n",
      "Sentence 398\n",
      "Sentence 399\n",
      "Sentence 400\n",
      "Sentence 401\n",
      "Sentence 402\n",
      "Sentence 403\n",
      "Sentence 404\n",
      "Sentence 405\n",
      "Sentence 406\n",
      "Sentence 407\n",
      "Sentence 408\n",
      "Sentence 409\n",
      "Sentence 410\n",
      "Sentence 411\n",
      "Sentence 412\n",
      "Sentence 413\n",
      "Sentence 414\n",
      "Sentence 415\n",
      "Sentence 416\n",
      "Sentence 417\n",
      "Sentence 418\n",
      "Sentence 419\n",
      "Sentence 420\n",
      "Sentence 421\n",
      "Sentence 422\n",
      "Sentence 423\n",
      "Sentence 424\n",
      "Sentence 425\n",
      "Sentence 426\n",
      "Sentence 427\n",
      "Sentence 428\n",
      "Sentence 429\n",
      "Sentence 430\n",
      "Sentence 431\n",
      "Sentence 432\n",
      "Sentence 433\n",
      "Sentence 434\n",
      "Sentence 435\n",
      "Sentence 436\n",
      "Sentence 437\n",
      "Sentence 438\n",
      "Sentence 439\n",
      "Sentence 440\n",
      "Sentence 441\n",
      "Sentence 442\n",
      "Sentence 443\n",
      "Sentence 444\n",
      "Sentence 445\n",
      "Sentence 446\n",
      "Sentence 447\n",
      "Sentence 448\n",
      "Sentence 449\n",
      "Sentence 450\n",
      "Sentence 451\n",
      "Sentence 452\n",
      "Sentence 453\n",
      "Sentence 454\n",
      "Sentence 455\n",
      "Sentence 456\n",
      "Sentence 457\n",
      "Sentence 458\n",
      "Sentence 459\n",
      "Sentence 460\n",
      "Sentence 461\n",
      "Sentence 462\n",
      "Sentence 463\n",
      "Sentence 464\n",
      "Sentence 465\n",
      "Sentence 466\n",
      "Sentence 467\n",
      "Sentence 468\n",
      "Sentence 469\n",
      "Sentence 470\n",
      "Sentence 471\n",
      "Sentence 472\n",
      "Sentence 473\n",
      "Sentence 474\n",
      "Sentence 475\n",
      "Sentence 476\n",
      "Sentence 477\n",
      "Sentence 478\n",
      "Sentence 479\n",
      "Sentence 480\n",
      "Sentence 481\n",
      "Sentence 482\n",
      "Sentence 483\n",
      "Sentence 484\n",
      "Sentence 485\n",
      "Sentence 486\n",
      "Sentence 487\n",
      "Sentence 488\n",
      "Sentence 489\n",
      "Sentence 490\n",
      "Sentence 491\n",
      "Sentence 492\n",
      "Sentence 493\n",
      "Sentence 494\n",
      "Sentence 495\n",
      "Sentence 496\n",
      "Sentence 497\n",
      "Sentence 498\n",
      "Sentence 499\n",
      "Sentence 500\n",
      "Sentence 501\n",
      "Sentence 502\n",
      "Sentence 503\n",
      "Sentence 504\n",
      "Sentence 505\n",
      "Sentence 506\n",
      "Sentence 507\n",
      "Sentence 508\n",
      "Sentence 509\n",
      "Sentence 510\n",
      "Sentence 511\n",
      "Sentence 512\n",
      "Sentence 513\n",
      "Sentence 514\n",
      "Sentence 515\n",
      "Sentence 516\n",
      "Sentence 517\n",
      "Sentence 518\n",
      "Sentence 519\n",
      "Sentence 520\n",
      "Sentence 521\n",
      "Sentence 522\n",
      "Sentence 523\n",
      "Sentence 524\n",
      "Sentence 525\n",
      "Sentence 526\n",
      "Sentence 527\n",
      "Sentence 528\n",
      "Sentence 529\n",
      "Sentence 530\n",
      "Sentence 531\n",
      "Sentence 532\n",
      "Sentence 533\n",
      "Sentence 534\n",
      "Sentence 535\n",
      "Sentence 536\n",
      "Sentence 537\n",
      "Sentence 538\n",
      "Sentence 539\n",
      "Sentence 540\n",
      "Sentence 541\n",
      "Sentence 542\n",
      "Sentence 543\n",
      "Sentence 544\n",
      "Sentence 545\n",
      "Sentence 546\n",
      "Sentence 547\n",
      "Sentence 548\n",
      "Sentence 549\n",
      "Sentence 550\n",
      "Sentence 551\n",
      "Sentence 552\n",
      "Sentence 553\n",
      "Sentence 554\n",
      "Sentence 555\n",
      "Sentence 556\n",
      "Sentence 557\n",
      "Sentence 558\n",
      "Sentence 559\n",
      "Sentence 560\n",
      "Sentence 561\n",
      "Sentence 562\n",
      "Sentence 563\n",
      "Sentence 564\n",
      "Sentence 565\n",
      "Sentence 566\n",
      "Sentence 567\n",
      "Sentence 568\n",
      "Sentence 569\n",
      "Sentence 570\n",
      "Sentence 571\n",
      "Sentence 572\n",
      "Sentence 573\n",
      "Sentence 574\n",
      "Sentence 575\n",
      "Sentence 576\n",
      "Sentence 577\n",
      "Sentence 578\n",
      "Sentence 579\n",
      "Sentence 580\n",
      "Sentence 581\n",
      "Sentence 582\n",
      "Sentence 583\n",
      "Sentence 584\n",
      "Sentence 585\n",
      "Sentence 586\n",
      "Sentence 587\n",
      "Sentence 588\n",
      "Sentence 589\n",
      "Sentence 590\n",
      "Sentence 591\n",
      "Sentence 592\n",
      "Sentence 593\n",
      "Sentence 594\n",
      "Sentence 595\n",
      "Sentence 596\n",
      "Sentence 597\n",
      "Sentence 598\n",
      "Sentence 599\n",
      "Sentence 600\n",
      "Sentence 601\n",
      "Sentence 602\n",
      "Sentence 603\n",
      "Sentence 604\n",
      "Sentence 605\n",
      "Sentence 606\n",
      "Sentence 607\n",
      "Sentence 608\n",
      "Sentence 609\n",
      "Sentence 610\n",
      "Sentence 611\n",
      "Sentence 612\n",
      "Sentence 613\n",
      "Sentence 614\n",
      "Sentence 615\n",
      "Sentence 616\n",
      "Sentence 617\n",
      "Sentence 618\n",
      "Sentence 619\n",
      "Sentence 620\n",
      "Sentence 621\n",
      "Sentence 622\n",
      "Sentence 623\n",
      "Sentence 624\n",
      "Sentence 625\n",
      "Sentence 626\n",
      "Sentence 627\n",
      "Sentence 628\n",
      "Sentence 629\n",
      "Sentence 630\n",
      "Sentence 631\n",
      "Sentence 632\n",
      "Sentence 633\n",
      "Sentence 634\n",
      "Sentence 635\n",
      "Sentence 636\n",
      "Sentence 637\n",
      "Sentence 638\n",
      "Sentence 639\n",
      "Sentence 640\n",
      "Sentence 641\n",
      "Sentence 642\n",
      "Sentence 643\n",
      "Sentence 644\n",
      "Sentence 645\n",
      "Sentence 646\n",
      "Sentence 647\n",
      "Sentence 648\n",
      "Sentence 649\n",
      "Sentence 650\n",
      "Sentence 651\n",
      "Sentence 652\n",
      "Sentence 653\n",
      "Sentence 654\n",
      "Sentence 655\n",
      "Sentence 656\n",
      "Sentence 657\n",
      "Sentence 658\n",
      "Sentence 659\n",
      "Sentence 660\n",
      "Sentence 661\n",
      "Sentence 662\n",
      "Sentence 663\n",
      "Sentence 664\n",
      "Sentence 665\n",
      "Sentence 666\n",
      "Sentence 667\n",
      "Sentence 668\n",
      "Sentence 669\n",
      "Sentence 670\n",
      "Sentence 671\n",
      "Sentence 672\n",
      "Sentence 673\n",
      "Sentence 674\n",
      "Sentence 675\n",
      "Sentence 676\n",
      "Sentence 677\n",
      "Sentence 678\n",
      "Sentence 679\n",
      "Sentence 680\n",
      "Sentence 681\n",
      "Sentence 682\n",
      "Sentence 683\n",
      "Sentence 684\n",
      "Sentence 685\n",
      "Sentence 686\n",
      "Sentence 687\n",
      "Sentence 688\n",
      "Sentence 689\n",
      "Sentence 690\n",
      "Sentence 691\n",
      "Sentence 692\n",
      "Sentence 693\n",
      "Sentence 694\n",
      "Sentence 695\n",
      "Sentence 696\n",
      "Sentence 697\n",
      "Sentence 698\n",
      "Sentence 699\n",
      "Sentence 700\n",
      "Sentence 701\n",
      "Sentence 702\n",
      "Sentence 703\n",
      "Sentence 704\n",
      "Sentence 705\n",
      "Sentence 706\n",
      "Sentence 707\n",
      "Sentence 708\n",
      "Sentence 709\n",
      "Sentence 710\n",
      "Sentence 711\n",
      "Sentence 712\n",
      "Sentence 713\n",
      "Sentence 714\n",
      "Sentence 715\n",
      "Sentence 716\n",
      "Sentence 717\n",
      "Sentence 718\n",
      "Sentence 719\n",
      "Sentence 720\n",
      "Sentence 721\n",
      "Sentence 722\n",
      "Sentence 723\n",
      "Sentence 724\n",
      "Sentence 725\n",
      "Sentence 726\n",
      "Sentence 727\n",
      "Sentence 728\n",
      "Sentence 729\n",
      "Sentence 730\n",
      "Sentence 731\n",
      "Sentence 732\n",
      "Sentence 733\n",
      "Sentence 734\n",
      "Sentence 735\n",
      "Sentence 736\n",
      "Sentence 737\n",
      "Sentence 738\n",
      "Sentence 739\n",
      "Sentence 740\n",
      "Sentence 741\n",
      "Sentence 742\n",
      "Sentence 743\n",
      "Sentence 744\n",
      "Sentence 745\n",
      "Sentence 746\n",
      "Sentence 747\n",
      "Sentence 748\n",
      "Sentence 749\n",
      "Sentence 750\n",
      "Sentence 751\n",
      "Sentence 752\n",
      "Sentence 753\n",
      "Sentence 754\n",
      "Sentence 755\n",
      "Sentence 756\n",
      "Sentence 757\n",
      "Sentence 758\n",
      "Sentence 759\n",
      "Sentence 760\n",
      "Sentence 761\n",
      "Sentence 762\n",
      "Sentence 763\n",
      "Sentence 764\n",
      "Sentence 765\n",
      "Sentence 766\n",
      "Sentence 767\n",
      "Sentence 768\n",
      "Sentence 769\n",
      "Sentence 770\n",
      "Sentence 771\n",
      "Sentence 772\n",
      "Sentence 773\n",
      "Sentence 774\n",
      "Sentence 775\n",
      "Sentence 776\n",
      "Sentence 777\n",
      "Sentence 778\n",
      "Sentence 779\n",
      "Sentence 780\n",
      "Sentence 781\n",
      "Sentence 782\n",
      "Sentence 783\n",
      "Sentence 784\n",
      "Sentence 785\n",
      "Sentence 786\n",
      "Sentence 787\n",
      "Sentence 788\n",
      "Sentence 789\n",
      "Sentence 790\n",
      "Sentence 791\n",
      "Sentence 792\n",
      "Sentence 793\n",
      "Sentence 794\n",
      "Sentence 795\n",
      "Sentence 796\n",
      "Sentence 797\n",
      "Sentence 798\n",
      "Sentence 799\n",
      "Sentence 800\n",
      "Sentence 801\n",
      "Sentence 802\n",
      "Sentence 803\n",
      "Sentence 804\n",
      "Sentence 805\n",
      "Sentence 806\n",
      "Sentence 807\n",
      "Sentence 808\n",
      "Sentence 809\n",
      "Sentence 810\n",
      "Sentence 811\n",
      "Sentence 812\n",
      "Sentence 813\n",
      "Sentence 814\n",
      "Sentence 815\n",
      "Sentence 816\n",
      "Sentence 817\n",
      "Sentence 818\n",
      "Sentence 819\n",
      "Sentence 820\n",
      "Sentence 821\n",
      "Sentence 822\n",
      "Sentence 823\n",
      "Sentence 824\n",
      "Sentence 825\n",
      "Sentence 826\n",
      "Sentence 827\n",
      "Sentence 828\n",
      "Sentence 829\n",
      "Sentence 830\n",
      "Sentence 831\n",
      "Sentence 832\n",
      "Sentence 833\n",
      "Sentence 834\n",
      "Sentence 835\n",
      "Sentence 836\n",
      "Sentence 837\n",
      "Precision:  0.867 Recall:  0.839 F1: 0.851 Accuracy: 0.9\n",
      "              precision    recall  f1-score   support\n",
      "\n",
      "    creation       0.91      0.80      0.85       108\n",
      "       usage       0.93      0.97      0.95       430\n",
      "     mention       0.69      0.65      0.67       102\n",
      "        none       0.93      0.94      0.94       197\n",
      "\n",
      "   micro avg       0.90      0.90      0.90       837\n",
      "   macro avg       0.87      0.84      0.85       837\n",
      "weighted avg       0.90      0.90      0.90       837\n",
      "\n"
     ]
    }
   ],
   "source": [
    "finetuned_model_name = \"ft:gpt-3.5-turbo-0125:personal::91iJLEAz\"\n",
    "y_pred_completed, y_true_completed, test_completed_sentences = get_gpt_predicted_labels(test_sentences, True, finetuned_model_name, y_test)\n",
    "evaluate(y_pred_completed, y_true_completed)"
   ]
  },
  {
   "cell_type": "code",
   "execution_count": 20,
   "metadata": {},
   "outputs": [
    {
     "name": "stdout",
     "output_type": "stream",
     "text": [
      "Precision:  0.839 Recall:  0.867 F1: 0.851 Accuracy: 0.9\n",
      "              precision    recall  f1-score   support\n",
      "\n",
      "    creation       0.80      0.91      0.85        94\n",
      "       usage       0.97      0.93      0.95       449\n",
      "     mention       0.65      0.69      0.67        95\n",
      "        none       0.94      0.93      0.94       200\n",
      "\n",
      "   micro avg       0.90      0.90      0.90       838\n",
      "   macro avg       0.84      0.87      0.85       838\n",
      "weighted avg       0.91      0.90      0.90       838\n",
      "\n"
     ]
    }
   ],
   "source": [
    "evaluate(y_true_completed, y_pred_completed)"
   ]
  },
  {
   "cell_type": "code",
   "execution_count": 21,
   "metadata": {},
   "outputs": [
    {
     "data": {
      "text/html": [
       "<div>\n",
       "<style scoped>\n",
       "    .dataframe tbody tr th:only-of-type {\n",
       "        vertical-align: middle;\n",
       "    }\n",
       "\n",
       "    .dataframe tbody tr th {\n",
       "        vertical-align: top;\n",
       "    }\n",
       "\n",
       "    .dataframe thead th {\n",
       "        text-align: right;\n",
       "    }\n",
       "</style>\n",
       "<table border=\"1\" class=\"dataframe\">\n",
       "  <thead>\n",
       "    <tr style=\"text-align: right;\">\n",
       "      <th></th>\n",
       "      <th>Unnamed: 0</th>\n",
       "      <th>id</th>\n",
       "      <th>sentence</th>\n",
       "      <th>used</th>\n",
       "      <th>created</th>\n",
       "      <th>mention</th>\n",
       "      <th>context</th>\n",
       "      <th>label</th>\n",
       "      <th>text</th>\n",
       "      <th>label_descriptive</th>\n",
       "    </tr>\n",
       "  </thead>\n",
       "  <tbody>\n",
       "    <tr>\n",
       "      <th>0</th>\n",
       "      <td>1513</td>\n",
       "      <td>PMC5513414</td>\n",
       "      <td>Statistical analyses were performed in STATA (...</td>\n",
       "      <td>True</td>\n",
       "      <td>False</td>\n",
       "      <td>False</td>\n",
       "      <td>Robust standard errors were computed in all mo...</td>\n",
       "      <td>1</td>\n",
       "      <td>Statistical analyses were performed in STATA (...</td>\n",
       "      <td>usage</td>\n",
       "    </tr>\n",
       "    <tr>\n",
       "      <th>1</th>\n",
       "      <td>2097</td>\n",
       "      <td>PMC2790482</td>\n",
       "      <td>Reconstructed images were further processed us...</td>\n",
       "      <td>True</td>\n",
       "      <td>False</td>\n",
       "      <td>False</td>\n",
       "      <td>The images of each retina were saved in a fold...</td>\n",
       "      <td>1</td>\n",
       "      <td>Reconstructed images were further processed us...</td>\n",
       "      <td>usage</td>\n",
       "    </tr>\n",
       "    <tr>\n",
       "      <th>2</th>\n",
       "      <td>544</td>\n",
       "      <td>PMC6016926</td>\n",
       "      <td>Participants who self-reported attacks by S. i...</td>\n",
       "      <td>False</td>\n",
       "      <td>False</td>\n",
       "      <td>False</td>\n",
       "      <td>Participants who self-reported attacks by S. i...</td>\n",
       "      <td>3</td>\n",
       "      <td>Participants who self-reported attacks by S. i...</td>\n",
       "      <td>none</td>\n",
       "    </tr>\n",
       "    <tr>\n",
       "      <th>3</th>\n",
       "      <td>413</td>\n",
       "      <td>PMC4887034</td>\n",
       "      <td>The mean waveform shape of each unit was ident...</td>\n",
       "      <td>True</td>\n",
       "      <td>False</td>\n",
       "      <td>False</td>\n",
       "      <td>Open sorter (Tucker Davis Technologies, FL, US...</td>\n",
       "      <td>1</td>\n",
       "      <td>The mean waveform shape of each unit was ident...</td>\n",
       "      <td>usage</td>\n",
       "    </tr>\n",
       "    <tr>\n",
       "      <th>4</th>\n",
       "      <td>1768</td>\n",
       "      <td>PMC5967744</td>\n",
       "      <td>As the name already indicates, the random effe...</td>\n",
       "      <td>True</td>\n",
       "      <td>False</td>\n",
       "      <td>False</td>\n",
       "      <td>Beta(r,s). As the name already indicates, the ...</td>\n",
       "      <td>1</td>\n",
       "      <td>As the name already indicates, the random effe...</td>\n",
       "      <td>usage</td>\n",
       "    </tr>\n",
       "    <tr>\n",
       "      <th>...</th>\n",
       "      <td>...</td>\n",
       "      <td>...</td>\n",
       "      <td>...</td>\n",
       "      <td>...</td>\n",
       "      <td>...</td>\n",
       "      <td>...</td>\n",
       "      <td>...</td>\n",
       "      <td>...</td>\n",
       "      <td>...</td>\n",
       "      <td>...</td>\n",
       "    </tr>\n",
       "    <tr>\n",
       "      <th>833</th>\n",
       "      <td>2510</td>\n",
       "      <td>PMC4154637</td>\n",
       "      <td>With Pep2Path, we introduce a software package...</td>\n",
       "      <td>False</td>\n",
       "      <td>True</td>\n",
       "      <td>False</td>\n",
       "      <td>Even though mass-spectrometric peptide detecti...</td>\n",
       "      <td>0</td>\n",
       "      <td>With Pep2Path, we introduce a software package...</td>\n",
       "      <td>creation</td>\n",
       "    </tr>\n",
       "    <tr>\n",
       "      <th>834</th>\n",
       "      <td>1704</td>\n",
       "      <td>PMC5289551</td>\n",
       "      <td>Statistical analysis was undertaken using the ...</td>\n",
       "      <td>True</td>\n",
       "      <td>False</td>\n",
       "      <td>False</td>\n",
       "      <td>Statistical analysis was undertaken using the ...</td>\n",
       "      <td>1</td>\n",
       "      <td>Statistical analysis was undertaken using the ...</td>\n",
       "      <td>usage</td>\n",
       "    </tr>\n",
       "    <tr>\n",
       "      <th>835</th>\n",
       "      <td>2317</td>\n",
       "      <td>a7a83e8d-97c9-43ed-8e51-50de779d973d</td>\n",
       "      <td>In the present work, we describe an overall ma...</td>\n",
       "      <td>True</td>\n",
       "      <td>False</td>\n",
       "      <td>False</td>\n",
       "      <td>Rather high precision and low rate of false po...</td>\n",
       "      <td>1</td>\n",
       "      <td>In the present work, we describe an overall ma...</td>\n",
       "      <td>usage</td>\n",
       "    </tr>\n",
       "    <tr>\n",
       "      <th>836</th>\n",
       "      <td>3204</td>\n",
       "      <td>d9bfdd46-f9ed-4282-a52f-369a7eb0ab00</td>\n",
       "      <td>To date, PlayMOBY handles more than 100 BioMOB...</td>\n",
       "      <td>False</td>\n",
       "      <td>False</td>\n",
       "      <td>True</td>\n",
       "      <td>Thus, PlayMOBY reduces the overheads of publis...</td>\n",
       "      <td>2</td>\n",
       "      <td>To date, PlayMOBY handles more than 100 BioMOB...</td>\n",
       "      <td>mention</td>\n",
       "    </tr>\n",
       "    <tr>\n",
       "      <th>837</th>\n",
       "      <td>257</td>\n",
       "      <td>PMC3466236</td>\n",
       "      <td>Location of activated clusters was verified us...</td>\n",
       "      <td>True</td>\n",
       "      <td>False</td>\n",
       "      <td>False</td>\n",
       "      <td>Analyses were performed at the group level (mu...</td>\n",
       "      <td>1</td>\n",
       "      <td>Location of activated clusters was verified us...</td>\n",
       "      <td>usage</td>\n",
       "    </tr>\n",
       "  </tbody>\n",
       "</table>\n",
       "<p>838 rows × 10 columns</p>\n",
       "</div>"
      ],
      "text/plain": [
       "     Unnamed: 0                                    id  \\\n",
       "0          1513                            PMC5513414   \n",
       "1          2097                            PMC2790482   \n",
       "2           544                            PMC6016926   \n",
       "3           413                            PMC4887034   \n",
       "4          1768                            PMC5967744   \n",
       "..          ...                                   ...   \n",
       "833        2510                            PMC4154637   \n",
       "834        1704                            PMC5289551   \n",
       "835        2317  a7a83e8d-97c9-43ed-8e51-50de779d973d   \n",
       "836        3204  d9bfdd46-f9ed-4282-a52f-369a7eb0ab00   \n",
       "837         257                            PMC3466236   \n",
       "\n",
       "                                              sentence   used  created  \\\n",
       "0    Statistical analyses were performed in STATA (...   True    False   \n",
       "1    Reconstructed images were further processed us...   True    False   \n",
       "2    Participants who self-reported attacks by S. i...  False    False   \n",
       "3    The mean waveform shape of each unit was ident...   True    False   \n",
       "4    As the name already indicates, the random effe...   True    False   \n",
       "..                                                 ...    ...      ...   \n",
       "833  With Pep2Path, we introduce a software package...  False     True   \n",
       "834  Statistical analysis was undertaken using the ...   True    False   \n",
       "835  In the present work, we describe an overall ma...   True    False   \n",
       "836  To date, PlayMOBY handles more than 100 BioMOB...  False    False   \n",
       "837  Location of activated clusters was verified us...   True    False   \n",
       "\n",
       "     mention                                            context  label  \\\n",
       "0      False  Robust standard errors were computed in all mo...      1   \n",
       "1      False  The images of each retina were saved in a fold...      1   \n",
       "2      False  Participants who self-reported attacks by S. i...      3   \n",
       "3      False  Open sorter (Tucker Davis Technologies, FL, US...      1   \n",
       "4      False  Beta(r,s). As the name already indicates, the ...      1   \n",
       "..       ...                                                ...    ...   \n",
       "833    False  Even though mass-spectrometric peptide detecti...      0   \n",
       "834    False  Statistical analysis was undertaken using the ...      1   \n",
       "835    False  Rather high precision and low rate of false po...      1   \n",
       "836     True  Thus, PlayMOBY reduces the overheads of publis...      2   \n",
       "837    False  Analyses were performed at the group level (mu...      1   \n",
       "\n",
       "                                                  text label_descriptive  \n",
       "0    Statistical analyses were performed in STATA (...             usage  \n",
       "1    Reconstructed images were further processed us...             usage  \n",
       "2    Participants who self-reported attacks by S. i...              none  \n",
       "3    The mean waveform shape of each unit was ident...             usage  \n",
       "4    As the name already indicates, the random effe...             usage  \n",
       "..                                                 ...               ...  \n",
       "833  With Pep2Path, we introduce a software package...          creation  \n",
       "834  Statistical analysis was undertaken using the ...             usage  \n",
       "835  In the present work, we describe an overall ma...             usage  \n",
       "836  To date, PlayMOBY handles more than 100 BioMOB...           mention  \n",
       "837  Location of activated clusters was verified us...             usage  \n",
       "\n",
       "[838 rows x 10 columns]"
      ]
     },
     "execution_count": 21,
     "metadata": {},
     "output_type": "execute_result"
    }
   ],
   "source": [
    "X_test_df"
   ]
  },
  {
   "cell_type": "code",
   "execution_count": 22,
   "metadata": {},
   "outputs": [],
   "source": [
    "def get_pred_label(x, completed_sentences, y_pred_completed):\n",
    "    for sent, label in zip(completed_sentences, y_pred_completed):\n",
    "        if sent == x:\n",
    "            if label in LABEL2TEXT.values():\n",
    "                return label\n",
    "            else:\n",
    "                return 'none'\n",
    "    return 'no_prediction'\n",
    "\n",
    "# X_test_df['label'] = X_test_df['label'].apply(lambda x: LABEL2TEXT[x])\n",
    "X_test_df['category'] = 'true'\n",
    "X_test_df['pred_label'] = X_test_df['text'].apply(lambda x: get_pred_label(x, test_completed_sentences, y_pred_completed))\n",
    "X_test_df_pred = X_test_df.copy()\n",
    "X_test_df_pred['category'] = 'pred_gpt3.5'\n",
    "\n",
    "X_test_df_pred['label'] = X_test_df_pred['text'].apply(lambda x: get_pred_label(x, test_completed_sentences, y_pred_completed))\n",
    "X_test_df_all = pd.concat([X_test_df_pred, X_test_df])"
   ]
  },
  {
   "cell_type": "markdown",
   "metadata": {
    "application/vnd.databricks.v1+cell": {
     "cellMetadata": {
      "byteLimit": 2048000,
      "rowLimit": 10000
     },
     "inputWidgets": {},
     "nuid": "6aa57dde-38d4-46a2-aa5b-c8f0e4669285",
     "showTitle": false,
     "title": ""
    }
   },
   "source": [
    "### CZI validation dataset"
   ]
  },
  {
   "cell_type": "code",
   "execution_count": 27,
   "metadata": {
    "application/vnd.databricks.v1+cell": {
     "cellMetadata": {
      "byteLimit": 2048000,
      "rowLimit": 10000
     },
     "inputWidgets": {},
     "nuid": "486667fe-1793-4b5d-a055-264f98eb0c30",
     "showTitle": false,
     "title": ""
    }
   },
   "outputs": [
    {
     "name": "stdout",
     "output_type": "stream",
     "text": [
      "Sentence 0\n",
      "Sentence 1\n",
      "Sentence 2\n",
      "Sentence 3\n",
      "Sentence 4\n",
      "Sentence 5\n",
      "Sentence 6\n",
      "Sentence 7\n",
      "Sentence 8\n",
      "Sentence 9\n",
      "Sentence 10\n",
      "Sentence 11\n",
      "Sentence 12\n",
      "Sentence 13\n",
      "Sentence 14\n",
      "Sentence 15\n",
      "Sentence 16\n",
      "Sentence 17\n",
      "Sentence 18\n",
      "Sentence 19\n",
      "Sentence 20\n",
      "Sentence 21\n",
      "Sentence 22\n",
      "Sentence 23\n",
      "Sentence 24\n",
      "Sentence 25\n",
      "Sentence 26\n",
      "Sentence 27\n",
      "Sentence 28\n",
      "Sentence 29\n",
      "Sentence 30\n",
      "Sentence 31\n",
      "Sentence 32\n",
      "Sentence 33\n",
      "Sentence 34\n",
      "Sentence 35\n",
      "Sentence 36\n",
      "Sentence 37\n",
      "Sentence 38\n",
      "Sentence 39\n",
      "Sentence 40\n",
      "Sentence 41\n",
      "Sentence 42\n",
      "Sentence 43\n",
      "Sentence 44\n",
      "Sentence 45\n",
      "Sentence 46\n",
      "Sentence 47\n",
      "Sentence 48\n",
      "Sentence 49\n",
      "Sentence 50\n",
      "Sentence 51\n",
      "Sentence 52\n",
      "Sentence 53\n",
      "Sentence 54\n",
      "Sentence 55\n",
      "Sentence 56\n",
      "Sentence 57\n",
      "Sentence 58\n",
      "Sentence 59\n",
      "Sentence 60\n",
      "Sentence 61\n",
      "Sentence 62\n",
      "Sentence 63\n",
      "Sentence 64\n",
      "Sentence 65\n",
      "Sentence 66\n",
      "Sentence 67\n",
      "Sentence 68\n",
      "Sentence 69\n",
      "Sentence 70\n",
      "Sentence 71\n",
      "Sentence 72\n",
      "Sentence 73\n",
      "Sentence 74\n",
      "Sentence 75\n",
      "Sentence 76\n",
      "Sentence 77\n",
      "Sentence 78\n",
      "Sentence 79\n",
      "Sentence 80\n",
      "Sentence 81\n",
      "Sentence 82\n",
      "Sentence 83\n",
      "Sentence 84\n",
      "Sentence 85\n",
      "Sentence 86\n",
      "Sentence 87\n",
      "Sentence 88\n",
      "Sentence 89\n",
      "Sentence 90\n",
      "Sentence 91\n",
      "Sentence 92\n",
      "Sentence 93\n",
      "Sentence 94\n",
      "Sentence 95\n",
      "Sentence 96\n",
      "Sentence 97\n",
      "Sentence 98\n",
      "Sentence 99\n",
      "Sentence 100\n",
      "Sentence 101\n",
      "Sentence 102\n",
      "Sentence 103\n",
      "Sentence 104\n",
      "Sentence 105\n",
      "Sentence 106\n",
      "Sentence 107\n",
      "Sentence 108\n",
      "Sentence 109\n",
      "Sentence 110\n",
      "Sentence 111\n",
      "Sentence 112\n",
      "Sentence 113\n",
      "Sentence 114\n",
      "Sentence 115\n",
      "Sentence 116\n",
      "Sentence 117\n",
      "Sentence 118\n",
      "Sentence 119\n",
      "Sentence 120\n",
      "Sentence 121\n",
      "Sentence 122\n",
      "Sentence 123\n",
      "Sentence 124\n",
      "Sentence 125\n",
      "Sentence 126\n",
      "Sentence 127\n",
      "Sentence 128\n",
      "Sentence 129\n",
      "Sentence 130\n",
      "Sentence 131\n",
      "Sentence 132\n",
      "Sentence 133\n",
      "Sentence 134\n",
      "Sentence 135\n",
      "Sentence 136\n",
      "Sentence 137\n",
      "Sentence 138\n",
      "Sentence 139\n",
      "Sentence 140\n",
      "Sentence 141\n",
      "Sentence 142\n",
      "Sentence 143\n",
      "Sentence 144\n",
      "Sentence 145\n",
      "Sentence 146\n",
      "Sentence 147\n",
      "Sentence 148\n",
      "Sentence 149\n",
      "Sentence 150\n",
      "Sentence 151\n",
      "Sentence 152\n",
      "Sentence 153\n",
      "Sentence 154\n",
      "Sentence 155\n",
      "Sentence 156\n",
      "Sentence 157\n",
      "Sentence 158\n",
      "Sentence 159\n",
      "Sentence 160\n",
      "Sentence 161\n",
      "Sentence 162\n",
      "Sentence 163\n",
      "Sentence 164\n",
      "Sentence 165\n",
      "Sentence 166\n",
      "Sentence 167\n",
      "Sentence 168\n",
      "Sentence 169\n",
      "Sentence 170\n",
      "Sentence 171\n",
      "Sentence 172\n",
      "Sentence 173\n",
      "Sentence 174\n",
      "Sentence 175\n",
      "Sentence 176\n",
      "Sentence 177\n",
      "Sentence 178\n",
      "Sentence 179\n",
      "Sentence 180\n",
      "Sentence 181\n",
      "Sentence 182\n",
      "Sentence 183\n",
      "Sentence 184\n",
      "Sentence 185\n",
      "Sentence 186\n",
      "Sentence 187\n",
      "Sentence 188\n",
      "Sentence 189\n",
      "Sentence 190\n",
      "Sentence 191\n",
      "Sentence 192\n",
      "Sentence 193\n",
      "Sentence 194\n",
      "Sentence 195\n",
      "Sentence 196\n",
      "Sentence 197\n",
      "Sentence 198\n",
      "Sentence 199\n",
      "Sentence 200\n",
      "Sentence 201\n",
      "Sentence 202\n",
      "Sentence 203\n",
      "Sentence 204\n",
      "Sentence 205\n",
      "Sentence 206\n",
      "Sentence 207\n",
      "Sentence 208\n",
      "Sentence 209\n"
     ]
    }
   ],
   "source": [
    "czi_val_df = pd.read_csv('../data/czi_val_merged.csv').drop_duplicates()\n",
    "czi_val_df['label'] = czi_val_df['label'].apply(lambda x: 'mention' if x == 'none' else x)\n",
    "test_sentences_czi = czi_val_df['text'].to_list()\n",
    "y_test_czi = czi_val_df['label'].to_list()\n",
    "y_pred_czi_completed, y_true_czi_completed, completed_sentences = get_gpt_predicted_labels(test_sentences_czi, True, finetuned_model_name, y_test_czi)"
   ]
  },
  {
   "cell_type": "code",
   "execution_count": 28,
   "metadata": {
    "application/vnd.databricks.v1+cell": {
     "cellMetadata": {
      "byteLimit": 2048000,
      "rowLimit": 10000
     },
     "inputWidgets": {},
     "nuid": "fb006c9b-a9fc-418c-a072-453031ebc24e",
     "showTitle": false,
     "title": ""
    }
   },
   "outputs": [
    {
     "data": {
      "text/html": [
       "<div>\n",
       "<style scoped>\n",
       "    .dataframe tbody tr th:only-of-type {\n",
       "        vertical-align: middle;\n",
       "    }\n",
       "\n",
       "    .dataframe tbody tr th {\n",
       "        vertical-align: top;\n",
       "    }\n",
       "\n",
       "    .dataframe thead th {\n",
       "        text-align: right;\n",
       "    }\n",
       "</style>\n",
       "<table border=\"1\" class=\"dataframe\">\n",
       "  <thead>\n",
       "    <tr style=\"text-align: right;\">\n",
       "      <th></th>\n",
       "      <th>doi_link</th>\n",
       "      <th>source</th>\n",
       "      <th>text</th>\n",
       "      <th>software</th>\n",
       "      <th>intent</th>\n",
       "      <th>label</th>\n",
       "    </tr>\n",
       "  </thead>\n",
       "  <tbody>\n",
       "    <tr>\n",
       "      <th>0</th>\n",
       "      <td>https://doi.org/10.1371/journal.pone.0043845</td>\n",
       "      <td>10. Confocal microscopy</td>\n",
       "      <td>Confocal laser scanning was performed on a Oly...</td>\n",
       "      <td>Fluoview</td>\n",
       "      <td>used</td>\n",
       "      <td>usage</td>\n",
       "    </tr>\n",
       "    <tr>\n",
       "      <th>1</th>\n",
       "      <td>https://doi.org/10.1155/2014/395212</td>\n",
       "      <td>5. Simulation Results and Analysis</td>\n",
       "      <td>In Figure 11, p miss of SVM-SMP is nearly equa...</td>\n",
       "      <td>SVM</td>\n",
       "      <td>used</td>\n",
       "      <td>usage</td>\n",
       "    </tr>\n",
       "    <tr>\n",
       "      <th>2</th>\n",
       "      <td>https://doi.org/10.3389/fphys.2020.587057</td>\n",
       "      <td>Network Architecture and Training Parameters</td>\n",
       "      <td>A pattern recognition network was created usin...</td>\n",
       "      <td>MATLAB</td>\n",
       "      <td>used</td>\n",
       "      <td>usage</td>\n",
       "    </tr>\n",
       "    <tr>\n",
       "      <th>3</th>\n",
       "      <td>https://doi.org/10.1186/s13046-018-0997-7</td>\n",
       "      <td>paper_abstract</td>\n",
       "      <td>Finally, we investigated the potential molecul...</td>\n",
       "      <td>analysis (GSEA)</td>\n",
       "      <td>used</td>\n",
       "      <td>usage</td>\n",
       "    </tr>\n",
       "    <tr>\n",
       "      <th>4</th>\n",
       "      <td>https://doi.org/10.7717/peerj.9470</td>\n",
       "      <td>Conclusions</td>\n",
       "      <td>The GitHub repository for this study has been ...</td>\n",
       "      <td>Python</td>\n",
       "      <td>used</td>\n",
       "      <td>usage</td>\n",
       "    </tr>\n",
       "  </tbody>\n",
       "</table>\n",
       "</div>"
      ],
      "text/plain": [
       "                                       doi_link  \\\n",
       "0  https://doi.org/10.1371/journal.pone.0043845   \n",
       "1           https://doi.org/10.1155/2014/395212   \n",
       "2     https://doi.org/10.3389/fphys.2020.587057   \n",
       "3     https://doi.org/10.1186/s13046-018-0997-7   \n",
       "4            https://doi.org/10.7717/peerj.9470   \n",
       "\n",
       "                                         source  \\\n",
       "0                       10. Confocal microscopy   \n",
       "1            5. Simulation Results and Analysis   \n",
       "2  Network Architecture and Training Parameters   \n",
       "3                                paper_abstract   \n",
       "4                                   Conclusions   \n",
       "\n",
       "                                                text         software intent  \\\n",
       "0  Confocal laser scanning was performed on a Oly...         Fluoview   used   \n",
       "1  In Figure 11, p miss of SVM-SMP is nearly equa...              SVM   used   \n",
       "2  A pattern recognition network was created usin...           MATLAB   used   \n",
       "3  Finally, we investigated the potential molecul...  analysis (GSEA)   used   \n",
       "4  The GitHub repository for this study has been ...           Python   used   \n",
       "\n",
       "   label  \n",
       "0  usage  \n",
       "1  usage  \n",
       "2  usage  \n",
       "3  usage  \n",
       "4  usage  "
      ]
     },
     "execution_count": 28,
     "metadata": {},
     "output_type": "execute_result"
    }
   ],
   "source": [
    "czi_val_df.head()"
   ]
  },
  {
   "cell_type": "code",
   "execution_count": 29,
   "metadata": {
    "application/vnd.databricks.v1+cell": {
     "cellMetadata": {
      "byteLimit": 2048000,
      "rowLimit": 10000
     },
     "inputWidgets": {},
     "nuid": "f2c9b549-7212-4e2e-8587-6fdd71bc9395",
     "showTitle": false,
     "title": ""
    }
   },
   "outputs": [],
   "source": [
    "czi_val_df['category'] = 'true'\n",
    "czi_val_df['pred_label'] = czi_val_df['text'].apply(lambda x: get_pred_label(x, completed_sentences, y_pred_czi_completed))\n",
    "czi_val_df_pred = czi_val_df.copy()\n",
    "czi_val_df_pred['category'] = 'pred_gpt3.5'\n",
    "\n",
    "czi_val_df_pred['label'] = czi_val_df_pred['text'].apply(lambda x: get_pred_label(x, completed_sentences, y_pred_czi_completed))\n",
    "czi_val_df_all = pd.concat([czi_val_df_pred, czi_val_df])"
   ]
  },
  {
   "cell_type": "code",
   "execution_count": 30,
   "metadata": {
    "application/vnd.databricks.v1+cell": {
     "cellMetadata": {
      "byteLimit": 2048000,
      "rowLimit": 10000
     },
     "inputWidgets": {},
     "nuid": "e36ff6a4-afb2-4ad4-935c-6ff4f46fcdc2",
     "showTitle": false,
     "title": ""
    }
   },
   "outputs": [
    {
     "data": {
      "text/html": [
       "<div>\n",
       "<style scoped>\n",
       "    .dataframe tbody tr th:only-of-type {\n",
       "        vertical-align: middle;\n",
       "    }\n",
       "\n",
       "    .dataframe tbody tr th {\n",
       "        vertical-align: top;\n",
       "    }\n",
       "\n",
       "    .dataframe thead th {\n",
       "        text-align: right;\n",
       "    }\n",
       "</style>\n",
       "<table border=\"1\" class=\"dataframe\">\n",
       "  <thead>\n",
       "    <tr style=\"text-align: right;\">\n",
       "      <th></th>\n",
       "      <th>doi_link</th>\n",
       "      <th>source</th>\n",
       "      <th>text</th>\n",
       "      <th>software</th>\n",
       "      <th>label</th>\n",
       "      <th>category</th>\n",
       "      <th>pred_label</th>\n",
       "    </tr>\n",
       "    <tr>\n",
       "      <th>intent</th>\n",
       "      <th></th>\n",
       "      <th></th>\n",
       "      <th></th>\n",
       "      <th></th>\n",
       "      <th></th>\n",
       "      <th></th>\n",
       "      <th></th>\n",
       "    </tr>\n",
       "  </thead>\n",
       "  <tbody>\n",
       "    <tr>\n",
       "      <th>creation</th>\n",
       "      <td>10</td>\n",
       "      <td>10</td>\n",
       "      <td>10</td>\n",
       "      <td>10</td>\n",
       "      <td>10</td>\n",
       "      <td>10</td>\n",
       "      <td>10</td>\n",
       "    </tr>\n",
       "    <tr>\n",
       "      <th>mention</th>\n",
       "      <td>14</td>\n",
       "      <td>14</td>\n",
       "      <td>14</td>\n",
       "      <td>14</td>\n",
       "      <td>14</td>\n",
       "      <td>14</td>\n",
       "      <td>14</td>\n",
       "    </tr>\n",
       "    <tr>\n",
       "      <th>used</th>\n",
       "      <td>177</td>\n",
       "      <td>166</td>\n",
       "      <td>177</td>\n",
       "      <td>177</td>\n",
       "      <td>177</td>\n",
       "      <td>177</td>\n",
       "      <td>177</td>\n",
       "    </tr>\n",
       "  </tbody>\n",
       "</table>\n",
       "</div>"
      ],
      "text/plain": [
       "          doi_link  source  text  software  label  category  pred_label\n",
       "intent                                                                 \n",
       "creation        10      10    10        10     10        10          10\n",
       "mention         14      14    14        14     14        14          14\n",
       "used           177     166   177       177    177       177         177"
      ]
     },
     "execution_count": 30,
     "metadata": {},
     "output_type": "execute_result"
    }
   ],
   "source": [
    "czi_val_df.groupby('intent').count()"
   ]
  },
  {
   "cell_type": "code",
   "execution_count": 31,
   "metadata": {
    "application/vnd.databricks.v1+cell": {
     "cellMetadata": {
      "byteLimit": 2048000,
      "rowLimit": 10000
     },
     "inputWidgets": {},
     "nuid": "2d3c0613-99a0-4b0a-b477-2acf3633a7d1",
     "showTitle": false,
     "title": ""
    }
   },
   "outputs": [
    {
     "name": "stdout",
     "output_type": "stream",
     "text": [
      "Precision:  0.571 Recall:  0.531 F1: 0.545 Accuracy: 0.881\n",
      "              precision    recall  f1-score   support\n",
      "\n",
      "    creation       0.71      0.50      0.59        10\n",
      "       usage       0.98      0.93      0.95       177\n",
      "     mention       0.59      0.70      0.64        23\n",
      "        none       0.00      0.00      0.00         0\n",
      "\n",
      "    accuracy                           0.88       210\n",
      "   macro avg       0.57      0.53      0.54       210\n",
      "weighted avg       0.92      0.88      0.90       210\n",
      "\n"
     ]
    }
   ],
   "source": [
    "evaluate(y_true_czi_completed, y_pred_czi_completed)"
   ]
  },
  {
   "cell_type": "markdown",
   "metadata": {
    "application/vnd.databricks.v1+cell": {
     "cellMetadata": {
      "byteLimit": 2048000,
      "rowLimit": 10000
     },
     "inputWidgets": {},
     "nuid": "65fe4790-d7ca-4b14-acfb-f5ce74213b6c",
     "showTitle": false,
     "title": ""
    }
   },
   "source": [
    "### Errors"
   ]
  },
  {
   "cell_type": "code",
   "execution_count": 32,
   "metadata": {
    "application/vnd.databricks.v1+cell": {
     "cellMetadata": {
      "byteLimit": 2048000,
      "rowLimit": 10000
     },
     "inputWidgets": {},
     "nuid": "d2411dab-01c8-4571-ab6b-bfd5c902b8fa",
     "showTitle": false,
     "title": ""
    }
   },
   "outputs": [
    {
     "data": {
      "application/vnd.plotly.v1+json": {
       "config": {
        "plotlyServerURL": "https://plot.ly"
       },
       "data": [
        {
         "alignmentgroup": "True",
         "hovertemplate": "category=pred_gpt3.5<br>label=%{x}<br>text=%{y}<extra></extra>",
         "legendgroup": "pred_gpt3.5",
         "marker": {
          "color": "#636efa",
          "pattern": {
           "shape": ""
          }
         },
         "name": "pred_gpt3.5",
         "offsetgroup": "pred_gpt3.5",
         "orientation": "v",
         "showlegend": true,
         "textposition": "auto",
         "type": "bar",
         "x": [
          "creation",
          "mention",
          "none",
          "usage"
         ],
         "xaxis": "x",
         "y": [
          7,
          27,
          8,
          168
         ],
         "yaxis": "y"
        },
        {
         "alignmentgroup": "True",
         "hovertemplate": "category=true<br>label=%{x}<br>text=%{y}<extra></extra>",
         "legendgroup": "true",
         "marker": {
          "color": "#EF553B",
          "pattern": {
           "shape": ""
          }
         },
         "name": "true",
         "offsetgroup": "true",
         "orientation": "v",
         "showlegend": true,
         "textposition": "auto",
         "type": "bar",
         "x": [
          "creation",
          "mention",
          "usage"
         ],
         "xaxis": "x",
         "y": [
          10,
          23,
          177
         ],
         "yaxis": "y"
        }
       ],
       "layout": {
        "barmode": "group",
        "height": 500,
        "legend": {
         "title": {
          "text": "category"
         },
         "tracegroupgap": 0
        },
        "margin": {
         "t": 60
        },
        "template": {
         "data": {
          "bar": [
           {
            "error_x": {
             "color": "#2a3f5f"
            },
            "error_y": {
             "color": "#2a3f5f"
            },
            "marker": {
             "line": {
              "color": "#E5ECF6",
              "width": 0.5
             },
             "pattern": {
              "fillmode": "overlay",
              "size": 10,
              "solidity": 0.2
             }
            },
            "type": "bar"
           }
          ],
          "barpolar": [
           {
            "marker": {
             "line": {
              "color": "#E5ECF6",
              "width": 0.5
             },
             "pattern": {
              "fillmode": "overlay",
              "size": 10,
              "solidity": 0.2
             }
            },
            "type": "barpolar"
           }
          ],
          "carpet": [
           {
            "aaxis": {
             "endlinecolor": "#2a3f5f",
             "gridcolor": "white",
             "linecolor": "white",
             "minorgridcolor": "white",
             "startlinecolor": "#2a3f5f"
            },
            "baxis": {
             "endlinecolor": "#2a3f5f",
             "gridcolor": "white",
             "linecolor": "white",
             "minorgridcolor": "white",
             "startlinecolor": "#2a3f5f"
            },
            "type": "carpet"
           }
          ],
          "choropleth": [
           {
            "colorbar": {
             "outlinewidth": 0,
             "ticks": ""
            },
            "type": "choropleth"
           }
          ],
          "contour": [
           {
            "colorbar": {
             "outlinewidth": 0,
             "ticks": ""
            },
            "colorscale": [
             [
              0,
              "#0d0887"
             ],
             [
              0.1111111111111111,
              "#46039f"
             ],
             [
              0.2222222222222222,
              "#7201a8"
             ],
             [
              0.3333333333333333,
              "#9c179e"
             ],
             [
              0.4444444444444444,
              "#bd3786"
             ],
             [
              0.5555555555555556,
              "#d8576b"
             ],
             [
              0.6666666666666666,
              "#ed7953"
             ],
             [
              0.7777777777777778,
              "#fb9f3a"
             ],
             [
              0.8888888888888888,
              "#fdca26"
             ],
             [
              1,
              "#f0f921"
             ]
            ],
            "type": "contour"
           }
          ],
          "contourcarpet": [
           {
            "colorbar": {
             "outlinewidth": 0,
             "ticks": ""
            },
            "type": "contourcarpet"
           }
          ],
          "heatmap": [
           {
            "colorbar": {
             "outlinewidth": 0,
             "ticks": ""
            },
            "colorscale": [
             [
              0,
              "#0d0887"
             ],
             [
              0.1111111111111111,
              "#46039f"
             ],
             [
              0.2222222222222222,
              "#7201a8"
             ],
             [
              0.3333333333333333,
              "#9c179e"
             ],
             [
              0.4444444444444444,
              "#bd3786"
             ],
             [
              0.5555555555555556,
              "#d8576b"
             ],
             [
              0.6666666666666666,
              "#ed7953"
             ],
             [
              0.7777777777777778,
              "#fb9f3a"
             ],
             [
              0.8888888888888888,
              "#fdca26"
             ],
             [
              1,
              "#f0f921"
             ]
            ],
            "type": "heatmap"
           }
          ],
          "heatmapgl": [
           {
            "colorbar": {
             "outlinewidth": 0,
             "ticks": ""
            },
            "colorscale": [
             [
              0,
              "#0d0887"
             ],
             [
              0.1111111111111111,
              "#46039f"
             ],
             [
              0.2222222222222222,
              "#7201a8"
             ],
             [
              0.3333333333333333,
              "#9c179e"
             ],
             [
              0.4444444444444444,
              "#bd3786"
             ],
             [
              0.5555555555555556,
              "#d8576b"
             ],
             [
              0.6666666666666666,
              "#ed7953"
             ],
             [
              0.7777777777777778,
              "#fb9f3a"
             ],
             [
              0.8888888888888888,
              "#fdca26"
             ],
             [
              1,
              "#f0f921"
             ]
            ],
            "type": "heatmapgl"
           }
          ],
          "histogram": [
           {
            "marker": {
             "pattern": {
              "fillmode": "overlay",
              "size": 10,
              "solidity": 0.2
             }
            },
            "type": "histogram"
           }
          ],
          "histogram2d": [
           {
            "colorbar": {
             "outlinewidth": 0,
             "ticks": ""
            },
            "colorscale": [
             [
              0,
              "#0d0887"
             ],
             [
              0.1111111111111111,
              "#46039f"
             ],
             [
              0.2222222222222222,
              "#7201a8"
             ],
             [
              0.3333333333333333,
              "#9c179e"
             ],
             [
              0.4444444444444444,
              "#bd3786"
             ],
             [
              0.5555555555555556,
              "#d8576b"
             ],
             [
              0.6666666666666666,
              "#ed7953"
             ],
             [
              0.7777777777777778,
              "#fb9f3a"
             ],
             [
              0.8888888888888888,
              "#fdca26"
             ],
             [
              1,
              "#f0f921"
             ]
            ],
            "type": "histogram2d"
           }
          ],
          "histogram2dcontour": [
           {
            "colorbar": {
             "outlinewidth": 0,
             "ticks": ""
            },
            "colorscale": [
             [
              0,
              "#0d0887"
             ],
             [
              0.1111111111111111,
              "#46039f"
             ],
             [
              0.2222222222222222,
              "#7201a8"
             ],
             [
              0.3333333333333333,
              "#9c179e"
             ],
             [
              0.4444444444444444,
              "#bd3786"
             ],
             [
              0.5555555555555556,
              "#d8576b"
             ],
             [
              0.6666666666666666,
              "#ed7953"
             ],
             [
              0.7777777777777778,
              "#fb9f3a"
             ],
             [
              0.8888888888888888,
              "#fdca26"
             ],
             [
              1,
              "#f0f921"
             ]
            ],
            "type": "histogram2dcontour"
           }
          ],
          "mesh3d": [
           {
            "colorbar": {
             "outlinewidth": 0,
             "ticks": ""
            },
            "type": "mesh3d"
           }
          ],
          "parcoords": [
           {
            "line": {
             "colorbar": {
              "outlinewidth": 0,
              "ticks": ""
             }
            },
            "type": "parcoords"
           }
          ],
          "pie": [
           {
            "automargin": true,
            "type": "pie"
           }
          ],
          "scatter": [
           {
            "fillpattern": {
             "fillmode": "overlay",
             "size": 10,
             "solidity": 0.2
            },
            "type": "scatter"
           }
          ],
          "scatter3d": [
           {
            "line": {
             "colorbar": {
              "outlinewidth": 0,
              "ticks": ""
             }
            },
            "marker": {
             "colorbar": {
              "outlinewidth": 0,
              "ticks": ""
             }
            },
            "type": "scatter3d"
           }
          ],
          "scattercarpet": [
           {
            "marker": {
             "colorbar": {
              "outlinewidth": 0,
              "ticks": ""
             }
            },
            "type": "scattercarpet"
           }
          ],
          "scattergeo": [
           {
            "marker": {
             "colorbar": {
              "outlinewidth": 0,
              "ticks": ""
             }
            },
            "type": "scattergeo"
           }
          ],
          "scattergl": [
           {
            "marker": {
             "colorbar": {
              "outlinewidth": 0,
              "ticks": ""
             }
            },
            "type": "scattergl"
           }
          ],
          "scattermapbox": [
           {
            "marker": {
             "colorbar": {
              "outlinewidth": 0,
              "ticks": ""
             }
            },
            "type": "scattermapbox"
           }
          ],
          "scatterpolar": [
           {
            "marker": {
             "colorbar": {
              "outlinewidth": 0,
              "ticks": ""
             }
            },
            "type": "scatterpolar"
           }
          ],
          "scatterpolargl": [
           {
            "marker": {
             "colorbar": {
              "outlinewidth": 0,
              "ticks": ""
             }
            },
            "type": "scatterpolargl"
           }
          ],
          "scatterternary": [
           {
            "marker": {
             "colorbar": {
              "outlinewidth": 0,
              "ticks": ""
             }
            },
            "type": "scatterternary"
           }
          ],
          "surface": [
           {
            "colorbar": {
             "outlinewidth": 0,
             "ticks": ""
            },
            "colorscale": [
             [
              0,
              "#0d0887"
             ],
             [
              0.1111111111111111,
              "#46039f"
             ],
             [
              0.2222222222222222,
              "#7201a8"
             ],
             [
              0.3333333333333333,
              "#9c179e"
             ],
             [
              0.4444444444444444,
              "#bd3786"
             ],
             [
              0.5555555555555556,
              "#d8576b"
             ],
             [
              0.6666666666666666,
              "#ed7953"
             ],
             [
              0.7777777777777778,
              "#fb9f3a"
             ],
             [
              0.8888888888888888,
              "#fdca26"
             ],
             [
              1,
              "#f0f921"
             ]
            ],
            "type": "surface"
           }
          ],
          "table": [
           {
            "cells": {
             "fill": {
              "color": "#EBF0F8"
             },
             "line": {
              "color": "white"
             }
            },
            "header": {
             "fill": {
              "color": "#C8D4E3"
             },
             "line": {
              "color": "white"
             }
            },
            "type": "table"
           }
          ]
         },
         "layout": {
          "annotationdefaults": {
           "arrowcolor": "#2a3f5f",
           "arrowhead": 0,
           "arrowwidth": 1
          },
          "autotypenumbers": "strict",
          "coloraxis": {
           "colorbar": {
            "outlinewidth": 0,
            "ticks": ""
           }
          },
          "colorscale": {
           "diverging": [
            [
             0,
             "#8e0152"
            ],
            [
             0.1,
             "#c51b7d"
            ],
            [
             0.2,
             "#de77ae"
            ],
            [
             0.3,
             "#f1b6da"
            ],
            [
             0.4,
             "#fde0ef"
            ],
            [
             0.5,
             "#f7f7f7"
            ],
            [
             0.6,
             "#e6f5d0"
            ],
            [
             0.7,
             "#b8e186"
            ],
            [
             0.8,
             "#7fbc41"
            ],
            [
             0.9,
             "#4d9221"
            ],
            [
             1,
             "#276419"
            ]
           ],
           "sequential": [
            [
             0,
             "#0d0887"
            ],
            [
             0.1111111111111111,
             "#46039f"
            ],
            [
             0.2222222222222222,
             "#7201a8"
            ],
            [
             0.3333333333333333,
             "#9c179e"
            ],
            [
             0.4444444444444444,
             "#bd3786"
            ],
            [
             0.5555555555555556,
             "#d8576b"
            ],
            [
             0.6666666666666666,
             "#ed7953"
            ],
            [
             0.7777777777777778,
             "#fb9f3a"
            ],
            [
             0.8888888888888888,
             "#fdca26"
            ],
            [
             1,
             "#f0f921"
            ]
           ],
           "sequentialminus": [
            [
             0,
             "#0d0887"
            ],
            [
             0.1111111111111111,
             "#46039f"
            ],
            [
             0.2222222222222222,
             "#7201a8"
            ],
            [
             0.3333333333333333,
             "#9c179e"
            ],
            [
             0.4444444444444444,
             "#bd3786"
            ],
            [
             0.5555555555555556,
             "#d8576b"
            ],
            [
             0.6666666666666666,
             "#ed7953"
            ],
            [
             0.7777777777777778,
             "#fb9f3a"
            ],
            [
             0.8888888888888888,
             "#fdca26"
            ],
            [
             1,
             "#f0f921"
            ]
           ]
          },
          "colorway": [
           "#636efa",
           "#EF553B",
           "#00cc96",
           "#ab63fa",
           "#FFA15A",
           "#19d3f3",
           "#FF6692",
           "#B6E880",
           "#FF97FF",
           "#FECB52"
          ],
          "font": {
           "color": "#2a3f5f"
          },
          "geo": {
           "bgcolor": "white",
           "lakecolor": "white",
           "landcolor": "#E5ECF6",
           "showlakes": true,
           "showland": true,
           "subunitcolor": "white"
          },
          "hoverlabel": {
           "align": "left"
          },
          "hovermode": "closest",
          "mapbox": {
           "style": "light"
          },
          "paper_bgcolor": "white",
          "plot_bgcolor": "#E5ECF6",
          "polar": {
           "angularaxis": {
            "gridcolor": "white",
            "linecolor": "white",
            "ticks": ""
           },
           "bgcolor": "#E5ECF6",
           "radialaxis": {
            "gridcolor": "white",
            "linecolor": "white",
            "ticks": ""
           }
          },
          "scene": {
           "xaxis": {
            "backgroundcolor": "#E5ECF6",
            "gridcolor": "white",
            "gridwidth": 2,
            "linecolor": "white",
            "showbackground": true,
            "ticks": "",
            "zerolinecolor": "white"
           },
           "yaxis": {
            "backgroundcolor": "#E5ECF6",
            "gridcolor": "white",
            "gridwidth": 2,
            "linecolor": "white",
            "showbackground": true,
            "ticks": "",
            "zerolinecolor": "white"
           },
           "zaxis": {
            "backgroundcolor": "#E5ECF6",
            "gridcolor": "white",
            "gridwidth": 2,
            "linecolor": "white",
            "showbackground": true,
            "ticks": "",
            "zerolinecolor": "white"
           }
          },
          "shapedefaults": {
           "line": {
            "color": "#2a3f5f"
           }
          },
          "ternary": {
           "aaxis": {
            "gridcolor": "white",
            "linecolor": "white",
            "ticks": ""
           },
           "baxis": {
            "gridcolor": "white",
            "linecolor": "white",
            "ticks": ""
           },
           "bgcolor": "#E5ECF6",
           "caxis": {
            "gridcolor": "white",
            "linecolor": "white",
            "ticks": ""
           }
          },
          "title": {
           "x": 0.05
          },
          "xaxis": {
           "automargin": true,
           "gridcolor": "white",
           "linecolor": "white",
           "ticks": "",
           "title": {
            "standoff": 15
           },
           "zerolinecolor": "white",
           "zerolinewidth": 2
          },
          "yaxis": {
           "automargin": true,
           "gridcolor": "white",
           "linecolor": "white",
           "ticks": "",
           "title": {
            "standoff": 15
           },
           "zerolinecolor": "white",
           "zerolinewidth": 2
          }
         }
        },
        "title": {
         "text": "Prediction Distribution in CZI Validation Dataset"
        },
        "width": 700,
        "xaxis": {
         "anchor": "y",
         "autorange": true,
         "domain": [
          0,
          1
         ],
         "range": [
          -0.5,
          3.5
         ],
         "title": {
          "text": "label"
         },
         "type": "category"
        },
        "yaxis": {
         "anchor": "x",
         "autorange": true,
         "domain": [
          0,
          1
         ],
         "range": [
          0,
          186.31578947368422
         ],
         "title": {
          "text": "text"
         },
         "type": "linear"
        }
       }
      },
      "image/png": "[encoded data removed]",
      "text/html": [
       "<div>                            <div id=\"79c028b1-5196-48f3-b2a1-9cfcf66bc056\" class=\"plotly-graph-div\" style=\"height:500px; width:700px;\"></div>            <script type=\"text/javascript\">                require([\"plotly\"], function(Plotly) {                    window.PLOTLYENV=window.PLOTLYENV || {};                                    if (document.getElementById(\"79c028b1-5196-48f3-b2a1-9cfcf66bc056\")) {                    Plotly.newPlot(                        \"79c028b1-5196-48f3-b2a1-9cfcf66bc056\",                        [{\"alignmentgroup\":\"True\",\"hovertemplate\":\"category=pred_gpt3.5\\u003cbr\\u003elabel=%{x}\\u003cbr\\u003etext=%{y}\\u003cextra\\u003e\\u003c\\u002fextra\\u003e\",\"legendgroup\":\"pred_gpt3.5\",\"marker\":{\"color\":\"#636efa\",\"pattern\":{\"shape\":\"\"}},\"name\":\"pred_gpt3.5\",\"offsetgroup\":\"pred_gpt3.5\",\"orientation\":\"v\",\"showlegend\":true,\"textposition\":\"auto\",\"x\":[\"creation\",\"mention\",\"none\",\"usage\"],\"xaxis\":\"x\",\"y\":[7,27,8,168],\"yaxis\":\"y\",\"type\":\"bar\"},{\"alignmentgroup\":\"True\",\"hovertemplate\":\"category=true\\u003cbr\\u003elabel=%{x}\\u003cbr\\u003etext=%{y}\\u003cextra\\u003e\\u003c\\u002fextra\\u003e\",\"legendgroup\":\"true\",\"marker\":{\"color\":\"#EF553B\",\"pattern\":{\"shape\":\"\"}},\"name\":\"true\",\"offsetgroup\":\"true\",\"orientation\":\"v\",\"showlegend\":true,\"textposition\":\"auto\",\"x\":[\"creation\",\"mention\",\"usage\"],\"xaxis\":\"x\",\"y\":[10,23,177],\"yaxis\":\"y\",\"type\":\"bar\"}],                        {\"template\":{\"data\":{\"histogram2dcontour\":[{\"type\":\"histogram2dcontour\",\"colorbar\":{\"outlinewidth\":0,\"ticks\":\"\"},\"colorscale\":[[0.0,\"#0d0887\"],[0.1111111111111111,\"#46039f\"],[0.2222222222222222,\"#7201a8\"],[0.3333333333333333,\"#9c179e\"],[0.4444444444444444,\"#bd3786\"],[0.5555555555555556,\"#d8576b\"],[0.6666666666666666,\"#ed7953\"],[0.7777777777777778,\"#fb9f3a\"],[0.8888888888888888,\"#fdca26\"],[1.0,\"#f0f921\"]]}],\"choropleth\":[{\"type\":\"choropleth\",\"colorbar\":{\"outlinewidth\":0,\"ticks\":\"\"}}],\"histogram2d\":[{\"type\":\"histogram2d\",\"colorbar\":{\"outlinewidth\":0,\"ticks\":\"\"},\"colorscale\":[[0.0,\"#0d0887\"],[0.1111111111111111,\"#46039f\"],[0.2222222222222222,\"#7201a8\"],[0.3333333333333333,\"#9c179e\"],[0.4444444444444444,\"#bd3786\"],[0.5555555555555556,\"#d8576b\"],[0.6666666666666666,\"#ed7953\"],[0.7777777777777778,\"#fb9f3a\"],[0.8888888888888888,\"#fdca26\"],[1.0,\"#f0f921\"]]}],\"heatmap\":[{\"type\":\"heatmap\",\"colorbar\":{\"outlinewidth\":0,\"ticks\":\"\"},\"colorscale\":[[0.0,\"#0d0887\"],[0.1111111111111111,\"#46039f\"],[0.2222222222222222,\"#7201a8\"],[0.3333333333333333,\"#9c179e\"],[0.4444444444444444,\"#bd3786\"],[0.5555555555555556,\"#d8576b\"],[0.6666666666666666,\"#ed7953\"],[0.7777777777777778,\"#fb9f3a\"],[0.8888888888888888,\"#fdca26\"],[1.0,\"#f0f921\"]]}],\"heatmapgl\":[{\"type\":\"heatmapgl\",\"colorbar\":{\"outlinewidth\":0,\"ticks\":\"\"},\"colorscale\":[[0.0,\"#0d0887\"],[0.1111111111111111,\"#46039f\"],[0.2222222222222222,\"#7201a8\"],[0.3333333333333333,\"#9c179e\"],[0.4444444444444444,\"#bd3786\"],[0.5555555555555556,\"#d8576b\"],[0.6666666666666666,\"#ed7953\"],[0.7777777777777778,\"#fb9f3a\"],[0.8888888888888888,\"#fdca26\"],[1.0,\"#f0f921\"]]}],\"contourcarpet\":[{\"type\":\"contourcarpet\",\"colorbar\":{\"outlinewidth\":0,\"ticks\":\"\"}}],\"contour\":[{\"type\":\"contour\",\"colorbar\":{\"outlinewidth\":0,\"ticks\":\"\"},\"colorscale\":[[0.0,\"#0d0887\"],[0.1111111111111111,\"#46039f\"],[0.2222222222222222,\"#7201a8\"],[0.3333333333333333,\"#9c179e\"],[0.4444444444444444,\"#bd3786\"],[0.5555555555555556,\"#d8576b\"],[0.6666666666666666,\"#ed7953\"],[0.7777777777777778,\"#fb9f3a\"],[0.8888888888888888,\"#fdca26\"],[1.0,\"#f0f921\"]]}],\"surface\":[{\"type\":\"surface\",\"colorbar\":{\"outlinewidth\":0,\"ticks\":\"\"},\"colorscale\":[[0.0,\"#0d0887\"],[0.1111111111111111,\"#46039f\"],[0.2222222222222222,\"#7201a8\"],[0.3333333333333333,\"#9c179e\"],[0.4444444444444444,\"#bd3786\"],[0.5555555555555556,\"#d8576b\"],[0.6666666666666666,\"#ed7953\"],[0.7777777777777778,\"#fb9f3a\"],[0.8888888888888888,\"#fdca26\"],[1.0,\"#f0f921\"]]}],\"mesh3d\":[{\"type\":\"mesh3d\",\"colorbar\":{\"outlinewidth\":0,\"ticks\":\"\"}}],\"scatter\":[{\"fillpattern\":{\"fillmode\":\"overlay\",\"size\":10,\"solidity\":0.2},\"type\":\"scatter\"}],\"parcoords\":[{\"type\":\"parcoords\",\"line\":{\"colorbar\":{\"outlinewidth\":0,\"ticks\":\"\"}}}],\"scatterpolargl\":[{\"type\":\"scatterpolargl\",\"marker\":{\"colorbar\":{\"outlinewidth\":0,\"ticks\":\"\"}}}],\"bar\":[{\"error_x\":{\"color\":\"#2a3f5f\"},\"error_y\":{\"color\":\"#2a3f5f\"},\"marker\":{\"line\":{\"color\":\"#E5ECF6\",\"width\":0.5},\"pattern\":{\"fillmode\":\"overlay\",\"size\":10,\"solidity\":0.2}},\"type\":\"bar\"}],\"scattergeo\":[{\"type\":\"scattergeo\",\"marker\":{\"colorbar\":{\"outlinewidth\":0,\"ticks\":\"\"}}}],\"scatterpolar\":[{\"type\":\"scatterpolar\",\"marker\":{\"colorbar\":{\"outlinewidth\":0,\"ticks\":\"\"}}}],\"histogram\":[{\"marker\":{\"pattern\":{\"fillmode\":\"overlay\",\"size\":10,\"solidity\":0.2}},\"type\":\"histogram\"}],\"scattergl\":[{\"type\":\"scattergl\",\"marker\":{\"colorbar\":{\"outlinewidth\":0,\"ticks\":\"\"}}}],\"scatter3d\":[{\"type\":\"scatter3d\",\"line\":{\"colorbar\":{\"outlinewidth\":0,\"ticks\":\"\"}},\"marker\":{\"colorbar\":{\"outlinewidth\":0,\"ticks\":\"\"}}}],\"scattermapbox\":[{\"type\":\"scattermapbox\",\"marker\":{\"colorbar\":{\"outlinewidth\":0,\"ticks\":\"\"}}}],\"scatterternary\":[{\"type\":\"scatterternary\",\"marker\":{\"colorbar\":{\"outlinewidth\":0,\"ticks\":\"\"}}}],\"scattercarpet\":[{\"type\":\"scattercarpet\",\"marker\":{\"colorbar\":{\"outlinewidth\":0,\"ticks\":\"\"}}}],\"carpet\":[{\"aaxis\":{\"endlinecolor\":\"#2a3f5f\",\"gridcolor\":\"white\",\"linecolor\":\"white\",\"minorgridcolor\":\"white\",\"startlinecolor\":\"#2a3f5f\"},\"baxis\":{\"endlinecolor\":\"#2a3f5f\",\"gridcolor\":\"white\",\"linecolor\":\"white\",\"minorgridcolor\":\"white\",\"startlinecolor\":\"#2a3f5f\"},\"type\":\"carpet\"}],\"table\":[{\"cells\":{\"fill\":{\"color\":\"#EBF0F8\"},\"line\":{\"color\":\"white\"}},\"header\":{\"fill\":{\"color\":\"#C8D4E3\"},\"line\":{\"color\":\"white\"}},\"type\":\"table\"}],\"barpolar\":[{\"marker\":{\"line\":{\"color\":\"#E5ECF6\",\"width\":0.5},\"pattern\":{\"fillmode\":\"overlay\",\"size\":10,\"solidity\":0.2}},\"type\":\"barpolar\"}],\"pie\":[{\"automargin\":true,\"type\":\"pie\"}]},\"layout\":{\"autotypenumbers\":\"strict\",\"colorway\":[\"#636efa\",\"#EF553B\",\"#00cc96\",\"#ab63fa\",\"#FFA15A\",\"#19d3f3\",\"#FF6692\",\"#B6E880\",\"#FF97FF\",\"#FECB52\"],\"font\":{\"color\":\"#2a3f5f\"},\"hovermode\":\"closest\",\"hoverlabel\":{\"align\":\"left\"},\"paper_bgcolor\":\"white\",\"plot_bgcolor\":\"#E5ECF6\",\"polar\":{\"bgcolor\":\"#E5ECF6\",\"angularaxis\":{\"gridcolor\":\"white\",\"linecolor\":\"white\",\"ticks\":\"\"},\"radialaxis\":{\"gridcolor\":\"white\",\"linecolor\":\"white\",\"ticks\":\"\"}},\"ternary\":{\"bgcolor\":\"#E5ECF6\",\"aaxis\":{\"gridcolor\":\"white\",\"linecolor\":\"white\",\"ticks\":\"\"},\"baxis\":{\"gridcolor\":\"white\",\"linecolor\":\"white\",\"ticks\":\"\"},\"caxis\":{\"gridcolor\":\"white\",\"linecolor\":\"white\",\"ticks\":\"\"}},\"coloraxis\":{\"colorbar\":{\"outlinewidth\":0,\"ticks\":\"\"}},\"colorscale\":{\"sequential\":[[0.0,\"#0d0887\"],[0.1111111111111111,\"#46039f\"],[0.2222222222222222,\"#7201a8\"],[0.3333333333333333,\"#9c179e\"],[0.4444444444444444,\"#bd3786\"],[0.5555555555555556,\"#d8576b\"],[0.6666666666666666,\"#ed7953\"],[0.7777777777777778,\"#fb9f3a\"],[0.8888888888888888,\"#fdca26\"],[1.0,\"#f0f921\"]],\"sequentialminus\":[[0.0,\"#0d0887\"],[0.1111111111111111,\"#46039f\"],[0.2222222222222222,\"#7201a8\"],[0.3333333333333333,\"#9c179e\"],[0.4444444444444444,\"#bd3786\"],[0.5555555555555556,\"#d8576b\"],[0.6666666666666666,\"#ed7953\"],[0.7777777777777778,\"#fb9f3a\"],[0.8888888888888888,\"#fdca26\"],[1.0,\"#f0f921\"]],\"diverging\":[[0,\"#8e0152\"],[0.1,\"#c51b7d\"],[0.2,\"#de77ae\"],[0.3,\"#f1b6da\"],[0.4,\"#fde0ef\"],[0.5,\"#f7f7f7\"],[0.6,\"#e6f5d0\"],[0.7,\"#b8e186\"],[0.8,\"#7fbc41\"],[0.9,\"#4d9221\"],[1,\"#276419\"]]},\"xaxis\":{\"gridcolor\":\"white\",\"linecolor\":\"white\",\"ticks\":\"\",\"title\":{\"standoff\":15},\"zerolinecolor\":\"white\",\"automargin\":true,\"zerolinewidth\":2},\"yaxis\":{\"gridcolor\":\"white\",\"linecolor\":\"white\",\"ticks\":\"\",\"title\":{\"standoff\":15},\"zerolinecolor\":\"white\",\"automargin\":true,\"zerolinewidth\":2},\"scene\":{\"xaxis\":{\"backgroundcolor\":\"#E5ECF6\",\"gridcolor\":\"white\",\"linecolor\":\"white\",\"showbackground\":true,\"ticks\":\"\",\"zerolinecolor\":\"white\",\"gridwidth\":2},\"yaxis\":{\"backgroundcolor\":\"#E5ECF6\",\"gridcolor\":\"white\",\"linecolor\":\"white\",\"showbackground\":true,\"ticks\":\"\",\"zerolinecolor\":\"white\",\"gridwidth\":2},\"zaxis\":{\"backgroundcolor\":\"#E5ECF6\",\"gridcolor\":\"white\",\"linecolor\":\"white\",\"showbackground\":true,\"ticks\":\"\",\"zerolinecolor\":\"white\",\"gridwidth\":2}},\"shapedefaults\":{\"line\":{\"color\":\"#2a3f5f\"}},\"annotationdefaults\":{\"arrowcolor\":\"#2a3f5f\",\"arrowhead\":0,\"arrowwidth\":1},\"geo\":{\"bgcolor\":\"white\",\"landcolor\":\"#E5ECF6\",\"subunitcolor\":\"white\",\"showland\":true,\"showlakes\":true,\"lakecolor\":\"white\"},\"title\":{\"x\":0.05},\"mapbox\":{\"style\":\"light\"}}},\"xaxis\":{\"anchor\":\"y\",\"domain\":[0.0,1.0],\"title\":{\"text\":\"label\"}},\"yaxis\":{\"anchor\":\"x\",\"domain\":[0.0,1.0],\"title\":{\"text\":\"text\"}},\"legend\":{\"title\":{\"text\":\"category\"},\"tracegroupgap\":0},\"margin\":{\"t\":60},\"barmode\":\"group\",\"width\":700,\"height\":500,\"title\":{\"text\":\"Prediction Distribution in CZI Validation Dataset\"}},                        {\"responsive\": true}                    ).then(function(){\n",
       "                            \n",
       "var gd = document.getElementById('79c028b1-5196-48f3-b2a1-9cfcf66bc056');\n",
       "var x = new MutationObserver(function (mutations, observer) {{\n",
       "        var display = window.getComputedStyle(gd).display;\n",
       "        if (!display || display === 'none') {{\n",
       "            console.log([gd, 'removed!']);\n",
       "            Plotly.purge(gd);\n",
       "            observer.disconnect();\n",
       "        }}\n",
       "}});\n",
       "\n",
       "// Listen for the removal of the full notebook cells\n",
       "var notebookContainer = gd.closest('#notebook-container');\n",
       "if (notebookContainer) {{\n",
       "    x.observe(notebookContainer, {childList: true});\n",
       "}}\n",
       "\n",
       "// Listen for the clearing of the current output cell\n",
       "var outputEl = gd.closest('.output');\n",
       "if (outputEl) {{\n",
       "    x.observe(outputEl, {childList: true});\n",
       "}}\n",
       "\n",
       "                        })                };                });            </script>        </div>"
      ]
     },
     "metadata": {},
     "output_type": "display_data"
    }
   ],
   "source": [
    "labels_grouped = czi_val_df_all.groupby(['label', 'category']).count().reset_index()\n",
    "fig = px.bar(labels_grouped, x = 'label', y = 'text', color = 'category', barmode = 'group')\n",
    "fig.update_layout(width=700,height=500, title = 'Prediction Distribution in CZI Validation Dataset')"
   ]
  },
  {
   "cell_type": "markdown",
   "metadata": {
    "application/vnd.databricks.v1+cell": {
     "cellMetadata": {
      "byteLimit": 2048000,
      "rowLimit": 10000
     },
     "inputWidgets": {},
     "nuid": "c9d7ff7c-303b-4b01-ae20-d4059ebbf67f",
     "showTitle": false,
     "title": ""
    }
   },
   "source": [
    "#### False negatives"
   ]
  },
  {
   "cell_type": "code",
   "execution_count": 33,
   "metadata": {
    "application/vnd.databricks.v1+cell": {
     "cellMetadata": {
      "byteLimit": 2048000,
      "rowLimit": 10000
     },
     "inputWidgets": {},
     "nuid": "c20c3316-1496-41da-964e-dee9ebee8370",
     "showTitle": false,
     "title": ""
    }
   },
   "outputs": [
    {
     "data": {
      "text/html": [
       "<div>\n",
       "<style scoped>\n",
       "    .dataframe tbody tr th:only-of-type {\n",
       "        vertical-align: middle;\n",
       "    }\n",
       "\n",
       "    .dataframe tbody tr th {\n",
       "        vertical-align: top;\n",
       "    }\n",
       "\n",
       "    .dataframe thead th {\n",
       "        text-align: right;\n",
       "    }\n",
       "</style>\n",
       "<table border=\"1\" class=\"dataframe\">\n",
       "  <thead>\n",
       "    <tr style=\"text-align: right;\">\n",
       "      <th></th>\n",
       "      <th>doi_link</th>\n",
       "      <th>source</th>\n",
       "      <th>text</th>\n",
       "      <th>software</th>\n",
       "      <th>intent</th>\n",
       "      <th>label</th>\n",
       "      <th>category</th>\n",
       "      <th>pred_label</th>\n",
       "    </tr>\n",
       "  </thead>\n",
       "  <tbody>\n",
       "    <tr>\n",
       "      <th>39</th>\n",
       "      <td>https://doi.org/10.1107/S1600536809055044</td>\n",
       "      <td>NaN</td>\n",
       "      <td>Absorption correction: multi-scan (SADABS; Sheldrick, 1996 ▶) T min = 0.66, T max = 0.87</td>\n",
       "      <td>SADABS</td>\n",
       "      <td>NaN</td>\n",
       "      <td>mention</td>\n",
       "      <td>true</td>\n",
       "      <td>usage</td>\n",
       "    </tr>\n",
       "    <tr>\n",
       "      <th>70</th>\n",
       "      <td>https://doi.org/10.3390/ijms21020543</td>\n",
       "      <td>3.2. QTL for GY and Secondary Traits under Optimum and Low-N Conditions</td>\n",
       "      <td>Identifying major effect QTL underlying single or multiple traits in various populations determines the successful use of QTL through MAS [8]</td>\n",
       "      <td>MAS</td>\n",
       "      <td>mention</td>\n",
       "      <td>mention</td>\n",
       "      <td>true</td>\n",
       "      <td>none</td>\n",
       "    </tr>\n",
       "    <tr>\n",
       "      <th>89</th>\n",
       "      <td>https://doi.org/10.3390/diagnostics10010044</td>\n",
       "      <td>2.2. Deep Learning-Based Techniques</td>\n",
       "      <td>Very recently, one research group applied Mask R-CNN on cervix segmentation tasks, the obtained (Dice, IoU) score is (0.8711, 0.765) on “Kaggle Dataset” as reported in [26]</td>\n",
       "      <td>Mask R-CNN</td>\n",
       "      <td>mention</td>\n",
       "      <td>mention</td>\n",
       "      <td>true</td>\n",
       "      <td>usage</td>\n",
       "    </tr>\n",
       "    <tr>\n",
       "      <th>93</th>\n",
       "      <td>https://doi.org/10.1107/S1600536808008076</td>\n",
       "      <td>NaN</td>\n",
       "      <td>Absorption correction: multi-scan (SADABS; Sheldrick, 1996 ▶) T min = 0.971, T max = 0.972</td>\n",
       "      <td>SADABS</td>\n",
       "      <td>NaN</td>\n",
       "      <td>mention</td>\n",
       "      <td>true</td>\n",
       "      <td>usage</td>\n",
       "    </tr>\n",
       "    <tr>\n",
       "      <th>147</th>\n",
       "      <td>https://doi.org/10.1371/journal.pgen.1002902</td>\n",
       "      <td>Microarray Hybridization, Scanning, Normalization, And Annotation</td>\n",
       "      <td>The Affymetrix GCOS operating system controls the scanner and data acquisition functions</td>\n",
       "      <td>Affymetrix GCOS</td>\n",
       "      <td>mention</td>\n",
       "      <td>mention</td>\n",
       "      <td>true</td>\n",
       "      <td>usage</td>\n",
       "    </tr>\n",
       "    <tr>\n",
       "      <th>182</th>\n",
       "      <td>https://doi.org/10.1186/1471-2458-11-S3-S32</td>\n",
       "      <td>Calculating the effects of intermediate health outcomes on mortality</td>\n",
       "      <td>Within LiST however the risks for mortality vis-à-vis stunting are defined in terms of the following four bands on the international normal distribution for height for age:</td>\n",
       "      <td>LiST</td>\n",
       "      <td>mention</td>\n",
       "      <td>mention</td>\n",
       "      <td>true</td>\n",
       "      <td>none</td>\n",
       "    </tr>\n",
       "    <tr>\n",
       "      <th>189</th>\n",
       "      <td>https://doi.org/10.1371/journal.pcbi.0030100</td>\n",
       "      <td>Dynamic causal modelling.</td>\n",
       "      <td>DCM, therefore, can also be regarded as more general, with the general linear model analysis being a specific situation in which the interaction parameters (first and second sets) are assumed to be zero.</td>\n",
       "      <td>DCM</td>\n",
       "      <td>mention</td>\n",
       "      <td>mention</td>\n",
       "      <td>true</td>\n",
       "      <td>none</td>\n",
       "    </tr>\n",
       "  </tbody>\n",
       "</table>\n",
       "</div>"
      ],
      "text/plain": [
       "                                         doi_link  \\\n",
       "39      https://doi.org/10.1107/S1600536809055044   \n",
       "70           https://doi.org/10.3390/ijms21020543   \n",
       "89    https://doi.org/10.3390/diagnostics10010044   \n",
       "93      https://doi.org/10.1107/S1600536808008076   \n",
       "147  https://doi.org/10.1371/journal.pgen.1002902   \n",
       "182   https://doi.org/10.1186/1471-2458-11-S3-S32   \n",
       "189  https://doi.org/10.1371/journal.pcbi.0030100   \n",
       "\n",
       "                                                                      source  \\\n",
       "39                                                                       NaN   \n",
       "70   3.2. QTL for GY and Secondary Traits under Optimum and Low-N Conditions   \n",
       "89                                       2.2. Deep Learning-Based Techniques   \n",
       "93                                                                       NaN   \n",
       "147        Microarray Hybridization, Scanning, Normalization, And Annotation   \n",
       "182     Calculating the effects of intermediate health outcomes on mortality   \n",
       "189                                                Dynamic causal modelling.   \n",
       "\n",
       "                                                                                                                                                                                                            text  \\\n",
       "39                                                                                                                      Absorption correction: multi-scan (SADABS; Sheldrick, 1996 ▶) T min = 0.66, T max = 0.87   \n",
       "70                                                                 Identifying major effect QTL underlying single or multiple traits in various populations determines the successful use of QTL through MAS [8]   \n",
       "89                                  Very recently, one research group applied Mask R-CNN on cervix segmentation tasks, the obtained (Dice, IoU) score is (0.8711, 0.765) on “Kaggle Dataset” as reported in [26]   \n",
       "93                                                                                                                    Absorption correction: multi-scan (SADABS; Sheldrick, 1996 ▶) T min = 0.971, T max = 0.972   \n",
       "147                                                                                                                     The Affymetrix GCOS operating system controls the scanner and data acquisition functions   \n",
       "182                                 Within LiST however the risks for mortality vis-à-vis stunting are defined in terms of the following four bands on the international normal distribution for height for age:   \n",
       "189  DCM, therefore, can also be regarded as more general, with the general linear model analysis being a specific situation in which the interaction parameters (first and second sets) are assumed to be zero.   \n",
       "\n",
       "            software   intent    label category pred_label  \n",
       "39            SADABS      NaN  mention     true      usage  \n",
       "70               MAS  mention  mention     true       none  \n",
       "89        Mask R-CNN  mention  mention     true      usage  \n",
       "93            SADABS      NaN  mention     true      usage  \n",
       "147  Affymetrix GCOS  mention  mention     true      usage  \n",
       "182             LiST  mention  mention     true       none  \n",
       "189              DCM  mention  mention     true       none  "
      ]
     },
     "execution_count": 33,
     "metadata": {},
     "output_type": "execute_result"
    }
   ],
   "source": [
    "pd.set_option('display.max_colwidth', 1000)\n",
    "czi_val_df[(czi_val_df['label'] == 'mention') & (czi_val_df['pred_label'] != 'mention')]"
   ]
  },
  {
   "cell_type": "markdown",
   "metadata": {
    "application/vnd.databricks.v1+cell": {
     "cellMetadata": {
      "byteLimit": 2048000,
      "rowLimit": 10000
     },
     "inputWidgets": {},
     "nuid": "1d99aede-4232-4ab9-83c0-4be9e9efafc7",
     "showTitle": false,
     "title": ""
    }
   },
   "source": [
    "#### False positives"
   ]
  },
  {
   "cell_type": "code",
   "execution_count": 34,
   "metadata": {
    "application/vnd.databricks.v1+cell": {
     "cellMetadata": {
      "byteLimit": 2048000,
      "rowLimit": 10000
     },
     "inputWidgets": {},
     "nuid": "42baa727-d82d-4027-b240-d04cdf21c61f",
     "showTitle": false,
     "title": ""
    }
   },
   "outputs": [
    {
     "data": {
      "text/html": [
       "<div>\n",
       "<style scoped>\n",
       "    .dataframe tbody tr th:only-of-type {\n",
       "        vertical-align: middle;\n",
       "    }\n",
       "\n",
       "    .dataframe tbody tr th {\n",
       "        vertical-align: top;\n",
       "    }\n",
       "\n",
       "    .dataframe thead th {\n",
       "        text-align: right;\n",
       "    }\n",
       "</style>\n",
       "<table border=\"1\" class=\"dataframe\">\n",
       "  <thead>\n",
       "    <tr style=\"text-align: right;\">\n",
       "      <th></th>\n",
       "      <th>doi_link</th>\n",
       "      <th>source</th>\n",
       "      <th>text</th>\n",
       "      <th>software</th>\n",
       "      <th>intent</th>\n",
       "      <th>label</th>\n",
       "      <th>category</th>\n",
       "      <th>pred_label</th>\n",
       "    </tr>\n",
       "  </thead>\n",
       "  <tbody>\n",
       "    <tr>\n",
       "      <th>7</th>\n",
       "      <td>https://doi.org/10.1107/S2059798320008049</td>\n",
       "      <td>Use of spherical fragment generation for structure determination</td>\n",
       "      <td>This in turn will require improved algorithms, implemented in SHELXE, that take into account the unique aspects of electron scattering.</td>\n",
       "      <td>SHELXE</td>\n",
       "      <td>used</td>\n",
       "      <td>usage</td>\n",
       "      <td>true</td>\n",
       "      <td>mention</td>\n",
       "    </tr>\n",
       "    <tr>\n",
       "      <th>34</th>\n",
       "      <td>https://doi.org/10.2196/jmir.5976</td>\n",
       "      <td>Limitations</td>\n",
       "      <td>However, we are planning research to evaluate the infographics on the actual CHART platform, which would provide personalized assessments and would also enable us to study the effects of infographics on intentions and outcomes related to behavior change.</td>\n",
       "      <td>CHART</td>\n",
       "      <td>used</td>\n",
       "      <td>usage</td>\n",
       "      <td>true</td>\n",
       "      <td>mention</td>\n",
       "    </tr>\n",
       "    <tr>\n",
       "      <th>35</th>\n",
       "      <td>https://doi.org/10.1111/jpi.12673</td>\n",
       "      <td>Implementation details</td>\n",
       "      <td>The website is written in the Python programming language using the ‘Flask’ framework</td>\n",
       "      <td>Flask</td>\n",
       "      <td>used</td>\n",
       "      <td>usage</td>\n",
       "      <td>true</td>\n",
       "      <td>mention</td>\n",
       "    </tr>\n",
       "    <tr>\n",
       "      <th>46</th>\n",
       "      <td>https://doi.org/10.3389/fpsyt.2021.682952</td>\n",
       "      <td>Data Analysis</td>\n",
       "      <td>Analyses were conducted using R version 4.0.3 (17)</td>\n",
       "      <td>R</td>\n",
       "      <td>used</td>\n",
       "      <td>usage</td>\n",
       "      <td>true</td>\n",
       "      <td>mention</td>\n",
       "    </tr>\n",
       "    <tr>\n",
       "      <th>154</th>\n",
       "      <td>https://doi.org/10.3390/s21165463</td>\n",
       "      <td>2.3. Positioning Stage</td>\n",
       "      <td>The LabVIEW-based software was used to define the scanning parameters (area to scan, frequency sweep configuration…) and load them into the Arduino board</td>\n",
       "      <td>LabVIEW</td>\n",
       "      <td>used</td>\n",
       "      <td>usage</td>\n",
       "      <td>true</td>\n",
       "      <td>mention</td>\n",
       "    </tr>\n",
       "    <tr>\n",
       "      <th>172</th>\n",
       "      <td>https://doi.org/10.1186/s12918-017-0427-z</td>\n",
       "      <td>Flux Variability Analysis (FVA)</td>\n",
       "      <td>FVA can be set up in COBRA toolbox using the function fluxVariability()</td>\n",
       "      <td>COBRA</td>\n",
       "      <td>used</td>\n",
       "      <td>usage</td>\n",
       "      <td>true</td>\n",
       "      <td>mention</td>\n",
       "    </tr>\n",
       "    <tr>\n",
       "      <th>401</th>\n",
       "      <td>https://joss.theoj.org/papers/10.21105/joss.05420</td>\n",
       "      <td>title</td>\n",
       "      <td>libscientific: A Powerful C Library for Multivariate Analysis</td>\n",
       "      <td>libscientific</td>\n",
       "      <td>creation</td>\n",
       "      <td>creation</td>\n",
       "      <td>true</td>\n",
       "      <td>mention</td>\n",
       "    </tr>\n",
       "    <tr>\n",
       "      <th>406</th>\n",
       "      <td>https://joss.theoj.org/papers/10.21105/joss.05313</td>\n",
       "      <td>title</td>\n",
       "      <td>QuaC: A Pipeline Implementing Quality Control Best Practices for Genome Sequencing and Exome Sequencing Data</td>\n",
       "      <td>QuaC</td>\n",
       "      <td>creation</td>\n",
       "      <td>creation</td>\n",
       "      <td>true</td>\n",
       "      <td>mention</td>\n",
       "    </tr>\n",
       "    <tr>\n",
       "      <th>407</th>\n",
       "      <td>https://joss.theoj.org/papers/10.21105/joss.05251</td>\n",
       "      <td>title</td>\n",
       "      <td>ReSurfEMG: A Python library for preprocessing and analysis of respiratory EMG.</td>\n",
       "      <td>ReSurfEMG</td>\n",
       "      <td>creation</td>\n",
       "      <td>creation</td>\n",
       "      <td>true</td>\n",
       "      <td>mention</td>\n",
       "    </tr>\n",
       "    <tr>\n",
       "      <th>408</th>\n",
       "      <td>https://joss.theoj.org/papers/10.21105/joss.05562</td>\n",
       "      <td>title</td>\n",
       "      <td>DARTS: The Data Analysis Remote Treatment Service</td>\n",
       "      <td>DARTS</td>\n",
       "      <td>creation</td>\n",
       "      <td>creation</td>\n",
       "      <td>true</td>\n",
       "      <td>mention</td>\n",
       "    </tr>\n",
       "    <tr>\n",
       "      <th>409</th>\n",
       "      <td>https://joss.theoj.org/papers/10.21105/joss.05580</td>\n",
       "      <td>title</td>\n",
       "      <td>SMART: Spatial Modeling Algorithms for Reactions and Transport</td>\n",
       "      <td>SMART</td>\n",
       "      <td>creation</td>\n",
       "      <td>creation</td>\n",
       "      <td>true</td>\n",
       "      <td>mention</td>\n",
       "    </tr>\n",
       "  </tbody>\n",
       "</table>\n",
       "</div>"
      ],
      "text/plain": [
       "                                              doi_link  \\\n",
       "7            https://doi.org/10.1107/S2059798320008049   \n",
       "34                   https://doi.org/10.2196/jmir.5976   \n",
       "35                   https://doi.org/10.1111/jpi.12673   \n",
       "46           https://doi.org/10.3389/fpsyt.2021.682952   \n",
       "154                  https://doi.org/10.3390/s21165463   \n",
       "172          https://doi.org/10.1186/s12918-017-0427-z   \n",
       "401  https://joss.theoj.org/papers/10.21105/joss.05420   \n",
       "406  https://joss.theoj.org/papers/10.21105/joss.05313   \n",
       "407  https://joss.theoj.org/papers/10.21105/joss.05251   \n",
       "408  https://joss.theoj.org/papers/10.21105/joss.05562   \n",
       "409  https://joss.theoj.org/papers/10.21105/joss.05580   \n",
       "\n",
       "                                                               source  \\\n",
       "7    Use of spherical fragment generation for structure determination   \n",
       "34                                                        Limitations   \n",
       "35                                             Implementation details   \n",
       "46                                                      Data Analysis   \n",
       "154                                            2.3. Positioning Stage   \n",
       "172                                   Flux Variability Analysis (FVA)   \n",
       "401                                                             title   \n",
       "406                                                             title   \n",
       "407                                                             title   \n",
       "408                                                             title   \n",
       "409                                                             title   \n",
       "\n",
       "                                                                                                                                                                                                                                                               text  \\\n",
       "7                                                                                                                           This in turn will require improved algorithms, implemented in SHELXE, that take into account the unique aspects of electron scattering.   \n",
       "34   However, we are planning research to evaluate the infographics on the actual CHART platform, which would provide personalized assessments and would also enable us to study the effects of infographics on intentions and outcomes related to behavior change.   \n",
       "35                                                                                                                                                                            The website is written in the Python programming language using the ‘Flask’ framework   \n",
       "46                                                                                                                                                                                                               Analyses were conducted using R version 4.0.3 (17)   \n",
       "154                                                                                                       The LabVIEW-based software was used to define the scanning parameters (area to scan, frequency sweep configuration…) and load them into the Arduino board   \n",
       "172                                                                                                                                                                                         FVA can be set up in COBRA toolbox using the function fluxVariability()   \n",
       "401                                                                                                                                                                                                   libscientific: A Powerful C Library for Multivariate Analysis   \n",
       "406                                                                                                                                                    QuaC: A Pipeline Implementing Quality Control Best Practices for Genome Sequencing and Exome Sequencing Data   \n",
       "407                                                                                                                                                                                  ReSurfEMG: A Python library for preprocessing and analysis of respiratory EMG.   \n",
       "408                                                                                                                                                                                                               DARTS: The Data Analysis Remote Treatment Service   \n",
       "409                                                                                                                                                                                                  SMART: Spatial Modeling Algorithms for Reactions and Transport   \n",
       "\n",
       "          software    intent     label category pred_label  \n",
       "7           SHELXE      used     usage     true    mention  \n",
       "34           CHART      used     usage     true    mention  \n",
       "35           Flask      used     usage     true    mention  \n",
       "46               R      used     usage     true    mention  \n",
       "154        LabVIEW      used     usage     true    mention  \n",
       "172          COBRA      used     usage     true    mention  \n",
       "401  libscientific  creation  creation     true    mention  \n",
       "406           QuaC  creation  creation     true    mention  \n",
       "407      ReSurfEMG  creation  creation     true    mention  \n",
       "408          DARTS  creation  creation     true    mention  \n",
       "409          SMART  creation  creation     true    mention  "
      ]
     },
     "execution_count": 34,
     "metadata": {},
     "output_type": "execute_result"
    }
   ],
   "source": [
    "czi_val_df[(czi_val_df['label'] != 'mention') & (czi_val_df['pred_label'] == 'mention')]"
   ]
  },
  {
   "cell_type": "code",
   "execution_count": 35,
   "metadata": {
    "application/vnd.databricks.v1+cell": {
     "cellMetadata": {
      "byteLimit": 2048000,
      "rowLimit": 10000
     },
     "inputWidgets": {},
     "nuid": "0305336a-f60c-4945-b9ac-8fa6117e12e1",
     "showTitle": false,
     "title": ""
    }
   },
   "outputs": [
    {
     "data": {
      "text/html": [
       "<div>\n",
       "<style scoped>\n",
       "    .dataframe tbody tr th:only-of-type {\n",
       "        vertical-align: middle;\n",
       "    }\n",
       "\n",
       "    .dataframe tbody tr th {\n",
       "        vertical-align: top;\n",
       "    }\n",
       "\n",
       "    .dataframe thead th {\n",
       "        text-align: right;\n",
       "    }\n",
       "</style>\n",
       "<table border=\"1\" class=\"dataframe\">\n",
       "  <thead>\n",
       "    <tr style=\"text-align: right;\">\n",
       "      <th></th>\n",
       "      <th>doi_link</th>\n",
       "      <th>source</th>\n",
       "      <th>text</th>\n",
       "      <th>software</th>\n",
       "      <th>intent</th>\n",
       "      <th>label</th>\n",
       "      <th>category</th>\n",
       "      <th>pred_label</th>\n",
       "    </tr>\n",
       "  </thead>\n",
       "  <tbody>\n",
       "    <tr>\n",
       "      <th>24</th>\n",
       "      <td>https://doi.org/10.1038/s41598-021-87261-4</td>\n",
       "      <td>NaN</td>\n",
       "      <td>ROI region of interest, STD standard deviation, w/o ROI detection landmark prediction without ROI detection, Mask R-CNN end-to-end model for ROI detection and landmark prediction with Mask R-CNN, w/ ROI detection (segmentation/fixed size or segmentation/variable size or regression /variable size) Landmark prediction with ROI detection of fixed or variable size.</td>\n",
       "      <td>Mask R-CNN</td>\n",
       "      <td>NaN</td>\n",
       "      <td>mention</td>\n",
       "      <td>true</td>\n",
       "      <td>mention</td>\n",
       "    </tr>\n",
       "    <tr>\n",
       "      <th>36</th>\n",
       "      <td>https://doi.org/10.1371/journal.pone.0255167</td>\n",
       "      <td>NaN</td>\n",
       "      <td>pyProGA - A PyMOL plugin for protein residue network analysis</td>\n",
       "      <td>PyMOL</td>\n",
       "      <td>NaN</td>\n",
       "      <td>mention</td>\n",
       "      <td>true</td>\n",
       "      <td>mention</td>\n",
       "    </tr>\n",
       "    <tr>\n",
       "      <th>40</th>\n",
       "      <td>https://doi.org/10.1002/jrsm.1408</td>\n",
       "      <td>RECOMMENDATIONS</td>\n",
       "      <td>Editors of journals that focus on meta‐analyses could also consider making statcheck a standard part of their peer review process (following the journals Psychological Science and the Journal of Experimental Social Psychology).</td>\n",
       "      <td>statcheck</td>\n",
       "      <td>mention</td>\n",
       "      <td>mention</td>\n",
       "      <td>true</td>\n",
       "      <td>mention</td>\n",
       "    </tr>\n",
       "    <tr>\n",
       "      <th>58</th>\n",
       "      <td>https://doi.org/10.3390/s21093079</td>\n",
       "      <td>4.4. Model Analysis &amp; Remarks</td>\n",
       "      <td>Other solution can be found using other models, such as Dynamic Neural Networks [32], that achieved a 10% margin of error for irrigation scheduling based on soil moisture sensors, and [33], that schedule irrigation based on soil moisture predictions using XGBoost, with a 13% margin of error</td>\n",
       "      <td>XGBoost</td>\n",
       "      <td>mention</td>\n",
       "      <td>mention</td>\n",
       "      <td>true</td>\n",
       "      <td>mention</td>\n",
       "    </tr>\n",
       "    <tr>\n",
       "      <th>68</th>\n",
       "      <td>https://doi.org/10.1186/s12870-018-1423-1</td>\n",
       "      <td>NaN</td>\n",
       "      <td>R scripts</td>\n",
       "      <td>R</td>\n",
       "      <td>NaN</td>\n",
       "      <td>mention</td>\n",
       "      <td>true</td>\n",
       "      <td>mention</td>\n",
       "    </tr>\n",
       "    <tr>\n",
       "      <th>123</th>\n",
       "      <td>https://doi.org/10.3390/ijerph18052538</td>\n",
       "      <td>2.6. Analysis Strategy</td>\n",
       "      <td>R: A language and environment for statistical computing</td>\n",
       "      <td>R</td>\n",
       "      <td>NaN</td>\n",
       "      <td>mention</td>\n",
       "      <td>true</td>\n",
       "      <td>mention</td>\n",
       "    </tr>\n",
       "    <tr>\n",
       "      <th>125</th>\n",
       "      <td>https://doi.org/10.1186/1751-0473-6-13</td>\n",
       "      <td>Sequence Comparison Methods</td>\n",
       "      <td>This is most often done using heuristics found in utilities such as CLUSTAL W [18], MUSCLE [19], T-COFFEE [20], and ProbCons [21]</td>\n",
       "      <td>T-COFFEE</td>\n",
       "      <td>mention</td>\n",
       "      <td>mention</td>\n",
       "      <td>true</td>\n",
       "      <td>mention</td>\n",
       "    </tr>\n",
       "    <tr>\n",
       "      <th>129</th>\n",
       "      <td>https://doi.org/10.1186/1471-2180-11-77</td>\n",
       "      <td>Recombination</td>\n",
       "      <td>The six methods are: RDP [47], GENECONV [48], Bootscan [49], MaxChi [50], Chimaera [51], and SiScan [52]</td>\n",
       "      <td>GENECONV</td>\n",
       "      <td>NaN</td>\n",
       "      <td>mention</td>\n",
       "      <td>true</td>\n",
       "      <td>mention</td>\n",
       "    </tr>\n",
       "    <tr>\n",
       "      <th>130</th>\n",
       "      <td>https://doi.org/10.1186/1471-2105-7-331</td>\n",
       "      <td>Data retrieval and integration</td>\n",
       "      <td>Data import from flat files is predominantly based on BioJava [24] which is used to parse multi-FASTA, EMBL [25], Genbank [12], and UniProt [11] formats</td>\n",
       "      <td>BioJava</td>\n",
       "      <td>mention</td>\n",
       "      <td>mention</td>\n",
       "      <td>true</td>\n",
       "      <td>mention</td>\n",
       "    </tr>\n",
       "    <tr>\n",
       "      <th>133</th>\n",
       "      <td>https://doi.org/10.1371/journal.pone.0075750</td>\n",
       "      <td>Evolutionary conservation analysis of lncRNAs</td>\n",
       "      <td>The PhastCons program uses genome alignments across 30 vertebrate species (30-way) to identify conserved genomic regions based upon a phylogenetic hidden Markov model [97].</td>\n",
       "      <td>PhastCons</td>\n",
       "      <td>mention</td>\n",
       "      <td>mention</td>\n",
       "      <td>true</td>\n",
       "      <td>mention</td>\n",
       "    </tr>\n",
       "    <tr>\n",
       "      <th>148</th>\n",
       "      <td>https://doi.org/10.5936/csbj.201308005</td>\n",
       "      <td>Pocket-Finder</td>\n",
       "      <td>The major difference between Pocket-Finder and Q-SiteFinder is that in clustering in Pocket-Finder the sites produced by the Pocket-Finder are ranked according to the number of probes in the site rather than by probe energy</td>\n",
       "      <td>Q-SiteFinder</td>\n",
       "      <td>mention</td>\n",
       "      <td>mention</td>\n",
       "      <td>true</td>\n",
       "      <td>mention</td>\n",
       "    </tr>\n",
       "    <tr>\n",
       "      <th>157</th>\n",
       "      <td>https://doi.org/10.7150/jca.58524</td>\n",
       "      <td>UALCAN analysis</td>\n",
       "      <td>UALCAN (http://ualcan.path.uab.edu) 12 is an effective online analysis tool and cancer database that enables the user to analyze data according to cancer stage, tumor grade, and patient race and weight, as well as the relative expression of genes of interest and clinicopathological characteristics in tumor and normal samples</td>\n",
       "      <td>UALCAN</td>\n",
       "      <td>mention</td>\n",
       "      <td>mention</td>\n",
       "      <td>true</td>\n",
       "      <td>mention</td>\n",
       "    </tr>\n",
       "    <tr>\n",
       "      <th>160</th>\n",
       "      <td>https://doi.org/10.1002/mgg3.1558</td>\n",
       "      <td>Detection of genetic mutation</td>\n",
       "      <td>Because in silico prediction tools may give different result, a good rule is to consider a prediction only when Polyphen2 (http//genetics.bwh.harvard.edu/pph2/) SIFT (http//sift.jcvi.org/), and the CONsensus DELeteriousness score of missense mutations (Condel) disease prediction tools give the same result</td>\n",
       "      <td>Polyphen2</td>\n",
       "      <td>mention</td>\n",
       "      <td>mention</td>\n",
       "      <td>true</td>\n",
       "      <td>mention</td>\n",
       "    </tr>\n",
       "    <tr>\n",
       "      <th>181</th>\n",
       "      <td>https://doi.org/10.1186/1759-4499-2-1</td>\n",
       "      <td>Towards the full automation of scientific discovery</td>\n",
       "      <td>AM was an Automated Mathematician, a heuristic artificial intelligence program that modelled mathematical discovery in the mid 1970s [5]</td>\n",
       "      <td>AM</td>\n",
       "      <td>mention</td>\n",
       "      <td>mention</td>\n",
       "      <td>true</td>\n",
       "      <td>mention</td>\n",
       "    </tr>\n",
       "    <tr>\n",
       "      <th>183</th>\n",
       "      <td>https://doi.org/10.1371/journal.pone.0083449</td>\n",
       "      <td>Statistical Analysis</td>\n",
       "      <td>R: A language and environment for statistical computing</td>\n",
       "      <td>R</td>\n",
       "      <td>NaN</td>\n",
       "      <td>mention</td>\n",
       "      <td>true</td>\n",
       "      <td>mention</td>\n",
       "    </tr>\n",
       "    <tr>\n",
       "      <th>194</th>\n",
       "      <td>https://doi.org/10.1186/1471-2105-15-S11-S5</td>\n",
       "      <td>tab_caption</td>\n",
       "      <td>Parameter configurations for XCMS, MZmine, and MAVEN.</td>\n",
       "      <td>MZmine</td>\n",
       "      <td>NaN</td>\n",
       "      <td>mention</td>\n",
       "      <td>true</td>\n",
       "      <td>mention</td>\n",
       "    </tr>\n",
       "  </tbody>\n",
       "</table>\n",
       "</div>"
      ],
      "text/plain": [
       "                                         doi_link  \\\n",
       "24     https://doi.org/10.1038/s41598-021-87261-4   \n",
       "36   https://doi.org/10.1371/journal.pone.0255167   \n",
       "40              https://doi.org/10.1002/jrsm.1408   \n",
       "58              https://doi.org/10.3390/s21093079   \n",
       "68      https://doi.org/10.1186/s12870-018-1423-1   \n",
       "123        https://doi.org/10.3390/ijerph18052538   \n",
       "125        https://doi.org/10.1186/1751-0473-6-13   \n",
       "129       https://doi.org/10.1186/1471-2180-11-77   \n",
       "130       https://doi.org/10.1186/1471-2105-7-331   \n",
       "133  https://doi.org/10.1371/journal.pone.0075750   \n",
       "148        https://doi.org/10.5936/csbj.201308005   \n",
       "157             https://doi.org/10.7150/jca.58524   \n",
       "160             https://doi.org/10.1002/mgg3.1558   \n",
       "181         https://doi.org/10.1186/1759-4499-2-1   \n",
       "183  https://doi.org/10.1371/journal.pone.0083449   \n",
       "194   https://doi.org/10.1186/1471-2105-15-S11-S5   \n",
       "\n",
       "                                                  source  \\\n",
       "24                                                   NaN   \n",
       "36                                                   NaN   \n",
       "40                                       RECOMMENDATIONS   \n",
       "58                         4.4. Model Analysis & Remarks   \n",
       "68                                                   NaN   \n",
       "123                               2.6. Analysis Strategy   \n",
       "125                          Sequence Comparison Methods   \n",
       "129                                        Recombination   \n",
       "130                       Data retrieval and integration   \n",
       "133        Evolutionary conservation analysis of lncRNAs   \n",
       "148                                        Pocket-Finder   \n",
       "157                                      UALCAN analysis   \n",
       "160                        Detection of genetic mutation   \n",
       "181  Towards the full automation of scientific discovery   \n",
       "183                                 Statistical Analysis   \n",
       "194                                          tab_caption   \n",
       "\n",
       "                                                                                                                                                                                                                                                                                                                                                                            text  \\\n",
       "24   ROI region of interest, STD standard deviation, w/o ROI detection landmark prediction without ROI detection, Mask R-CNN end-to-end model for ROI detection and landmark prediction with Mask R-CNN, w/ ROI detection (segmentation/fixed size or segmentation/variable size or regression /variable size) Landmark prediction with ROI detection of fixed or variable size.   \n",
       "36                                                                                                                                                                                                                                                                                                                 pyProGA - A PyMOL plugin for protein residue network analysis   \n",
       "40                                                                                                                                           Editors of journals that focus on meta‐analyses could also consider making statcheck a standard part of their peer review process (following the journals Psychological Science and the Journal of Experimental Social Psychology).   \n",
       "58                                                                           Other solution can be found using other models, such as Dynamic Neural Networks [32], that achieved a 10% margin of error for irrigation scheduling based on soil moisture sensors, and [33], that schedule irrigation based on soil moisture predictions using XGBoost, with a 13% margin of error   \n",
       "68                                                                                                                                                                                                                                                                                                                                                                     R scripts   \n",
       "123                                                                                                                                                                                                                                                                                                                      R: A language and environment for statistical computing   \n",
       "125                                                                                                                                                                                                                                            This is most often done using heuristics found in utilities such as CLUSTAL W [18], MUSCLE [19], T-COFFEE [20], and ProbCons [21]   \n",
       "129                                                                                                                                                                                                                                                                     The six methods are: RDP [47], GENECONV [48], Bootscan [49], MaxChi [50], Chimaera [51], and SiScan [52]   \n",
       "130                                                                                                                                                                                                                     Data import from flat files is predominantly based on BioJava [24] which is used to parse multi-FASTA, EMBL [25], Genbank [12], and UniProt [11] formats   \n",
       "133                                                                                                                                                                                                 The PhastCons program uses genome alignments across 30 vertebrate species (30-way) to identify conserved genomic regions based upon a phylogenetic hidden Markov model [97].   \n",
       "148                                                                                                                                              The major difference between Pocket-Finder and Q-SiteFinder is that in clustering in Pocket-Finder the sites produced by the Pocket-Finder are ranked according to the number of probes in the site rather than by probe energy   \n",
       "157                                       UALCAN (http://ualcan.path.uab.edu) 12 is an effective online analysis tool and cancer database that enables the user to analyze data according to cancer stage, tumor grade, and patient race and weight, as well as the relative expression of genes of interest and clinicopathological characteristics in tumor and normal samples   \n",
       "160                                                           Because in silico prediction tools may give different result, a good rule is to consider a prediction only when Polyphen2 (http//genetics.bwh.harvard.edu/pph2/) SIFT (http//sift.jcvi.org/), and the CONsensus DELeteriousness score of missense mutations (Condel) disease prediction tools give the same result   \n",
       "181                                                                                                                                                                                                                                     AM was an Automated Mathematician, a heuristic artificial intelligence program that modelled mathematical discovery in the mid 1970s [5]   \n",
       "183                                                                                                                                                                                                                                                                                                                      R: A language and environment for statistical computing   \n",
       "194                                                                                                                                                                                                                                                                                                                        Parameter configurations for XCMS, MZmine, and MAVEN.   \n",
       "\n",
       "         software   intent    label category pred_label  \n",
       "24     Mask R-CNN      NaN  mention     true    mention  \n",
       "36          PyMOL      NaN  mention     true    mention  \n",
       "40      statcheck  mention  mention     true    mention  \n",
       "58        XGBoost  mention  mention     true    mention  \n",
       "68              R      NaN  mention     true    mention  \n",
       "123             R      NaN  mention     true    mention  \n",
       "125      T-COFFEE  mention  mention     true    mention  \n",
       "129      GENECONV      NaN  mention     true    mention  \n",
       "130       BioJava  mention  mention     true    mention  \n",
       "133     PhastCons  mention  mention     true    mention  \n",
       "148  Q-SiteFinder  mention  mention     true    mention  \n",
       "157        UALCAN  mention  mention     true    mention  \n",
       "160     Polyphen2  mention  mention     true    mention  \n",
       "181            AM  mention  mention     true    mention  \n",
       "183             R      NaN  mention     true    mention  \n",
       "194        MZmine      NaN  mention     true    mention  "
      ]
     },
     "execution_count": 35,
     "metadata": {},
     "output_type": "execute_result"
    }
   ],
   "source": [
    "czi_val_df[(czi_val_df['label'] == 'mention') & (czi_val_df['pred_label'] == 'mention')]"
   ]
  },
  {
   "cell_type": "code",
   "execution_count": 36,
   "metadata": {},
   "outputs": [
    {
     "data": {
      "application/vnd.plotly.v1+json": {
       "config": {
        "plotlyServerURL": "https://plot.ly"
       },
       "data": [
        {
         "alignmentgroup": "True",
         "hovertemplate": "category=pred_gpt3.5<br>label_descriptive=%{x}<br>text=%{y}<extra></extra>",
         "legendgroup": "pred_gpt3.5",
         "marker": {
          "color": "#636efa",
          "pattern": {
           "shape": ""
          }
         },
         "name": "pred_gpt3.5",
         "offsetgroup": "pred_gpt3.5",
         "orientation": "v",
         "showlegend": true,
         "textposition": "auto",
         "type": "bar",
         "x": [
          "creation",
          "mention",
          "none",
          "usage"
         ],
         "xaxis": "x",
         "y": [
          108,
          102,
          198,
          430
         ],
         "yaxis": "y"
        },
        {
         "alignmentgroup": "True",
         "hovertemplate": "category=true<br>label_descriptive=%{x}<br>text=%{y}<extra></extra>",
         "legendgroup": "true",
         "marker": {
          "color": "#EF553B",
          "pattern": {
           "shape": ""
          }
         },
         "name": "true",
         "offsetgroup": "true",
         "orientation": "v",
         "showlegend": true,
         "textposition": "auto",
         "type": "bar",
         "x": [
          "creation",
          "mention",
          "none",
          "usage"
         ],
         "xaxis": "x",
         "y": [
          94,
          95,
          200,
          449
         ],
         "yaxis": "y"
        }
       ],
       "layout": {
        "barmode": "group",
        "height": 500,
        "legend": {
         "title": {
          "text": "category"
         },
         "tracegroupgap": 0
        },
        "margin": {
         "t": 60
        },
        "template": {
         "data": {
          "bar": [
           {
            "error_x": {
             "color": "#2a3f5f"
            },
            "error_y": {
             "color": "#2a3f5f"
            },
            "marker": {
             "line": {
              "color": "#E5ECF6",
              "width": 0.5
             },
             "pattern": {
              "fillmode": "overlay",
              "size": 10,
              "solidity": 0.2
             }
            },
            "type": "bar"
           }
          ],
          "barpolar": [
           {
            "marker": {
             "line": {
              "color": "#E5ECF6",
              "width": 0.5
             },
             "pattern": {
              "fillmode": "overlay",
              "size": 10,
              "solidity": 0.2
             }
            },
            "type": "barpolar"
           }
          ],
          "carpet": [
           {
            "aaxis": {
             "endlinecolor": "#2a3f5f",
             "gridcolor": "white",
             "linecolor": "white",
             "minorgridcolor": "white",
             "startlinecolor": "#2a3f5f"
            },
            "baxis": {
             "endlinecolor": "#2a3f5f",
             "gridcolor": "white",
             "linecolor": "white",
             "minorgridcolor": "white",
             "startlinecolor": "#2a3f5f"
            },
            "type": "carpet"
           }
          ],
          "choropleth": [
           {
            "colorbar": {
             "outlinewidth": 0,
             "ticks": ""
            },
            "type": "choropleth"
           }
          ],
          "contour": [
           {
            "colorbar": {
             "outlinewidth": 0,
             "ticks": ""
            },
            "colorscale": [
             [
              0,
              "#0d0887"
             ],
             [
              0.1111111111111111,
              "#46039f"
             ],
             [
              0.2222222222222222,
              "#7201a8"
             ],
             [
              0.3333333333333333,
              "#9c179e"
             ],
             [
              0.4444444444444444,
              "#bd3786"
             ],
             [
              0.5555555555555556,
              "#d8576b"
             ],
             [
              0.6666666666666666,
              "#ed7953"
             ],
             [
              0.7777777777777778,
              "#fb9f3a"
             ],
             [
              0.8888888888888888,
              "#fdca26"
             ],
             [
              1,
              "#f0f921"
             ]
            ],
            "type": "contour"
           }
          ],
          "contourcarpet": [
           {
            "colorbar": {
             "outlinewidth": 0,
             "ticks": ""
            },
            "type": "contourcarpet"
           }
          ],
          "heatmap": [
           {
            "colorbar": {
             "outlinewidth": 0,
             "ticks": ""
            },
            "colorscale": [
             [
              0,
              "#0d0887"
             ],
             [
              0.1111111111111111,
              "#46039f"
             ],
             [
              0.2222222222222222,
              "#7201a8"
             ],
             [
              0.3333333333333333,
              "#9c179e"
             ],
             [
              0.4444444444444444,
              "#bd3786"
             ],
             [
              0.5555555555555556,
              "#d8576b"
             ],
             [
              0.6666666666666666,
              "#ed7953"
             ],
             [
              0.7777777777777778,
              "#fb9f3a"
             ],
             [
              0.8888888888888888,
              "#fdca26"
             ],
             [
              1,
              "#f0f921"
             ]
            ],
            "type": "heatmap"
           }
          ],
          "heatmapgl": [
           {
            "colorbar": {
             "outlinewidth": 0,
             "ticks": ""
            },
            "colorscale": [
             [
              0,
              "#0d0887"
             ],
             [
              0.1111111111111111,
              "#46039f"
             ],
             [
              0.2222222222222222,
              "#7201a8"
             ],
             [
              0.3333333333333333,
              "#9c179e"
             ],
             [
              0.4444444444444444,
              "#bd3786"
             ],
             [
              0.5555555555555556,
              "#d8576b"
             ],
             [
              0.6666666666666666,
              "#ed7953"
             ],
             [
              0.7777777777777778,
              "#fb9f3a"
             ],
             [
              0.8888888888888888,
              "#fdca26"
             ],
             [
              1,
              "#f0f921"
             ]
            ],
            "type": "heatmapgl"
           }
          ],
          "histogram": [
           {
            "marker": {
             "pattern": {
              "fillmode": "overlay",
              "size": 10,
              "solidity": 0.2
             }
            },
            "type": "histogram"
           }
          ],
          "histogram2d": [
           {
            "colorbar": {
             "outlinewidth": 0,
             "ticks": ""
            },
            "colorscale": [
             [
              0,
              "#0d0887"
             ],
             [
              0.1111111111111111,
              "#46039f"
             ],
             [
              0.2222222222222222,
              "#7201a8"
             ],
             [
              0.3333333333333333,
              "#9c179e"
             ],
             [
              0.4444444444444444,
              "#bd3786"
             ],
             [
              0.5555555555555556,
              "#d8576b"
             ],
             [
              0.6666666666666666,
              "#ed7953"
             ],
             [
              0.7777777777777778,
              "#fb9f3a"
             ],
             [
              0.8888888888888888,
              "#fdca26"
             ],
             [
              1,
              "#f0f921"
             ]
            ],
            "type": "histogram2d"
           }
          ],
          "histogram2dcontour": [
           {
            "colorbar": {
             "outlinewidth": 0,
             "ticks": ""
            },
            "colorscale": [
             [
              0,
              "#0d0887"
             ],
             [
              0.1111111111111111,
              "#46039f"
             ],
             [
              0.2222222222222222,
              "#7201a8"
             ],
             [
              0.3333333333333333,
              "#9c179e"
             ],
             [
              0.4444444444444444,
              "#bd3786"
             ],
             [
              0.5555555555555556,
              "#d8576b"
             ],
             [
              0.6666666666666666,
              "#ed7953"
             ],
             [
              0.7777777777777778,
              "#fb9f3a"
             ],
             [
              0.8888888888888888,
              "#fdca26"
             ],
             [
              1,
              "#f0f921"
             ]
            ],
            "type": "histogram2dcontour"
           }
          ],
          "mesh3d": [
           {
            "colorbar": {
             "outlinewidth": 0,
             "ticks": ""
            },
            "type": "mesh3d"
           }
          ],
          "parcoords": [
           {
            "line": {
             "colorbar": {
              "outlinewidth": 0,
              "ticks": ""
             }
            },
            "type": "parcoords"
           }
          ],
          "pie": [
           {
            "automargin": true,
            "type": "pie"
           }
          ],
          "scatter": [
           {
            "fillpattern": {
             "fillmode": "overlay",
             "size": 10,
             "solidity": 0.2
            },
            "type": "scatter"
           }
          ],
          "scatter3d": [
           {
            "line": {
             "colorbar": {
              "outlinewidth": 0,
              "ticks": ""
             }
            },
            "marker": {
             "colorbar": {
              "outlinewidth": 0,
              "ticks": ""
             }
            },
            "type": "scatter3d"
           }
          ],
          "scattercarpet": [
           {
            "marker": {
             "colorbar": {
              "outlinewidth": 0,
              "ticks": ""
             }
            },
            "type": "scattercarpet"
           }
          ],
          "scattergeo": [
           {
            "marker": {
             "colorbar": {
              "outlinewidth": 0,
              "ticks": ""
             }
            },
            "type": "scattergeo"
           }
          ],
          "scattergl": [
           {
            "marker": {
             "colorbar": {
              "outlinewidth": 0,
              "ticks": ""
             }
            },
            "type": "scattergl"
           }
          ],
          "scattermapbox": [
           {
            "marker": {
             "colorbar": {
              "outlinewidth": 0,
              "ticks": ""
             }
            },
            "type": "scattermapbox"
           }
          ],
          "scatterpolar": [
           {
            "marker": {
             "colorbar": {
              "outlinewidth": 0,
              "ticks": ""
             }
            },
            "type": "scatterpolar"
           }
          ],
          "scatterpolargl": [
           {
            "marker": {
             "colorbar": {
              "outlinewidth": 0,
              "ticks": ""
             }
            },
            "type": "scatterpolargl"
           }
          ],
          "scatterternary": [
           {
            "marker": {
             "colorbar": {
              "outlinewidth": 0,
              "ticks": ""
             }
            },
            "type": "scatterternary"
           }
          ],
          "surface": [
           {
            "colorbar": {
             "outlinewidth": 0,
             "ticks": ""
            },
            "colorscale": [
             [
              0,
              "#0d0887"
             ],
             [
              0.1111111111111111,
              "#46039f"
             ],
             [
              0.2222222222222222,
              "#7201a8"
             ],
             [
              0.3333333333333333,
              "#9c179e"
             ],
             [
              0.4444444444444444,
              "#bd3786"
             ],
             [
              0.5555555555555556,
              "#d8576b"
             ],
             [
              0.6666666666666666,
              "#ed7953"
             ],
             [
              0.7777777777777778,
              "#fb9f3a"
             ],
             [
              0.8888888888888888,
              "#fdca26"
             ],
             [
              1,
              "#f0f921"
             ]
            ],
            "type": "surface"
           }
          ],
          "table": [
           {
            "cells": {
             "fill": {
              "color": "#EBF0F8"
             },
             "line": {
              "color": "white"
             }
            },
            "header": {
             "fill": {
              "color": "#C8D4E3"
             },
             "line": {
              "color": "white"
             }
            },
            "type": "table"
           }
          ]
         },
         "layout": {
          "annotationdefaults": {
           "arrowcolor": "#2a3f5f",
           "arrowhead": 0,
           "arrowwidth": 1
          },
          "autotypenumbers": "strict",
          "coloraxis": {
           "colorbar": {
            "outlinewidth": 0,
            "ticks": ""
           }
          },
          "colorscale": {
           "diverging": [
            [
             0,
             "#8e0152"
            ],
            [
             0.1,
             "#c51b7d"
            ],
            [
             0.2,
             "#de77ae"
            ],
            [
             0.3,
             "#f1b6da"
            ],
            [
             0.4,
             "#fde0ef"
            ],
            [
             0.5,
             "#f7f7f7"
            ],
            [
             0.6,
             "#e6f5d0"
            ],
            [
             0.7,
             "#b8e186"
            ],
            [
             0.8,
             "#7fbc41"
            ],
            [
             0.9,
             "#4d9221"
            ],
            [
             1,
             "#276419"
            ]
           ],
           "sequential": [
            [
             0,
             "#0d0887"
            ],
            [
             0.1111111111111111,
             "#46039f"
            ],
            [
             0.2222222222222222,
             "#7201a8"
            ],
            [
             0.3333333333333333,
             "#9c179e"
            ],
            [
             0.4444444444444444,
             "#bd3786"
            ],
            [
             0.5555555555555556,
             "#d8576b"
            ],
            [
             0.6666666666666666,
             "#ed7953"
            ],
            [
             0.7777777777777778,
             "#fb9f3a"
            ],
            [
             0.8888888888888888,
             "#fdca26"
            ],
            [
             1,
             "#f0f921"
            ]
           ],
           "sequentialminus": [
            [
             0,
             "#0d0887"
            ],
            [
             0.1111111111111111,
             "#46039f"
            ],
            [
             0.2222222222222222,
             "#7201a8"
            ],
            [
             0.3333333333333333,
             "#9c179e"
            ],
            [
             0.4444444444444444,
             "#bd3786"
            ],
            [
             0.5555555555555556,
             "#d8576b"
            ],
            [
             0.6666666666666666,
             "#ed7953"
            ],
            [
             0.7777777777777778,
             "#fb9f3a"
            ],
            [
             0.8888888888888888,
             "#fdca26"
            ],
            [
             1,
             "#f0f921"
            ]
           ]
          },
          "colorway": [
           "#636efa",
           "#EF553B",
           "#00cc96",
           "#ab63fa",
           "#FFA15A",
           "#19d3f3",
           "#FF6692",
           "#B6E880",
           "#FF97FF",
           "#FECB52"
          ],
          "font": {
           "color": "#2a3f5f"
          },
          "geo": {
           "bgcolor": "white",
           "lakecolor": "white",
           "landcolor": "#E5ECF6",
           "showlakes": true,
           "showland": true,
           "subunitcolor": "white"
          },
          "hoverlabel": {
           "align": "left"
          },
          "hovermode": "closest",
          "mapbox": {
           "style": "light"
          },
          "paper_bgcolor": "white",
          "plot_bgcolor": "#E5ECF6",
          "polar": {
           "angularaxis": {
            "gridcolor": "white",
            "linecolor": "white",
            "ticks": ""
           },
           "bgcolor": "#E5ECF6",
           "radialaxis": {
            "gridcolor": "white",
            "linecolor": "white",
            "ticks": ""
           }
          },
          "scene": {
           "xaxis": {
            "backgroundcolor": "#E5ECF6",
            "gridcolor": "white",
            "gridwidth": 2,
            "linecolor": "white",
            "showbackground": true,
            "ticks": "",
            "zerolinecolor": "white"
           },
           "yaxis": {
            "backgroundcolor": "#E5ECF6",
            "gridcolor": "white",
            "gridwidth": 2,
            "linecolor": "white",
            "showbackground": true,
            "ticks": "",
            "zerolinecolor": "white"
           },
           "zaxis": {
            "backgroundcolor": "#E5ECF6",
            "gridcolor": "white",
            "gridwidth": 2,
            "linecolor": "white",
            "showbackground": true,
            "ticks": "",
            "zerolinecolor": "white"
           }
          },
          "shapedefaults": {
           "line": {
            "color": "#2a3f5f"
           }
          },
          "ternary": {
           "aaxis": {
            "gridcolor": "white",
            "linecolor": "white",
            "ticks": ""
           },
           "baxis": {
            "gridcolor": "white",
            "linecolor": "white",
            "ticks": ""
           },
           "bgcolor": "#E5ECF6",
           "caxis": {
            "gridcolor": "white",
            "linecolor": "white",
            "ticks": ""
           }
          },
          "title": {
           "x": 0.05
          },
          "xaxis": {
           "automargin": true,
           "gridcolor": "white",
           "linecolor": "white",
           "ticks": "",
           "title": {
            "standoff": 15
           },
           "zerolinecolor": "white",
           "zerolinewidth": 2
          },
          "yaxis": {
           "automargin": true,
           "gridcolor": "white",
           "linecolor": "white",
           "ticks": "",
           "title": {
            "standoff": 15
           },
           "zerolinecolor": "white",
           "zerolinewidth": 2
          }
         }
        },
        "title": {
         "text": "Prediction Distribution in Test Split Dataset"
        },
        "width": 800,
        "xaxis": {
         "anchor": "y",
         "autorange": true,
         "domain": [
          0,
          1
         ],
         "range": [
          -0.5,
          3.5
         ],
         "title": {
          "text": "label_descriptive"
         },
         "type": "category"
        },
        "yaxis": {
         "anchor": "x",
         "autorange": true,
         "domain": [
          0,
          1
         ],
         "range": [
          0,
          472.63157894736844
         ],
         "title": {
          "text": "text"
         },
         "type": "linear"
        }
       }
      },
      "image/png": "[encoded data removed]",
      "text/html": [
       "<div>                            <div id=\"c3028090-e2ac-44d9-a250-93d2d875dd0a\" class=\"plotly-graph-div\" style=\"height:500px; width:800px;\"></div>            <script type=\"text/javascript\">                require([\"plotly\"], function(Plotly) {                    window.PLOTLYENV=window.PLOTLYENV || {};                                    if (document.getElementById(\"c3028090-e2ac-44d9-a250-93d2d875dd0a\")) {                    Plotly.newPlot(                        \"c3028090-e2ac-44d9-a250-93d2d875dd0a\",                        [{\"alignmentgroup\":\"True\",\"hovertemplate\":\"category=pred_gpt3.5\\u003cbr\\u003elabel_descriptive=%{x}\\u003cbr\\u003etext=%{y}\\u003cextra\\u003e\\u003c\\u002fextra\\u003e\",\"legendgroup\":\"pred_gpt3.5\",\"marker\":{\"color\":\"#636efa\",\"pattern\":{\"shape\":\"\"}},\"name\":\"pred_gpt3.5\",\"offsetgroup\":\"pred_gpt3.5\",\"orientation\":\"v\",\"showlegend\":true,\"textposition\":\"auto\",\"x\":[\"creation\",\"mention\",\"none\",\"usage\"],\"xaxis\":\"x\",\"y\":[108,102,198,430],\"yaxis\":\"y\",\"type\":\"bar\"},{\"alignmentgroup\":\"True\",\"hovertemplate\":\"category=true\\u003cbr\\u003elabel_descriptive=%{x}\\u003cbr\\u003etext=%{y}\\u003cextra\\u003e\\u003c\\u002fextra\\u003e\",\"legendgroup\":\"true\",\"marker\":{\"color\":\"#EF553B\",\"pattern\":{\"shape\":\"\"}},\"name\":\"true\",\"offsetgroup\":\"true\",\"orientation\":\"v\",\"showlegend\":true,\"textposition\":\"auto\",\"x\":[\"creation\",\"mention\",\"none\",\"usage\"],\"xaxis\":\"x\",\"y\":[94,95,200,449],\"yaxis\":\"y\",\"type\":\"bar\"}],                        {\"template\":{\"data\":{\"histogram2dcontour\":[{\"type\":\"histogram2dcontour\",\"colorbar\":{\"outlinewidth\":0,\"ticks\":\"\"},\"colorscale\":[[0.0,\"#0d0887\"],[0.1111111111111111,\"#46039f\"],[0.2222222222222222,\"#7201a8\"],[0.3333333333333333,\"#9c179e\"],[0.4444444444444444,\"#bd3786\"],[0.5555555555555556,\"#d8576b\"],[0.6666666666666666,\"#ed7953\"],[0.7777777777777778,\"#fb9f3a\"],[0.8888888888888888,\"#fdca26\"],[1.0,\"#f0f921\"]]}],\"choropleth\":[{\"type\":\"choropleth\",\"colorbar\":{\"outlinewidth\":0,\"ticks\":\"\"}}],\"histogram2d\":[{\"type\":\"histogram2d\",\"colorbar\":{\"outlinewidth\":0,\"ticks\":\"\"},\"colorscale\":[[0.0,\"#0d0887\"],[0.1111111111111111,\"#46039f\"],[0.2222222222222222,\"#7201a8\"],[0.3333333333333333,\"#9c179e\"],[0.4444444444444444,\"#bd3786\"],[0.5555555555555556,\"#d8576b\"],[0.6666666666666666,\"#ed7953\"],[0.7777777777777778,\"#fb9f3a\"],[0.8888888888888888,\"#fdca26\"],[1.0,\"#f0f921\"]]}],\"heatmap\":[{\"type\":\"heatmap\",\"colorbar\":{\"outlinewidth\":0,\"ticks\":\"\"},\"colorscale\":[[0.0,\"#0d0887\"],[0.1111111111111111,\"#46039f\"],[0.2222222222222222,\"#7201a8\"],[0.3333333333333333,\"#9c179e\"],[0.4444444444444444,\"#bd3786\"],[0.5555555555555556,\"#d8576b\"],[0.6666666666666666,\"#ed7953\"],[0.7777777777777778,\"#fb9f3a\"],[0.8888888888888888,\"#fdca26\"],[1.0,\"#f0f921\"]]}],\"heatmapgl\":[{\"type\":\"heatmapgl\",\"colorbar\":{\"outlinewidth\":0,\"ticks\":\"\"},\"colorscale\":[[0.0,\"#0d0887\"],[0.1111111111111111,\"#46039f\"],[0.2222222222222222,\"#7201a8\"],[0.3333333333333333,\"#9c179e\"],[0.4444444444444444,\"#bd3786\"],[0.5555555555555556,\"#d8576b\"],[0.6666666666666666,\"#ed7953\"],[0.7777777777777778,\"#fb9f3a\"],[0.8888888888888888,\"#fdca26\"],[1.0,\"#f0f921\"]]}],\"contourcarpet\":[{\"type\":\"contourcarpet\",\"colorbar\":{\"outlinewidth\":0,\"ticks\":\"\"}}],\"contour\":[{\"type\":\"contour\",\"colorbar\":{\"outlinewidth\":0,\"ticks\":\"\"},\"colorscale\":[[0.0,\"#0d0887\"],[0.1111111111111111,\"#46039f\"],[0.2222222222222222,\"#7201a8\"],[0.3333333333333333,\"#9c179e\"],[0.4444444444444444,\"#bd3786\"],[0.5555555555555556,\"#d8576b\"],[0.6666666666666666,\"#ed7953\"],[0.7777777777777778,\"#fb9f3a\"],[0.8888888888888888,\"#fdca26\"],[1.0,\"#f0f921\"]]}],\"surface\":[{\"type\":\"surface\",\"colorbar\":{\"outlinewidth\":0,\"ticks\":\"\"},\"colorscale\":[[0.0,\"#0d0887\"],[0.1111111111111111,\"#46039f\"],[0.2222222222222222,\"#7201a8\"],[0.3333333333333333,\"#9c179e\"],[0.4444444444444444,\"#bd3786\"],[0.5555555555555556,\"#d8576b\"],[0.6666666666666666,\"#ed7953\"],[0.7777777777777778,\"#fb9f3a\"],[0.8888888888888888,\"#fdca26\"],[1.0,\"#f0f921\"]]}],\"mesh3d\":[{\"type\":\"mesh3d\",\"colorbar\":{\"outlinewidth\":0,\"ticks\":\"\"}}],\"scatter\":[{\"fillpattern\":{\"fillmode\":\"overlay\",\"size\":10,\"solidity\":0.2},\"type\":\"scatter\"}],\"parcoords\":[{\"type\":\"parcoords\",\"line\":{\"colorbar\":{\"outlinewidth\":0,\"ticks\":\"\"}}}],\"scatterpolargl\":[{\"type\":\"scatterpolargl\",\"marker\":{\"colorbar\":{\"outlinewidth\":0,\"ticks\":\"\"}}}],\"bar\":[{\"error_x\":{\"color\":\"#2a3f5f\"},\"error_y\":{\"color\":\"#2a3f5f\"},\"marker\":{\"line\":{\"color\":\"#E5ECF6\",\"width\":0.5},\"pattern\":{\"fillmode\":\"overlay\",\"size\":10,\"solidity\":0.2}},\"type\":\"bar\"}],\"scattergeo\":[{\"type\":\"scattergeo\",\"marker\":{\"colorbar\":{\"outlinewidth\":0,\"ticks\":\"\"}}}],\"scatterpolar\":[{\"type\":\"scatterpolar\",\"marker\":{\"colorbar\":{\"outlinewidth\":0,\"ticks\":\"\"}}}],\"histogram\":[{\"marker\":{\"pattern\":{\"fillmode\":\"overlay\",\"size\":10,\"solidity\":0.2}},\"type\":\"histogram\"}],\"scattergl\":[{\"type\":\"scattergl\",\"marker\":{\"colorbar\":{\"outlinewidth\":0,\"ticks\":\"\"}}}],\"scatter3d\":[{\"type\":\"scatter3d\",\"line\":{\"colorbar\":{\"outlinewidth\":0,\"ticks\":\"\"}},\"marker\":{\"colorbar\":{\"outlinewidth\":0,\"ticks\":\"\"}}}],\"scattermapbox\":[{\"type\":\"scattermapbox\",\"marker\":{\"colorbar\":{\"outlinewidth\":0,\"ticks\":\"\"}}}],\"scatterternary\":[{\"type\":\"scatterternary\",\"marker\":{\"colorbar\":{\"outlinewidth\":0,\"ticks\":\"\"}}}],\"scattercarpet\":[{\"type\":\"scattercarpet\",\"marker\":{\"colorbar\":{\"outlinewidth\":0,\"ticks\":\"\"}}}],\"carpet\":[{\"aaxis\":{\"endlinecolor\":\"#2a3f5f\",\"gridcolor\":\"white\",\"linecolor\":\"white\",\"minorgridcolor\":\"white\",\"startlinecolor\":\"#2a3f5f\"},\"baxis\":{\"endlinecolor\":\"#2a3f5f\",\"gridcolor\":\"white\",\"linecolor\":\"white\",\"minorgridcolor\":\"white\",\"startlinecolor\":\"#2a3f5f\"},\"type\":\"carpet\"}],\"table\":[{\"cells\":{\"fill\":{\"color\":\"#EBF0F8\"},\"line\":{\"color\":\"white\"}},\"header\":{\"fill\":{\"color\":\"#C8D4E3\"},\"line\":{\"color\":\"white\"}},\"type\":\"table\"}],\"barpolar\":[{\"marker\":{\"line\":{\"color\":\"#E5ECF6\",\"width\":0.5},\"pattern\":{\"fillmode\":\"overlay\",\"size\":10,\"solidity\":0.2}},\"type\":\"barpolar\"}],\"pie\":[{\"automargin\":true,\"type\":\"pie\"}]},\"layout\":{\"autotypenumbers\":\"strict\",\"colorway\":[\"#636efa\",\"#EF553B\",\"#00cc96\",\"#ab63fa\",\"#FFA15A\",\"#19d3f3\",\"#FF6692\",\"#B6E880\",\"#FF97FF\",\"#FECB52\"],\"font\":{\"color\":\"#2a3f5f\"},\"hovermode\":\"closest\",\"hoverlabel\":{\"align\":\"left\"},\"paper_bgcolor\":\"white\",\"plot_bgcolor\":\"#E5ECF6\",\"polar\":{\"bgcolor\":\"#E5ECF6\",\"angularaxis\":{\"gridcolor\":\"white\",\"linecolor\":\"white\",\"ticks\":\"\"},\"radialaxis\":{\"gridcolor\":\"white\",\"linecolor\":\"white\",\"ticks\":\"\"}},\"ternary\":{\"bgcolor\":\"#E5ECF6\",\"aaxis\":{\"gridcolor\":\"white\",\"linecolor\":\"white\",\"ticks\":\"\"},\"baxis\":{\"gridcolor\":\"white\",\"linecolor\":\"white\",\"ticks\":\"\"},\"caxis\":{\"gridcolor\":\"white\",\"linecolor\":\"white\",\"ticks\":\"\"}},\"coloraxis\":{\"colorbar\":{\"outlinewidth\":0,\"ticks\":\"\"}},\"colorscale\":{\"sequential\":[[0.0,\"#0d0887\"],[0.1111111111111111,\"#46039f\"],[0.2222222222222222,\"#7201a8\"],[0.3333333333333333,\"#9c179e\"],[0.4444444444444444,\"#bd3786\"],[0.5555555555555556,\"#d8576b\"],[0.6666666666666666,\"#ed7953\"],[0.7777777777777778,\"#fb9f3a\"],[0.8888888888888888,\"#fdca26\"],[1.0,\"#f0f921\"]],\"sequentialminus\":[[0.0,\"#0d0887\"],[0.1111111111111111,\"#46039f\"],[0.2222222222222222,\"#7201a8\"],[0.3333333333333333,\"#9c179e\"],[0.4444444444444444,\"#bd3786\"],[0.5555555555555556,\"#d8576b\"],[0.6666666666666666,\"#ed7953\"],[0.7777777777777778,\"#fb9f3a\"],[0.8888888888888888,\"#fdca26\"],[1.0,\"#f0f921\"]],\"diverging\":[[0,\"#8e0152\"],[0.1,\"#c51b7d\"],[0.2,\"#de77ae\"],[0.3,\"#f1b6da\"],[0.4,\"#fde0ef\"],[0.5,\"#f7f7f7\"],[0.6,\"#e6f5d0\"],[0.7,\"#b8e186\"],[0.8,\"#7fbc41\"],[0.9,\"#4d9221\"],[1,\"#276419\"]]},\"xaxis\":{\"gridcolor\":\"white\",\"linecolor\":\"white\",\"ticks\":\"\",\"title\":{\"standoff\":15},\"zerolinecolor\":\"white\",\"automargin\":true,\"zerolinewidth\":2},\"yaxis\":{\"gridcolor\":\"white\",\"linecolor\":\"white\",\"ticks\":\"\",\"title\":{\"standoff\":15},\"zerolinecolor\":\"white\",\"automargin\":true,\"zerolinewidth\":2},\"scene\":{\"xaxis\":{\"backgroundcolor\":\"#E5ECF6\",\"gridcolor\":\"white\",\"linecolor\":\"white\",\"showbackground\":true,\"ticks\":\"\",\"zerolinecolor\":\"white\",\"gridwidth\":2},\"yaxis\":{\"backgroundcolor\":\"#E5ECF6\",\"gridcolor\":\"white\",\"linecolor\":\"white\",\"showbackground\":true,\"ticks\":\"\",\"zerolinecolor\":\"white\",\"gridwidth\":2},\"zaxis\":{\"backgroundcolor\":\"#E5ECF6\",\"gridcolor\":\"white\",\"linecolor\":\"white\",\"showbackground\":true,\"ticks\":\"\",\"zerolinecolor\":\"white\",\"gridwidth\":2}},\"shapedefaults\":{\"line\":{\"color\":\"#2a3f5f\"}},\"annotationdefaults\":{\"arrowcolor\":\"#2a3f5f\",\"arrowhead\":0,\"arrowwidth\":1},\"geo\":{\"bgcolor\":\"white\",\"landcolor\":\"#E5ECF6\",\"subunitcolor\":\"white\",\"showland\":true,\"showlakes\":true,\"lakecolor\":\"white\"},\"title\":{\"x\":0.05},\"mapbox\":{\"style\":\"light\"}}},\"xaxis\":{\"anchor\":\"y\",\"domain\":[0.0,1.0],\"title\":{\"text\":\"label_descriptive\"}},\"yaxis\":{\"anchor\":\"x\",\"domain\":[0.0,1.0],\"title\":{\"text\":\"text\"}},\"legend\":{\"title\":{\"text\":\"category\"},\"tracegroupgap\":0},\"margin\":{\"t\":60},\"barmode\":\"group\",\"width\":800,\"height\":500,\"title\":{\"text\":\"Prediction Distribution in Test Split Dataset\"}},                        {\"responsive\": true}                    ).then(function(){\n",
       "                            \n",
       "var gd = document.getElementById('c3028090-e2ac-44d9-a250-93d2d875dd0a');\n",
       "var x = new MutationObserver(function (mutations, observer) {{\n",
       "        var display = window.getComputedStyle(gd).display;\n",
       "        if (!display || display === 'none') {{\n",
       "            console.log([gd, 'removed!']);\n",
       "            Plotly.purge(gd);\n",
       "            observer.disconnect();\n",
       "        }}\n",
       "}});\n",
       "\n",
       "// Listen for the removal of the full notebook cells\n",
       "var notebookContainer = gd.closest('#notebook-container');\n",
       "if (notebookContainer) {{\n",
       "    x.observe(notebookContainer, {childList: true});\n",
       "}}\n",
       "\n",
       "// Listen for the clearing of the current output cell\n",
       "var outputEl = gd.closest('.output');\n",
       "if (outputEl) {{\n",
       "    x.observe(outputEl, {childList: true});\n",
       "}}\n",
       "\n",
       "                        })                };                });            </script>        </div>"
      ]
     },
     "metadata": {},
     "output_type": "display_data"
    }
   ],
   "source": [
    "X_test_df['category'] = 'true'\n",
    "X_test_df['pred_label'] = X_test_df['text'].apply(lambda x: get_pred_label(x, test_completed_sentences, y_pred_completed))\n",
    "X_test_df_pred = X_test_df.copy()\n",
    "X_test_df_pred['category'] = 'pred_gpt3.5'\n",
    "X_test_df_pred['label_descriptive'] = X_test_df_pred['pred_label']\n",
    "\n",
    "X_test_df_all = pd.concat([X_test_df_pred, X_test_df])\n",
    "\n",
    "labels_grouped = X_test_df_all.groupby(['label_descriptive', 'category']).count().reset_index()\n",
    "fig = px.bar(labels_grouped, x = 'label_descriptive', y = 'text', color = 'category', barmode = 'group')\n",
    "fig.update_layout(width=800,height=500, title = 'Prediction Distribution in Test Split Dataset')"
   ]
  },
  {
   "cell_type": "code",
   "execution_count": null,
   "metadata": {},
   "outputs": [],
   "source": []
  }
 ],
 "metadata": {
  "application/vnd.databricks.v1+notebook": {
   "dashboards": [],
   "language": "python",
   "notebookMetadata": {
    "pythonIndentUnit": 4
   },
   "notebookName": "gpt3.5_finetuned_sentence",
   "widgets": {}
  },
  "kernelspec": {
   "display_name": "Python 3 (ipykernel)",
   "language": "python",
   "name": "python3"
  },
  "language_info": {
   "codemirror_mode": {
    "name": "ipython",
    "version": 3
   },
   "file_extension": ".py",
   "mimetype": "text/x-python",
   "name": "python",
   "nbconvert_exporter": "python",
   "pygments_lexer": "ipython3",
   "version": "3.10.13"
  }
 },
 "nbformat": 4,
 "nbformat_minor": 4
}
