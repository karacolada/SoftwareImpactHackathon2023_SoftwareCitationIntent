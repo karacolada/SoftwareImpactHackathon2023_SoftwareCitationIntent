{
 "cells": [
  {
   "cell_type": "markdown",
   "metadata": {
    "application/vnd.databricks.v1+cell": {
     "cellMetadata": {
      "byteLimit": 2048000,
      "rowLimit": 10000
     },
     "inputWidgets": {},
     "nuid": "66016ceb-e239-44ec-9496-d34b08483ea9",
     "showTitle": false,
     "title": ""
    }
   },
   "source": [
    "# GPT4 Few-Shot Modeling for Software Citation Intent Prediction\n",
    "\n",
    "In this notebok, we showcase an example of using a GPT4 model in a few-shot setting for predicting software citation intent.\n",
    "Note that running this notebook requires access to an OpenAI API key, which can be retrieved from the OpenAI API website: https://openai.com/product#made-for-developers"
   ]
  },
  {
   "cell_type": "code",
   "execution_count": 1,
   "metadata": {
    "application/vnd.databricks.v1+cell": {
     "cellMetadata": {
      "byteLimit": 2048000,
      "rowLimit": 10000
     },
     "inputWidgets": {},
     "nuid": "6c7bb58b-84e9-45d6-9558-73580835526b",
     "showTitle": false,
     "title": ""
    }
   },
   "outputs": [],
   "source": [
    "import pandas as pd\n",
    "import os\n",
    "from openai import OpenAI\n",
    "# your OpenAI key goes here\n",
    "OPENAI_API_KEY = \"\"\n",
    "client = OpenAI(api_key = OPENAI_API_KEY)\n",
    "from sklearn.metrics import precision_recall_fscore_support, accuracy_score, classification_report\n",
    "import warnings\n",
    "import time\n",
    "import plotly.express as px\n",
    "from collections import Counter\n",
    "warnings.simplefilter(\"ignore\")"
   ]
  },
  {
   "cell_type": "markdown",
   "metadata": {
    "application/vnd.databricks.v1+cell": {
     "cellMetadata": {
      "byteLimit": 2048000,
      "rowLimit": 10000
     },
     "inputWidgets": {},
     "nuid": "34c7f5e0-17f9-4ec2-a1a3-278c2fdb6a67",
     "showTitle": false,
     "title": ""
    }
   },
   "source": [
    "## Data Reading\n",
    "The data used for training and testing has the following fields:\n",
    "- **id**: paper_id (e.g. PMC id)\n",
    "- **sentence**: sentence containing the software mention\n",
    "- **used**: True if the intent of the software mentioned in the sentence is usage\n",
    "- **created**: True if the intent of the software mentioned in the sentence is creation\n",
    "- **mention**: True if the intent of the software mentioned in the sentence is mentioned\n",
    "- **context**: context around the sentence, if available; this would be the leading and trailing sentence in the paragraph around the sentence\n",
    "- **label**: categorical label; not that a sentence can only have one label\n",
    "- **text**: same as sentence"
   ]
  },
  {
   "cell_type": "code",
   "execution_count": 2,
   "metadata": {
    "application/vnd.databricks.v1+cell": {
     "cellMetadata": {
      "byteLimit": 2048000,
      "rowLimit": 10000
     },
     "inputWidgets": {},
     "nuid": "65fde911-574c-415c-b189-164c0f8a09b3",
     "showTitle": false,
     "title": ""
    }
   },
   "outputs": [],
   "source": [
    "data_df = pd.read_csv('../data/software_citation_intent_merged.csv')\n",
    "LABEL2TEXT = {0 : 'creation', 1 : 'usage', 2 : 'mention', 3: 'none'}"
   ]
  },
  {
   "cell_type": "code",
   "execution_count": 3,
   "metadata": {
    "application/vnd.databricks.v1+cell": {
     "cellMetadata": {
      "byteLimit": 2048000,
      "rowLimit": 10000
     },
     "inputWidgets": {},
     "nuid": "5bcfdc5b-a683-4c41-bbcc-30cb2ac4d2c2",
     "showTitle": false,
     "title": ""
    }
   },
   "outputs": [
    {
     "data": {
      "text/html": [
       "<div>\n",
       "<style scoped>\n",
       "    .dataframe tbody tr th:only-of-type {\n",
       "        vertical-align: middle;\n",
       "    }\n",
       "\n",
       "    .dataframe tbody tr th {\n",
       "        vertical-align: top;\n",
       "    }\n",
       "\n",
       "    .dataframe thead th {\n",
       "        text-align: right;\n",
       "    }\n",
       "</style>\n",
       "<table border=\"1\" class=\"dataframe\">\n",
       "  <thead>\n",
       "    <tr style=\"text-align: right;\">\n",
       "      <th></th>\n",
       "      <th>Unnamed: 0</th>\n",
       "      <th>id</th>\n",
       "      <th>sentence</th>\n",
       "      <th>used</th>\n",
       "      <th>created</th>\n",
       "      <th>mention</th>\n",
       "      <th>context</th>\n",
       "      <th>label</th>\n",
       "      <th>text</th>\n",
       "    </tr>\n",
       "  </thead>\n",
       "  <tbody>\n",
       "    <tr>\n",
       "      <th>0</th>\n",
       "      <td>0</td>\n",
       "      <td>PMC5189946</td>\n",
       "      <td>All of this analysis was implemented using Mat...</td>\n",
       "      <td>False</td>\n",
       "      <td>True</td>\n",
       "      <td>False</td>\n",
       "      <td>NaN</td>\n",
       "      <td>0</td>\n",
       "      <td>All of this analysis was implemented using Mat...</td>\n",
       "    </tr>\n",
       "    <tr>\n",
       "      <th>1</th>\n",
       "      <td>1</td>\n",
       "      <td>PMC4511233</td>\n",
       "      <td>Code for calculating partition similarity, obt...</td>\n",
       "      <td>False</td>\n",
       "      <td>True</td>\n",
       "      <td>False</td>\n",
       "      <td>Since the probability of getting a given MI is...</td>\n",
       "      <td>0</td>\n",
       "      <td>Code for calculating partition similarity, obt...</td>\n",
       "    </tr>\n",
       "    <tr>\n",
       "      <th>2</th>\n",
       "      <td>2</td>\n",
       "      <td>PMC4186879</td>\n",
       "      <td>All behavioral statistical analyses were perfo...</td>\n",
       "      <td>False</td>\n",
       "      <td>False</td>\n",
       "      <td>True</td>\n",
       "      <td>All behavioral statistical analyses were perfo...</td>\n",
       "      <td>2</td>\n",
       "      <td>All behavioral statistical analyses were perfo...</td>\n",
       "    </tr>\n",
       "    <tr>\n",
       "      <th>3</th>\n",
       "      <td>3</td>\n",
       "      <td>PMC5026371</td>\n",
       "      <td>M-Track was written using Python 2.7, OpenCV 3...</td>\n",
       "      <td>True</td>\n",
       "      <td>False</td>\n",
       "      <td>False</td>\n",
       "      <td>NaN</td>\n",
       "      <td>1</td>\n",
       "      <td>M-Track was written using Python 2.7, OpenCV 3...</td>\n",
       "    </tr>\n",
       "    <tr>\n",
       "      <th>4</th>\n",
       "      <td>4</td>\n",
       "      <td>PMC1283974</td>\n",
       "      <td>Mindboggle is a freely downloadable, open sour...</td>\n",
       "      <td>False</td>\n",
       "      <td>True</td>\n",
       "      <td>False</td>\n",
       "      <td>Mindboggle is a freely downloadable, open sour...</td>\n",
       "      <td>0</td>\n",
       "      <td>Mindboggle is a freely downloadable, open sour...</td>\n",
       "    </tr>\n",
       "  </tbody>\n",
       "</table>\n",
       "</div>"
      ],
      "text/plain": [
       "   Unnamed: 0          id                                           sentence  \\\n",
       "0           0  PMC5189946  All of this analysis was implemented using Mat...   \n",
       "1           1  PMC4511233  Code for calculating partition similarity, obt...   \n",
       "2           2  PMC4186879  All behavioral statistical analyses were perfo...   \n",
       "3           3  PMC5026371  M-Track was written using Python 2.7, OpenCV 3...   \n",
       "4           4  PMC1283974  Mindboggle is a freely downloadable, open sour...   \n",
       "\n",
       "    used  created  mention                                            context  \\\n",
       "0  False     True    False                                                NaN   \n",
       "1  False     True    False  Since the probability of getting a given MI is...   \n",
       "2  False    False     True  All behavioral statistical analyses were perfo...   \n",
       "3   True    False    False                                                NaN   \n",
       "4  False     True    False  Mindboggle is a freely downloadable, open sour...   \n",
       "\n",
       "   label                                               text  \n",
       "0      0  All of this analysis was implemented using Mat...  \n",
       "1      0  Code for calculating partition similarity, obt...  \n",
       "2      2  All behavioral statistical analyses were perfo...  \n",
       "3      1  M-Track was written using Python 2.7, OpenCV 3...  \n",
       "4      0  Mindboggle is a freely downloadable, open sour...  "
      ]
     },
     "execution_count": 3,
     "metadata": {},
     "output_type": "execute_result"
    }
   ],
   "source": [
    "data_df.head()"
   ]
  },
  {
   "cell_type": "markdown",
   "metadata": {},
   "source": [
    "The data has been split into train and test, where test is used for validation. Note that in a zero-shot setting, we don't use the training split at all, and only test performance on the test split."
   ]
  },
  {
   "cell_type": "code",
   "execution_count": 4,
   "metadata": {
    "application/vnd.databricks.v1+cell": {
     "cellMetadata": {
      "byteLimit": 2048000,
      "rowLimit": 10000
     },
     "inputWidgets": {},
     "nuid": "71a73faf-26af-4318-bbda-21717d9461b6",
     "showTitle": false,
     "title": ""
    }
   },
   "outputs": [],
   "source": [
    "def update_context(df):\n",
    "    df['context'] = df.apply(lambda x: x['context'] if x['context'] == x['context'] else x['sentence'], axis = 1)\n",
    "update_context(data_df)"
   ]
  },
  {
   "cell_type": "code",
   "execution_count": 5,
   "metadata": {
    "application/vnd.databricks.v1+cell": {
     "cellMetadata": {
      "byteLimit": 2048000,
      "rowLimit": 10000
     },
     "inputWidgets": {},
     "nuid": "49bcfeb1-a33a-4921-80c4-9e7b30f73839",
     "showTitle": false,
     "title": ""
    }
   },
   "outputs": [],
   "source": [
    "X_train_df = pd.read_csv('../data/gpt3.5_formatted_data/gpt3.5_train.csv')\n",
    "X_test_df = pd.read_csv('../data/gpt3.5_formatted_data/gpt3.5_test.csv')\n",
    "X_test_df['label_descriptive'] = X_test_df['label'].apply(lambda x: LABEL2TEXT[x])\n",
    "\n",
    "update_context(X_train_df)\n",
    "update_context(X_test_df)"
   ]
  },
  {
   "cell_type": "code",
   "execution_count": 6,
   "metadata": {
    "application/vnd.databricks.v1+cell": {
     "cellMetadata": {
      "byteLimit": 2048000,
      "rowLimit": 10000
     },
     "inputWidgets": {},
     "nuid": "6e54177e-ad23-45db-aa71-211cad505dd7",
     "showTitle": false,
     "title": ""
    }
   },
   "outputs": [
    {
     "data": {
      "text/plain": [
       "Counter({'usage': 449, 'none': 200, 'mention': 95, 'creation': 94})"
      ]
     },
     "execution_count": 6,
     "metadata": {},
     "output_type": "execute_result"
    }
   ],
   "source": [
    "Counter(X_test_df['label_descriptive'].to_list())"
   ]
  },
  {
   "cell_type": "markdown",
   "metadata": {
    "application/vnd.databricks.v1+cell": {
     "cellMetadata": {
      "byteLimit": 2048000,
      "rowLimit": 10000
     },
     "inputWidgets": {},
     "nuid": "a244ee08-44aa-4a53-ac47-485ca263d3b4",
     "showTitle": false,
     "title": ""
    }
   },
   "source": [
    "## Few-shot GPT model"
   ]
  },
  {
   "cell_type": "code",
   "execution_count": 7,
   "metadata": {
    "application/vnd.databricks.v1+cell": {
     "cellMetadata": {
      "byteLimit": 2048000,
      "rowLimit": 10000
     },
     "inputWidgets": {},
     "nuid": "ea0d02e1-df40-46ca-a1e9-3acead6a909b",
     "showTitle": false,
     "title": ""
    }
   },
   "outputs": [],
   "source": [
    "def predict_gpt(sentences, y_test, initial_message, model, print_every = 10, verbose = False):\n",
    "    predicted_labels = []\n",
    "    true_labels = []\n",
    "    completed_sentences = []\n",
    "    indices = range(len(sentences))\n",
    "    for i, sentence, label in zip(indices, sentences, y_test):\n",
    "        message = initial_message + [{\"role\": \"user\", \"content\": sentence.strip()}]\n",
    "        try:\n",
    "            completion = client.chat.completions.create(model=model, messages=message)\n",
    "            predicted_class = completion.choices[0].message.content.lower().strip()\n",
    "            if i % print_every == 0:\n",
    "                if not verbose:\n",
    "                    print('Predicting on sentence', str(i))\n",
    "                else:\n",
    "                    print(i, 'Sentence: ', sentence, '\\nPredicted class:', predicted_class, 'Real class:' + label + '\\n\\n')\n",
    "            predicted_labels.append(predicted_class)\n",
    "            true_labels.append(label)\n",
    "            completed_sentences.append(sentence)\n",
    "        except:\n",
    "            print('got an error')\n",
    "            continue\n",
    "    return predicted_labels, true_labels, completed_sentences"
   ]
  },
  {
   "cell_type": "markdown",
   "metadata": {
    "application/vnd.databricks.v1+cell": {
     "cellMetadata": {
      "byteLimit": 2048000,
      "rowLimit": 10000
     },
     "inputWidgets": {},
     "nuid": "59f3e2de-bb2c-4503-8246-f2dee69b3d42",
     "showTitle": false,
     "title": ""
    }
   },
   "source": [
    "## Evaluation"
   ]
  },
  {
   "cell_type": "code",
   "execution_count": 8,
   "metadata": {
    "application/vnd.databricks.v1+cell": {
     "cellMetadata": {
      "byteLimit": 2048000,
      "rowLimit": 10000
     },
     "inputWidgets": {},
     "nuid": "16aa8337-4656-4b33-b112-c6c80b8ef8a1",
     "showTitle": false,
     "title": ""
    }
   },
   "outputs": [],
   "source": [
    "def evaluate(true_labels, predicted_labels):\n",
    "    p, r, f1, support = precision_recall_fscore_support(true_labels, predicted_labels, average='macro')\n",
    "    accuracy = round(accuracy_score(true_labels, predicted_labels), 3)\n",
    "    print('Precision: ', round(p, 3), 'Recall: ', round(r, 3), 'F1:', round(f1, 3), 'Accuracy:', accuracy)\n",
    "    print(classification_report(true_labels, predicted_labels))"
   ]
  },
  {
   "cell_type": "markdown",
   "metadata": {
    "application/vnd.databricks.v1+cell": {
     "cellMetadata": {
      "byteLimit": 2048000,
      "rowLimit": 10000
     },
     "inputWidgets": {},
     "nuid": "12d0ba0f-c3fd-4a0d-bb49-a0540f224e9d",
     "showTitle": false,
     "title": ""
    }
   },
   "source": [
    "Notice that we are using n = 5 examples for the few-shot setting. This means that the model is seeing a number of 5 examples per class before making predictions. This parameter can be changed and experimented with"
   ]
  },
  {
   "cell_type": "code",
   "execution_count": 9,
   "metadata": {
    "application/vnd.databricks.v1+cell": {
     "cellMetadata": {
      "byteLimit": 2048000,
      "rowLimit": 10000
     },
     "inputWidgets": {},
     "nuid": "a4c465f9-3bea-4950-baf9-f4a44b762851",
     "showTitle": false,
     "title": ""
    }
   },
   "outputs": [],
   "source": [
    "#number of few_shot examples \n",
    "num_examples_few_shot = 5\n",
    "\n",
    "# this can be one of : 'sentence' or 'context'\n",
    "pred_field = 'sentence' \n",
    "\n",
    "# sample num_examples_few_shot example sentences per label\n",
    "examples_used = X_train_df[X_train_df['label_descriptive'] == 'usage'].sample(num_examples_few_shot)[pred_field].to_list()\n",
    "examples_created = X_train_df[X_train_df['label_descriptive'] == 'creation'].sample(num_examples_few_shot)[pred_field].to_list()\n",
    "examples_mentioned = X_train_df[X_train_df['label_descriptive'] == 'mention'].sample(num_examples_few_shot)[pred_field].to_list()\n",
    "examples_none = X_train_df[X_train_df['label_descriptive'] == 'none'].sample(num_examples_few_shot)[pred_field].to_list()\n",
    "\n",
    "# PROMPT 1\n",
    "initial_message = [{\"role\": \"system\", \n",
    "                \"content\": \"You are a scientist trying to figure out the citation intent behind software mentioned in sentences coming from research articles. Your four categories are: creation, usage, mention, or none. The definitions of the classes are: \\\n",
    "                - creation: software was created by the authors of the paper \\\n",
    "                - usage: software was used in the paper \\\n",
    "                - mention: software was mentioned in the paper, but not used, nor created \\\n",
    "                - none: none of the previous 3 categories apply \\\n",
    "                You need to output one category only.\"}]\n",
    "for example in examples_used:\n",
    "    initial_message += [{\"role\": \"user\", \"content\" : example}]\n",
    "    initial_message += [{\"role\": \"assistant\", \"content\" : 'usage'}]\n",
    "for example in examples_created:\n",
    "    initial_message += [{\"role\": \"user\", \"content\" : example}]\n",
    "    initial_message += [{\"role\": \"assistant\", \"content\" : 'creation'}]\n",
    "for example in examples_mentioned:\n",
    "    initial_message += [{\"role\": \"user\", \"content\" : example}]\n",
    "    initial_message += [{\"role\": \"assistant\", \"content\" : 'mention'}]\n",
    "for example in examples_none:\n",
    "    initial_message += [{\"role\": \"user\", \"content\" : example}]\n",
    "    initial_message += [{\"role\": \"assistant\", \"content\" : 'none'}]"
   ]
  },
  {
   "cell_type": "markdown",
   "metadata": {
    "application/vnd.databricks.v1+cell": {
     "cellMetadata": {
      "byteLimit": 2048000,
      "rowLimit": 10000
     },
     "inputWidgets": {},
     "nuid": "09d41e7b-6e91-4d4e-9de8-78b4e76ffb98",
     "showTitle": false,
     "title": ""
    }
   },
   "source": [
    "### Test split"
   ]
  },
  {
   "cell_type": "code",
   "execution_count": 10,
   "metadata": {
    "application/vnd.databricks.v1+cell": {
     "cellMetadata": {
      "byteLimit": 2048000,
      "rowLimit": 10000
     },
     "inputWidgets": {},
     "nuid": "f966f856-a132-4083-88f5-d45b2c29b51f",
     "showTitle": false,
     "title": ""
    }
   },
   "outputs": [
    {
     "name": "stdout",
     "output_type": "stream",
     "text": [
      "Predicting on sentence 0\n",
      "Predicting on sentence 1\n",
      "Predicting on sentence 2\n",
      "Predicting on sentence 3\n",
      "Predicting on sentence 4\n",
      "Predicting on sentence 5\n",
      "Predicting on sentence 6\n",
      "Predicting on sentence 7\n",
      "Predicting on sentence 8\n",
      "Predicting on sentence 9\n",
      "Predicting on sentence 10\n",
      "Predicting on sentence 11\n",
      "Predicting on sentence 12\n",
      "Predicting on sentence 13\n",
      "Predicting on sentence 14\n",
      "Predicting on sentence 15\n",
      "Predicting on sentence 16\n",
      "Predicting on sentence 17\n",
      "Predicting on sentence 18\n",
      "Predicting on sentence 19\n",
      "Predicting on sentence 20\n",
      "Predicting on sentence 21\n",
      "Predicting on sentence 22\n",
      "Predicting on sentence 23\n",
      "Predicting on sentence 24\n",
      "Predicting on sentence 25\n",
      "Predicting on sentence 26\n",
      "Predicting on sentence 27\n",
      "Predicting on sentence 28\n",
      "Predicting on sentence 29\n",
      "Predicting on sentence 30\n",
      "Predicting on sentence 31\n",
      "Predicting on sentence 32\n",
      "Predicting on sentence 33\n",
      "Predicting on sentence 34\n",
      "Predicting on sentence 35\n",
      "Predicting on sentence 36\n",
      "Predicting on sentence 37\n",
      "Predicting on sentence 38\n",
      "Predicting on sentence 39\n",
      "Predicting on sentence 40\n",
      "Predicting on sentence 41\n",
      "Predicting on sentence 42\n",
      "Predicting on sentence 43\n",
      "Predicting on sentence 44\n",
      "Predicting on sentence 45\n",
      "Predicting on sentence 46\n",
      "Predicting on sentence 47\n",
      "Predicting on sentence 48\n",
      "Predicting on sentence 49\n",
      "Predicting on sentence 50\n",
      "Predicting on sentence 51\n",
      "Predicting on sentence 52\n",
      "Predicting on sentence 53\n",
      "Predicting on sentence 54\n",
      "Predicting on sentence 55\n",
      "Predicting on sentence 56\n",
      "Predicting on sentence 57\n",
      "Predicting on sentence 58\n",
      "Predicting on sentence 59\n",
      "Predicting on sentence 60\n",
      "Predicting on sentence 61\n",
      "Predicting on sentence 62\n",
      "Predicting on sentence 63\n",
      "Predicting on sentence 64\n",
      "Predicting on sentence 65\n",
      "Predicting on sentence 66\n",
      "Predicting on sentence 67\n",
      "Predicting on sentence 68\n",
      "Predicting on sentence 69\n",
      "Predicting on sentence 70\n",
      "Predicting on sentence 71\n",
      "Predicting on sentence 72\n",
      "Predicting on sentence 73\n",
      "Predicting on sentence 74\n",
      "Predicting on sentence 75\n",
      "Predicting on sentence 76\n",
      "Predicting on sentence 77\n",
      "Predicting on sentence 78\n",
      "Predicting on sentence 79\n",
      "Predicting on sentence 80\n",
      "Predicting on sentence 81\n",
      "Predicting on sentence 82\n",
      "Predicting on sentence 83\n",
      "Predicting on sentence 84\n",
      "Predicting on sentence 85\n",
      "Predicting on sentence 86\n",
      "Predicting on sentence 87\n",
      "Predicting on sentence 88\n",
      "Predicting on sentence 89\n",
      "Predicting on sentence 90\n",
      "Predicting on sentence 91\n",
      "Predicting on sentence 92\n",
      "Predicting on sentence 93\n",
      "Predicting on sentence 94\n",
      "Predicting on sentence 95\n",
      "Predicting on sentence 96\n",
      "Predicting on sentence 97\n",
      "Predicting on sentence 98\n",
      "Predicting on sentence 99\n",
      "Predicting on sentence 100\n",
      "Predicting on sentence 101\n",
      "Predicting on sentence 102\n",
      "Predicting on sentence 103\n",
      "Predicting on sentence 104\n",
      "Predicting on sentence 105\n",
      "Predicting on sentence 106\n",
      "Predicting on sentence 107\n",
      "Predicting on sentence 108\n",
      "Predicting on sentence 109\n",
      "Predicting on sentence 110\n",
      "Predicting on sentence 111\n",
      "Predicting on sentence 112\n",
      "Predicting on sentence 113\n",
      "Predicting on sentence 114\n",
      "Predicting on sentence 115\n",
      "Predicting on sentence 116\n",
      "Predicting on sentence 117\n",
      "Predicting on sentence 118\n",
      "Predicting on sentence 119\n",
      "Predicting on sentence 120\n",
      "Predicting on sentence 121\n",
      "Predicting on sentence 122\n",
      "Predicting on sentence 123\n",
      "Predicting on sentence 124\n",
      "Predicting on sentence 125\n",
      "Predicting on sentence 126\n",
      "Predicting on sentence 127\n",
      "Predicting on sentence 128\n",
      "Predicting on sentence 129\n",
      "Predicting on sentence 130\n",
      "Predicting on sentence 131\n",
      "Predicting on sentence 132\n",
      "Predicting on sentence 133\n",
      "Predicting on sentence 134\n",
      "Predicting on sentence 135\n",
      "Predicting on sentence 136\n",
      "Predicting on sentence 137\n",
      "Predicting on sentence 138\n",
      "Predicting on sentence 139\n",
      "Predicting on sentence 140\n",
      "Predicting on sentence 141\n",
      "Predicting on sentence 142\n",
      "Predicting on sentence 143\n",
      "Predicting on sentence 144\n",
      "Predicting on sentence 145\n",
      "Predicting on sentence 146\n",
      "Predicting on sentence 147\n",
      "Predicting on sentence 148\n",
      "Predicting on sentence 149\n",
      "Predicting on sentence 150\n",
      "Predicting on sentence 151\n",
      "Predicting on sentence 152\n",
      "Predicting on sentence 153\n",
      "Predicting on sentence 154\n",
      "Predicting on sentence 155\n",
      "Predicting on sentence 156\n",
      "Predicting on sentence 157\n",
      "Predicting on sentence 158\n",
      "Predicting on sentence 159\n",
      "Predicting on sentence 160\n",
      "Predicting on sentence 161\n",
      "Predicting on sentence 162\n",
      "Predicting on sentence 163\n",
      "Predicting on sentence 164\n",
      "Predicting on sentence 165\n",
      "Predicting on sentence 166\n",
      "Predicting on sentence 167\n",
      "Predicting on sentence 168\n",
      "Predicting on sentence 169\n",
      "Predicting on sentence 170\n",
      "Predicting on sentence 171\n",
      "Predicting on sentence 172\n",
      "Predicting on sentence 173\n",
      "Predicting on sentence 174\n",
      "Predicting on sentence 175\n",
      "Predicting on sentence 176\n",
      "Predicting on sentence 177\n",
      "Predicting on sentence 178\n",
      "Predicting on sentence 179\n",
      "Predicting on sentence 180\n",
      "Predicting on sentence 181\n",
      "Predicting on sentence 182\n",
      "Predicting on sentence 183\n",
      "Predicting on sentence 184\n",
      "Predicting on sentence 185\n",
      "Predicting on sentence 186\n",
      "Predicting on sentence 187\n",
      "Predicting on sentence 188\n",
      "Predicting on sentence 189\n",
      "Predicting on sentence 190\n",
      "Predicting on sentence 191\n",
      "Predicting on sentence 192\n",
      "Predicting on sentence 193\n",
      "Predicting on sentence 194\n",
      "Predicting on sentence 195\n",
      "Predicting on sentence 196\n",
      "Predicting on sentence 197\n",
      "Predicting on sentence 198\n",
      "Predicting on sentence 199\n",
      "Predicting on sentence 200\n",
      "Predicting on sentence 201\n",
      "Predicting on sentence 202\n",
      "Predicting on sentence 203\n",
      "Predicting on sentence 204\n",
      "Predicting on sentence 205\n",
      "Predicting on sentence 206\n",
      "Predicting on sentence 207\n",
      "Predicting on sentence 208\n",
      "Predicting on sentence 209\n",
      "Predicting on sentence 210\n",
      "Predicting on sentence 211\n",
      "Predicting on sentence 212\n",
      "Predicting on sentence 213\n",
      "Predicting on sentence 214\n",
      "Predicting on sentence 215\n",
      "Predicting on sentence 216\n",
      "Predicting on sentence 217\n",
      "Predicting on sentence 218\n",
      "Predicting on sentence 219\n",
      "Predicting on sentence 220\n",
      "Predicting on sentence 221\n",
      "Predicting on sentence 222\n",
      "Predicting on sentence 223\n",
      "Predicting on sentence 224\n",
      "Predicting on sentence 225\n",
      "Predicting on sentence 226\n",
      "Predicting on sentence 227\n",
      "Predicting on sentence 228\n",
      "Predicting on sentence 229\n",
      "Predicting on sentence 230\n",
      "Predicting on sentence 231\n",
      "Predicting on sentence 232\n",
      "Predicting on sentence 233\n",
      "Predicting on sentence 234\n",
      "Predicting on sentence 235\n",
      "Predicting on sentence 236\n",
      "Predicting on sentence 237\n",
      "Predicting on sentence 238\n",
      "Predicting on sentence 239\n",
      "Predicting on sentence 240\n",
      "Predicting on sentence 241\n",
      "Predicting on sentence 242\n",
      "Predicting on sentence 243\n",
      "Predicting on sentence 244\n",
      "Predicting on sentence 245\n",
      "Predicting on sentence 246\n",
      "Predicting on sentence 247\n",
      "Predicting on sentence 248\n",
      "Predicting on sentence 249\n",
      "Predicting on sentence 250\n",
      "Predicting on sentence 251\n",
      "Predicting on sentence 252\n",
      "Predicting on sentence 253\n",
      "Predicting on sentence 254\n",
      "Predicting on sentence 255\n",
      "Predicting on sentence 256\n",
      "Predicting on sentence 257\n",
      "Predicting on sentence 258\n",
      "Predicting on sentence 259\n",
      "Predicting on sentence 260\n",
      "Predicting on sentence 261\n",
      "Predicting on sentence 262\n",
      "Predicting on sentence 263\n",
      "Predicting on sentence 264\n",
      "Predicting on sentence 265\n",
      "Predicting on sentence 266\n",
      "Predicting on sentence 267\n",
      "Predicting on sentence 268\n",
      "Predicting on sentence 269\n",
      "Predicting on sentence 270\n",
      "Predicting on sentence 271\n",
      "Predicting on sentence 272\n",
      "Predicting on sentence 273\n",
      "Predicting on sentence 274\n",
      "Predicting on sentence 275\n",
      "Predicting on sentence 276\n",
      "Predicting on sentence 277\n",
      "Predicting on sentence 278\n",
      "Predicting on sentence 279\n",
      "Predicting on sentence 280\n",
      "Predicting on sentence 281\n",
      "Predicting on sentence 282\n",
      "Predicting on sentence 283\n",
      "Predicting on sentence 284\n",
      "Predicting on sentence 285\n",
      "Predicting on sentence 286\n",
      "Predicting on sentence 287\n",
      "Predicting on sentence 288\n",
      "Predicting on sentence 289\n",
      "Predicting on sentence 290\n",
      "Predicting on sentence 291\n",
      "Predicting on sentence 292\n",
      "Predicting on sentence 293\n",
      "Predicting on sentence 294\n",
      "Predicting on sentence 295\n",
      "Predicting on sentence 296\n",
      "Predicting on sentence 297\n",
      "Predicting on sentence 298\n",
      "Predicting on sentence 299\n",
      "Predicting on sentence 300\n",
      "Predicting on sentence 301\n",
      "Predicting on sentence 302\n",
      "Predicting on sentence 303\n",
      "Predicting on sentence 304\n",
      "Predicting on sentence 305\n",
      "Predicting on sentence 306\n",
      "Predicting on sentence 307\n",
      "Predicting on sentence 308\n",
      "Predicting on sentence 309\n",
      "Predicting on sentence 310\n",
      "Predicting on sentence 311\n",
      "Predicting on sentence 312\n",
      "Predicting on sentence 313\n",
      "Predicting on sentence 314\n",
      "Predicting on sentence 315\n",
      "Predicting on sentence 316\n",
      "Predicting on sentence 317\n",
      "Predicting on sentence 318\n",
      "Predicting on sentence 319\n",
      "Predicting on sentence 320\n",
      "Predicting on sentence 321\n",
      "Predicting on sentence 322\n",
      "Predicting on sentence 323\n",
      "Predicting on sentence 324\n",
      "Predicting on sentence 325\n",
      "Predicting on sentence 326\n",
      "Predicting on sentence 327\n",
      "Predicting on sentence 328\n",
      "Predicting on sentence 329\n",
      "Predicting on sentence 330\n",
      "Predicting on sentence 331\n",
      "Predicting on sentence 332\n",
      "Predicting on sentence 333\n",
      "Predicting on sentence 334\n",
      "Predicting on sentence 335\n",
      "Predicting on sentence 336\n",
      "Predicting on sentence 337\n",
      "Predicting on sentence 338\n",
      "Predicting on sentence 339\n",
      "Predicting on sentence 340\n",
      "Predicting on sentence 341\n",
      "Predicting on sentence 342\n",
      "Predicting on sentence 343\n",
      "Predicting on sentence 344\n",
      "Predicting on sentence 345\n",
      "Predicting on sentence 346\n",
      "Predicting on sentence 347\n",
      "Predicting on sentence 348\n",
      "Predicting on sentence 349\n",
      "Predicting on sentence 350\n",
      "Predicting on sentence 351\n",
      "Predicting on sentence 352\n",
      "Predicting on sentence 353\n",
      "Predicting on sentence 354\n",
      "Predicting on sentence 355\n",
      "Predicting on sentence 356\n",
      "Predicting on sentence 357\n",
      "Predicting on sentence 358\n",
      "Predicting on sentence 359\n",
      "Predicting on sentence 360\n",
      "Predicting on sentence 361\n",
      "Predicting on sentence 362\n",
      "Predicting on sentence 363\n",
      "Predicting on sentence 364\n",
      "Predicting on sentence 365\n",
      "Predicting on sentence 366\n",
      "Predicting on sentence 367\n",
      "Predicting on sentence 368\n",
      "Predicting on sentence 369\n",
      "Predicting on sentence 370\n",
      "Predicting on sentence 371\n",
      "Predicting on sentence 372\n",
      "Predicting on sentence 373\n",
      "Predicting on sentence 374\n",
      "Predicting on sentence 375\n",
      "Predicting on sentence 376\n",
      "Predicting on sentence 377\n",
      "Predicting on sentence 378\n",
      "Predicting on sentence 379\n",
      "Predicting on sentence 380\n",
      "Predicting on sentence 381\n",
      "Predicting on sentence 382\n",
      "Predicting on sentence 383\n",
      "Predicting on sentence 384\n",
      "Predicting on sentence 385\n",
      "Predicting on sentence 386\n",
      "Predicting on sentence 387\n",
      "Predicting on sentence 388\n",
      "Predicting on sentence 389\n",
      "Predicting on sentence 390\n",
      "Predicting on sentence 391\n",
      "Predicting on sentence 392\n",
      "Predicting on sentence 393\n",
      "Predicting on sentence 394\n",
      "Predicting on sentence 395\n",
      "Predicting on sentence 396\n",
      "Predicting on sentence 397\n",
      "Predicting on sentence 398\n",
      "Predicting on sentence 399\n",
      "Predicting on sentence 400\n",
      "Predicting on sentence 401\n",
      "Predicting on sentence 402\n",
      "Predicting on sentence 403\n",
      "Predicting on sentence 404\n",
      "Predicting on sentence 405\n",
      "Predicting on sentence 406\n",
      "Predicting on sentence 407\n",
      "Predicting on sentence 408\n",
      "Predicting on sentence 409\n",
      "Predicting on sentence 410\n",
      "Predicting on sentence 411\n",
      "Predicting on sentence 412\n",
      "Predicting on sentence 413\n",
      "Predicting on sentence 414\n",
      "Predicting on sentence 415\n",
      "Predicting on sentence 416\n",
      "Predicting on sentence 417\n",
      "Predicting on sentence 418\n",
      "Predicting on sentence 419\n",
      "Predicting on sentence 420\n",
      "Predicting on sentence 421\n",
      "Predicting on sentence 422\n",
      "Predicting on sentence 423\n",
      "Predicting on sentence 424\n",
      "Predicting on sentence 425\n",
      "Predicting on sentence 426\n",
      "Predicting on sentence 427\n",
      "Predicting on sentence 428\n",
      "Predicting on sentence 429\n",
      "Predicting on sentence 430\n",
      "Predicting on sentence 431\n",
      "Predicting on sentence 432\n",
      "Predicting on sentence 433\n",
      "Predicting on sentence 434\n",
      "Predicting on sentence 435\n",
      "Predicting on sentence 436\n",
      "Predicting on sentence 437\n",
      "Predicting on sentence 438\n",
      "Predicting on sentence 439\n",
      "Predicting on sentence 440\n",
      "Predicting on sentence 441\n",
      "Predicting on sentence 442\n",
      "Predicting on sentence 443\n",
      "Predicting on sentence 444\n",
      "Predicting on sentence 445\n",
      "Predicting on sentence 446\n",
      "Predicting on sentence 447\n",
      "Predicting on sentence 448\n",
      "Predicting on sentence 449\n",
      "Predicting on sentence 450\n",
      "Predicting on sentence 451\n",
      "Predicting on sentence 452\n",
      "Predicting on sentence 453\n",
      "Predicting on sentence 454\n",
      "Predicting on sentence 455\n",
      "Predicting on sentence 456\n",
      "Predicting on sentence 457\n",
      "Predicting on sentence 458\n",
      "Predicting on sentence 459\n",
      "Predicting on sentence 460\n",
      "Predicting on sentence 461\n",
      "Predicting on sentence 462\n",
      "Predicting on sentence 463\n",
      "Predicting on sentence 464\n",
      "Predicting on sentence 465\n",
      "Predicting on sentence 466\n",
      "Predicting on sentence 467\n",
      "Predicting on sentence 468\n",
      "Predicting on sentence 469\n",
      "Predicting on sentence 470\n",
      "Predicting on sentence 471\n",
      "Predicting on sentence 472\n",
      "Predicting on sentence 473\n",
      "Predicting on sentence 474\n",
      "Predicting on sentence 475\n",
      "Predicting on sentence 476\n",
      "Predicting on sentence 477\n",
      "Predicting on sentence 478\n",
      "Predicting on sentence 479\n",
      "Predicting on sentence 480\n",
      "Predicting on sentence 481\n",
      "Predicting on sentence 482\n",
      "Predicting on sentence 483\n",
      "Predicting on sentence 484\n",
      "Predicting on sentence 485\n",
      "Predicting on sentence 486\n",
      "Predicting on sentence 487\n",
      "Predicting on sentence 488\n",
      "Predicting on sentence 489\n",
      "Predicting on sentence 490\n",
      "Predicting on sentence 491\n",
      "Predicting on sentence 492\n",
      "Predicting on sentence 493\n",
      "Predicting on sentence 494\n",
      "Predicting on sentence 495\n",
      "Predicting on sentence 496\n",
      "Predicting on sentence 497\n",
      "Predicting on sentence 498\n",
      "Predicting on sentence 499\n",
      "Predicting on sentence 500\n",
      "Predicting on sentence 501\n",
      "Predicting on sentence 502\n",
      "Predicting on sentence 503\n",
      "Predicting on sentence 504\n",
      "Predicting on sentence 505\n",
      "Predicting on sentence 506\n",
      "Predicting on sentence 507\n",
      "Predicting on sentence 508\n",
      "Predicting on sentence 509\n",
      "Predicting on sentence 510\n",
      "Predicting on sentence 511\n",
      "Predicting on sentence 512\n",
      "Predicting on sentence 513\n",
      "Predicting on sentence 514\n",
      "Predicting on sentence 515\n",
      "Predicting on sentence 516\n",
      "Predicting on sentence 517\n",
      "Predicting on sentence 518\n",
      "Predicting on sentence 519\n",
      "Predicting on sentence 520\n",
      "Predicting on sentence 521\n",
      "Predicting on sentence 522\n",
      "Predicting on sentence 523\n",
      "Predicting on sentence 524\n",
      "Predicting on sentence 525\n",
      "Predicting on sentence 526\n",
      "Predicting on sentence 527\n",
      "Predicting on sentence 528\n",
      "Predicting on sentence 529\n",
      "Predicting on sentence 530\n",
      "Predicting on sentence 531\n",
      "Predicting on sentence 532\n",
      "Predicting on sentence 533\n",
      "Predicting on sentence 534\n",
      "Predicting on sentence 535\n",
      "Predicting on sentence 536\n",
      "Predicting on sentence 537\n",
      "Predicting on sentence 538\n",
      "Predicting on sentence 539\n",
      "Predicting on sentence 540\n",
      "Predicting on sentence 541\n",
      "Predicting on sentence 542\n",
      "Predicting on sentence 543\n",
      "Predicting on sentence 544\n",
      "Predicting on sentence 545\n",
      "Predicting on sentence 546\n",
      "Predicting on sentence 547\n",
      "Predicting on sentence 548\n",
      "Predicting on sentence 549\n",
      "Predicting on sentence 550\n",
      "Predicting on sentence 551\n",
      "Predicting on sentence 552\n",
      "Predicting on sentence 553\n",
      "Predicting on sentence 554\n",
      "Predicting on sentence 555\n",
      "Predicting on sentence 556\n",
      "Predicting on sentence 557\n",
      "Predicting on sentence 558\n",
      "Predicting on sentence 559\n",
      "Predicting on sentence 560\n",
      "Predicting on sentence 561\n",
      "Predicting on sentence 562\n",
      "Predicting on sentence 563\n",
      "Predicting on sentence 564\n",
      "Predicting on sentence 565\n",
      "Predicting on sentence 566\n",
      "Predicting on sentence 567\n",
      "Predicting on sentence 568\n",
      "Predicting on sentence 569\n",
      "Predicting on sentence 570\n",
      "Predicting on sentence 571\n",
      "Predicting on sentence 572\n",
      "Predicting on sentence 573\n",
      "Predicting on sentence 574\n",
      "Predicting on sentence 575\n",
      "Predicting on sentence 576\n",
      "Predicting on sentence 577\n",
      "Predicting on sentence 578\n",
      "Predicting on sentence 579\n",
      "Predicting on sentence 580\n",
      "Predicting on sentence 581\n",
      "Predicting on sentence 582\n",
      "Predicting on sentence 583\n",
      "Predicting on sentence 584\n",
      "Predicting on sentence 585\n",
      "Predicting on sentence 586\n",
      "Predicting on sentence 587\n",
      "Predicting on sentence 588\n",
      "Predicting on sentence 589\n",
      "Predicting on sentence 590\n",
      "Predicting on sentence 591\n",
      "Predicting on sentence 592\n",
      "Predicting on sentence 593\n",
      "Predicting on sentence 594\n",
      "Predicting on sentence 595\n",
      "Predicting on sentence 596\n",
      "Predicting on sentence 597\n",
      "Predicting on sentence 598\n",
      "Predicting on sentence 599\n",
      "Predicting on sentence 600\n",
      "Predicting on sentence 601\n",
      "Predicting on sentence 602\n",
      "Predicting on sentence 603\n",
      "Predicting on sentence 604\n",
      "Predicting on sentence 605\n",
      "Predicting on sentence 606\n",
      "Predicting on sentence 607\n",
      "Predicting on sentence 608\n",
      "Predicting on sentence 609\n",
      "Predicting on sentence 610\n",
      "Predicting on sentence 611\n",
      "Predicting on sentence 612\n",
      "Predicting on sentence 613\n",
      "Predicting on sentence 614\n",
      "Predicting on sentence 615\n",
      "Predicting on sentence 616\n",
      "Predicting on sentence 617\n",
      "Predicting on sentence 618\n",
      "Predicting on sentence 619\n",
      "Predicting on sentence 620\n",
      "Predicting on sentence 621\n",
      "Predicting on sentence 622\n",
      "Predicting on sentence 623\n",
      "Predicting on sentence 624\n",
      "Predicting on sentence 625\n",
      "Predicting on sentence 626\n",
      "Predicting on sentence 627\n",
      "Predicting on sentence 628\n",
      "Predicting on sentence 629\n",
      "Predicting on sentence 630\n",
      "Predicting on sentence 631\n",
      "Predicting on sentence 632\n",
      "Predicting on sentence 633\n",
      "Predicting on sentence 634\n",
      "Predicting on sentence 635\n",
      "Predicting on sentence 636\n",
      "Predicting on sentence 637\n",
      "Predicting on sentence 638\n",
      "Predicting on sentence 639\n",
      "Predicting on sentence 640\n",
      "Predicting on sentence 641\n",
      "Predicting on sentence 642\n",
      "Predicting on sentence 643\n",
      "Predicting on sentence 644\n",
      "Predicting on sentence 645\n",
      "Predicting on sentence 646\n",
      "Predicting on sentence 647\n",
      "Predicting on sentence 648\n",
      "Predicting on sentence 649\n",
      "Predicting on sentence 650\n",
      "Predicting on sentence 651\n",
      "Predicting on sentence 652\n",
      "Predicting on sentence 653\n",
      "Predicting on sentence 654\n",
      "Predicting on sentence 655\n",
      "Predicting on sentence 656\n",
      "Predicting on sentence 657\n",
      "Predicting on sentence 658\n",
      "Predicting on sentence 659\n",
      "Predicting on sentence 660\n",
      "Predicting on sentence 661\n",
      "Predicting on sentence 662\n",
      "Predicting on sentence 663\n",
      "Predicting on sentence 664\n",
      "Predicting on sentence 665\n",
      "Predicting on sentence 666\n",
      "Predicting on sentence 667\n",
      "Predicting on sentence 668\n",
      "Predicting on sentence 669\n",
      "Predicting on sentence 670\n",
      "Predicting on sentence 671\n",
      "Predicting on sentence 672\n",
      "Predicting on sentence 673\n",
      "Predicting on sentence 674\n",
      "Predicting on sentence 675\n",
      "Predicting on sentence 676\n",
      "Predicting on sentence 677\n",
      "Predicting on sentence 678\n",
      "Predicting on sentence 679\n",
      "Predicting on sentence 680\n",
      "Predicting on sentence 681\n",
      "Predicting on sentence 682\n",
      "Predicting on sentence 683\n",
      "Predicting on sentence 684\n",
      "Predicting on sentence 685\n",
      "Predicting on sentence 686\n",
      "Predicting on sentence 687\n",
      "Predicting on sentence 688\n",
      "Predicting on sentence 689\n",
      "Predicting on sentence 690\n",
      "Predicting on sentence 691\n",
      "Predicting on sentence 692\n",
      "Predicting on sentence 693\n",
      "Predicting on sentence 694\n",
      "Predicting on sentence 695\n",
      "Predicting on sentence 696\n",
      "Predicting on sentence 697\n",
      "Predicting on sentence 698\n",
      "Predicting on sentence 699\n",
      "Predicting on sentence 700\n",
      "Predicting on sentence 701\n",
      "Predicting on sentence 702\n",
      "Predicting on sentence 703\n",
      "Predicting on sentence 704\n",
      "Predicting on sentence 705\n",
      "Predicting on sentence 706\n",
      "Predicting on sentence 707\n",
      "Predicting on sentence 708\n",
      "Predicting on sentence 709\n",
      "Predicting on sentence 710\n",
      "Predicting on sentence 711\n",
      "Predicting on sentence 712\n",
      "Predicting on sentence 713\n",
      "Predicting on sentence 714\n",
      "Predicting on sentence 715\n",
      "Predicting on sentence 716\n",
      "Predicting on sentence 717\n",
      "Predicting on sentence 718\n",
      "Predicting on sentence 719\n",
      "Predicting on sentence 720\n",
      "Predicting on sentence 721\n",
      "Predicting on sentence 722\n",
      "Predicting on sentence 723\n",
      "Predicting on sentence 724\n",
      "Predicting on sentence 725\n",
      "Predicting on sentence 726\n",
      "Predicting on sentence 727\n",
      "Predicting on sentence 728\n",
      "Predicting on sentence 729\n",
      "Predicting on sentence 730\n",
      "Predicting on sentence 731\n",
      "Predicting on sentence 732\n",
      "Predicting on sentence 733\n",
      "Predicting on sentence 734\n",
      "Predicting on sentence 735\n",
      "Predicting on sentence 736\n",
      "Predicting on sentence 737\n",
      "Predicting on sentence 738\n",
      "Predicting on sentence 739\n",
      "Predicting on sentence 740\n",
      "Predicting on sentence 741\n",
      "Predicting on sentence 742\n",
      "Predicting on sentence 743\n",
      "Predicting on sentence 744\n",
      "Predicting on sentence 745\n",
      "Predicting on sentence 746\n",
      "Predicting on sentence 747\n",
      "Predicting on sentence 748\n",
      "Predicting on sentence 749\n",
      "Predicting on sentence 750\n",
      "Predicting on sentence 751\n",
      "Predicting on sentence 752\n",
      "Predicting on sentence 753\n",
      "Predicting on sentence 754\n",
      "Predicting on sentence 755\n",
      "Predicting on sentence 756\n",
      "Predicting on sentence 757\n",
      "Predicting on sentence 758\n",
      "Predicting on sentence 759\n",
      "Predicting on sentence 760\n",
      "Predicting on sentence 761\n",
      "Predicting on sentence 762\n",
      "Predicting on sentence 763\n",
      "Predicting on sentence 764\n",
      "Predicting on sentence 765\n",
      "Predicting on sentence 766\n",
      "Predicting on sentence 767\n",
      "Predicting on sentence 768\n",
      "Predicting on sentence 769\n",
      "Predicting on sentence 770\n",
      "Predicting on sentence 771\n",
      "Predicting on sentence 772\n",
      "Predicting on sentence 773\n",
      "Predicting on sentence 774\n",
      "Predicting on sentence 775\n",
      "Predicting on sentence 776\n",
      "Predicting on sentence 777\n",
      "Predicting on sentence 778\n",
      "Predicting on sentence 779\n",
      "Predicting on sentence 780\n",
      "Predicting on sentence 781\n",
      "Predicting on sentence 782\n",
      "Predicting on sentence 783\n",
      "Predicting on sentence 784\n",
      "Predicting on sentence 785\n",
      "Predicting on sentence 786\n",
      "Predicting on sentence 787\n",
      "Predicting on sentence 788\n",
      "Predicting on sentence 789\n",
      "Predicting on sentence 790\n",
      "Predicting on sentence 791\n",
      "Predicting on sentence 792\n",
      "Predicting on sentence 793\n",
      "Predicting on sentence 794\n",
      "Predicting on sentence 795\n",
      "Predicting on sentence 796\n",
      "Predicting on sentence 797\n",
      "Predicting on sentence 798\n",
      "Predicting on sentence 799\n",
      "Predicting on sentence 800\n",
      "Predicting on sentence 801\n",
      "Predicting on sentence 802\n",
      "Predicting on sentence 803\n",
      "Predicting on sentence 804\n",
      "Predicting on sentence 805\n",
      "Predicting on sentence 806\n",
      "Predicting on sentence 807\n",
      "Predicting on sentence 808\n",
      "Predicting on sentence 809\n",
      "Predicting on sentence 810\n",
      "Predicting on sentence 811\n",
      "Predicting on sentence 812\n",
      "Predicting on sentence 813\n",
      "Predicting on sentence 814\n",
      "Predicting on sentence 815\n",
      "Predicting on sentence 816\n",
      "Predicting on sentence 817\n",
      "Predicting on sentence 818\n",
      "Predicting on sentence 819\n",
      "Predicting on sentence 820\n",
      "Predicting on sentence 821\n",
      "Predicting on sentence 822\n",
      "Predicting on sentence 823\n",
      "Predicting on sentence 824\n",
      "Predicting on sentence 825\n",
      "Predicting on sentence 826\n",
      "Predicting on sentence 827\n",
      "Predicting on sentence 828\n",
      "Predicting on sentence 829\n",
      "Predicting on sentence 830\n",
      "Predicting on sentence 831\n",
      "Predicting on sentence 832\n",
      "Predicting on sentence 833\n",
      "Predicting on sentence 834\n",
      "Predicting on sentence 835\n",
      "Predicting on sentence 836\n",
      "Predicting on sentence 837\n"
     ]
    }
   ],
   "source": [
    "test_sentences = X_test_df[pred_field].to_list()\n",
    "y_test = X_test_df['label_descriptive'].to_list()\n",
    "y_test_pred_completed, y_test_true_completed, test_completed_sentences = predict_gpt(test_sentences, y_test, initial_message, 'gpt-4', print_every = 1)"
   ]
  },
  {
   "cell_type": "code",
   "execution_count": 11,
   "metadata": {
    "application/vnd.databricks.v1+cell": {
     "cellMetadata": {
      "byteLimit": 2048000,
      "rowLimit": 10000
     },
     "inputWidgets": {},
     "nuid": "c64d2bca-256c-4af4-890a-8f870488addf",
     "showTitle": false,
     "title": ""
    }
   },
   "outputs": [
    {
     "name": "stdout",
     "output_type": "stream",
     "text": [
      "Finished 838 sentences out of 838\n",
      "Precision:  0.746 Recall:  0.736 F1: 0.738 Accuracy: 0.839\n",
      "              precision    recall  f1-score   support\n",
      "\n",
      "    creation       0.74      0.62      0.67        94\n",
      "     mention       0.46      0.44      0.45        95\n",
      "        none       0.86      0.97      0.91       200\n",
      "       usage       0.93      0.91      0.92       449\n",
      "\n",
      "    accuracy                           0.84       838\n",
      "   macro avg       0.75      0.74      0.74       838\n",
      "weighted avg       0.84      0.84      0.84       838\n",
      "\n"
     ]
    }
   ],
   "source": [
    "print('Finished', len(y_test_true_completed), 'sentences out of', len(X_test_df))\n",
    "evaluate(y_test_true_completed, y_test_pred_completed)"
   ]
  },
  {
   "cell_type": "code",
   "execution_count": 12,
   "metadata": {
    "application/vnd.databricks.v1+cell": {
     "cellMetadata": {
      "byteLimit": 2048000,
      "rowLimit": 10000
     },
     "inputWidgets": {},
     "nuid": "d96b74c3-61c3-4e18-87f4-968c664a994d",
     "showTitle": false,
     "title": ""
    }
   },
   "outputs": [
    {
     "data": {
      "text/plain": [
       "Counter({'usage': 449, 'none': 200, 'mention': 95, 'creation': 94})"
      ]
     },
     "execution_count": 12,
     "metadata": {},
     "output_type": "execute_result"
    }
   ],
   "source": [
    "Counter(y_test_true_completed)"
   ]
  },
  {
   "cell_type": "markdown",
   "metadata": {
    "application/vnd.databricks.v1+cell": {
     "cellMetadata": {
      "byteLimit": 2048000,
      "rowLimit": 10000
     },
     "inputWidgets": {},
     "nuid": "f3618c25-1aa6-4045-8fc5-e4f5dbe1951f",
     "showTitle": false,
     "title": ""
    }
   },
   "source": [
    "### CZI validation dataset"
   ]
  },
  {
   "cell_type": "code",
   "execution_count": 20,
   "metadata": {
    "application/vnd.databricks.v1+cell": {
     "cellMetadata": {
      "byteLimit": 2048000,
      "rowLimit": 10000
     },
     "inputWidgets": {},
     "nuid": "af28df2d-9d8f-45d7-9443-34b3d4670ae3",
     "showTitle": false,
     "title": ""
    }
   },
   "outputs": [
    {
     "name": "stdout",
     "output_type": "stream",
     "text": [
      "Predicting on sentence 0\n",
      "Predicting on sentence 1\n",
      "Predicting on sentence 2\n",
      "Predicting on sentence 3\n",
      "Predicting on sentence 4\n",
      "Predicting on sentence 5\n",
      "Predicting on sentence 6\n",
      "Predicting on sentence 7\n",
      "Predicting on sentence 8\n",
      "Predicting on sentence 9\n",
      "Predicting on sentence 10\n",
      "Predicting on sentence 11\n",
      "Predicting on sentence 12\n",
      "Predicting on sentence 13\n",
      "Predicting on sentence 14\n",
      "Predicting on sentence 15\n",
      "Predicting on sentence 16\n",
      "Predicting on sentence 17\n",
      "Predicting on sentence 18\n",
      "Predicting on sentence 19\n",
      "Predicting on sentence 20\n",
      "Predicting on sentence 21\n",
      "Predicting on sentence 22\n",
      "Predicting on sentence 23\n",
      "Predicting on sentence 24\n",
      "Predicting on sentence 25\n",
      "Predicting on sentence 26\n",
      "Predicting on sentence 27\n",
      "Predicting on sentence 28\n",
      "Predicting on sentence 29\n",
      "Predicting on sentence 30\n",
      "Predicting on sentence 31\n",
      "Predicting on sentence 32\n",
      "Predicting on sentence 33\n",
      "Predicting on sentence 34\n",
      "Predicting on sentence 35\n",
      "Predicting on sentence 36\n",
      "Predicting on sentence 37\n",
      "Predicting on sentence 38\n",
      "Predicting on sentence 39\n",
      "Predicting on sentence 40\n",
      "Predicting on sentence 41\n",
      "Predicting on sentence 42\n",
      "Predicting on sentence 43\n",
      "Predicting on sentence 44\n",
      "Predicting on sentence 45\n",
      "Predicting on sentence 46\n",
      "Predicting on sentence 47\n",
      "Predicting on sentence 48\n",
      "Predicting on sentence 49\n",
      "Predicting on sentence 50\n",
      "Predicting on sentence 51\n",
      "Predicting on sentence 52\n",
      "Predicting on sentence 53\n",
      "Predicting on sentence 54\n",
      "Predicting on sentence 55\n",
      "Predicting on sentence 56\n",
      "Predicting on sentence 57\n",
      "Predicting on sentence 58\n",
      "Predicting on sentence 59\n",
      "Predicting on sentence 60\n",
      "Predicting on sentence 61\n",
      "Predicting on sentence 62\n",
      "Predicting on sentence 63\n",
      "Predicting on sentence 64\n",
      "Predicting on sentence 65\n",
      "Predicting on sentence 66\n",
      "Predicting on sentence 67\n",
      "Predicting on sentence 68\n",
      "Predicting on sentence 69\n",
      "Predicting on sentence 70\n",
      "Predicting on sentence 71\n",
      "Predicting on sentence 72\n",
      "Predicting on sentence 73\n",
      "Predicting on sentence 74\n",
      "Predicting on sentence 75\n",
      "Predicting on sentence 76\n",
      "Predicting on sentence 77\n",
      "Predicting on sentence 78\n",
      "Predicting on sentence 79\n",
      "Predicting on sentence 80\n",
      "Predicting on sentence 81\n",
      "Predicting on sentence 82\n",
      "Predicting on sentence 83\n",
      "Predicting on sentence 84\n",
      "Predicting on sentence 85\n",
      "Predicting on sentence 86\n",
      "Predicting on sentence 87\n",
      "Predicting on sentence 88\n",
      "Predicting on sentence 89\n",
      "Predicting on sentence 90\n",
      "Predicting on sentence 91\n",
      "Predicting on sentence 92\n",
      "Predicting on sentence 93\n",
      "Predicting on sentence 94\n",
      "Predicting on sentence 95\n",
      "Predicting on sentence 96\n",
      "Predicting on sentence 97\n",
      "Predicting on sentence 98\n",
      "Predicting on sentence 99\n",
      "Predicting on sentence 100\n",
      "Predicting on sentence 101\n",
      "Predicting on sentence 102\n",
      "Predicting on sentence 103\n",
      "Predicting on sentence 104\n",
      "Predicting on sentence 105\n",
      "Predicting on sentence 106\n",
      "Predicting on sentence 107\n",
      "Predicting on sentence 108\n",
      "Predicting on sentence 109\n",
      "Predicting on sentence 110\n",
      "Predicting on sentence 111\n",
      "Predicting on sentence 112\n",
      "Predicting on sentence 113\n",
      "Predicting on sentence 114\n",
      "Predicting on sentence 115\n",
      "Predicting on sentence 116\n",
      "Predicting on sentence 117\n",
      "Predicting on sentence 118\n",
      "Predicting on sentence 119\n",
      "Predicting on sentence 120\n",
      "Predicting on sentence 121\n",
      "Predicting on sentence 122\n",
      "Predicting on sentence 123\n",
      "Predicting on sentence 124\n",
      "Predicting on sentence 125\n",
      "Predicting on sentence 126\n",
      "Predicting on sentence 127\n",
      "Predicting on sentence 128\n",
      "Predicting on sentence 129\n",
      "Predicting on sentence 130\n",
      "Predicting on sentence 131\n",
      "Predicting on sentence 132\n",
      "Predicting on sentence 133\n",
      "Predicting on sentence 134\n",
      "Predicting on sentence 135\n",
      "Predicting on sentence 136\n",
      "Predicting on sentence 137\n",
      "Predicting on sentence 138\n",
      "Predicting on sentence 139\n",
      "Predicting on sentence 140\n",
      "Predicting on sentence 141\n",
      "Predicting on sentence 142\n",
      "Predicting on sentence 143\n",
      "Predicting on sentence 144\n",
      "Predicting on sentence 145\n",
      "Predicting on sentence 146\n",
      "Predicting on sentence 147\n",
      "Predicting on sentence 148\n",
      "Predicting on sentence 149\n",
      "Predicting on sentence 150\n",
      "Predicting on sentence 151\n",
      "Predicting on sentence 152\n",
      "Predicting on sentence 153\n",
      "Predicting on sentence 154\n",
      "Predicting on sentence 155\n",
      "Predicting on sentence 156\n",
      "Predicting on sentence 157\n",
      "Predicting on sentence 158\n",
      "Predicting on sentence 159\n",
      "Predicting on sentence 160\n",
      "Predicting on sentence 161\n",
      "Predicting on sentence 162\n",
      "Predicting on sentence 163\n",
      "Predicting on sentence 164\n",
      "Predicting on sentence 165\n",
      "Predicting on sentence 166\n",
      "Predicting on sentence 167\n",
      "Predicting on sentence 168\n",
      "Predicting on sentence 169\n",
      "Predicting on sentence 170\n",
      "Predicting on sentence 171\n",
      "Predicting on sentence 172\n",
      "Predicting on sentence 173\n",
      "Predicting on sentence 174\n",
      "Predicting on sentence 175\n",
      "Predicting on sentence 176\n",
      "Predicting on sentence 177\n",
      "Predicting on sentence 178\n",
      "Predicting on sentence 179\n",
      "Predicting on sentence 180\n",
      "Predicting on sentence 181\n",
      "Predicting on sentence 182\n",
      "Predicting on sentence 183\n",
      "Predicting on sentence 184\n",
      "Predicting on sentence 185\n",
      "Predicting on sentence 186\n",
      "Predicting on sentence 187\n",
      "Predicting on sentence 188\n",
      "Predicting on sentence 189\n",
      "Predicting on sentence 190\n",
      "Predicting on sentence 191\n",
      "Predicting on sentence 192\n",
      "Predicting on sentence 193\n",
      "Predicting on sentence 194\n",
      "Predicting on sentence 195\n",
      "Predicting on sentence 196\n",
      "Predicting on sentence 197\n",
      "Predicting on sentence 198\n",
      "Predicting on sentence 199\n",
      "Predicting on sentence 200\n",
      "Predicting on sentence 201\n",
      "Predicting on sentence 202\n",
      "Predicting on sentence 203\n",
      "Predicting on sentence 204\n",
      "Predicting on sentence 205\n",
      "Predicting on sentence 206\n",
      "Predicting on sentence 207\n",
      "Predicting on sentence 208\n",
      "Predicting on sentence 209\n"
     ]
    }
   ],
   "source": [
    "czi_val_df = pd.read_csv('../data/czi_val_merged.csv').drop_duplicates()\n",
    "czi_val_df['label'] = czi_val_df['label'].apply(lambda x: 'mention' if x == 'none' else x)\n",
    "test_sentences_czi = czi_val_df['text'].to_list()\n",
    "y_czi_val = czi_val_df['label'].to_list()\n",
    "y_pred_completed_czi, y_true_completed_czi, test_completed_sentences_czi = predict_gpt(test_sentences_czi, y_czi_val, initial_message, \"gpt-3.5-turbo\", print_every = 1)"
   ]
  },
  {
   "cell_type": "code",
   "execution_count": 21,
   "metadata": {
    "application/vnd.databricks.v1+cell": {
     "cellMetadata": {
      "byteLimit": 2048000,
      "rowLimit": 10000
     },
     "inputWidgets": {},
     "nuid": "8a38cbf1-c7b1-49ee-86bc-50f2ee4f74bf",
     "showTitle": false,
     "title": ""
    }
   },
   "outputs": [
    {
     "name": "stdout",
     "output_type": "stream",
     "text": [
      "Completed 210 / 210\n",
      "Precision:  0.473 Recall:  0.385 F1: 0.421 Accuracy: 0.614\n",
      "              precision    recall  f1-score   support\n",
      "\n",
      "    creation       0.70      0.70      0.70        10\n",
      "     mention       0.21      0.17      0.19        23\n",
      "        none       0.00      0.00      0.00         0\n",
      "       usage       0.98      0.67      0.79       177\n",
      "\n",
      "    accuracy                           0.61       210\n",
      "   macro avg       0.47      0.39      0.42       210\n",
      "weighted avg       0.89      0.61      0.72       210\n",
      "\n"
     ]
    }
   ],
   "source": [
    "print('Completed', len(test_completed_sentences_czi), '/', len(test_sentences_czi))\n",
    "evaluate(y_true_completed_czi, y_pred_completed_czi)"
   ]
  },
  {
   "cell_type": "markdown",
   "metadata": {
    "application/vnd.databricks.v1+cell": {
     "cellMetadata": {
      "byteLimit": 2048000,
      "rowLimit": 10000
     },
     "inputWidgets": {},
     "nuid": "80e1d7c6-0d17-4b37-8e0c-78fee2831a33",
     "showTitle": false,
     "title": ""
    }
   },
   "source": [
    "### Error Analysis"
   ]
  },
  {
   "cell_type": "code",
   "execution_count": 26,
   "metadata": {
    "application/vnd.databricks.v1+cell": {
     "cellMetadata": {
      "byteLimit": 2048000,
      "rowLimit": 10000
     },
     "inputWidgets": {},
     "nuid": "66a2aa11-98de-43b3-a880-fa1bb36ede85",
     "showTitle": false,
     "title": ""
    }
   },
   "outputs": [
    {
     "data": {
      "application/vnd.plotly.v1+json": {
       "config": {
        "plotlyServerURL": "https://plot.ly"
       },
       "data": [
        {
         "alignmentgroup": "True",
         "hovertemplate": "category=pred_gpt4<br>label=%{x}<br>text=%{y}<extra></extra>",
         "legendgroup": "pred_gpt4",
         "marker": {
          "color": "#636efa",
          "pattern": {
           "shape": ""
          }
         },
         "name": "pred_gpt4",
         "offsetgroup": "pred_gpt4",
         "orientation": "v",
         "showlegend": true,
         "textposition": "auto",
         "type": "bar",
         "x": [
          "creation",
          "mention",
          "none",
          "usage"
         ],
         "xaxis": "x",
         "y": [
          10,
          19,
          61,
          120
         ],
         "yaxis": "y"
        },
        {
         "alignmentgroup": "True",
         "hovertemplate": "category=true<br>label=%{x}<br>text=%{y}<extra></extra>",
         "legendgroup": "true",
         "marker": {
          "color": "#EF553B",
          "pattern": {
           "shape": ""
          }
         },
         "name": "true",
         "offsetgroup": "true",
         "orientation": "v",
         "showlegend": true,
         "textposition": "auto",
         "type": "bar",
         "x": [
          "creation",
          "mention",
          "usage"
         ],
         "xaxis": "x",
         "y": [
          10,
          23,
          177
         ],
         "yaxis": "y"
        }
       ],
       "layout": {
        "barmode": "group",
        "height": 500,
        "legend": {
         "title": {
          "text": "category"
         },
         "tracegroupgap": 0
        },
        "margin": {
         "t": 60
        },
        "template": {
         "data": {
          "bar": [
           {
            "error_x": {
             "color": "#2a3f5f"
            },
            "error_y": {
             "color": "#2a3f5f"
            },
            "marker": {
             "line": {
              "color": "#E5ECF6",
              "width": 0.5
             },
             "pattern": {
              "fillmode": "overlay",
              "size": 10,
              "solidity": 0.2
             }
            },
            "type": "bar"
           }
          ],
          "barpolar": [
           {
            "marker": {
             "line": {
              "color": "#E5ECF6",
              "width": 0.5
             },
             "pattern": {
              "fillmode": "overlay",
              "size": 10,
              "solidity": 0.2
             }
            },
            "type": "barpolar"
           }
          ],
          "carpet": [
           {
            "aaxis": {
             "endlinecolor": "#2a3f5f",
             "gridcolor": "white",
             "linecolor": "white",
             "minorgridcolor": "white",
             "startlinecolor": "#2a3f5f"
            },
            "baxis": {
             "endlinecolor": "#2a3f5f",
             "gridcolor": "white",
             "linecolor": "white",
             "minorgridcolor": "white",
             "startlinecolor": "#2a3f5f"
            },
            "type": "carpet"
           }
          ],
          "choropleth": [
           {
            "colorbar": {
             "outlinewidth": 0,
             "ticks": ""
            },
            "type": "choropleth"
           }
          ],
          "contour": [
           {
            "colorbar": {
             "outlinewidth": 0,
             "ticks": ""
            },
            "colorscale": [
             [
              0,
              "#0d0887"
             ],
             [
              0.1111111111111111,
              "#46039f"
             ],
             [
              0.2222222222222222,
              "#7201a8"
             ],
             [
              0.3333333333333333,
              "#9c179e"
             ],
             [
              0.4444444444444444,
              "#bd3786"
             ],
             [
              0.5555555555555556,
              "#d8576b"
             ],
             [
              0.6666666666666666,
              "#ed7953"
             ],
             [
              0.7777777777777778,
              "#fb9f3a"
             ],
             [
              0.8888888888888888,
              "#fdca26"
             ],
             [
              1,
              "#f0f921"
             ]
            ],
            "type": "contour"
           }
          ],
          "contourcarpet": [
           {
            "colorbar": {
             "outlinewidth": 0,
             "ticks": ""
            },
            "type": "contourcarpet"
           }
          ],
          "heatmap": [
           {
            "colorbar": {
             "outlinewidth": 0,
             "ticks": ""
            },
            "colorscale": [
             [
              0,
              "#0d0887"
             ],
             [
              0.1111111111111111,
              "#46039f"
             ],
             [
              0.2222222222222222,
              "#7201a8"
             ],
             [
              0.3333333333333333,
              "#9c179e"
             ],
             [
              0.4444444444444444,
              "#bd3786"
             ],
             [
              0.5555555555555556,
              "#d8576b"
             ],
             [
              0.6666666666666666,
              "#ed7953"
             ],
             [
              0.7777777777777778,
              "#fb9f3a"
             ],
             [
              0.8888888888888888,
              "#fdca26"
             ],
             [
              1,
              "#f0f921"
             ]
            ],
            "type": "heatmap"
           }
          ],
          "heatmapgl": [
           {
            "colorbar": {
             "outlinewidth": 0,
             "ticks": ""
            },
            "colorscale": [
             [
              0,
              "#0d0887"
             ],
             [
              0.1111111111111111,
              "#46039f"
             ],
             [
              0.2222222222222222,
              "#7201a8"
             ],
             [
              0.3333333333333333,
              "#9c179e"
             ],
             [
              0.4444444444444444,
              "#bd3786"
             ],
             [
              0.5555555555555556,
              "#d8576b"
             ],
             [
              0.6666666666666666,
              "#ed7953"
             ],
             [
              0.7777777777777778,
              "#fb9f3a"
             ],
             [
              0.8888888888888888,
              "#fdca26"
             ],
             [
              1,
              "#f0f921"
             ]
            ],
            "type": "heatmapgl"
           }
          ],
          "histogram": [
           {
            "marker": {
             "pattern": {
              "fillmode": "overlay",
              "size": 10,
              "solidity": 0.2
             }
            },
            "type": "histogram"
           }
          ],
          "histogram2d": [
           {
            "colorbar": {
             "outlinewidth": 0,
             "ticks": ""
            },
            "colorscale": [
             [
              0,
              "#0d0887"
             ],
             [
              0.1111111111111111,
              "#46039f"
             ],
             [
              0.2222222222222222,
              "#7201a8"
             ],
             [
              0.3333333333333333,
              "#9c179e"
             ],
             [
              0.4444444444444444,
              "#bd3786"
             ],
             [
              0.5555555555555556,
              "#d8576b"
             ],
             [
              0.6666666666666666,
              "#ed7953"
             ],
             [
              0.7777777777777778,
              "#fb9f3a"
             ],
             [
              0.8888888888888888,
              "#fdca26"
             ],
             [
              1,
              "#f0f921"
             ]
            ],
            "type": "histogram2d"
           }
          ],
          "histogram2dcontour": [
           {
            "colorbar": {
             "outlinewidth": 0,
             "ticks": ""
            },
            "colorscale": [
             [
              0,
              "#0d0887"
             ],
             [
              0.1111111111111111,
              "#46039f"
             ],
             [
              0.2222222222222222,
              "#7201a8"
             ],
             [
              0.3333333333333333,
              "#9c179e"
             ],
             [
              0.4444444444444444,
              "#bd3786"
             ],
             [
              0.5555555555555556,
              "#d8576b"
             ],
             [
              0.6666666666666666,
              "#ed7953"
             ],
             [
              0.7777777777777778,
              "#fb9f3a"
             ],
             [
              0.8888888888888888,
              "#fdca26"
             ],
             [
              1,
              "#f0f921"
             ]
            ],
            "type": "histogram2dcontour"
           }
          ],
          "mesh3d": [
           {
            "colorbar": {
             "outlinewidth": 0,
             "ticks": ""
            },
            "type": "mesh3d"
           }
          ],
          "parcoords": [
           {
            "line": {
             "colorbar": {
              "outlinewidth": 0,
              "ticks": ""
             }
            },
            "type": "parcoords"
           }
          ],
          "pie": [
           {
            "automargin": true,
            "type": "pie"
           }
          ],
          "scatter": [
           {
            "fillpattern": {
             "fillmode": "overlay",
             "size": 10,
             "solidity": 0.2
            },
            "type": "scatter"
           }
          ],
          "scatter3d": [
           {
            "line": {
             "colorbar": {
              "outlinewidth": 0,
              "ticks": ""
             }
            },
            "marker": {
             "colorbar": {
              "outlinewidth": 0,
              "ticks": ""
             }
            },
            "type": "scatter3d"
           }
          ],
          "scattercarpet": [
           {
            "marker": {
             "colorbar": {
              "outlinewidth": 0,
              "ticks": ""
             }
            },
            "type": "scattercarpet"
           }
          ],
          "scattergeo": [
           {
            "marker": {
             "colorbar": {
              "outlinewidth": 0,
              "ticks": ""
             }
            },
            "type": "scattergeo"
           }
          ],
          "scattergl": [
           {
            "marker": {
             "colorbar": {
              "outlinewidth": 0,
              "ticks": ""
             }
            },
            "type": "scattergl"
           }
          ],
          "scattermapbox": [
           {
            "marker": {
             "colorbar": {
              "outlinewidth": 0,
              "ticks": ""
             }
            },
            "type": "scattermapbox"
           }
          ],
          "scatterpolar": [
           {
            "marker": {
             "colorbar": {
              "outlinewidth": 0,
              "ticks": ""
             }
            },
            "type": "scatterpolar"
           }
          ],
          "scatterpolargl": [
           {
            "marker": {
             "colorbar": {
              "outlinewidth": 0,
              "ticks": ""
             }
            },
            "type": "scatterpolargl"
           }
          ],
          "scatterternary": [
           {
            "marker": {
             "colorbar": {
              "outlinewidth": 0,
              "ticks": ""
             }
            },
            "type": "scatterternary"
           }
          ],
          "surface": [
           {
            "colorbar": {
             "outlinewidth": 0,
             "ticks": ""
            },
            "colorscale": [
             [
              0,
              "#0d0887"
             ],
             [
              0.1111111111111111,
              "#46039f"
             ],
             [
              0.2222222222222222,
              "#7201a8"
             ],
             [
              0.3333333333333333,
              "#9c179e"
             ],
             [
              0.4444444444444444,
              "#bd3786"
             ],
             [
              0.5555555555555556,
              "#d8576b"
             ],
             [
              0.6666666666666666,
              "#ed7953"
             ],
             [
              0.7777777777777778,
              "#fb9f3a"
             ],
             [
              0.8888888888888888,
              "#fdca26"
             ],
             [
              1,
              "#f0f921"
             ]
            ],
            "type": "surface"
           }
          ],
          "table": [
           {
            "cells": {
             "fill": {
              "color": "#EBF0F8"
             },
             "line": {
              "color": "white"
             }
            },
            "header": {
             "fill": {
              "color": "#C8D4E3"
             },
             "line": {
              "color": "white"
             }
            },
            "type": "table"
           }
          ]
         },
         "layout": {
          "annotationdefaults": {
           "arrowcolor": "#2a3f5f",
           "arrowhead": 0,
           "arrowwidth": 1
          },
          "autotypenumbers": "strict",
          "coloraxis": {
           "colorbar": {
            "outlinewidth": 0,
            "ticks": ""
           }
          },
          "colorscale": {
           "diverging": [
            [
             0,
             "#8e0152"
            ],
            [
             0.1,
             "#c51b7d"
            ],
            [
             0.2,
             "#de77ae"
            ],
            [
             0.3,
             "#f1b6da"
            ],
            [
             0.4,
             "#fde0ef"
            ],
            [
             0.5,
             "#f7f7f7"
            ],
            [
             0.6,
             "#e6f5d0"
            ],
            [
             0.7,
             "#b8e186"
            ],
            [
             0.8,
             "#7fbc41"
            ],
            [
             0.9,
             "#4d9221"
            ],
            [
             1,
             "#276419"
            ]
           ],
           "sequential": [
            [
             0,
             "#0d0887"
            ],
            [
             0.1111111111111111,
             "#46039f"
            ],
            [
             0.2222222222222222,
             "#7201a8"
            ],
            [
             0.3333333333333333,
             "#9c179e"
            ],
            [
             0.4444444444444444,
             "#bd3786"
            ],
            [
             0.5555555555555556,
             "#d8576b"
            ],
            [
             0.6666666666666666,
             "#ed7953"
            ],
            [
             0.7777777777777778,
             "#fb9f3a"
            ],
            [
             0.8888888888888888,
             "#fdca26"
            ],
            [
             1,
             "#f0f921"
            ]
           ],
           "sequentialminus": [
            [
             0,
             "#0d0887"
            ],
            [
             0.1111111111111111,
             "#46039f"
            ],
            [
             0.2222222222222222,
             "#7201a8"
            ],
            [
             0.3333333333333333,
             "#9c179e"
            ],
            [
             0.4444444444444444,
             "#bd3786"
            ],
            [
             0.5555555555555556,
             "#d8576b"
            ],
            [
             0.6666666666666666,
             "#ed7953"
            ],
            [
             0.7777777777777778,
             "#fb9f3a"
            ],
            [
             0.8888888888888888,
             "#fdca26"
            ],
            [
             1,
             "#f0f921"
            ]
           ]
          },
          "colorway": [
           "#636efa",
           "#EF553B",
           "#00cc96",
           "#ab63fa",
           "#FFA15A",
           "#19d3f3",
           "#FF6692",
           "#B6E880",
           "#FF97FF",
           "#FECB52"
          ],
          "font": {
           "color": "#2a3f5f"
          },
          "geo": {
           "bgcolor": "white",
           "lakecolor": "white",
           "landcolor": "#E5ECF6",
           "showlakes": true,
           "showland": true,
           "subunitcolor": "white"
          },
          "hoverlabel": {
           "align": "left"
          },
          "hovermode": "closest",
          "mapbox": {
           "style": "light"
          },
          "paper_bgcolor": "white",
          "plot_bgcolor": "#E5ECF6",
          "polar": {
           "angularaxis": {
            "gridcolor": "white",
            "linecolor": "white",
            "ticks": ""
           },
           "bgcolor": "#E5ECF6",
           "radialaxis": {
            "gridcolor": "white",
            "linecolor": "white",
            "ticks": ""
           }
          },
          "scene": {
           "xaxis": {
            "backgroundcolor": "#E5ECF6",
            "gridcolor": "white",
            "gridwidth": 2,
            "linecolor": "white",
            "showbackground": true,
            "ticks": "",
            "zerolinecolor": "white"
           },
           "yaxis": {
            "backgroundcolor": "#E5ECF6",
            "gridcolor": "white",
            "gridwidth": 2,
            "linecolor": "white",
            "showbackground": true,
            "ticks": "",
            "zerolinecolor": "white"
           },
           "zaxis": {
            "backgroundcolor": "#E5ECF6",
            "gridcolor": "white",
            "gridwidth": 2,
            "linecolor": "white",
            "showbackground": true,
            "ticks": "",
            "zerolinecolor": "white"
           }
          },
          "shapedefaults": {
           "line": {
            "color": "#2a3f5f"
           }
          },
          "ternary": {
           "aaxis": {
            "gridcolor": "white",
            "linecolor": "white",
            "ticks": ""
           },
           "baxis": {
            "gridcolor": "white",
            "linecolor": "white",
            "ticks": ""
           },
           "bgcolor": "#E5ECF6",
           "caxis": {
            "gridcolor": "white",
            "linecolor": "white",
            "ticks": ""
           }
          },
          "title": {
           "x": 0.05
          },
          "xaxis": {
           "automargin": true,
           "gridcolor": "white",
           "linecolor": "white",
           "ticks": "",
           "title": {
            "standoff": 15
           },
           "zerolinecolor": "white",
           "zerolinewidth": 2
          },
          "yaxis": {
           "automargin": true,
           "gridcolor": "white",
           "linecolor": "white",
           "ticks": "",
           "title": {
            "standoff": 15
           },
           "zerolinecolor": "white",
           "zerolinewidth": 2
          }
         }
        },
        "title": {
         "text": "Prediction Distribution in CZI Validation Dataset"
        },
        "width": 800,
        "xaxis": {
         "anchor": "y",
         "autorange": true,
         "domain": [
          0,
          1
         ],
         "range": [
          -0.5,
          3.5
         ],
         "title": {
          "text": "label"
         },
         "type": "category"
        },
        "yaxis": {
         "anchor": "x",
         "autorange": true,
         "domain": [
          0,
          1
         ],
         "range": [
          0,
          186.31578947368422
         ],
         "title": {
          "text": "text"
         },
         "type": "linear"
        }
       }
      },
      "image/png": "[encoded data removed]",
      "text/html": [
       "<div>                            <div id=\"ffcd115f-6e15-459e-9083-6825151217a9\" class=\"plotly-graph-div\" style=\"height:500px; width:800px;\"></div>            <script type=\"text/javascript\">                require([\"plotly\"], function(Plotly) {                    window.PLOTLYENV=window.PLOTLYENV || {};                                    if (document.getElementById(\"ffcd115f-6e15-459e-9083-6825151217a9\")) {                    Plotly.newPlot(                        \"ffcd115f-6e15-459e-9083-6825151217a9\",                        [{\"alignmentgroup\":\"True\",\"hovertemplate\":\"category=pred_gpt4\\u003cbr\\u003elabel=%{x}\\u003cbr\\u003etext=%{y}\\u003cextra\\u003e\\u003c\\u002fextra\\u003e\",\"legendgroup\":\"pred_gpt4\",\"marker\":{\"color\":\"#636efa\",\"pattern\":{\"shape\":\"\"}},\"name\":\"pred_gpt4\",\"offsetgroup\":\"pred_gpt4\",\"orientation\":\"v\",\"showlegend\":true,\"textposition\":\"auto\",\"x\":[\"creation\",\"mention\",\"none\",\"usage\"],\"xaxis\":\"x\",\"y\":[10,19,61,120],\"yaxis\":\"y\",\"type\":\"bar\"},{\"alignmentgroup\":\"True\",\"hovertemplate\":\"category=true\\u003cbr\\u003elabel=%{x}\\u003cbr\\u003etext=%{y}\\u003cextra\\u003e\\u003c\\u002fextra\\u003e\",\"legendgroup\":\"true\",\"marker\":{\"color\":\"#EF553B\",\"pattern\":{\"shape\":\"\"}},\"name\":\"true\",\"offsetgroup\":\"true\",\"orientation\":\"v\",\"showlegend\":true,\"textposition\":\"auto\",\"x\":[\"creation\",\"mention\",\"usage\"],\"xaxis\":\"x\",\"y\":[10,23,177],\"yaxis\":\"y\",\"type\":\"bar\"}],                        {\"template\":{\"data\":{\"histogram2dcontour\":[{\"type\":\"histogram2dcontour\",\"colorbar\":{\"outlinewidth\":0,\"ticks\":\"\"},\"colorscale\":[[0.0,\"#0d0887\"],[0.1111111111111111,\"#46039f\"],[0.2222222222222222,\"#7201a8\"],[0.3333333333333333,\"#9c179e\"],[0.4444444444444444,\"#bd3786\"],[0.5555555555555556,\"#d8576b\"],[0.6666666666666666,\"#ed7953\"],[0.7777777777777778,\"#fb9f3a\"],[0.8888888888888888,\"#fdca26\"],[1.0,\"#f0f921\"]]}],\"choropleth\":[{\"type\":\"choropleth\",\"colorbar\":{\"outlinewidth\":0,\"ticks\":\"\"}}],\"histogram2d\":[{\"type\":\"histogram2d\",\"colorbar\":{\"outlinewidth\":0,\"ticks\":\"\"},\"colorscale\":[[0.0,\"#0d0887\"],[0.1111111111111111,\"#46039f\"],[0.2222222222222222,\"#7201a8\"],[0.3333333333333333,\"#9c179e\"],[0.4444444444444444,\"#bd3786\"],[0.5555555555555556,\"#d8576b\"],[0.6666666666666666,\"#ed7953\"],[0.7777777777777778,\"#fb9f3a\"],[0.8888888888888888,\"#fdca26\"],[1.0,\"#f0f921\"]]}],\"heatmap\":[{\"type\":\"heatmap\",\"colorbar\":{\"outlinewidth\":0,\"ticks\":\"\"},\"colorscale\":[[0.0,\"#0d0887\"],[0.1111111111111111,\"#46039f\"],[0.2222222222222222,\"#7201a8\"],[0.3333333333333333,\"#9c179e\"],[0.4444444444444444,\"#bd3786\"],[0.5555555555555556,\"#d8576b\"],[0.6666666666666666,\"#ed7953\"],[0.7777777777777778,\"#fb9f3a\"],[0.8888888888888888,\"#fdca26\"],[1.0,\"#f0f921\"]]}],\"heatmapgl\":[{\"type\":\"heatmapgl\",\"colorbar\":{\"outlinewidth\":0,\"ticks\":\"\"},\"colorscale\":[[0.0,\"#0d0887\"],[0.1111111111111111,\"#46039f\"],[0.2222222222222222,\"#7201a8\"],[0.3333333333333333,\"#9c179e\"],[0.4444444444444444,\"#bd3786\"],[0.5555555555555556,\"#d8576b\"],[0.6666666666666666,\"#ed7953\"],[0.7777777777777778,\"#fb9f3a\"],[0.8888888888888888,\"#fdca26\"],[1.0,\"#f0f921\"]]}],\"contourcarpet\":[{\"type\":\"contourcarpet\",\"colorbar\":{\"outlinewidth\":0,\"ticks\":\"\"}}],\"contour\":[{\"type\":\"contour\",\"colorbar\":{\"outlinewidth\":0,\"ticks\":\"\"},\"colorscale\":[[0.0,\"#0d0887\"],[0.1111111111111111,\"#46039f\"],[0.2222222222222222,\"#7201a8\"],[0.3333333333333333,\"#9c179e\"],[0.4444444444444444,\"#bd3786\"],[0.5555555555555556,\"#d8576b\"],[0.6666666666666666,\"#ed7953\"],[0.7777777777777778,\"#fb9f3a\"],[0.8888888888888888,\"#fdca26\"],[1.0,\"#f0f921\"]]}],\"surface\":[{\"type\":\"surface\",\"colorbar\":{\"outlinewidth\":0,\"ticks\":\"\"},\"colorscale\":[[0.0,\"#0d0887\"],[0.1111111111111111,\"#46039f\"],[0.2222222222222222,\"#7201a8\"],[0.3333333333333333,\"#9c179e\"],[0.4444444444444444,\"#bd3786\"],[0.5555555555555556,\"#d8576b\"],[0.6666666666666666,\"#ed7953\"],[0.7777777777777778,\"#fb9f3a\"],[0.8888888888888888,\"#fdca26\"],[1.0,\"#f0f921\"]]}],\"mesh3d\":[{\"type\":\"mesh3d\",\"colorbar\":{\"outlinewidth\":0,\"ticks\":\"\"}}],\"scatter\":[{\"fillpattern\":{\"fillmode\":\"overlay\",\"size\":10,\"solidity\":0.2},\"type\":\"scatter\"}],\"parcoords\":[{\"type\":\"parcoords\",\"line\":{\"colorbar\":{\"outlinewidth\":0,\"ticks\":\"\"}}}],\"scatterpolargl\":[{\"type\":\"scatterpolargl\",\"marker\":{\"colorbar\":{\"outlinewidth\":0,\"ticks\":\"\"}}}],\"bar\":[{\"error_x\":{\"color\":\"#2a3f5f\"},\"error_y\":{\"color\":\"#2a3f5f\"},\"marker\":{\"line\":{\"color\":\"#E5ECF6\",\"width\":0.5},\"pattern\":{\"fillmode\":\"overlay\",\"size\":10,\"solidity\":0.2}},\"type\":\"bar\"}],\"scattergeo\":[{\"type\":\"scattergeo\",\"marker\":{\"colorbar\":{\"outlinewidth\":0,\"ticks\":\"\"}}}],\"scatterpolar\":[{\"type\":\"scatterpolar\",\"marker\":{\"colorbar\":{\"outlinewidth\":0,\"ticks\":\"\"}}}],\"histogram\":[{\"marker\":{\"pattern\":{\"fillmode\":\"overlay\",\"size\":10,\"solidity\":0.2}},\"type\":\"histogram\"}],\"scattergl\":[{\"type\":\"scattergl\",\"marker\":{\"colorbar\":{\"outlinewidth\":0,\"ticks\":\"\"}}}],\"scatter3d\":[{\"type\":\"scatter3d\",\"line\":{\"colorbar\":{\"outlinewidth\":0,\"ticks\":\"\"}},\"marker\":{\"colorbar\":{\"outlinewidth\":0,\"ticks\":\"\"}}}],\"scattermapbox\":[{\"type\":\"scattermapbox\",\"marker\":{\"colorbar\":{\"outlinewidth\":0,\"ticks\":\"\"}}}],\"scatterternary\":[{\"type\":\"scatterternary\",\"marker\":{\"colorbar\":{\"outlinewidth\":0,\"ticks\":\"\"}}}],\"scattercarpet\":[{\"type\":\"scattercarpet\",\"marker\":{\"colorbar\":{\"outlinewidth\":0,\"ticks\":\"\"}}}],\"carpet\":[{\"aaxis\":{\"endlinecolor\":\"#2a3f5f\",\"gridcolor\":\"white\",\"linecolor\":\"white\",\"minorgridcolor\":\"white\",\"startlinecolor\":\"#2a3f5f\"},\"baxis\":{\"endlinecolor\":\"#2a3f5f\",\"gridcolor\":\"white\",\"linecolor\":\"white\",\"minorgridcolor\":\"white\",\"startlinecolor\":\"#2a3f5f\"},\"type\":\"carpet\"}],\"table\":[{\"cells\":{\"fill\":{\"color\":\"#EBF0F8\"},\"line\":{\"color\":\"white\"}},\"header\":{\"fill\":{\"color\":\"#C8D4E3\"},\"line\":{\"color\":\"white\"}},\"type\":\"table\"}],\"barpolar\":[{\"marker\":{\"line\":{\"color\":\"#E5ECF6\",\"width\":0.5},\"pattern\":{\"fillmode\":\"overlay\",\"size\":10,\"solidity\":0.2}},\"type\":\"barpolar\"}],\"pie\":[{\"automargin\":true,\"type\":\"pie\"}]},\"layout\":{\"autotypenumbers\":\"strict\",\"colorway\":[\"#636efa\",\"#EF553B\",\"#00cc96\",\"#ab63fa\",\"#FFA15A\",\"#19d3f3\",\"#FF6692\",\"#B6E880\",\"#FF97FF\",\"#FECB52\"],\"font\":{\"color\":\"#2a3f5f\"},\"hovermode\":\"closest\",\"hoverlabel\":{\"align\":\"left\"},\"paper_bgcolor\":\"white\",\"plot_bgcolor\":\"#E5ECF6\",\"polar\":{\"bgcolor\":\"#E5ECF6\",\"angularaxis\":{\"gridcolor\":\"white\",\"linecolor\":\"white\",\"ticks\":\"\"},\"radialaxis\":{\"gridcolor\":\"white\",\"linecolor\":\"white\",\"ticks\":\"\"}},\"ternary\":{\"bgcolor\":\"#E5ECF6\",\"aaxis\":{\"gridcolor\":\"white\",\"linecolor\":\"white\",\"ticks\":\"\"},\"baxis\":{\"gridcolor\":\"white\",\"linecolor\":\"white\",\"ticks\":\"\"},\"caxis\":{\"gridcolor\":\"white\",\"linecolor\":\"white\",\"ticks\":\"\"}},\"coloraxis\":{\"colorbar\":{\"outlinewidth\":0,\"ticks\":\"\"}},\"colorscale\":{\"sequential\":[[0.0,\"#0d0887\"],[0.1111111111111111,\"#46039f\"],[0.2222222222222222,\"#7201a8\"],[0.3333333333333333,\"#9c179e\"],[0.4444444444444444,\"#bd3786\"],[0.5555555555555556,\"#d8576b\"],[0.6666666666666666,\"#ed7953\"],[0.7777777777777778,\"#fb9f3a\"],[0.8888888888888888,\"#fdca26\"],[1.0,\"#f0f921\"]],\"sequentialminus\":[[0.0,\"#0d0887\"],[0.1111111111111111,\"#46039f\"],[0.2222222222222222,\"#7201a8\"],[0.3333333333333333,\"#9c179e\"],[0.4444444444444444,\"#bd3786\"],[0.5555555555555556,\"#d8576b\"],[0.6666666666666666,\"#ed7953\"],[0.7777777777777778,\"#fb9f3a\"],[0.8888888888888888,\"#fdca26\"],[1.0,\"#f0f921\"]],\"diverging\":[[0,\"#8e0152\"],[0.1,\"#c51b7d\"],[0.2,\"#de77ae\"],[0.3,\"#f1b6da\"],[0.4,\"#fde0ef\"],[0.5,\"#f7f7f7\"],[0.6,\"#e6f5d0\"],[0.7,\"#b8e186\"],[0.8,\"#7fbc41\"],[0.9,\"#4d9221\"],[1,\"#276419\"]]},\"xaxis\":{\"gridcolor\":\"white\",\"linecolor\":\"white\",\"ticks\":\"\",\"title\":{\"standoff\":15},\"zerolinecolor\":\"white\",\"automargin\":true,\"zerolinewidth\":2},\"yaxis\":{\"gridcolor\":\"white\",\"linecolor\":\"white\",\"ticks\":\"\",\"title\":{\"standoff\":15},\"zerolinecolor\":\"white\",\"automargin\":true,\"zerolinewidth\":2},\"scene\":{\"xaxis\":{\"backgroundcolor\":\"#E5ECF6\",\"gridcolor\":\"white\",\"linecolor\":\"white\",\"showbackground\":true,\"ticks\":\"\",\"zerolinecolor\":\"white\",\"gridwidth\":2},\"yaxis\":{\"backgroundcolor\":\"#E5ECF6\",\"gridcolor\":\"white\",\"linecolor\":\"white\",\"showbackground\":true,\"ticks\":\"\",\"zerolinecolor\":\"white\",\"gridwidth\":2},\"zaxis\":{\"backgroundcolor\":\"#E5ECF6\",\"gridcolor\":\"white\",\"linecolor\":\"white\",\"showbackground\":true,\"ticks\":\"\",\"zerolinecolor\":\"white\",\"gridwidth\":2}},\"shapedefaults\":{\"line\":{\"color\":\"#2a3f5f\"}},\"annotationdefaults\":{\"arrowcolor\":\"#2a3f5f\",\"arrowhead\":0,\"arrowwidth\":1},\"geo\":{\"bgcolor\":\"white\",\"landcolor\":\"#E5ECF6\",\"subunitcolor\":\"white\",\"showland\":true,\"showlakes\":true,\"lakecolor\":\"white\"},\"title\":{\"x\":0.05},\"mapbox\":{\"style\":\"light\"}}},\"xaxis\":{\"anchor\":\"y\",\"domain\":[0.0,1.0],\"title\":{\"text\":\"label\"}},\"yaxis\":{\"anchor\":\"x\",\"domain\":[0.0,1.0],\"title\":{\"text\":\"text\"}},\"legend\":{\"title\":{\"text\":\"category\"},\"tracegroupgap\":0},\"margin\":{\"t\":60},\"barmode\":\"group\",\"width\":800,\"height\":500,\"title\":{\"text\":\"Prediction Distribution in CZI Validation Dataset\"}},                        {\"responsive\": true}                    ).then(function(){\n",
       "                            \n",
       "var gd = document.getElementById('ffcd115f-6e15-459e-9083-6825151217a9');\n",
       "var x = new MutationObserver(function (mutations, observer) {{\n",
       "        var display = window.getComputedStyle(gd).display;\n",
       "        if (!display || display === 'none') {{\n",
       "            console.log([gd, 'removed!']);\n",
       "            Plotly.purge(gd);\n",
       "            observer.disconnect();\n",
       "        }}\n",
       "}});\n",
       "\n",
       "// Listen for the removal of the full notebook cells\n",
       "var notebookContainer = gd.closest('#notebook-container');\n",
       "if (notebookContainer) {{\n",
       "    x.observe(notebookContainer, {childList: true});\n",
       "}}\n",
       "\n",
       "// Listen for the clearing of the current output cell\n",
       "var outputEl = gd.closest('.output');\n",
       "if (outputEl) {{\n",
       "    x.observe(outputEl, {childList: true});\n",
       "}}\n",
       "\n",
       "                        })                };                });            </script>        </div>"
      ]
     },
     "metadata": {},
     "output_type": "display_data"
    }
   ],
   "source": [
    "def get_pred_label(x, completed_sentences, y_pred_completed):\n",
    "    for sent, label in zip(completed_sentences, y_pred_completed):\n",
    "        if sent == x:\n",
    "            return label\n",
    "    return 'no_prediction'\n",
    "    \n",
    "czi_val_df['category'] = 'true'\n",
    "czi_val_df['pred_label'] = czi_val_df['text'].apply(lambda x: get_pred_label(x, test_completed_sentences_czi, y_pred_completed_czi))\n",
    "czi_val_df_pred = czi_val_df.copy()\n",
    "czi_val_df_pred['category'] = 'pred_gpt4'\n",
    "czi_val_df_pred['label'] = czi_val_df_pred['pred_label']\n",
    "\n",
    "\n",
    "czi_val_df_all = pd.concat([czi_val_df_pred, czi_val_df])\n",
    "\n",
    "labels_grouped = czi_val_df_all.groupby(['label', 'category']).count().reset_index()\n",
    "fig = px.bar(labels_grouped, x = 'label', y = 'text', color = 'category', barmode = 'group')\n",
    "fig.update_layout(width=800,height=500, title = 'Prediction Distribution in CZI Validation Dataset')"
   ]
  },
  {
   "cell_type": "markdown",
   "metadata": {
    "application/vnd.databricks.v1+cell": {
     "cellMetadata": {
      "byteLimit": 2048000,
      "rowLimit": 10000
     },
     "inputWidgets": {},
     "nuid": "866d993c-4703-4e92-9ce6-bb28fcd589df",
     "showTitle": false,
     "title": ""
    }
   },
   "source": [
    "#### False positives"
   ]
  },
  {
   "cell_type": "code",
   "execution_count": 23,
   "metadata": {
    "application/vnd.databricks.v1+cell": {
     "cellMetadata": {
      "byteLimit": 2048000,
      "rowLimit": 10000
     },
     "inputWidgets": {},
     "nuid": "00820624-d97c-491a-82cb-cac28ab2cd4b",
     "showTitle": false,
     "title": ""
    }
   },
   "outputs": [
    {
     "data": {
      "text/html": [
       "<div>\n",
       "<style scoped>\n",
       "    .dataframe tbody tr th:only-of-type {\n",
       "        vertical-align: middle;\n",
       "    }\n",
       "\n",
       "    .dataframe tbody tr th {\n",
       "        vertical-align: top;\n",
       "    }\n",
       "\n",
       "    .dataframe thead th {\n",
       "        text-align: right;\n",
       "    }\n",
       "</style>\n",
       "<table border=\"1\" class=\"dataframe\">\n",
       "  <thead>\n",
       "    <tr style=\"text-align: right;\">\n",
       "      <th></th>\n",
       "      <th>doi_link</th>\n",
       "      <th>source</th>\n",
       "      <th>text</th>\n",
       "      <th>software</th>\n",
       "      <th>intent</th>\n",
       "      <th>label</th>\n",
       "      <th>category</th>\n",
       "      <th>pred_label</th>\n",
       "    </tr>\n",
       "  </thead>\n",
       "  <tbody>\n",
       "    <tr>\n",
       "      <th>23</th>\n",
       "      <td>https://doi.org/10.1371/journal.pone.0163668</td>\n",
       "      <td>Statistical analysis</td>\n",
       "      <td>We computed pairwise LD statistics (D’ and r2) and haplotype frequencies using Haploview 4.0 (Broad Institute of MIT and Harvard, Cambridge, MA)</td>\n",
       "      <td>Haploview</td>\n",
       "      <td>used</td>\n",
       "      <td>usage</td>\n",
       "      <td>true</td>\n",
       "      <td>mention</td>\n",
       "    </tr>\n",
       "    <tr>\n",
       "      <th>26</th>\n",
       "      <td>https://doi.org/10.3390/pathogens10030277</td>\n",
       "      <td>NaN</td>\n",
       "      <td>Evolutionary analyses were conducted in MEGA X [19].</td>\n",
       "      <td>MEGA X</td>\n",
       "      <td>used</td>\n",
       "      <td>usage</td>\n",
       "      <td>true</td>\n",
       "      <td>mention</td>\n",
       "    </tr>\n",
       "    <tr>\n",
       "      <th>32</th>\n",
       "      <td>https://doi.org/10.1038/s41598-017-02942-3</td>\n",
       "      <td>Stimuli and Apparatus</td>\n",
       "      <td>Stimuli presentation and behavioral data collection were performed using E-Prime v2.0 (Psychology Software Tools, Pittsburgh, PA)</td>\n",
       "      <td>E-Prime</td>\n",
       "      <td>used</td>\n",
       "      <td>usage</td>\n",
       "      <td>true</td>\n",
       "      <td>mention</td>\n",
       "    </tr>\n",
       "    <tr>\n",
       "      <th>35</th>\n",
       "      <td>https://doi.org/10.1111/jpi.12673</td>\n",
       "      <td>Implementation details</td>\n",
       "      <td>The website is written in the Python programming language using the ‘Flask’ framework</td>\n",
       "      <td>Flask</td>\n",
       "      <td>used</td>\n",
       "      <td>usage</td>\n",
       "      <td>true</td>\n",
       "      <td>mention</td>\n",
       "    </tr>\n",
       "    <tr>\n",
       "      <th>62</th>\n",
       "      <td>https://doi.org/10.1136/bmjopen-2016-013606</td>\n",
       "      <td>Statistical analyses</td>\n",
       "      <td>All data will be analysed using SPSS (V.21) and STATA (Release V.12)</td>\n",
       "      <td>STATA</td>\n",
       "      <td>used</td>\n",
       "      <td>usage</td>\n",
       "      <td>true</td>\n",
       "      <td>mention</td>\n",
       "    </tr>\n",
       "    <tr>\n",
       "      <th>82</th>\n",
       "      <td>https://doi.org/10.3390/ijerph13020152</td>\n",
       "      <td>2. Experimental Section</td>\n",
       "      <td>MiSeq forward and reverse reads were paired using the PANDAseq v.2.9 [28] with default parameters</td>\n",
       "      <td>PANDAseq</td>\n",
       "      <td>used</td>\n",
       "      <td>usage</td>\n",
       "      <td>true</td>\n",
       "      <td>mention</td>\n",
       "    </tr>\n",
       "    <tr>\n",
       "      <th>99</th>\n",
       "      <td>https://doi.org/10.1038/s41598-021-83798-6</td>\n",
       "      <td>fig_caption</td>\n",
       "      <td>Maps created in ArcMap v.10.5.1 (ESRI, https://www.esri.com/).</td>\n",
       "      <td>ArcMap</td>\n",
       "      <td>used</td>\n",
       "      <td>usage</td>\n",
       "      <td>true</td>\n",
       "      <td>mention</td>\n",
       "    </tr>\n",
       "    <tr>\n",
       "      <th>103</th>\n",
       "      <td>https://doi.org/10.1186/s12913-018-2859-6</td>\n",
       "      <td>Data analysis</td>\n",
       "      <td>Using SPSS (v</td>\n",
       "      <td>SPSS</td>\n",
       "      <td>used</td>\n",
       "      <td>usage</td>\n",
       "      <td>true</td>\n",
       "      <td>mention</td>\n",
       "    </tr>\n",
       "    <tr>\n",
       "      <th>120</th>\n",
       "      <td>https://doi.org/10.2196/13362</td>\n",
       "      <td>Statistical Analysis</td>\n",
       "      <td>Statistical calculations were done using built-in functions in Matlab R2018a (The MathWorks, Inc).</td>\n",
       "      <td>Matlab</td>\n",
       "      <td>used</td>\n",
       "      <td>usage</td>\n",
       "      <td>true</td>\n",
       "      <td>mention</td>\n",
       "    </tr>\n",
       "    <tr>\n",
       "      <th>152</th>\n",
       "      <td>https://doi.org/10.1016/j.dib.2019.104507</td>\n",
       "      <td>Experimental design, materials and methods</td>\n",
       "      <td>The GeoJSON files, which can be used to test the performance of JSTS, are available in Datasets 1–10.</td>\n",
       "      <td>GeoJSON</td>\n",
       "      <td>used</td>\n",
       "      <td>usage</td>\n",
       "      <td>true</td>\n",
       "      <td>mention</td>\n",
       "    </tr>\n",
       "    <tr>\n",
       "      <th>153</th>\n",
       "      <td>https://doi.org/10.1371/journal.pone.0247147</td>\n",
       "      <td>fig_caption</td>\n",
       "      <td>The image is generated by Rasmol [41].</td>\n",
       "      <td>Rasmol</td>\n",
       "      <td>used</td>\n",
       "      <td>usage</td>\n",
       "      <td>true</td>\n",
       "      <td>mention</td>\n",
       "    </tr>\n",
       "    <tr>\n",
       "      <th>177</th>\n",
       "      <td>https://doi.org/10.18632/oncotarget.8959</td>\n",
       "      <td>Statistical analysis</td>\n",
       "      <td>The SPSS 17.0 software package (SPSS Inc., Chicago, IL) was used</td>\n",
       "      <td>SPSS</td>\n",
       "      <td>used</td>\n",
       "      <td>usage</td>\n",
       "      <td>true</td>\n",
       "      <td>mention</td>\n",
       "    </tr>\n",
       "    <tr>\n",
       "      <th>404</th>\n",
       "      <td>https://joss.theoj.org/papers/10.21105/joss.05853</td>\n",
       "      <td>title</td>\n",
       "      <td>Qiskit Dynamics: A Python package for simulating the time dynamics of quantum systems</td>\n",
       "      <td>Qiskit Dynamics</td>\n",
       "      <td>creation</td>\n",
       "      <td>creation</td>\n",
       "      <td>true</td>\n",
       "      <td>mention</td>\n",
       "    </tr>\n",
       "    <tr>\n",
       "      <th>408</th>\n",
       "      <td>https://joss.theoj.org/papers/10.21105/joss.05562</td>\n",
       "      <td>title</td>\n",
       "      <td>DARTS: The Data Analysis Remote Treatment Service</td>\n",
       "      <td>DARTS</td>\n",
       "      <td>creation</td>\n",
       "      <td>creation</td>\n",
       "      <td>true</td>\n",
       "      <td>mention</td>\n",
       "    </tr>\n",
       "    <tr>\n",
       "      <th>409</th>\n",
       "      <td>https://joss.theoj.org/papers/10.21105/joss.05580</td>\n",
       "      <td>title</td>\n",
       "      <td>SMART: Spatial Modeling Algorithms for Reactions and Transport</td>\n",
       "      <td>SMART</td>\n",
       "      <td>creation</td>\n",
       "      <td>creation</td>\n",
       "      <td>true</td>\n",
       "      <td>mention</td>\n",
       "    </tr>\n",
       "  </tbody>\n",
       "</table>\n",
       "</div>"
      ],
      "text/plain": [
       "                                              doi_link  \\\n",
       "23        https://doi.org/10.1371/journal.pone.0163668   \n",
       "26           https://doi.org/10.3390/pathogens10030277   \n",
       "32          https://doi.org/10.1038/s41598-017-02942-3   \n",
       "35                   https://doi.org/10.1111/jpi.12673   \n",
       "62         https://doi.org/10.1136/bmjopen-2016-013606   \n",
       "82              https://doi.org/10.3390/ijerph13020152   \n",
       "99          https://doi.org/10.1038/s41598-021-83798-6   \n",
       "103          https://doi.org/10.1186/s12913-018-2859-6   \n",
       "120                      https://doi.org/10.2196/13362   \n",
       "152          https://doi.org/10.1016/j.dib.2019.104507   \n",
       "153       https://doi.org/10.1371/journal.pone.0247147   \n",
       "177           https://doi.org/10.18632/oncotarget.8959   \n",
       "404  https://joss.theoj.org/papers/10.21105/joss.05853   \n",
       "408  https://joss.theoj.org/papers/10.21105/joss.05562   \n",
       "409  https://joss.theoj.org/papers/10.21105/joss.05580   \n",
       "\n",
       "                                         source  \\\n",
       "23                         Statistical analysis   \n",
       "26                                          NaN   \n",
       "32                        Stimuli and Apparatus   \n",
       "35                       Implementation details   \n",
       "62                         Statistical analyses   \n",
       "82                      2. Experimental Section   \n",
       "99                                  fig_caption   \n",
       "103                               Data analysis   \n",
       "120                        Statistical Analysis   \n",
       "152  Experimental design, materials and methods   \n",
       "153                                 fig_caption   \n",
       "177                        Statistical analysis   \n",
       "404                                       title   \n",
       "408                                       title   \n",
       "409                                       title   \n",
       "\n",
       "                                                                                                                                                 text  \\\n",
       "23   We computed pairwise LD statistics (D’ and r2) and haplotype frequencies using Haploview 4.0 (Broad Institute of MIT and Harvard, Cambridge, MA)   \n",
       "26                                                                                               Evolutionary analyses were conducted in MEGA X [19].   \n",
       "32                  Stimuli presentation and behavioral data collection were performed using E-Prime v2.0 (Psychology Software Tools, Pittsburgh, PA)   \n",
       "35                                                              The website is written in the Python programming language using the ‘Flask’ framework   \n",
       "62                                                                               All data will be analysed using SPSS (V.21) and STATA (Release V.12)   \n",
       "82                                                  MiSeq forward and reverse reads were paired using the PANDAseq v.2.9 [28] with default parameters   \n",
       "99                                                                                     Maps created in ArcMap v.10.5.1 (ESRI, https://www.esri.com/).   \n",
       "103                                                                                                                                     Using SPSS (v   \n",
       "120                                                Statistical calculations were done using built-in functions in Matlab R2018a (The MathWorks, Inc).   \n",
       "152                                             The GeoJSON files, which can be used to test the performance of JSTS, are available in Datasets 1–10.   \n",
       "153                                                                                                            The image is generated by Rasmol [41].   \n",
       "177                                                                                  The SPSS 17.0 software package (SPSS Inc., Chicago, IL) was used   \n",
       "404                                                             Qiskit Dynamics: A Python package for simulating the time dynamics of quantum systems   \n",
       "408                                                                                                 DARTS: The Data Analysis Remote Treatment Service   \n",
       "409                                                                                    SMART: Spatial Modeling Algorithms for Reactions and Transport   \n",
       "\n",
       "            software    intent     label category pred_label  \n",
       "23         Haploview      used     usage     true    mention  \n",
       "26            MEGA X      used     usage     true    mention  \n",
       "32           E-Prime      used     usage     true    mention  \n",
       "35             Flask      used     usage     true    mention  \n",
       "62             STATA      used     usage     true    mention  \n",
       "82          PANDAseq      used     usage     true    mention  \n",
       "99            ArcMap      used     usage     true    mention  \n",
       "103             SPSS      used     usage     true    mention  \n",
       "120           Matlab      used     usage     true    mention  \n",
       "152          GeoJSON      used     usage     true    mention  \n",
       "153           Rasmol      used     usage     true    mention  \n",
       "177             SPSS      used     usage     true    mention  \n",
       "404  Qiskit Dynamics  creation  creation     true    mention  \n",
       "408            DARTS  creation  creation     true    mention  \n",
       "409            SMART  creation  creation     true    mention  "
      ]
     },
     "execution_count": 23,
     "metadata": {},
     "output_type": "execute_result"
    }
   ],
   "source": [
    "pd.set_option('display.max_colwidth', 1000)\n",
    "czi_val_df[(czi_val_df['pred_label'] == 'mention') & (czi_val_df['label'] != 'mention')]"
   ]
  },
  {
   "cell_type": "markdown",
   "metadata": {
    "application/vnd.databricks.v1+cell": {
     "cellMetadata": {
      "byteLimit": 2048000,
      "rowLimit": 10000
     },
     "inputWidgets": {},
     "nuid": "bac9a8aa-0cf8-463d-ad28-c2cd80d4563e",
     "showTitle": false,
     "title": ""
    }
   },
   "source": [
    "#### False negatives"
   ]
  },
  {
   "cell_type": "code",
   "execution_count": 24,
   "metadata": {
    "application/vnd.databricks.v1+cell": {
     "cellMetadata": {
      "byteLimit": 2048000,
      "rowLimit": 10000
     },
     "inputWidgets": {},
     "nuid": "d4f93043-ae36-4c1c-bf49-48f406536cfb",
     "showTitle": false,
     "title": ""
    }
   },
   "outputs": [
    {
     "data": {
      "text/html": [
       "<div>\n",
       "<style scoped>\n",
       "    .dataframe tbody tr th:only-of-type {\n",
       "        vertical-align: middle;\n",
       "    }\n",
       "\n",
       "    .dataframe tbody tr th {\n",
       "        vertical-align: top;\n",
       "    }\n",
       "\n",
       "    .dataframe thead th {\n",
       "        text-align: right;\n",
       "    }\n",
       "</style>\n",
       "<table border=\"1\" class=\"dataframe\">\n",
       "  <thead>\n",
       "    <tr style=\"text-align: right;\">\n",
       "      <th></th>\n",
       "      <th>doi_link</th>\n",
       "      <th>source</th>\n",
       "      <th>text</th>\n",
       "      <th>software</th>\n",
       "      <th>intent</th>\n",
       "      <th>label</th>\n",
       "      <th>category</th>\n",
       "      <th>pred_label</th>\n",
       "    </tr>\n",
       "  </thead>\n",
       "  <tbody>\n",
       "    <tr>\n",
       "      <th>1</th>\n",
       "      <td>https://doi.org/10.1155/2014/395212</td>\n",
       "      <td>5. Simulation Results and Analysis</td>\n",
       "      <td>In Figure 11, p miss of SVM-SMP is nearly equal to 0, which is much better than SVM-LA</td>\n",
       "      <td>SVM</td>\n",
       "      <td>used</td>\n",
       "      <td>usage</td>\n",
       "      <td>true</td>\n",
       "      <td>none</td>\n",
       "    </tr>\n",
       "    <tr>\n",
       "      <th>2</th>\n",
       "      <td>https://doi.org/10.3389/fphys.2020.587057</td>\n",
       "      <td>Network Architecture and Training Parameters</td>\n",
       "      <td>A pattern recognition network was created using MATLAB r2017b to study the performance of the extracted gait parameters</td>\n",
       "      <td>MATLAB</td>\n",
       "      <td>used</td>\n",
       "      <td>usage</td>\n",
       "      <td>true</td>\n",
       "      <td>creation</td>\n",
       "    </tr>\n",
       "    <tr>\n",
       "      <th>3</th>\n",
       "      <td>https://doi.org/10.1186/s13046-018-0997-7</td>\n",
       "      <td>paper_abstract</td>\n",
       "      <td>Finally, we investigated the potential molecular mechanism of ARNTL by gene set enrichment analysis (GSEA), dual Luciferase reporter assay and chromatin immunoprecipitation assay</td>\n",
       "      <td>analysis (GSEA)</td>\n",
       "      <td>used</td>\n",
       "      <td>usage</td>\n",
       "      <td>true</td>\n",
       "      <td>none</td>\n",
       "    </tr>\n",
       "    <tr>\n",
       "      <th>4</th>\n",
       "      <td>https://doi.org/10.7717/peerj.9470</td>\n",
       "      <td>Conclusions</td>\n",
       "      <td>The GitHub repository for this study has been created, including the Python scripts and the datasets used in this study (see https://github.com/smiile8888/rna-splice-sites-recognition)</td>\n",
       "      <td>Python</td>\n",
       "      <td>used</td>\n",
       "      <td>usage</td>\n",
       "      <td>true</td>\n",
       "      <td>creation</td>\n",
       "    </tr>\n",
       "    <tr>\n",
       "      <th>12</th>\n",
       "      <td>https://doi.org/10.7554/eLife.05005</td>\n",
       "      <td>Collection and processing of previous predictions</td>\n",
       "      <td>For algorithms providing multiple transcript-level predictions (i.e., miRanda-MicroCosm, PACCMIT-CDS, and TargetSpy), the transcript with the best score was selected as the representative transcript isoform</td>\n",
       "      <td>TargetSpy</td>\n",
       "      <td>used</td>\n",
       "      <td>usage</td>\n",
       "      <td>true</td>\n",
       "      <td>none</td>\n",
       "    </tr>\n",
       "    <tr>\n",
       "      <th>15</th>\n",
       "      <td>https://doi.org/10.1186/2041-1480-2-9</td>\n",
       "      <td>NaN</td>\n",
       "      <td>An OWL DL query of Brucella virulent factors also being protective antigens using the OWL editor Protégé 4</td>\n",
       "      <td>Protégé</td>\n",
       "      <td>used</td>\n",
       "      <td>usage</td>\n",
       "      <td>true</td>\n",
       "      <td>none</td>\n",
       "    </tr>\n",
       "    <tr>\n",
       "      <th>17</th>\n",
       "      <td>https://doi.org/10.3390/molecules18022166</td>\n",
       "      <td>3.6. Optimal Proportioning Design of Synergistic Effect on GBP with Isophytol against Salmonella Enterica</td>\n",
       "      <td>This design was based on the Mixture Design (D-optimal, two mixture components, two factors, the limits: 5%–95%) option in the Design Expert 7.1.3 Software that generated the experimental scheme (13 standard/run) randomly</td>\n",
       "      <td>Design Expert</td>\n",
       "      <td>used</td>\n",
       "      <td>usage</td>\n",
       "      <td>true</td>\n",
       "      <td>none</td>\n",
       "    </tr>\n",
       "    <tr>\n",
       "      <th>22</th>\n",
       "      <td>https://doi.org/10.3389/fpls.2014.00567</td>\n",
       "      <td>RAxML</td>\n",
       "      <td>To compare the average distance-based POFAD output with that from a character-based tree-building analysis we first merged allelic/haplotype sequences for each individual cultivar by calculating their consensus (including IUPAC bases) using Bio Edit version 7 (http://www.mbio.ncsu.edu/BioEdit/bioedit.html), and then aligning them with other cultivars and concatenate the alignments of all contigs using Mesquite version 2.75 (Maddison and Maddison, 2011)</td>\n",
       "      <td>Mesquite</td>\n",
       "      <td>used</td>\n",
       "      <td>usage</td>\n",
       "      <td>true</td>\n",
       "      <td>none</td>\n",
       "    </tr>\n",
       "    <tr>\n",
       "      <th>23</th>\n",
       "      <td>https://doi.org/10.1371/journal.pone.0163668</td>\n",
       "      <td>Statistical analysis</td>\n",
       "      <td>We computed pairwise LD statistics (D’ and r2) and haplotype frequencies using Haploview 4.0 (Broad Institute of MIT and Harvard, Cambridge, MA)</td>\n",
       "      <td>Haploview</td>\n",
       "      <td>used</td>\n",
       "      <td>usage</td>\n",
       "      <td>true</td>\n",
       "      <td>mention</td>\n",
       "    </tr>\n",
       "    <tr>\n",
       "      <th>26</th>\n",
       "      <td>https://doi.org/10.3390/pathogens10030277</td>\n",
       "      <td>NaN</td>\n",
       "      <td>Evolutionary analyses were conducted in MEGA X [19].</td>\n",
       "      <td>MEGA X</td>\n",
       "      <td>used</td>\n",
       "      <td>usage</td>\n",
       "      <td>true</td>\n",
       "      <td>mention</td>\n",
       "    </tr>\n",
       "    <tr>\n",
       "      <th>31</th>\n",
       "      <td>https://doi.org/10.3389/fpsyg.2021.654200</td>\n",
       "      <td>Computer-Based Behavioral Task</td>\n",
       "      <td>The task consisted of a Food Ratings component and a Food Choices component, both of which were programmed in MATLAB (version 2014a, Natick, MA) with PsychophysicsToolbox (version 3)2</td>\n",
       "      <td>MATLAB</td>\n",
       "      <td>used</td>\n",
       "      <td>usage</td>\n",
       "      <td>true</td>\n",
       "      <td>none</td>\n",
       "    </tr>\n",
       "    <tr>\n",
       "      <th>32</th>\n",
       "      <td>https://doi.org/10.1038/s41598-017-02942-3</td>\n",
       "      <td>Stimuli and Apparatus</td>\n",
       "      <td>Stimuli presentation and behavioral data collection were performed using E-Prime v2.0 (Psychology Software Tools, Pittsburgh, PA)</td>\n",
       "      <td>E-Prime</td>\n",
       "      <td>used</td>\n",
       "      <td>usage</td>\n",
       "      <td>true</td>\n",
       "      <td>mention</td>\n",
       "    </tr>\n",
       "    <tr>\n",
       "      <th>34</th>\n",
       "      <td>https://doi.org/10.2196/jmir.5976</td>\n",
       "      <td>Limitations</td>\n",
       "      <td>However, we are planning research to evaluate the infographics on the actual CHART platform, which would provide personalized assessments and would also enable us to study the effects of infographics on intentions and outcomes related to behavior change.</td>\n",
       "      <td>CHART</td>\n",
       "      <td>used</td>\n",
       "      <td>usage</td>\n",
       "      <td>true</td>\n",
       "      <td>none</td>\n",
       "    </tr>\n",
       "    <tr>\n",
       "      <th>35</th>\n",
       "      <td>https://doi.org/10.1111/jpi.12673</td>\n",
       "      <td>Implementation details</td>\n",
       "      <td>The website is written in the Python programming language using the ‘Flask’ framework</td>\n",
       "      <td>Flask</td>\n",
       "      <td>used</td>\n",
       "      <td>usage</td>\n",
       "      <td>true</td>\n",
       "      <td>mention</td>\n",
       "    </tr>\n",
       "    <tr>\n",
       "      <th>43</th>\n",
       "      <td>https://doi.org/10.1186/s13059-015-0623-3</td>\n",
       "      <td>N-SCAN</td>\n",
       "      <td>terrestris specific parameter sets with the respective LASTZ informant genome alignments to produce two N-SCAN gene prediction sets, one based on Amel_4.5 and the other based on BIMP_2.0 as the informant genomes</td>\n",
       "      <td>LASTZ</td>\n",
       "      <td>used</td>\n",
       "      <td>usage</td>\n",
       "      <td>true</td>\n",
       "      <td>none</td>\n",
       "    </tr>\n",
       "    <tr>\n",
       "      <th>45</th>\n",
       "      <td>https://doi.org/10.1186/s12864-017-3775-6</td>\n",
       "      <td>fig_caption</td>\n",
       "      <td>b Histogram presentation of functional categories (as annotated in Vectorbase) of upregulated (Up) and downregulated (Down) DE genes shared between SM and PM samples at 1 dpf</td>\n",
       "      <td>Vectorbase</td>\n",
       "      <td>used</td>\n",
       "      <td>usage</td>\n",
       "      <td>true</td>\n",
       "      <td>none</td>\n",
       "    </tr>\n",
       "    <tr>\n",
       "      <th>48</th>\n",
       "      <td>https://doi.org/10.3390/microorganisms8081252</td>\n",
       "      <td>3.3. Whole-Genome Bisulfite Sequencing Reveals No Evidence for Functional C-5 Methylation</td>\n",
       "      <td>Minor increases in the CHH signal towards the start end of several chromosomes were manually checked in IGV and attributed to poor mapping in (low complexity) telomeric regions</td>\n",
       "      <td>IGV</td>\n",
       "      <td>used</td>\n",
       "      <td>usage</td>\n",
       "      <td>true</td>\n",
       "      <td>none</td>\n",
       "    </tr>\n",
       "    <tr>\n",
       "      <th>50</th>\n",
       "      <td>https://doi.org/10.1371/journal.pone.0173609</td>\n",
       "      <td>Discussion</td>\n",
       "      <td>This result clearly suggests that if one can ensure a reasonably high density random trap arrangement in a study aimed at estimating population size in a social species, then one can be reasonably confident of obtaining unbiased estimates using POPAN.</td>\n",
       "      <td>POPAN</td>\n",
       "      <td>used</td>\n",
       "      <td>usage</td>\n",
       "      <td>true</td>\n",
       "      <td>none</td>\n",
       "    </tr>\n",
       "    <tr>\n",
       "      <th>51</th>\n",
       "      <td>https://doi.org/10.1371/journal.pone.0134091</td>\n",
       "      <td>Predicted fraction of time each residue is in a helix (α-helix, 310 Helix or π Helix) or strand (β-sheet or β-Bridge).</td>\n",
       "      <td>On the right, the predicted fractions of human amylin are shown for Amberff99sb*-ILDN with TIP3P, Amberff03w with TIP4P, CHARMM22* with TIP4P, and Gromos96 53a6 with SPC.</td>\n",
       "      <td>CHARMM22</td>\n",
       "      <td>used</td>\n",
       "      <td>usage</td>\n",
       "      <td>true</td>\n",
       "      <td>none</td>\n",
       "    </tr>\n",
       "    <tr>\n",
       "      <th>52</th>\n",
       "      <td>https://doi.org/10.3389/fgene.2020.00462</td>\n",
       "      <td>NaN</td>\n",
       "      <td>Isoforms distribution of control (A) and cold-treated (B) wheat leaves in CIRCOS visualization</td>\n",
       "      <td>CIRCOS</td>\n",
       "      <td>used</td>\n",
       "      <td>usage</td>\n",
       "      <td>true</td>\n",
       "      <td>none</td>\n",
       "    </tr>\n",
       "    <tr>\n",
       "      <th>56</th>\n",
       "      <td>https://doi.org/10.1007/s00484-012-0531-0</td>\n",
       "      <td>fig_caption</td>\n",
       "      <td>Cumulative degree-days calculated for low temperature thresholds (T ) of 0°C and 10°C based on the measured and generated temperatures for the present and future climate conditions (SRES scenario A1B) and two IPCC models (GISS modelE, HadCM3) for two time horizons of 2020–2040 and 2040–2060</td>\n",
       "      <td>HadCM3</td>\n",
       "      <td>used</td>\n",
       "      <td>usage</td>\n",
       "      <td>true</td>\n",
       "      <td>none</td>\n",
       "    </tr>\n",
       "    <tr>\n",
       "      <th>60</th>\n",
       "      <td>https://doi.org/10.1186/1476-4598-8-42</td>\n",
       "      <td>Characterisation of the human RASSF10 gene</td>\n",
       "      <td>That the predicted N-terminal 108 amino acids may not actually be part of the RASSF10 protein is supported by ClustalW alignments of RASSF7–10</td>\n",
       "      <td>ClustalW</td>\n",
       "      <td>used</td>\n",
       "      <td>usage</td>\n",
       "      <td>true</td>\n",
       "      <td>none</td>\n",
       "    </tr>\n",
       "    <tr>\n",
       "      <th>62</th>\n",
       "      <td>https://doi.org/10.1136/bmjopen-2016-013606</td>\n",
       "      <td>Statistical analyses</td>\n",
       "      <td>All data will be analysed using SPSS (V.21) and STATA (Release V.12)</td>\n",
       "      <td>STATA</td>\n",
       "      <td>used</td>\n",
       "      <td>usage</td>\n",
       "      <td>true</td>\n",
       "      <td>mention</td>\n",
       "    </tr>\n",
       "    <tr>\n",
       "      <th>63</th>\n",
       "      <td>https://doi.org/10.1371/journal.pone.0012721</td>\n",
       "      <td>fig_caption</td>\n",
       "      <td>A: Analysis based on data estimated using software GERUD and B: Analysis based on data estimated using the program COLONY.</td>\n",
       "      <td>GERUD</td>\n",
       "      <td>used</td>\n",
       "      <td>usage</td>\n",
       "      <td>true</td>\n",
       "      <td>none</td>\n",
       "    </tr>\n",
       "    <tr>\n",
       "      <th>73</th>\n",
       "      <td>https://doi.org/10.3390/molecules26185431</td>\n",
       "      <td>2.3. Instrumentation</td>\n",
       "      <td>Microsoft Excel 2010 (version 16.48) and RStudio (version 1.1.463, RStudio, Boston, MA, USA) running R 3.5.1 were used for further data evaluation.</td>\n",
       "      <td>RStudio</td>\n",
       "      <td>used</td>\n",
       "      <td>usage</td>\n",
       "      <td>true</td>\n",
       "      <td>none</td>\n",
       "    </tr>\n",
       "    <tr>\n",
       "      <th>82</th>\n",
       "      <td>https://doi.org/10.3390/ijerph13020152</td>\n",
       "      <td>2. Experimental Section</td>\n",
       "      <td>MiSeq forward and reverse reads were paired using the PANDAseq v.2.9 [28] with default parameters</td>\n",
       "      <td>PANDAseq</td>\n",
       "      <td>used</td>\n",
       "      <td>usage</td>\n",
       "      <td>true</td>\n",
       "      <td>mention</td>\n",
       "    </tr>\n",
       "    <tr>\n",
       "      <th>85</th>\n",
       "      <td>https://doi.org/10.1371/journal.pone.0171910</td>\n",
       "      <td>Summary of SIMPER pairwise comparisons of diatom assemblages on shells of snapping turtles.</td>\n",
       "      <td>SIMPER analysis was run on square-root transformed data, but data shown are untransformed mean counts (number per sample) for clarity</td>\n",
       "      <td>SIMPER</td>\n",
       "      <td>used</td>\n",
       "      <td>usage</td>\n",
       "      <td>true</td>\n",
       "      <td>none</td>\n",
       "    </tr>\n",
       "    <tr>\n",
       "      <th>86</th>\n",
       "      <td>https://doi.org/10.3389/fpsyt.2020.575867</td>\n",
       "      <td>Traits, States, and Scars, Relationships Between Depression, Rumination, and Cognitive Function</td>\n",
       "      <td>To separate depressive state (MADRS T3) from scar effects, an explorative composite score consisting of a standardization (Computed in SPSS) of number of months depressed (Z-score months depressed), combined with standardized MADRS scores before T3 (T1, T2) were calculated: Scar composite = (ZMADRS T1 + ZMADRS T2 + Zmonths depressed)/3.</td>\n",
       "      <td>SPSS</td>\n",
       "      <td>used</td>\n",
       "      <td>usage</td>\n",
       "      <td>true</td>\n",
       "      <td>none</td>\n",
       "    </tr>\n",
       "    <tr>\n",
       "      <th>99</th>\n",
       "      <td>https://doi.org/10.1038/s41598-021-83798-6</td>\n",
       "      <td>fig_caption</td>\n",
       "      <td>Maps created in ArcMap v.10.5.1 (ESRI, https://www.esri.com/).</td>\n",
       "      <td>ArcMap</td>\n",
       "      <td>used</td>\n",
       "      <td>usage</td>\n",
       "      <td>true</td>\n",
       "      <td>mention</td>\n",
       "    </tr>\n",
       "    <tr>\n",
       "      <th>101</th>\n",
       "      <td>https://doi.org/10.1155/2019/5617153</td>\n",
       "      <td>1. Introduction</td>\n",
       "      <td>By using a probabilistic method, PSORTb 3.0 outperforms CELLO, Cell-PLoc, SLP-Local, and the previous versions of the same tool</td>\n",
       "      <td>PSORTb</td>\n",
       "      <td>used</td>\n",
       "      <td>usage</td>\n",
       "      <td>true</td>\n",
       "      <td>none</td>\n",
       "    </tr>\n",
       "    <tr>\n",
       "      <th>103</th>\n",
       "      <td>https://doi.org/10.1186/s12913-018-2859-6</td>\n",
       "      <td>Data analysis</td>\n",
       "      <td>Using SPSS (v</td>\n",
       "      <td>SPSS</td>\n",
       "      <td>used</td>\n",
       "      <td>usage</td>\n",
       "      <td>true</td>\n",
       "      <td>mention</td>\n",
       "    </tr>\n",
       "    <tr>\n",
       "      <th>104</th>\n",
       "      <td>https://doi.org/10.3390/molecules25215088</td>\n",
       "      <td>2.9. B-Cell Epitope Prediction</td>\n",
       "      <td>The findings from the BepiPred linear epitope prediction showed maximum score of 2.416 and a minimum score of −0.001, where the average scores were displayed as 0.813 (Table S1).</td>\n",
       "      <td>BepiPred</td>\n",
       "      <td>used</td>\n",
       "      <td>usage</td>\n",
       "      <td>true</td>\n",
       "      <td>none</td>\n",
       "    </tr>\n",
       "    <tr>\n",
       "      <th>108</th>\n",
       "      <td>https://doi.org/10.1371/journal.pone.0220676</td>\n",
       "      <td>Divergence time estimation</td>\n",
       "      <td>1.10.4 (available as part of the BEAST package), including the posterior probabilities of the branches, the age of the nodes, and the posterior estimates and HPD limits of the node heights</td>\n",
       "      <td>BEAST</td>\n",
       "      <td>used</td>\n",
       "      <td>usage</td>\n",
       "      <td>true</td>\n",
       "      <td>none</td>\n",
       "    </tr>\n",
       "    <tr>\n",
       "      <th>110</th>\n",
       "      <td>https://doi.org/10.1371/journal.pone.0205493</td>\n",
       "      <td>Functional annotation, pathway analysis and GO enrichment</td>\n",
       "      <td>The ontology annotations were refined using InterPro Scan and expanded using ANNEX</td>\n",
       "      <td>InterPro Scan</td>\n",
       "      <td>used</td>\n",
       "      <td>usage</td>\n",
       "      <td>true</td>\n",
       "      <td>none</td>\n",
       "    </tr>\n",
       "    <tr>\n",
       "      <th>111</th>\n",
       "      <td>https://doi.org/10.1371/journal.pone.0054359</td>\n",
       "      <td>fig_caption</td>\n",
       "      <td>The middle shows the same set of SNPs extended by those that are in tight genetic linkage (r2 = 0.8) according to HaploReg [30]</td>\n",
       "      <td>HaploReg</td>\n",
       "      <td>used</td>\n",
       "      <td>usage</td>\n",
       "      <td>true</td>\n",
       "      <td>none</td>\n",
       "    </tr>\n",
       "    <tr>\n",
       "      <th>113</th>\n",
       "      <td>https://doi.org/10.3390/v11100899</td>\n",
       "      <td>3.3. Identification of Phage Genetic Lineages</td>\n",
       "      <td>All isolates possessed double-stranded DNA genomes with the majority displaying identity to previously described phages with six distinct genetic subgroups of phages identified based on the similarity to the closest database relatives acquired by BLASTn analysis of the whole genome sequences</td>\n",
       "      <td>BLASTn</td>\n",
       "      <td>used</td>\n",
       "      <td>usage</td>\n",
       "      <td>true</td>\n",
       "      <td>none</td>\n",
       "    </tr>\n",
       "    <tr>\n",
       "      <th>117</th>\n",
       "      <td>https://doi.org/10.1107/S1600536809039816</td>\n",
       "      <td>NaN</td>\n",
       "      <td>Data collection: APEX2 (Bruker, 2007 ▶); cell refinement: SAINT-Plus (Bruker, 2007 ▶); data reduction: SAINT-Plus; program(s) used to solve structure: SIR92 (Altomare et al., 1994 ▶); program(s) used to refine structure: SHELXL97 (Sheldrick, 2008 ▶); molecular graphics: DIAMOND (Brandenburg &amp; Putz, 1999 ▶); software used to prepare material for publication: WinGX (Farrugia, 1999 ▶).</td>\n",
       "      <td>SAINT-Plus</td>\n",
       "      <td>used</td>\n",
       "      <td>usage</td>\n",
       "      <td>true</td>\n",
       "      <td>none</td>\n",
       "    </tr>\n",
       "    <tr>\n",
       "      <th>118</th>\n",
       "      <td>https://doi.org/10.1107/S1600536812026116</td>\n",
       "      <td>NaN</td>\n",
       "      <td>Data collection: CrysAlis PRO (Agilent, 2012 ▶); cell refinement: CrysAlis PRO; data reduction: CrysAlis PRO; program(s) used to solve structure: SHELXS97 (Sheldrick, 2008 ▶); program(s) used to refine structure: SHELXL97 (Sheldrick, 2008 ▶); molecular graphics: ORTEP-3 (Farrugia, 1997 ▶), DIAMOND (Brandenburg, 2006 ▶) and QMol (Gans &amp; Shalloway, 2001 ▶); software used to prepare material for publication: publCIF (Westrip, 2010 ▶).</td>\n",
       "      <td>DIAMOND</td>\n",
       "      <td>used</td>\n",
       "      <td>usage</td>\n",
       "      <td>true</td>\n",
       "      <td>none</td>\n",
       "    </tr>\n",
       "    <tr>\n",
       "      <th>120</th>\n",
       "      <td>https://doi.org/10.2196/13362</td>\n",
       "      <td>Statistical Analysis</td>\n",
       "      <td>Statistical calculations were done using built-in functions in Matlab R2018a (The MathWorks, Inc).</td>\n",
       "      <td>Matlab</td>\n",
       "      <td>used</td>\n",
       "      <td>usage</td>\n",
       "      <td>true</td>\n",
       "      <td>mention</td>\n",
       "    </tr>\n",
       "    <tr>\n",
       "      <th>122</th>\n",
       "      <td>https://doi.org/10.1186/1471-2199-9-75</td>\n",
       "      <td>paper_abstract</td>\n",
       "      <td>The stability of their expression level was assessed using the Ct range, and by applying both the geNorm and the Normfinder principles of calculation</td>\n",
       "      <td>geNorm</td>\n",
       "      <td>used</td>\n",
       "      <td>usage</td>\n",
       "      <td>true</td>\n",
       "      <td>none</td>\n",
       "    </tr>\n",
       "    <tr>\n",
       "      <th>131</th>\n",
       "      <td>https://doi.org/10.1186/s12967-020-02402-z</td>\n",
       "      <td>fig_caption</td>\n",
       "      <td>b Bone surface and bone volume were analyzed using NRecon software (*p &lt; 0.05 and ***p &lt; 0.001)</td>\n",
       "      <td>NRecon</td>\n",
       "      <td>used</td>\n",
       "      <td>usage</td>\n",
       "      <td>true</td>\n",
       "      <td>none</td>\n",
       "    </tr>\n",
       "    <tr>\n",
       "      <th>134</th>\n",
       "      <td>https://doi.org/10.1186/1471-2164-15-680</td>\n",
       "      <td>Synthesis of cDNA, Real-Time PCR and data collection</td>\n",
       "      <td>Moreover, through the BLASTN of the sequences of the TGs, PAL2 (located on Gm10 (LG O)) of the PAL gene family, CHS8 (located on Gm11 (LG B1)) of the CHS gene family, IFS1 (located on Gm07 (LG M)) of the IFS gene family, and F3H1 and F3H2 (located on Gm02 (LG D1b)) of the F3H gene family were amplified [11].</td>\n",
       "      <td>BLASTN</td>\n",
       "      <td>used</td>\n",
       "      <td>usage</td>\n",
       "      <td>true</td>\n",
       "      <td>none</td>\n",
       "    </tr>\n",
       "    <tr>\n",
       "      <th>137</th>\n",
       "      <td>https://doi.org/10.1038/s41598-020-70582-1</td>\n",
       "      <td>DArTseq data analysis</td>\n",
       "      <td>In case of a range of K values, the true K was determined as a value between the estimates predicted by fastSTRUCTURE and based on what made most biological sense</td>\n",
       "      <td>fastSTRUCTURE</td>\n",
       "      <td>used</td>\n",
       "      <td>usage</td>\n",
       "      <td>true</td>\n",
       "      <td>none</td>\n",
       "    </tr>\n",
       "    <tr>\n",
       "      <th>138</th>\n",
       "      <td>https://doi.org/10.1186/1471-2105-10-185</td>\n",
       "      <td>fig_caption</td>\n",
       "      <td>These codes are compared using BLAST with an internal database of signature sequences to determine the individual polyketide or peptide activated by each catalytic domain</td>\n",
       "      <td>BLAST</td>\n",
       "      <td>used</td>\n",
       "      <td>usage</td>\n",
       "      <td>true</td>\n",
       "      <td>none</td>\n",
       "    </tr>\n",
       "    <tr>\n",
       "      <th>144</th>\n",
       "      <td>https://doi.org/10.1590/0074-02760160148</td>\n",
       "      <td>MATERIALS AND METHODS</td>\n",
       "      <td>Google Earth images for each cemetery were registered in ArcGis 9 to calculate the total area, the proportion occupied by graves (vs</td>\n",
       "      <td>ArcGis</td>\n",
       "      <td>used</td>\n",
       "      <td>usage</td>\n",
       "      <td>true</td>\n",
       "      <td>none</td>\n",
       "    </tr>\n",
       "    <tr>\n",
       "      <th>149</th>\n",
       "      <td>https://doi.org/10.1038/s41598-021-95364-1</td>\n",
       "      <td>Experiments</td>\n",
       "      <td>To train the models, we used the Adam optimizer with an initial learning rate of , which was chosen as large as possible while ensuring convergence of the training and validation losses</td>\n",
       "      <td>Adam</td>\n",
       "      <td>used</td>\n",
       "      <td>usage</td>\n",
       "      <td>true</td>\n",
       "      <td>none</td>\n",
       "    </tr>\n",
       "    <tr>\n",
       "      <th>152</th>\n",
       "      <td>https://doi.org/10.1016/j.dib.2019.104507</td>\n",
       "      <td>Experimental design, materials and methods</td>\n",
       "      <td>The GeoJSON files, which can be used to test the performance of JSTS, are available in Datasets 1–10.</td>\n",
       "      <td>GeoJSON</td>\n",
       "      <td>used</td>\n",
       "      <td>usage</td>\n",
       "      <td>true</td>\n",
       "      <td>mention</td>\n",
       "    </tr>\n",
       "    <tr>\n",
       "      <th>153</th>\n",
       "      <td>https://doi.org/10.1371/journal.pone.0247147</td>\n",
       "      <td>fig_caption</td>\n",
       "      <td>The image is generated by Rasmol [41].</td>\n",
       "      <td>Rasmol</td>\n",
       "      <td>used</td>\n",
       "      <td>usage</td>\n",
       "      <td>true</td>\n",
       "      <td>mention</td>\n",
       "    </tr>\n",
       "    <tr>\n",
       "      <th>158</th>\n",
       "      <td>https://doi.org/10.1107/S1600536811042401</td>\n",
       "      <td>NaN</td>\n",
       "      <td>Data collection: PROCESS-AUTO (Rigaku, 1998 ▶); cell refinement: PROCESS-AUTO; data reduction: CrystalStructure (Rigaku/MSC, 2004 ▶); program(s) used to solve structure: SIR2004 (Burla et al., 2005 ▶); program(s) used to refine structure: SHELXL97 (Sheldrick, 2008 ▶); molecular graphics: ORTEPIII (Burnett &amp; Johnson, 1996 ▶); software used to prepare material for publication: SHELXL97.</td>\n",
       "      <td>SIR2004</td>\n",
       "      <td>used</td>\n",
       "      <td>usage</td>\n",
       "      <td>true</td>\n",
       "      <td>none</td>\n",
       "    </tr>\n",
       "    <tr>\n",
       "      <th>165</th>\n",
       "      <td>https://doi.org/10.1590/0037-8682-0457-2019</td>\n",
       "      <td>Statistical analysis</td>\n",
       "      <td>Statistix 7.0 and Epi-Info 2008 version 3.5.1 were used to perform the analyses</td>\n",
       "      <td>Epi-Info</td>\n",
       "      <td>used</td>\n",
       "      <td>usage</td>\n",
       "      <td>true</td>\n",
       "      <td>none</td>\n",
       "    </tr>\n",
       "    <tr>\n",
       "      <th>170</th>\n",
       "      <td>https://doi.org/10.3389/fpls.2017.00877</td>\n",
       "      <td>fig_caption</td>\n",
       "      <td>Unrooted phylogenetic tree of the CaM and CML proteins from soybean ( The alignment for the phylogenetic tree was performed with ClustalW using full-length amino acid sequences</td>\n",
       "      <td>ClustalW</td>\n",
       "      <td>used</td>\n",
       "      <td>usage</td>\n",
       "      <td>true</td>\n",
       "      <td>none</td>\n",
       "    </tr>\n",
       "    <tr>\n",
       "      <th>171</th>\n",
       "      <td>https://doi.org/10.1186/s12864-015-2318-2</td>\n",
       "      <td>RNA isolation, library preparation and bioinformatic analysis</td>\n",
       "      <td>Mercator functional categories that are easily visualized as MapMan bins were annotated for all gene models</td>\n",
       "      <td>MapMan</td>\n",
       "      <td>used</td>\n",
       "      <td>usage</td>\n",
       "      <td>true</td>\n",
       "      <td>none</td>\n",
       "    </tr>\n",
       "    <tr>\n",
       "      <th>174</th>\n",
       "      <td>https://doi.org/10.1186/s12915-020-00804-5</td>\n",
       "      <td>Gene trees for glycolytic enzymes reflect different patterns of gene loss and transfer</td>\n",
       "      <td>These results were replicated across multiple genomes, and the phylogenetic associations of surrounding ORFs on the same scaffold were verified by BLAST to ensure that the scaffold originated from a CPR organism</td>\n",
       "      <td>BLAST</td>\n",
       "      <td>used</td>\n",
       "      <td>usage</td>\n",
       "      <td>true</td>\n",
       "      <td>none</td>\n",
       "    </tr>\n",
       "    <tr>\n",
       "      <th>175</th>\n",
       "      <td>https://doi.org/10.1186/s13071-015-0660-5</td>\n",
       "      <td>Results</td>\n",
       "      <td>When the 18 s RNA gene fragments from 30 positive foxes from 17 counties were sequenced and compared by BLAST with 18S rRNA sequences of Babesia and Theileria spp</td>\n",
       "      <td>BLAST</td>\n",
       "      <td>used</td>\n",
       "      <td>usage</td>\n",
       "      <td>true</td>\n",
       "      <td>none</td>\n",
       "    </tr>\n",
       "    <tr>\n",
       "      <th>177</th>\n",
       "      <td>https://doi.org/10.18632/oncotarget.8959</td>\n",
       "      <td>Statistical analysis</td>\n",
       "      <td>The SPSS 17.0 software package (SPSS Inc., Chicago, IL) was used</td>\n",
       "      <td>SPSS</td>\n",
       "      <td>used</td>\n",
       "      <td>usage</td>\n",
       "      <td>true</td>\n",
       "      <td>mention</td>\n",
       "    </tr>\n",
       "    <tr>\n",
       "      <th>184</th>\n",
       "      <td>https://doi.org/10.2471/BLT.19.243907</td>\n",
       "      <td>Methods</td>\n",
       "      <td>The analysis was conducted using LimeSurvey’s built-in statistical functions and Microsoft Excel 2010 with the Analysis ToolPak (Microsoft Corporation, Redmond, USA)</td>\n",
       "      <td>Excel</td>\n",
       "      <td>used</td>\n",
       "      <td>usage</td>\n",
       "      <td>true</td>\n",
       "      <td>none</td>\n",
       "    </tr>\n",
       "    <tr>\n",
       "      <th>186</th>\n",
       "      <td>https://doi.org/10.1107/S090744491104978X</td>\n",
       "      <td>fig_caption</td>\n",
       "      <td>Of the three interfaces, interface 1 involves the most extensive interactions, with a buried suface area of 1569 Å2 (compared with 541 Å2 for interface 2 and 276 Å2 for interface 3; the buried surface areas were computed with the PDBePISA server)</td>\n",
       "      <td>PDBePISA</td>\n",
       "      <td>used</td>\n",
       "      <td>usage</td>\n",
       "      <td>true</td>\n",
       "      <td>none</td>\n",
       "    </tr>\n",
       "    <tr>\n",
       "      <th>191</th>\n",
       "      <td>https://doi.org/</td>\n",
       "      <td>NaN</td>\n",
       "      <td>Again, we note a striking lack of agreement between calls resulting from CNAM and GADA.</td>\n",
       "      <td>GADA</td>\n",
       "      <td>used</td>\n",
       "      <td>usage</td>\n",
       "      <td>true</td>\n",
       "      <td>none</td>\n",
       "    </tr>\n",
       "    <tr>\n",
       "      <th>193</th>\n",
       "      <td>https://doi.org/10.1002/2211-5463.12913</td>\n",
       "      <td>Statistical analysis</td>\n",
       "      <td>All statistical analyses were performed using the graphpad prism 8.0 (GraphPad Software Inc., San Diego, CA, USA) and spss 19.0 software (SPSS, Chicago, IL, USA).</td>\n",
       "      <td>GraphPad</td>\n",
       "      <td>used</td>\n",
       "      <td>usage</td>\n",
       "      <td>true</td>\n",
       "      <td>none</td>\n",
       "    </tr>\n",
       "  </tbody>\n",
       "</table>\n",
       "</div>"
      ],
      "text/plain": [
       "                                          doi_link  \\\n",
       "1              https://doi.org/10.1155/2014/395212   \n",
       "2        https://doi.org/10.3389/fphys.2020.587057   \n",
       "3        https://doi.org/10.1186/s13046-018-0997-7   \n",
       "4               https://doi.org/10.7717/peerj.9470   \n",
       "12             https://doi.org/10.7554/eLife.05005   \n",
       "15           https://doi.org/10.1186/2041-1480-2-9   \n",
       "17       https://doi.org/10.3390/molecules18022166   \n",
       "22         https://doi.org/10.3389/fpls.2014.00567   \n",
       "23    https://doi.org/10.1371/journal.pone.0163668   \n",
       "26       https://doi.org/10.3390/pathogens10030277   \n",
       "31       https://doi.org/10.3389/fpsyg.2021.654200   \n",
       "32      https://doi.org/10.1038/s41598-017-02942-3   \n",
       "34               https://doi.org/10.2196/jmir.5976   \n",
       "35               https://doi.org/10.1111/jpi.12673   \n",
       "43       https://doi.org/10.1186/s13059-015-0623-3   \n",
       "45       https://doi.org/10.1186/s12864-017-3775-6   \n",
       "48   https://doi.org/10.3390/microorganisms8081252   \n",
       "50    https://doi.org/10.1371/journal.pone.0173609   \n",
       "51    https://doi.org/10.1371/journal.pone.0134091   \n",
       "52        https://doi.org/10.3389/fgene.2020.00462   \n",
       "56       https://doi.org/10.1007/s00484-012-0531-0   \n",
       "60          https://doi.org/10.1186/1476-4598-8-42   \n",
       "62     https://doi.org/10.1136/bmjopen-2016-013606   \n",
       "63    https://doi.org/10.1371/journal.pone.0012721   \n",
       "73       https://doi.org/10.3390/molecules26185431   \n",
       "82          https://doi.org/10.3390/ijerph13020152   \n",
       "85    https://doi.org/10.1371/journal.pone.0171910   \n",
       "86       https://doi.org/10.3389/fpsyt.2020.575867   \n",
       "99      https://doi.org/10.1038/s41598-021-83798-6   \n",
       "101           https://doi.org/10.1155/2019/5617153   \n",
       "103      https://doi.org/10.1186/s12913-018-2859-6   \n",
       "104      https://doi.org/10.3390/molecules25215088   \n",
       "108   https://doi.org/10.1371/journal.pone.0220676   \n",
       "110   https://doi.org/10.1371/journal.pone.0205493   \n",
       "111   https://doi.org/10.1371/journal.pone.0054359   \n",
       "113              https://doi.org/10.3390/v11100899   \n",
       "117      https://doi.org/10.1107/S1600536809039816   \n",
       "118      https://doi.org/10.1107/S1600536812026116   \n",
       "120                  https://doi.org/10.2196/13362   \n",
       "122         https://doi.org/10.1186/1471-2199-9-75   \n",
       "131     https://doi.org/10.1186/s12967-020-02402-z   \n",
       "134       https://doi.org/10.1186/1471-2164-15-680   \n",
       "137     https://doi.org/10.1038/s41598-020-70582-1   \n",
       "138       https://doi.org/10.1186/1471-2105-10-185   \n",
       "144       https://doi.org/10.1590/0074-02760160148   \n",
       "149     https://doi.org/10.1038/s41598-021-95364-1   \n",
       "152      https://doi.org/10.1016/j.dib.2019.104507   \n",
       "153   https://doi.org/10.1371/journal.pone.0247147   \n",
       "158      https://doi.org/10.1107/S1600536811042401   \n",
       "165    https://doi.org/10.1590/0037-8682-0457-2019   \n",
       "170        https://doi.org/10.3389/fpls.2017.00877   \n",
       "171      https://doi.org/10.1186/s12864-015-2318-2   \n",
       "174     https://doi.org/10.1186/s12915-020-00804-5   \n",
       "175      https://doi.org/10.1186/s13071-015-0660-5   \n",
       "177       https://doi.org/10.18632/oncotarget.8959   \n",
       "184          https://doi.org/10.2471/BLT.19.243907   \n",
       "186      https://doi.org/10.1107/S090744491104978X   \n",
       "191                               https://doi.org/   \n",
       "193        https://doi.org/10.1002/2211-5463.12913   \n",
       "\n",
       "                                                                                                                     source  \\\n",
       "1                                                                                        5. Simulation Results and Analysis   \n",
       "2                                                                              Network Architecture and Training Parameters   \n",
       "3                                                                                                            paper_abstract   \n",
       "4                                                                                                               Conclusions   \n",
       "12                                                                        Collection and processing of previous predictions   \n",
       "15                                                                                                                      NaN   \n",
       "17                3.6. Optimal Proportioning Design of Synergistic Effect on GBP with Isophytol against Salmonella Enterica   \n",
       "22                                                                                                                    RAxML   \n",
       "23                                                                                                     Statistical analysis   \n",
       "26                                                                                                                      NaN   \n",
       "31                                                                                           Computer-Based Behavioral Task   \n",
       "32                                                                                                    Stimuli and Apparatus   \n",
       "34                                                                                                              Limitations   \n",
       "35                                                                                                   Implementation details   \n",
       "43                                                                                                                   N-SCAN   \n",
       "45                                                                                                              fig_caption   \n",
       "48                                3.3. Whole-Genome Bisulfite Sequencing Reveals No Evidence for Functional C-5 Methylation   \n",
       "50                                                                                                               Discussion   \n",
       "51   Predicted fraction of time each residue is in a helix (α-helix, 310 Helix or π Helix) or strand (β-sheet or β-Bridge).   \n",
       "52                                                                                                                      NaN   \n",
       "56                                                                                                              fig_caption   \n",
       "60                                                                               Characterisation of the human RASSF10 gene   \n",
       "62                                                                                                     Statistical analyses   \n",
       "63                                                                                                              fig_caption   \n",
       "73                                                                                                     2.3. Instrumentation   \n",
       "82                                                                                                  2. Experimental Section   \n",
       "85                              Summary of SIMPER pairwise comparisons of diatom assemblages on shells of snapping turtles.   \n",
       "86                          Traits, States, and Scars, Relationships Between Depression, Rumination, and Cognitive Function   \n",
       "99                                                                                                              fig_caption   \n",
       "101                                                                                                         1. Introduction   \n",
       "103                                                                                                           Data analysis   \n",
       "104                                                                                          2.9. B-Cell Epitope Prediction   \n",
       "108                                                                                              Divergence time estimation   \n",
       "110                                                               Functional annotation, pathway analysis and GO enrichment   \n",
       "111                                                                                                             fig_caption   \n",
       "113                                                                           3.3. Identification of Phage Genetic Lineages   \n",
       "117                                                                                                                     NaN   \n",
       "118                                                                                                                     NaN   \n",
       "120                                                                                                    Statistical Analysis   \n",
       "122                                                                                                          paper_abstract   \n",
       "131                                                                                                             fig_caption   \n",
       "134                                                                    Synthesis of cDNA, Real-Time PCR and data collection   \n",
       "137                                                                                                   DArTseq data analysis   \n",
       "138                                                                                                             fig_caption   \n",
       "144                                                                                                   MATERIALS AND METHODS   \n",
       "149                                                                                                             Experiments   \n",
       "152                                                                              Experimental design, materials and methods   \n",
       "153                                                                                                             fig_caption   \n",
       "158                                                                                                                     NaN   \n",
       "165                                                                                                    Statistical analysis   \n",
       "170                                                                                                             fig_caption   \n",
       "171                                                           RNA isolation, library preparation and bioinformatic analysis   \n",
       "174                                  Gene trees for glycolytic enzymes reflect different patterns of gene loss and transfer   \n",
       "175                                                                                                                 Results   \n",
       "177                                                                                                    Statistical analysis   \n",
       "184                                                                                                                 Methods   \n",
       "186                                                                                                             fig_caption   \n",
       "191                                                                                                                     NaN   \n",
       "193                                                                                                    Statistical analysis   \n",
       "\n",
       "                                                                                                                                                                                                                                                                                                                                                                                                                                                                         text  \\\n",
       "1                                                                                                                                                                                                                                                                                                                                                                                      In Figure 11, p miss of SVM-SMP is nearly equal to 0, which is much better than SVM-LA   \n",
       "2                                                                                                                                                                                                                                                                                                                                                     A pattern recognition network was created using MATLAB r2017b to study the performance of the extracted gait parameters   \n",
       "3                                                                                                                                                                                                                                                                                          Finally, we investigated the potential molecular mechanism of ARNTL by gene set enrichment analysis (GSEA), dual Luciferase reporter assay and chromatin immunoprecipitation assay   \n",
       "4                                                                                                                                                                                                                                                                                    The GitHub repository for this study has been created, including the Python scripts and the datasets used in this study (see https://github.com/smiile8888/rna-splice-sites-recognition)   \n",
       "12                                                                                                                                                                                                                                                             For algorithms providing multiple transcript-level predictions (i.e., miRanda-MicroCosm, PACCMIT-CDS, and TargetSpy), the transcript with the best score was selected as the representative transcript isoform   \n",
       "15                                                                                                                                                                                                                                                                                                                                                                 An OWL DL query of Brucella virulent factors also being protective antigens using the OWL editor Protégé 4   \n",
       "17                                                                                                                                                                                                                                              This design was based on the Mixture Design (D-optimal, two mixture components, two factors, the limits: 5%–95%) option in the Design Expert 7.1.3 Software that generated the experimental scheme (13 standard/run) randomly   \n",
       "22   To compare the average distance-based POFAD output with that from a character-based tree-building analysis we first merged allelic/haplotype sequences for each individual cultivar by calculating their consensus (including IUPAC bases) using Bio Edit version 7 (http://www.mbio.ncsu.edu/BioEdit/bioedit.html), and then aligning them with other cultivars and concatenate the alignments of all contigs using Mesquite version 2.75 (Maddison and Maddison, 2011)   \n",
       "23                                                                                                                                                                                                                                                                                                                           We computed pairwise LD statistics (D’ and r2) and haplotype frequencies using Haploview 4.0 (Broad Institute of MIT and Harvard, Cambridge, MA)   \n",
       "26                                                                                                                                                                                                                                                                                                                                                                                                                       Evolutionary analyses were conducted in MEGA X [19].   \n",
       "31                                                                                                                                                                                                                                                                                    The task consisted of a Food Ratings component and a Food Choices component, both of which were programmed in MATLAB (version 2014a, Natick, MA) with PsychophysicsToolbox (version 3)2   \n",
       "32                                                                                                                                                                                                                                                                                                                                          Stimuli presentation and behavioral data collection were performed using E-Prime v2.0 (Psychology Software Tools, Pittsburgh, PA)   \n",
       "34                                                                                                                                                                                                             However, we are planning research to evaluate the infographics on the actual CHART platform, which would provide personalized assessments and would also enable us to study the effects of infographics on intentions and outcomes related to behavior change.   \n",
       "35                                                                                                                                                                                                                                                                                                                                                                                      The website is written in the Python programming language using the ‘Flask’ framework   \n",
       "43                                                                                                                                                                                                                                                        terrestris specific parameter sets with the respective LASTZ informant genome alignments to produce two N-SCAN gene prediction sets, one based on Amel_4.5 and the other based on BIMP_2.0 as the informant genomes   \n",
       "45                                                                                                                                                                                                                                                                                             b Histogram presentation of functional categories (as annotated in Vectorbase) of upregulated (Up) and downregulated (Down) DE genes shared between SM and PM samples at 1 dpf   \n",
       "48                                                                                                                                                                                                                                                                                           Minor increases in the CHH signal towards the start end of several chromosomes were manually checked in IGV and attributed to poor mapping in (low complexity) telomeric regions   \n",
       "50                                                                                                                                                                                                                This result clearly suggests that if one can ensure a reasonably high density random trap arrangement in a study aimed at estimating population size in a social species, then one can be reasonably confident of obtaining unbiased estimates using POPAN.   \n",
       "51                                                                                                                                                                                                                                                                                                 On the right, the predicted fractions of human amylin are shown for Amberff99sb*-ILDN with TIP3P, Amberff03w with TIP4P, CHARMM22* with TIP4P, and Gromos96 53a6 with SPC.   \n",
       "52                                                                                                                                                                                                                                                                                                                                                                             Isoforms distribution of control (A) and cold-treated (B) wheat leaves in CIRCOS visualization   \n",
       "56                                                                                                                                                                        Cumulative degree-days calculated for low temperature thresholds (T ) of 0°C and 10°C based on the measured and generated temperatures for the present and future climate conditions (SRES scenario A1B) and two IPCC models (GISS modelE, HadCM3) for two time horizons of 2020–2040 and 2040–2060   \n",
       "60                                                                                                                                                                                                                                                                                                                             That the predicted N-terminal 108 amino acids may not actually be part of the RASSF10 protein is supported by ClustalW alignments of RASSF7–10   \n",
       "62                                                                                                                                                                                                                                                                                                                                                                                                       All data will be analysed using SPSS (V.21) and STATA (Release V.12)   \n",
       "63                                                                                                                                                                                                                                                                                                                                                 A: Analysis based on data estimated using software GERUD and B: Analysis based on data estimated using the program COLONY.   \n",
       "73                                                                                                                                                                                                                                                                                                                        Microsoft Excel 2010 (version 16.48) and RStudio (version 1.1.463, RStudio, Boston, MA, USA) running R 3.5.1 were used for further data evaluation.   \n",
       "82                                                                                                                                                                                                                                                                                                                                                                          MiSeq forward and reverse reads were paired using the PANDAseq v.2.9 [28] with default parameters   \n",
       "85                                                                                                                                                                                                                                                                                                                                      SIMPER analysis was run on square-root transformed data, but data shown are untransformed mean counts (number per sample) for clarity   \n",
       "86                                                                                                                         To separate depressive state (MADRS T3) from scar effects, an explorative composite score consisting of a standardization (Computed in SPSS) of number of months depressed (Z-score months depressed), combined with standardized MADRS scores before T3 (T1, T2) were calculated: Scar composite = (ZMADRS T1 + ZMADRS T2 + Zmonths depressed)/3.   \n",
       "99                                                                                                                                                                                                                                                                                                                                                                                                             Maps created in ArcMap v.10.5.1 (ESRI, https://www.esri.com/).   \n",
       "101                                                                                                                                                                                                                                                                                                                                           By using a probabilistic method, PSORTb 3.0 outperforms CELLO, Cell-PLoc, SLP-Local, and the previous versions of the same tool   \n",
       "103                                                                                                                                                                                                                                                                                                                                                                                                                                                             Using SPSS (v   \n",
       "104                                                                                                                                                                                                                                                                                        The findings from the BepiPred linear epitope prediction showed maximum score of 2.416 and a minimum score of −0.001, where the average scores were displayed as 0.813 (Table S1).   \n",
       "108                                                                                                                                                                                                                                                                              1.10.4 (available as part of the BEAST package), including the posterior probabilities of the branches, the age of the nodes, and the posterior estimates and HPD limits of the node heights   \n",
       "110                                                                                                                                                                                                                                                                                                                                                                                        The ontology annotations were refined using InterPro Scan and expanded using ANNEX   \n",
       "111                                                                                                                                                                                                                                                                                                                                           The middle shows the same set of SNPs extended by those that are in tight genetic linkage (r2 = 0.8) according to HaploReg [30]   \n",
       "113                                                                                                                                                                      All isolates possessed double-stranded DNA genomes with the majority displaying identity to previously described phages with six distinct genetic subgroups of phages identified based on the similarity to the closest database relatives acquired by BLASTn analysis of the whole genome sequences   \n",
       "117                                                                         Data collection: APEX2 (Bruker, 2007 ▶); cell refinement: SAINT-Plus (Bruker, 2007 ▶); data reduction: SAINT-Plus; program(s) used to solve structure: SIR92 (Altomare et al., 1994 ▶); program(s) used to refine structure: SHELXL97 (Sheldrick, 2008 ▶); molecular graphics: DIAMOND (Brandenburg & Putz, 1999 ▶); software used to prepare material for publication: WinGX (Farrugia, 1999 ▶).   \n",
       "118                       Data collection: CrysAlis PRO (Agilent, 2012 ▶); cell refinement: CrysAlis PRO; data reduction: CrysAlis PRO; program(s) used to solve structure: SHELXS97 (Sheldrick, 2008 ▶); program(s) used to refine structure: SHELXL97 (Sheldrick, 2008 ▶); molecular graphics: ORTEP-3 (Farrugia, 1997 ▶), DIAMOND (Brandenburg, 2006 ▶) and QMol (Gans & Shalloway, 2001 ▶); software used to prepare material for publication: publCIF (Westrip, 2010 ▶).   \n",
       "120                                                                                                                                                                                                                                                                                                                                                                        Statistical calculations were done using built-in functions in Matlab R2018a (The MathWorks, Inc).   \n",
       "122                                                                                                                                                                                                                                                                                                                     The stability of their expression level was assessed using the Ct range, and by applying both the geNorm and the Normfinder principles of calculation   \n",
       "131                                                                                                                                                                                                                                                                                                                                                                           b Bone surface and bone volume were analyzed using NRecon software (*p < 0.05 and ***p < 0.001)   \n",
       "134                                                                                                                                                     Moreover, through the BLASTN of the sequences of the TGs, PAL2 (located on Gm10 (LG O)) of the PAL gene family, CHS8 (located on Gm11 (LG B1)) of the CHS gene family, IFS1 (located on Gm07 (LG M)) of the IFS gene family, and F3H1 and F3H2 (located on Gm02 (LG D1b)) of the F3H gene family were amplified [11].   \n",
       "137                                                                                                                                                                                                                                                                                                        In case of a range of K values, the true K was determined as a value between the estimates predicted by fastSTRUCTURE and based on what made most biological sense   \n",
       "138                                                                                                                                                                                                                                                                                                These codes are compared using BLAST with an internal database of signature sequences to determine the individual polyketide or peptide activated by each catalytic domain   \n",
       "144                                                                                                                                                                                                                                                                                                                                      Google Earth images for each cemetery were registered in ArcGis 9 to calculate the total area, the proportion occupied by graves (vs   \n",
       "149                                                                                                                                                                                                                                                                                 To train the models, we used the Adam optimizer with an initial learning rate of , which was chosen as large as possible while ensuring convergence of the training and validation losses   \n",
       "152                                                                                                                                                                                                                                                                                                                                                                     The GeoJSON files, which can be used to test the performance of JSTS, are available in Datasets 1–10.   \n",
       "153                                                                                                                                                                                                                                                                                                                                                                                                                                    The image is generated by Rasmol [41].   \n",
       "158                                                                       Data collection: PROCESS-AUTO (Rigaku, 1998 ▶); cell refinement: PROCESS-AUTO; data reduction: CrystalStructure (Rigaku/MSC, 2004 ▶); program(s) used to solve structure: SIR2004 (Burla et al., 2005 ▶); program(s) used to refine structure: SHELXL97 (Sheldrick, 2008 ▶); molecular graphics: ORTEPIII (Burnett & Johnson, 1996 ▶); software used to prepare material for publication: SHELXL97.   \n",
       "165                                                                                                                                                                                                                                                                                                                                                                                           Statistix 7.0 and Epi-Info 2008 version 3.5.1 were used to perform the analyses   \n",
       "170                                                                                                                                                                                                                                                                                          Unrooted phylogenetic tree of the CaM and CML proteins from soybean ( The alignment for the phylogenetic tree was performed with ClustalW using full-length amino acid sequences   \n",
       "171                                                                                                                                                                                                                                                                                                                                                               Mercator functional categories that are easily visualized as MapMan bins were annotated for all gene models   \n",
       "174                                                                                                                                                                                                                                                       These results were replicated across multiple genomes, and the phylogenetic associations of surrounding ORFs on the same scaffold were verified by BLAST to ensure that the scaffold originated from a CPR organism   \n",
       "175                                                                                                                                                                                                                                                                                                        When the 18 s RNA gene fragments from 30 positive foxes from 17 counties were sequenced and compared by BLAST with 18S rRNA sequences of Babesia and Theileria spp   \n",
       "177                                                                                                                                                                                                                                                                                                                                                                                                          The SPSS 17.0 software package (SPSS Inc., Chicago, IL) was used   \n",
       "184                                                                                                                                                                                                                                                                                                     The analysis was conducted using LimeSurvey’s built-in statistical functions and Microsoft Excel 2010 with the Analysis ToolPak (Microsoft Corporation, Redmond, USA)   \n",
       "186                                                                                                                                                                                                                    Of the three interfaces, interface 1 involves the most extensive interactions, with a buried suface area of 1569 Å2 (compared with 541 Å2 for interface 2 and 276 Å2 for interface 3; the buried surface areas were computed with the PDBePISA server)   \n",
       "191                                                                                                                                                                                                                                                                                                                                                                                   Again, we note a striking lack of agreement between calls resulting from CNAM and GADA.   \n",
       "193                                                                                                                                                                                                                                                                                                        All statistical analyses were performed using the graphpad prism 8.0 (GraphPad Software Inc., San Diego, CA, USA) and spss 19.0 software (SPSS, Chicago, IL, USA).   \n",
       "\n",
       "            software intent  label category pred_label  \n",
       "1                SVM   used  usage     true       none  \n",
       "2             MATLAB   used  usage     true   creation  \n",
       "3    analysis (GSEA)   used  usage     true       none  \n",
       "4             Python   used  usage     true   creation  \n",
       "12         TargetSpy   used  usage     true       none  \n",
       "15           Protégé   used  usage     true       none  \n",
       "17     Design Expert   used  usage     true       none  \n",
       "22          Mesquite   used  usage     true       none  \n",
       "23         Haploview   used  usage     true    mention  \n",
       "26            MEGA X   used  usage     true    mention  \n",
       "31            MATLAB   used  usage     true       none  \n",
       "32           E-Prime   used  usage     true    mention  \n",
       "34             CHART   used  usage     true       none  \n",
       "35             Flask   used  usage     true    mention  \n",
       "43             LASTZ   used  usage     true       none  \n",
       "45        Vectorbase   used  usage     true       none  \n",
       "48               IGV   used  usage     true       none  \n",
       "50             POPAN   used  usage     true       none  \n",
       "51          CHARMM22   used  usage     true       none  \n",
       "52            CIRCOS   used  usage     true       none  \n",
       "56            HadCM3   used  usage     true       none  \n",
       "60          ClustalW   used  usage     true       none  \n",
       "62             STATA   used  usage     true    mention  \n",
       "63             GERUD   used  usage     true       none  \n",
       "73           RStudio   used  usage     true       none  \n",
       "82          PANDAseq   used  usage     true    mention  \n",
       "85            SIMPER   used  usage     true       none  \n",
       "86              SPSS   used  usage     true       none  \n",
       "99            ArcMap   used  usage     true    mention  \n",
       "101           PSORTb   used  usage     true       none  \n",
       "103             SPSS   used  usage     true    mention  \n",
       "104         BepiPred   used  usage     true       none  \n",
       "108            BEAST   used  usage     true       none  \n",
       "110    InterPro Scan   used  usage     true       none  \n",
       "111         HaploReg   used  usage     true       none  \n",
       "113           BLASTn   used  usage     true       none  \n",
       "117       SAINT-Plus   used  usage     true       none  \n",
       "118          DIAMOND   used  usage     true       none  \n",
       "120           Matlab   used  usage     true    mention  \n",
       "122           geNorm   used  usage     true       none  \n",
       "131           NRecon   used  usage     true       none  \n",
       "134           BLASTN   used  usage     true       none  \n",
       "137    fastSTRUCTURE   used  usage     true       none  \n",
       "138            BLAST   used  usage     true       none  \n",
       "144           ArcGis   used  usage     true       none  \n",
       "149             Adam   used  usage     true       none  \n",
       "152          GeoJSON   used  usage     true    mention  \n",
       "153           Rasmol   used  usage     true    mention  \n",
       "158          SIR2004   used  usage     true       none  \n",
       "165         Epi-Info   used  usage     true       none  \n",
       "170         ClustalW   used  usage     true       none  \n",
       "171           MapMan   used  usage     true       none  \n",
       "174            BLAST   used  usage     true       none  \n",
       "175            BLAST   used  usage     true       none  \n",
       "177             SPSS   used  usage     true    mention  \n",
       "184            Excel   used  usage     true       none  \n",
       "186         PDBePISA   used  usage     true       none  \n",
       "191             GADA   used  usage     true       none  \n",
       "193         GraphPad   used  usage     true       none  "
      ]
     },
     "execution_count": 24,
     "metadata": {},
     "output_type": "execute_result"
    }
   ],
   "source": [
    "czi_val_df[(czi_val_df['label'] == 'usage') & (czi_val_df['pred_label'] != 'usage')]"
   ]
  },
  {
   "cell_type": "code",
   "execution_count": 25,
   "metadata": {},
   "outputs": [
    {
     "data": {
      "application/vnd.plotly.v1+json": {
       "config": {
        "plotlyServerURL": "https://plot.ly"
       },
       "data": [
        {
         "alignmentgroup": "True",
         "hovertemplate": "category=pred_gpt4<br>label_descriptive=%{x}<br>text=%{y}<extra></extra>",
         "legendgroup": "pred_gpt4",
         "marker": {
          "color": "#636efa",
          "pattern": {
           "shape": ""
          }
         },
         "name": "pred_gpt4",
         "offsetgroup": "pred_gpt4",
         "orientation": "v",
         "showlegend": true,
         "textposition": "auto",
         "type": "bar",
         "x": [
          "creation",
          "mention",
          "none",
          "usage"
         ],
         "xaxis": "x",
         "y": [
          78,
          92,
          228,
          440
         ],
         "yaxis": "y"
        },
        {
         "alignmentgroup": "True",
         "hovertemplate": "category=true<br>label_descriptive=%{x}<br>text=%{y}<extra></extra>",
         "legendgroup": "true",
         "marker": {
          "color": "#EF553B",
          "pattern": {
           "shape": ""
          }
         },
         "name": "true",
         "offsetgroup": "true",
         "orientation": "v",
         "showlegend": true,
         "textposition": "auto",
         "type": "bar",
         "x": [
          "creation",
          "mention",
          "none",
          "usage"
         ],
         "xaxis": "x",
         "y": [
          94,
          95,
          200,
          449
         ],
         "yaxis": "y"
        }
       ],
       "layout": {
        "barmode": "group",
        "height": 500,
        "legend": {
         "title": {
          "text": "category"
         },
         "tracegroupgap": 0
        },
        "margin": {
         "t": 60
        },
        "template": {
         "data": {
          "bar": [
           {
            "error_x": {
             "color": "#2a3f5f"
            },
            "error_y": {
             "color": "#2a3f5f"
            },
            "marker": {
             "line": {
              "color": "#E5ECF6",
              "width": 0.5
             },
             "pattern": {
              "fillmode": "overlay",
              "size": 10,
              "solidity": 0.2
             }
            },
            "type": "bar"
           }
          ],
          "barpolar": [
           {
            "marker": {
             "line": {
              "color": "#E5ECF6",
              "width": 0.5
             },
             "pattern": {
              "fillmode": "overlay",
              "size": 10,
              "solidity": 0.2
             }
            },
            "type": "barpolar"
           }
          ],
          "carpet": [
           {
            "aaxis": {
             "endlinecolor": "#2a3f5f",
             "gridcolor": "white",
             "linecolor": "white",
             "minorgridcolor": "white",
             "startlinecolor": "#2a3f5f"
            },
            "baxis": {
             "endlinecolor": "#2a3f5f",
             "gridcolor": "white",
             "linecolor": "white",
             "minorgridcolor": "white",
             "startlinecolor": "#2a3f5f"
            },
            "type": "carpet"
           }
          ],
          "choropleth": [
           {
            "colorbar": {
             "outlinewidth": 0,
             "ticks": ""
            },
            "type": "choropleth"
           }
          ],
          "contour": [
           {
            "colorbar": {
             "outlinewidth": 0,
             "ticks": ""
            },
            "colorscale": [
             [
              0,
              "#0d0887"
             ],
             [
              0.1111111111111111,
              "#46039f"
             ],
             [
              0.2222222222222222,
              "#7201a8"
             ],
             [
              0.3333333333333333,
              "#9c179e"
             ],
             [
              0.4444444444444444,
              "#bd3786"
             ],
             [
              0.5555555555555556,
              "#d8576b"
             ],
             [
              0.6666666666666666,
              "#ed7953"
             ],
             [
              0.7777777777777778,
              "#fb9f3a"
             ],
             [
              0.8888888888888888,
              "#fdca26"
             ],
             [
              1,
              "#f0f921"
             ]
            ],
            "type": "contour"
           }
          ],
          "contourcarpet": [
           {
            "colorbar": {
             "outlinewidth": 0,
             "ticks": ""
            },
            "type": "contourcarpet"
           }
          ],
          "heatmap": [
           {
            "colorbar": {
             "outlinewidth": 0,
             "ticks": ""
            },
            "colorscale": [
             [
              0,
              "#0d0887"
             ],
             [
              0.1111111111111111,
              "#46039f"
             ],
             [
              0.2222222222222222,
              "#7201a8"
             ],
             [
              0.3333333333333333,
              "#9c179e"
             ],
             [
              0.4444444444444444,
              "#bd3786"
             ],
             [
              0.5555555555555556,
              "#d8576b"
             ],
             [
              0.6666666666666666,
              "#ed7953"
             ],
             [
              0.7777777777777778,
              "#fb9f3a"
             ],
             [
              0.8888888888888888,
              "#fdca26"
             ],
             [
              1,
              "#f0f921"
             ]
            ],
            "type": "heatmap"
           }
          ],
          "heatmapgl": [
           {
            "colorbar": {
             "outlinewidth": 0,
             "ticks": ""
            },
            "colorscale": [
             [
              0,
              "#0d0887"
             ],
             [
              0.1111111111111111,
              "#46039f"
             ],
             [
              0.2222222222222222,
              "#7201a8"
             ],
             [
              0.3333333333333333,
              "#9c179e"
             ],
             [
              0.4444444444444444,
              "#bd3786"
             ],
             [
              0.5555555555555556,
              "#d8576b"
             ],
             [
              0.6666666666666666,
              "#ed7953"
             ],
             [
              0.7777777777777778,
              "#fb9f3a"
             ],
             [
              0.8888888888888888,
              "#fdca26"
             ],
             [
              1,
              "#f0f921"
             ]
            ],
            "type": "heatmapgl"
           }
          ],
          "histogram": [
           {
            "marker": {
             "pattern": {
              "fillmode": "overlay",
              "size": 10,
              "solidity": 0.2
             }
            },
            "type": "histogram"
           }
          ],
          "histogram2d": [
           {
            "colorbar": {
             "outlinewidth": 0,
             "ticks": ""
            },
            "colorscale": [
             [
              0,
              "#0d0887"
             ],
             [
              0.1111111111111111,
              "#46039f"
             ],
             [
              0.2222222222222222,
              "#7201a8"
             ],
             [
              0.3333333333333333,
              "#9c179e"
             ],
             [
              0.4444444444444444,
              "#bd3786"
             ],
             [
              0.5555555555555556,
              "#d8576b"
             ],
             [
              0.6666666666666666,
              "#ed7953"
             ],
             [
              0.7777777777777778,
              "#fb9f3a"
             ],
             [
              0.8888888888888888,
              "#fdca26"
             ],
             [
              1,
              "#f0f921"
             ]
            ],
            "type": "histogram2d"
           }
          ],
          "histogram2dcontour": [
           {
            "colorbar": {
             "outlinewidth": 0,
             "ticks": ""
            },
            "colorscale": [
             [
              0,
              "#0d0887"
             ],
             [
              0.1111111111111111,
              "#46039f"
             ],
             [
              0.2222222222222222,
              "#7201a8"
             ],
             [
              0.3333333333333333,
              "#9c179e"
             ],
             [
              0.4444444444444444,
              "#bd3786"
             ],
             [
              0.5555555555555556,
              "#d8576b"
             ],
             [
              0.6666666666666666,
              "#ed7953"
             ],
             [
              0.7777777777777778,
              "#fb9f3a"
             ],
             [
              0.8888888888888888,
              "#fdca26"
             ],
             [
              1,
              "#f0f921"
             ]
            ],
            "type": "histogram2dcontour"
           }
          ],
          "mesh3d": [
           {
            "colorbar": {
             "outlinewidth": 0,
             "ticks": ""
            },
            "type": "mesh3d"
           }
          ],
          "parcoords": [
           {
            "line": {
             "colorbar": {
              "outlinewidth": 0,
              "ticks": ""
             }
            },
            "type": "parcoords"
           }
          ],
          "pie": [
           {
            "automargin": true,
            "type": "pie"
           }
          ],
          "scatter": [
           {
            "fillpattern": {
             "fillmode": "overlay",
             "size": 10,
             "solidity": 0.2
            },
            "type": "scatter"
           }
          ],
          "scatter3d": [
           {
            "line": {
             "colorbar": {
              "outlinewidth": 0,
              "ticks": ""
             }
            },
            "marker": {
             "colorbar": {
              "outlinewidth": 0,
              "ticks": ""
             }
            },
            "type": "scatter3d"
           }
          ],
          "scattercarpet": [
           {
            "marker": {
             "colorbar": {
              "outlinewidth": 0,
              "ticks": ""
             }
            },
            "type": "scattercarpet"
           }
          ],
          "scattergeo": [
           {
            "marker": {
             "colorbar": {
              "outlinewidth": 0,
              "ticks": ""
             }
            },
            "type": "scattergeo"
           }
          ],
          "scattergl": [
           {
            "marker": {
             "colorbar": {
              "outlinewidth": 0,
              "ticks": ""
             }
            },
            "type": "scattergl"
           }
          ],
          "scattermapbox": [
           {
            "marker": {
             "colorbar": {
              "outlinewidth": 0,
              "ticks": ""
             }
            },
            "type": "scattermapbox"
           }
          ],
          "scatterpolar": [
           {
            "marker": {
             "colorbar": {
              "outlinewidth": 0,
              "ticks": ""
             }
            },
            "type": "scatterpolar"
           }
          ],
          "scatterpolargl": [
           {
            "marker": {
             "colorbar": {
              "outlinewidth": 0,
              "ticks": ""
             }
            },
            "type": "scatterpolargl"
           }
          ],
          "scatterternary": [
           {
            "marker": {
             "colorbar": {
              "outlinewidth": 0,
              "ticks": ""
             }
            },
            "type": "scatterternary"
           }
          ],
          "surface": [
           {
            "colorbar": {
             "outlinewidth": 0,
             "ticks": ""
            },
            "colorscale": [
             [
              0,
              "#0d0887"
             ],
             [
              0.1111111111111111,
              "#46039f"
             ],
             [
              0.2222222222222222,
              "#7201a8"
             ],
             [
              0.3333333333333333,
              "#9c179e"
             ],
             [
              0.4444444444444444,
              "#bd3786"
             ],
             [
              0.5555555555555556,
              "#d8576b"
             ],
             [
              0.6666666666666666,
              "#ed7953"
             ],
             [
              0.7777777777777778,
              "#fb9f3a"
             ],
             [
              0.8888888888888888,
              "#fdca26"
             ],
             [
              1,
              "#f0f921"
             ]
            ],
            "type": "surface"
           }
          ],
          "table": [
           {
            "cells": {
             "fill": {
              "color": "#EBF0F8"
             },
             "line": {
              "color": "white"
             }
            },
            "header": {
             "fill": {
              "color": "#C8D4E3"
             },
             "line": {
              "color": "white"
             }
            },
            "type": "table"
           }
          ]
         },
         "layout": {
          "annotationdefaults": {
           "arrowcolor": "#2a3f5f",
           "arrowhead": 0,
           "arrowwidth": 1
          },
          "autotypenumbers": "strict",
          "coloraxis": {
           "colorbar": {
            "outlinewidth": 0,
            "ticks": ""
           }
          },
          "colorscale": {
           "diverging": [
            [
             0,
             "#8e0152"
            ],
            [
             0.1,
             "#c51b7d"
            ],
            [
             0.2,
             "#de77ae"
            ],
            [
             0.3,
             "#f1b6da"
            ],
            [
             0.4,
             "#fde0ef"
            ],
            [
             0.5,
             "#f7f7f7"
            ],
            [
             0.6,
             "#e6f5d0"
            ],
            [
             0.7,
             "#b8e186"
            ],
            [
             0.8,
             "#7fbc41"
            ],
            [
             0.9,
             "#4d9221"
            ],
            [
             1,
             "#276419"
            ]
           ],
           "sequential": [
            [
             0,
             "#0d0887"
            ],
            [
             0.1111111111111111,
             "#46039f"
            ],
            [
             0.2222222222222222,
             "#7201a8"
            ],
            [
             0.3333333333333333,
             "#9c179e"
            ],
            [
             0.4444444444444444,
             "#bd3786"
            ],
            [
             0.5555555555555556,
             "#d8576b"
            ],
            [
             0.6666666666666666,
             "#ed7953"
            ],
            [
             0.7777777777777778,
             "#fb9f3a"
            ],
            [
             0.8888888888888888,
             "#fdca26"
            ],
            [
             1,
             "#f0f921"
            ]
           ],
           "sequentialminus": [
            [
             0,
             "#0d0887"
            ],
            [
             0.1111111111111111,
             "#46039f"
            ],
            [
             0.2222222222222222,
             "#7201a8"
            ],
            [
             0.3333333333333333,
             "#9c179e"
            ],
            [
             0.4444444444444444,
             "#bd3786"
            ],
            [
             0.5555555555555556,
             "#d8576b"
            ],
            [
             0.6666666666666666,
             "#ed7953"
            ],
            [
             0.7777777777777778,
             "#fb9f3a"
            ],
            [
             0.8888888888888888,
             "#fdca26"
            ],
            [
             1,
             "#f0f921"
            ]
           ]
          },
          "colorway": [
           "#636efa",
           "#EF553B",
           "#00cc96",
           "#ab63fa",
           "#FFA15A",
           "#19d3f3",
           "#FF6692",
           "#B6E880",
           "#FF97FF",
           "#FECB52"
          ],
          "font": {
           "color": "#2a3f5f"
          },
          "geo": {
           "bgcolor": "white",
           "lakecolor": "white",
           "landcolor": "#E5ECF6",
           "showlakes": true,
           "showland": true,
           "subunitcolor": "white"
          },
          "hoverlabel": {
           "align": "left"
          },
          "hovermode": "closest",
          "mapbox": {
           "style": "light"
          },
          "paper_bgcolor": "white",
          "plot_bgcolor": "#E5ECF6",
          "polar": {
           "angularaxis": {
            "gridcolor": "white",
            "linecolor": "white",
            "ticks": ""
           },
           "bgcolor": "#E5ECF6",
           "radialaxis": {
            "gridcolor": "white",
            "linecolor": "white",
            "ticks": ""
           }
          },
          "scene": {
           "xaxis": {
            "backgroundcolor": "#E5ECF6",
            "gridcolor": "white",
            "gridwidth": 2,
            "linecolor": "white",
            "showbackground": true,
            "ticks": "",
            "zerolinecolor": "white"
           },
           "yaxis": {
            "backgroundcolor": "#E5ECF6",
            "gridcolor": "white",
            "gridwidth": 2,
            "linecolor": "white",
            "showbackground": true,
            "ticks": "",
            "zerolinecolor": "white"
           },
           "zaxis": {
            "backgroundcolor": "#E5ECF6",
            "gridcolor": "white",
            "gridwidth": 2,
            "linecolor": "white",
            "showbackground": true,
            "ticks": "",
            "zerolinecolor": "white"
           }
          },
          "shapedefaults": {
           "line": {
            "color": "#2a3f5f"
           }
          },
          "ternary": {
           "aaxis": {
            "gridcolor": "white",
            "linecolor": "white",
            "ticks": ""
           },
           "baxis": {
            "gridcolor": "white",
            "linecolor": "white",
            "ticks": ""
           },
           "bgcolor": "#E5ECF6",
           "caxis": {
            "gridcolor": "white",
            "linecolor": "white",
            "ticks": ""
           }
          },
          "title": {
           "x": 0.05
          },
          "xaxis": {
           "automargin": true,
           "gridcolor": "white",
           "linecolor": "white",
           "ticks": "",
           "title": {
            "standoff": 15
           },
           "zerolinecolor": "white",
           "zerolinewidth": 2
          },
          "yaxis": {
           "automargin": true,
           "gridcolor": "white",
           "linecolor": "white",
           "ticks": "",
           "title": {
            "standoff": 15
           },
           "zerolinecolor": "white",
           "zerolinewidth": 2
          }
         }
        },
        "title": {
         "text": "Prediction Distribution in Test Split Dataset"
        },
        "width": 800,
        "xaxis": {
         "anchor": "y",
         "autorange": true,
         "domain": [
          0,
          1
         ],
         "range": [
          -0.5,
          3.5
         ],
         "title": {
          "text": "label_descriptive"
         },
         "type": "category"
        },
        "yaxis": {
         "anchor": "x",
         "autorange": true,
         "domain": [
          0,
          1
         ],
         "range": [
          0,
          472.63157894736844
         ],
         "title": {
          "text": "text"
         },
         "type": "linear"
        }
       }
      },
      "image/png": "[encoded data removed]",
      "text/html": [
       "<div>                            <div id=\"280cae95-7add-44b3-bb65-8c2bf2708f30\" class=\"plotly-graph-div\" style=\"height:500px; width:800px;\"></div>            <script type=\"text/javascript\">                require([\"plotly\"], function(Plotly) {                    window.PLOTLYENV=window.PLOTLYENV || {};                                    if (document.getElementById(\"280cae95-7add-44b3-bb65-8c2bf2708f30\")) {                    Plotly.newPlot(                        \"280cae95-7add-44b3-bb65-8c2bf2708f30\",                        [{\"alignmentgroup\":\"True\",\"hovertemplate\":\"category=pred_gpt4\\u003cbr\\u003elabel_descriptive=%{x}\\u003cbr\\u003etext=%{y}\\u003cextra\\u003e\\u003c\\u002fextra\\u003e\",\"legendgroup\":\"pred_gpt4\",\"marker\":{\"color\":\"#636efa\",\"pattern\":{\"shape\":\"\"}},\"name\":\"pred_gpt4\",\"offsetgroup\":\"pred_gpt4\",\"orientation\":\"v\",\"showlegend\":true,\"textposition\":\"auto\",\"x\":[\"creation\",\"mention\",\"none\",\"usage\"],\"xaxis\":\"x\",\"y\":[78,92,228,440],\"yaxis\":\"y\",\"type\":\"bar\"},{\"alignmentgroup\":\"True\",\"hovertemplate\":\"category=true\\u003cbr\\u003elabel_descriptive=%{x}\\u003cbr\\u003etext=%{y}\\u003cextra\\u003e\\u003c\\u002fextra\\u003e\",\"legendgroup\":\"true\",\"marker\":{\"color\":\"#EF553B\",\"pattern\":{\"shape\":\"\"}},\"name\":\"true\",\"offsetgroup\":\"true\",\"orientation\":\"v\",\"showlegend\":true,\"textposition\":\"auto\",\"x\":[\"creation\",\"mention\",\"none\",\"usage\"],\"xaxis\":\"x\",\"y\":[94,95,200,449],\"yaxis\":\"y\",\"type\":\"bar\"}],                        {\"template\":{\"data\":{\"histogram2dcontour\":[{\"type\":\"histogram2dcontour\",\"colorbar\":{\"outlinewidth\":0,\"ticks\":\"\"},\"colorscale\":[[0.0,\"#0d0887\"],[0.1111111111111111,\"#46039f\"],[0.2222222222222222,\"#7201a8\"],[0.3333333333333333,\"#9c179e\"],[0.4444444444444444,\"#bd3786\"],[0.5555555555555556,\"#d8576b\"],[0.6666666666666666,\"#ed7953\"],[0.7777777777777778,\"#fb9f3a\"],[0.8888888888888888,\"#fdca26\"],[1.0,\"#f0f921\"]]}],\"choropleth\":[{\"type\":\"choropleth\",\"colorbar\":{\"outlinewidth\":0,\"ticks\":\"\"}}],\"histogram2d\":[{\"type\":\"histogram2d\",\"colorbar\":{\"outlinewidth\":0,\"ticks\":\"\"},\"colorscale\":[[0.0,\"#0d0887\"],[0.1111111111111111,\"#46039f\"],[0.2222222222222222,\"#7201a8\"],[0.3333333333333333,\"#9c179e\"],[0.4444444444444444,\"#bd3786\"],[0.5555555555555556,\"#d8576b\"],[0.6666666666666666,\"#ed7953\"],[0.7777777777777778,\"#fb9f3a\"],[0.8888888888888888,\"#fdca26\"],[1.0,\"#f0f921\"]]}],\"heatmap\":[{\"type\":\"heatmap\",\"colorbar\":{\"outlinewidth\":0,\"ticks\":\"\"},\"colorscale\":[[0.0,\"#0d0887\"],[0.1111111111111111,\"#46039f\"],[0.2222222222222222,\"#7201a8\"],[0.3333333333333333,\"#9c179e\"],[0.4444444444444444,\"#bd3786\"],[0.5555555555555556,\"#d8576b\"],[0.6666666666666666,\"#ed7953\"],[0.7777777777777778,\"#fb9f3a\"],[0.8888888888888888,\"#fdca26\"],[1.0,\"#f0f921\"]]}],\"heatmapgl\":[{\"type\":\"heatmapgl\",\"colorbar\":{\"outlinewidth\":0,\"ticks\":\"\"},\"colorscale\":[[0.0,\"#0d0887\"],[0.1111111111111111,\"#46039f\"],[0.2222222222222222,\"#7201a8\"],[0.3333333333333333,\"#9c179e\"],[0.4444444444444444,\"#bd3786\"],[0.5555555555555556,\"#d8576b\"],[0.6666666666666666,\"#ed7953\"],[0.7777777777777778,\"#fb9f3a\"],[0.8888888888888888,\"#fdca26\"],[1.0,\"#f0f921\"]]}],\"contourcarpet\":[{\"type\":\"contourcarpet\",\"colorbar\":{\"outlinewidth\":0,\"ticks\":\"\"}}],\"contour\":[{\"type\":\"contour\",\"colorbar\":{\"outlinewidth\":0,\"ticks\":\"\"},\"colorscale\":[[0.0,\"#0d0887\"],[0.1111111111111111,\"#46039f\"],[0.2222222222222222,\"#7201a8\"],[0.3333333333333333,\"#9c179e\"],[0.4444444444444444,\"#bd3786\"],[0.5555555555555556,\"#d8576b\"],[0.6666666666666666,\"#ed7953\"],[0.7777777777777778,\"#fb9f3a\"],[0.8888888888888888,\"#fdca26\"],[1.0,\"#f0f921\"]]}],\"surface\":[{\"type\":\"surface\",\"colorbar\":{\"outlinewidth\":0,\"ticks\":\"\"},\"colorscale\":[[0.0,\"#0d0887\"],[0.1111111111111111,\"#46039f\"],[0.2222222222222222,\"#7201a8\"],[0.3333333333333333,\"#9c179e\"],[0.4444444444444444,\"#bd3786\"],[0.5555555555555556,\"#d8576b\"],[0.6666666666666666,\"#ed7953\"],[0.7777777777777778,\"#fb9f3a\"],[0.8888888888888888,\"#fdca26\"],[1.0,\"#f0f921\"]]}],\"mesh3d\":[{\"type\":\"mesh3d\",\"colorbar\":{\"outlinewidth\":0,\"ticks\":\"\"}}],\"scatter\":[{\"fillpattern\":{\"fillmode\":\"overlay\",\"size\":10,\"solidity\":0.2},\"type\":\"scatter\"}],\"parcoords\":[{\"type\":\"parcoords\",\"line\":{\"colorbar\":{\"outlinewidth\":0,\"ticks\":\"\"}}}],\"scatterpolargl\":[{\"type\":\"scatterpolargl\",\"marker\":{\"colorbar\":{\"outlinewidth\":0,\"ticks\":\"\"}}}],\"bar\":[{\"error_x\":{\"color\":\"#2a3f5f\"},\"error_y\":{\"color\":\"#2a3f5f\"},\"marker\":{\"line\":{\"color\":\"#E5ECF6\",\"width\":0.5},\"pattern\":{\"fillmode\":\"overlay\",\"size\":10,\"solidity\":0.2}},\"type\":\"bar\"}],\"scattergeo\":[{\"type\":\"scattergeo\",\"marker\":{\"colorbar\":{\"outlinewidth\":0,\"ticks\":\"\"}}}],\"scatterpolar\":[{\"type\":\"scatterpolar\",\"marker\":{\"colorbar\":{\"outlinewidth\":0,\"ticks\":\"\"}}}],\"histogram\":[{\"marker\":{\"pattern\":{\"fillmode\":\"overlay\",\"size\":10,\"solidity\":0.2}},\"type\":\"histogram\"}],\"scattergl\":[{\"type\":\"scattergl\",\"marker\":{\"colorbar\":{\"outlinewidth\":0,\"ticks\":\"\"}}}],\"scatter3d\":[{\"type\":\"scatter3d\",\"line\":{\"colorbar\":{\"outlinewidth\":0,\"ticks\":\"\"}},\"marker\":{\"colorbar\":{\"outlinewidth\":0,\"ticks\":\"\"}}}],\"scattermapbox\":[{\"type\":\"scattermapbox\",\"marker\":{\"colorbar\":{\"outlinewidth\":0,\"ticks\":\"\"}}}],\"scatterternary\":[{\"type\":\"scatterternary\",\"marker\":{\"colorbar\":{\"outlinewidth\":0,\"ticks\":\"\"}}}],\"scattercarpet\":[{\"type\":\"scattercarpet\",\"marker\":{\"colorbar\":{\"outlinewidth\":0,\"ticks\":\"\"}}}],\"carpet\":[{\"aaxis\":{\"endlinecolor\":\"#2a3f5f\",\"gridcolor\":\"white\",\"linecolor\":\"white\",\"minorgridcolor\":\"white\",\"startlinecolor\":\"#2a3f5f\"},\"baxis\":{\"endlinecolor\":\"#2a3f5f\",\"gridcolor\":\"white\",\"linecolor\":\"white\",\"minorgridcolor\":\"white\",\"startlinecolor\":\"#2a3f5f\"},\"type\":\"carpet\"}],\"table\":[{\"cells\":{\"fill\":{\"color\":\"#EBF0F8\"},\"line\":{\"color\":\"white\"}},\"header\":{\"fill\":{\"color\":\"#C8D4E3\"},\"line\":{\"color\":\"white\"}},\"type\":\"table\"}],\"barpolar\":[{\"marker\":{\"line\":{\"color\":\"#E5ECF6\",\"width\":0.5},\"pattern\":{\"fillmode\":\"overlay\",\"size\":10,\"solidity\":0.2}},\"type\":\"barpolar\"}],\"pie\":[{\"automargin\":true,\"type\":\"pie\"}]},\"layout\":{\"autotypenumbers\":\"strict\",\"colorway\":[\"#636efa\",\"#EF553B\",\"#00cc96\",\"#ab63fa\",\"#FFA15A\",\"#19d3f3\",\"#FF6692\",\"#B6E880\",\"#FF97FF\",\"#FECB52\"],\"font\":{\"color\":\"#2a3f5f\"},\"hovermode\":\"closest\",\"hoverlabel\":{\"align\":\"left\"},\"paper_bgcolor\":\"white\",\"plot_bgcolor\":\"#E5ECF6\",\"polar\":{\"bgcolor\":\"#E5ECF6\",\"angularaxis\":{\"gridcolor\":\"white\",\"linecolor\":\"white\",\"ticks\":\"\"},\"radialaxis\":{\"gridcolor\":\"white\",\"linecolor\":\"white\",\"ticks\":\"\"}},\"ternary\":{\"bgcolor\":\"#E5ECF6\",\"aaxis\":{\"gridcolor\":\"white\",\"linecolor\":\"white\",\"ticks\":\"\"},\"baxis\":{\"gridcolor\":\"white\",\"linecolor\":\"white\",\"ticks\":\"\"},\"caxis\":{\"gridcolor\":\"white\",\"linecolor\":\"white\",\"ticks\":\"\"}},\"coloraxis\":{\"colorbar\":{\"outlinewidth\":0,\"ticks\":\"\"}},\"colorscale\":{\"sequential\":[[0.0,\"#0d0887\"],[0.1111111111111111,\"#46039f\"],[0.2222222222222222,\"#7201a8\"],[0.3333333333333333,\"#9c179e\"],[0.4444444444444444,\"#bd3786\"],[0.5555555555555556,\"#d8576b\"],[0.6666666666666666,\"#ed7953\"],[0.7777777777777778,\"#fb9f3a\"],[0.8888888888888888,\"#fdca26\"],[1.0,\"#f0f921\"]],\"sequentialminus\":[[0.0,\"#0d0887\"],[0.1111111111111111,\"#46039f\"],[0.2222222222222222,\"#7201a8\"],[0.3333333333333333,\"#9c179e\"],[0.4444444444444444,\"#bd3786\"],[0.5555555555555556,\"#d8576b\"],[0.6666666666666666,\"#ed7953\"],[0.7777777777777778,\"#fb9f3a\"],[0.8888888888888888,\"#fdca26\"],[1.0,\"#f0f921\"]],\"diverging\":[[0,\"#8e0152\"],[0.1,\"#c51b7d\"],[0.2,\"#de77ae\"],[0.3,\"#f1b6da\"],[0.4,\"#fde0ef\"],[0.5,\"#f7f7f7\"],[0.6,\"#e6f5d0\"],[0.7,\"#b8e186\"],[0.8,\"#7fbc41\"],[0.9,\"#4d9221\"],[1,\"#276419\"]]},\"xaxis\":{\"gridcolor\":\"white\",\"linecolor\":\"white\",\"ticks\":\"\",\"title\":{\"standoff\":15},\"zerolinecolor\":\"white\",\"automargin\":true,\"zerolinewidth\":2},\"yaxis\":{\"gridcolor\":\"white\",\"linecolor\":\"white\",\"ticks\":\"\",\"title\":{\"standoff\":15},\"zerolinecolor\":\"white\",\"automargin\":true,\"zerolinewidth\":2},\"scene\":{\"xaxis\":{\"backgroundcolor\":\"#E5ECF6\",\"gridcolor\":\"white\",\"linecolor\":\"white\",\"showbackground\":true,\"ticks\":\"\",\"zerolinecolor\":\"white\",\"gridwidth\":2},\"yaxis\":{\"backgroundcolor\":\"#E5ECF6\",\"gridcolor\":\"white\",\"linecolor\":\"white\",\"showbackground\":true,\"ticks\":\"\",\"zerolinecolor\":\"white\",\"gridwidth\":2},\"zaxis\":{\"backgroundcolor\":\"#E5ECF6\",\"gridcolor\":\"white\",\"linecolor\":\"white\",\"showbackground\":true,\"ticks\":\"\",\"zerolinecolor\":\"white\",\"gridwidth\":2}},\"shapedefaults\":{\"line\":{\"color\":\"#2a3f5f\"}},\"annotationdefaults\":{\"arrowcolor\":\"#2a3f5f\",\"arrowhead\":0,\"arrowwidth\":1},\"geo\":{\"bgcolor\":\"white\",\"landcolor\":\"#E5ECF6\",\"subunitcolor\":\"white\",\"showland\":true,\"showlakes\":true,\"lakecolor\":\"white\"},\"title\":{\"x\":0.05},\"mapbox\":{\"style\":\"light\"}}},\"xaxis\":{\"anchor\":\"y\",\"domain\":[0.0,1.0],\"title\":{\"text\":\"label_descriptive\"}},\"yaxis\":{\"anchor\":\"x\",\"domain\":[0.0,1.0],\"title\":{\"text\":\"text\"}},\"legend\":{\"title\":{\"text\":\"category\"},\"tracegroupgap\":0},\"margin\":{\"t\":60},\"barmode\":\"group\",\"width\":800,\"height\":500,\"title\":{\"text\":\"Prediction Distribution in Test Split Dataset\"}},                        {\"responsive\": true}                    ).then(function(){\n",
       "                            \n",
       "var gd = document.getElementById('280cae95-7add-44b3-bb65-8c2bf2708f30');\n",
       "var x = new MutationObserver(function (mutations, observer) {{\n",
       "        var display = window.getComputedStyle(gd).display;\n",
       "        if (!display || display === 'none') {{\n",
       "            console.log([gd, 'removed!']);\n",
       "            Plotly.purge(gd);\n",
       "            observer.disconnect();\n",
       "        }}\n",
       "}});\n",
       "\n",
       "// Listen for the removal of the full notebook cells\n",
       "var notebookContainer = gd.closest('#notebook-container');\n",
       "if (notebookContainer) {{\n",
       "    x.observe(notebookContainer, {childList: true});\n",
       "}}\n",
       "\n",
       "// Listen for the clearing of the current output cell\n",
       "var outputEl = gd.closest('.output');\n",
       "if (outputEl) {{\n",
       "    x.observe(outputEl, {childList: true});\n",
       "}}\n",
       "\n",
       "                        })                };                });            </script>        </div>"
      ]
     },
     "metadata": {},
     "output_type": "display_data"
    }
   ],
   "source": [
    "X_test_df['category'] = 'true'\n",
    "X_test_df['pred_label'] = X_test_df['text'].apply(lambda x: get_pred_label(x, test_completed_sentences, y_test_pred_completed))\n",
    "X_test_df_pred = X_test_df.copy()\n",
    "X_test_df_pred['category'] = 'pred_gpt4'\n",
    "X_test_df_pred['label_descriptive'] = X_test_df_pred['pred_label']\n",
    "\n",
    "X_test_df_all = pd.concat([X_test_df_pred, X_test_df])\n",
    "\n",
    "labels_grouped = X_test_df_all.groupby(['label_descriptive', 'category']).count().reset_index()\n",
    "fig = px.bar(labels_grouped, x = 'label_descriptive', y = 'text', color = 'category', barmode = 'group')\n",
    "fig.update_layout(width=800,height=500, title = 'Prediction Distribution in Test Split Dataset')"
   ]
  },
  {
   "cell_type": "code",
   "execution_count": null,
   "metadata": {},
   "outputs": [],
   "source": []
  }
 ],
 "metadata": {
  "application/vnd.databricks.v1+notebook": {
   "dashboards": [],
   "language": "python",
   "notebookMetadata": {
    "pythonIndentUnit": 4
   },
   "notebookName": "gpt3.5_few_shot",
   "widgets": {}
  },
  "kernelspec": {
   "display_name": "Python 3 (ipykernel)",
   "language": "python",
   "name": "python3"
  },
  "language_info": {
   "codemirror_mode": {
    "name": "ipython",
    "version": 3
   },
   "file_extension": ".py",
   "mimetype": "text/x-python",
   "name": "python",
   "nbconvert_exporter": "python",
   "pygments_lexer": "ipython3",
   "version": "3.10.13"
  }
 },
 "nbformat": 4,
 "nbformat_minor": 4
}
